{
  "nbformat": 4,
  "nbformat_minor": 0,
  "metadata": {
    "kernelspec": {
      "display_name": "Python 3",
      "language": "python",
      "name": "python3"
    },
    "language_info": {
      "codemirror_mode": {
        "name": "ipython",
        "version": 3
      },
      "file_extension": ".py",
      "mimetype": "text/x-python",
      "name": "python",
      "nbconvert_exporter": "python",
      "pygments_lexer": "ipython3",
      "version": "3.6.5"
    },
    "colab": {
      "name": "AnnotatedEncoderDecoder.ipynb",
      "provenance": [],
      "collapsed_sections": [
        "CySX4BMgyYfs",
        "gYIhIo1zyYgH",
        "pwfm8lvsyYgI"
      ]
    },
    "accelerator": "GPU"
  },
  "cells": [
    {
      "cell_type": "markdown",
      "metadata": {
        "id": "P3nwYF73yYev"
      },
      "source": [
        "# The Annotated Encoder-Decoder with Attention\n",
        "\n",
        "Recently, Alexander Rush wrote a blog post called [The Annotated Transformer](http://nlp.seas.harvard.edu/2018/04/03/attention.html), describing the Transformer model from the paper [Attention is All You Need](https://arxiv.org/abs/1706.03762). This post can be seen as a **prequel** to that: *we will implement an Encoder-Decoder with Attention* using (Gated) Recurrent Neural Networks, very closely following the original attention-based neural machine translation paper [\"Neural Machine Translation by Jointly Learning to Align and Translate\"](https://arxiv.org/abs/1409.0473) of Bahdanau et al. (2015). \n",
        "\n",
        "The idea is that going through both blog posts will make you familiar with two very influential sequence-to-sequence architectures. If you have any comments or suggestions, please let me know: [@bastings_nlp](https://twitter.com/bastings_nlp)."
      ]
    },
    {
      "cell_type": "markdown",
      "metadata": {
        "id": "jsmIaqsCyYex"
      },
      "source": [
        "# Model Architecture\n",
        "\n",
        "We will model the probability $p(Y\\mid X)$ of a target sequence $Y=(y_1, \\dots, y_{N})$ given a source sequence $X=(x_1, \\dots, x_M)$ directly with a neural network: an Encoder-Decoder.\n",
        "\n",
        "<img src=\"https://github.com/bastings/annotated_encoder_decoder/blob/master/images/bahdanau.png?raw=1\" width=\"636\">\n",
        "\n",
        "#### Encoder \n",
        "\n",
        "The encoder reads in the source sentence (*at the bottom of the figure*) and produces a sequence of hidden states $\\mathbf{h}_1, \\dots, \\mathbf{h}_M$, one for each source word. These states should capture the meaning of a word in its context of the given sentence.\n",
        "\n",
        "We will use a bi-directional recurrent neural network (Bi-RNN) as the encoder; a Bi-GRU in particular.\n",
        "\n",
        "First of all we **embed** the source words. \n",
        "We simply look up the **word embedding** for each word in a (randomly initialized) lookup table.\n",
        "We will denote the word embedding for word $i$ in a given sentence with $\\mathbf{x}_i$.\n",
        "By embedding words, our model may exploit the fact that certain words (e.g. *cat* and *dog*) are semantically similar, and can be processed in a similar way.\n",
        "\n",
        "Now, how do we get hidden states $\\mathbf{h}_1, \\dots, \\mathbf{h}_M$? A forward GRU reads the source sentence left-to-right, while a backward GRU reads it right-to-left.\n",
        "Each of them follows a simple recursive formula: \n",
        "$$\\mathbf{h}_j = \\text{GRU}( \\mathbf{x}_j , \\mathbf{h}_{j - 1} )$$\n",
        "i.e. we obtain the next state from the previous state and the current input word embedding.\n",
        "\n",
        "The hidden state of the forward GRU at time step $j$ will know what words **precede** the word at that time step, but it doesn't know what words will follow. In contrast, the backward GRU will only know what words **follow** the word at time step $j$. By **concatenating** those two hidden states (*shown in blue in the figure*), we get $\\mathbf{h}_j$, which captures word $j$ in its full sentence context.\n",
        "\n",
        "\n",
        "#### Decoder \n",
        "\n",
        "The decoder (*at the top of the figure*) is a GRU with hidden state $\\mathbf{s_i}$. It follows a similar formula to the encoder, but takes one extra input $\\mathbf{c}_{i}$ (*shown in yellow*).\n",
        "\n",
        "$$\\mathbf{s}_{i} = f( \\mathbf{s}_{i - 1}, \\mathbf{y}_{i - 1}, \\mathbf{c}_i )$$\n",
        "\n",
        "Here, $\\mathbf{y}_{i - 1}$ is the previously generated target word (*not shown*).\n",
        "\n",
        "At each time step, an **attention mechanism** dynamically selects that part of the source sentence that is most relevant for predicting the current target word. It does so by comparing the last decoder state with each source hidden state. The result is a context vector $\\mathbf{c_i}$ (*shown in yellow*).\n",
        "Later the attention mechanism is explained in more detail.\n",
        "\n",
        "After computing the decoder state $\\mathbf{s}_i$, a non-linear function $g$ (which applies a [softmax](https://en.wikipedia.org/wiki/Softmax_function)) gives us the probability of the target word $y_i$ for this time step:\n",
        "\n",
        "$$ p(y_i \\mid y_{<i}, x_1^M) = g(\\mathbf{s}_i, \\mathbf{c}_i, \\mathbf{y}_{i - 1})$$\n",
        "\n",
        "Because $g$ applies a softmax, it provides a vector the size of the output vocabulary that sums to 1.0: it is a distribution over all target words. During test time, we would select the word with the highest probability for our translation.\n",
        "\n",
        "Now, for optimization, a [cross-entropy loss](https://ml-cheatsheet.readthedocs.io/en/latest/loss_functions.html#cross-entropy) is used to maximize the probability of selecting the correct word at this time step. All parameters (including word embeddings) are then updated to maximize this probability.\n",
        "\n"
      ]
    },
    {
      "cell_type": "markdown",
      "metadata": {
        "id": "ho9LfrYdyYez"
      },
      "source": [
        "# Prelims\n",
        "\n",
        "This tutorial requires **PyTorch >= 0.4.1** and was tested with **Python 3.6**.  \n",
        "\n",
        "Make sure you have those versions, and install the packages below if you don't have them yet."
      ]
    },
    {
      "cell_type": "code",
      "metadata": {
        "id": "4VBGYNn9yYe0",
        "outputId": "dc559a92-9a97-4474-d38b-23138cbae5b9",
        "colab": {
          "base_uri": "https://localhost:8080/"
        }
      },
      "source": [
        "!pip install torch numpy matplotlib sacrebleu"
      ],
      "execution_count": 25,
      "outputs": [
        {
          "output_type": "stream",
          "text": [
            "Requirement already satisfied: torch in /usr/local/lib/python3.6/dist-packages (1.5.1+cu92)\n",
            "Requirement already satisfied: numpy in /usr/local/lib/python3.6/dist-packages (1.18.5)\n",
            "Requirement already satisfied: matplotlib in /usr/local/lib/python3.6/dist-packages (3.2.2)\n",
            "Collecting sacrebleu\n",
            "\u001b[?25l  Downloading https://files.pythonhosted.org/packages/a3/c4/8e948f601a4f9609e8b2b58f31966cb13cf17b940b82aa3e767f01c42c52/sacrebleu-1.4.14-py3-none-any.whl (64kB)\n",
            "\u001b[K     |████████████████████████████████| 71kB 2.1MB/s \n",
            "\u001b[?25hRequirement already satisfied: future in /usr/local/lib/python3.6/dist-packages (from torch) (0.16.0)\n",
            "Requirement already satisfied: pyparsing!=2.0.4,!=2.1.2,!=2.1.6,>=2.0.1 in /usr/local/lib/python3.6/dist-packages (from matplotlib) (2.4.7)\n",
            "Requirement already satisfied: kiwisolver>=1.0.1 in /usr/local/lib/python3.6/dist-packages (from matplotlib) (1.2.0)\n",
            "Requirement already satisfied: python-dateutil>=2.1 in /usr/local/lib/python3.6/dist-packages (from matplotlib) (2.8.1)\n",
            "Requirement already satisfied: cycler>=0.10 in /usr/local/lib/python3.6/dist-packages (from matplotlib) (0.10.0)\n",
            "Collecting portalocker\n",
            "  Downloading https://files.pythonhosted.org/packages/89/a6/3814b7107e0788040870e8825eebf214d72166adf656ba7d4bf14759a06a/portalocker-2.0.0-py2.py3-none-any.whl\n",
            "Requirement already satisfied: six>=1.5 in /usr/local/lib/python3.6/dist-packages (from python-dateutil>=2.1->matplotlib) (1.15.0)\n",
            "Installing collected packages: portalocker, sacrebleu\n",
            "Successfully installed portalocker-2.0.0 sacrebleu-1.4.14\n"
          ],
          "name": "stdout"
        }
      ]
    },
    {
      "cell_type": "code",
      "metadata": {
        "id": "MeyuyZbX4G2-",
        "outputId": "d1054abd-883e-452b-fdeb-528472ad838e",
        "colab": {
          "base_uri": "https://localhost:8080/"
        }
      },
      "source": [
        "!pip install torch==1.5.1+cu92 torchvision==0.6.1+cu92 -f https://download.pytorch.org/whl/torch_stable.html"
      ],
      "execution_count": 1,
      "outputs": [
        {
          "output_type": "stream",
          "text": [
            "Looking in links: https://download.pytorch.org/whl/torch_stable.html\n",
            "Collecting torch==1.5.1+cu92\n",
            "\u001b[?25l  Downloading https://download.pytorch.org/whl/cu92/torch-1.5.1%2Bcu92-cp36-cp36m-linux_x86_64.whl (604.8MB)\n",
            "\u001b[K     |████████████████████████████████| 604.8MB 28kB/s \n",
            "\u001b[33mWARNING: Retrying (Retry(total=4, connect=None, read=None, redirect=None, status=None)) after connection broken by 'ProtocolError('Connection aborted.', ConnectionResetError(104, 'Connection reset by peer'))': /simple/torchvision/\u001b[0m\n",
            "\u001b[?25hCollecting torchvision==0.6.1+cu92\n",
            "\u001b[?25l  Downloading https://download.pytorch.org/whl/cu92/torchvision-0.6.1%2Bcu92-cp36-cp36m-linux_x86_64.whl (6.5MB)\n",
            "\u001b[K     |████████████████████████████████| 6.5MB 477kB/s \n",
            "\u001b[?25hRequirement already satisfied: numpy in /usr/local/lib/python3.6/dist-packages (from torch==1.5.1+cu92) (1.18.5)\n",
            "Requirement already satisfied: future in /usr/local/lib/python3.6/dist-packages (from torch==1.5.1+cu92) (0.16.0)\n",
            "Requirement already satisfied: pillow>=4.1.1 in /usr/local/lib/python3.6/dist-packages (from torchvision==0.6.1+cu92) (7.0.0)\n",
            "Installing collected packages: torch, torchvision\n",
            "  Found existing installation: torch 1.6.0+cu101\n",
            "    Uninstalling torch-1.6.0+cu101:\n",
            "      Successfully uninstalled torch-1.6.0+cu101\n",
            "  Found existing installation: torchvision 0.7.0+cu101\n",
            "    Uninstalling torchvision-0.7.0+cu101:\n",
            "      Successfully uninstalled torchvision-0.7.0+cu101\n",
            "Successfully installed torch-1.5.1+cu92 torchvision-0.6.1+cu92\n"
          ],
          "name": "stdout"
        }
      ]
    },
    {
      "cell_type": "code",
      "metadata": {
        "id": "FbdRDdUsyYe8",
        "outputId": "33295601-6d32-4ba1-8882-37175c7715ad",
        "colab": {
          "base_uri": "https://localhost:8080/"
        }
      },
      "source": [
        "%matplotlib inline\n",
        "import numpy as np\n",
        "import torch\n",
        "import torch.nn as nn\n",
        "import torch.nn.functional as F\n",
        "import math, copy, time\n",
        "import matplotlib.pyplot as plt\n",
        "from torch.nn.utils.rnn import pack_padded_sequence, pad_packed_sequence\n",
        "from IPython.core.debugger import set_trace\n",
        "\n",
        "# we will use CUDA if it is available\n",
        "USE_CUDA = torch.cuda.is_available()\n",
        "DEVICE=torch.device('cuda:0') # or set to 'cpu'\n",
        "print(\"CUDA:\", USE_CUDA)\n",
        "print(DEVICE)\n",
        "\n",
        "seed = 42\n",
        "np.random.seed(seed)\n",
        "torch.manual_seed(seed)\n",
        "torch.cuda.manual_seed(seed)"
      ],
      "execution_count": 2,
      "outputs": [
        {
          "output_type": "stream",
          "text": [
            "CUDA: True\n",
            "cuda:0\n"
          ],
          "name": "stdout"
        }
      ]
    },
    {
      "cell_type": "markdown",
      "metadata": {
        "id": "9xZbStC-yYfF"
      },
      "source": [
        "# Let's start coding!\n",
        "\n",
        "## Model class\n",
        "\n",
        "Our base model class `EncoderDecoder` is very similar to the one in *The Annotated Transformer*.\n",
        "\n",
        "One difference is that our encoder also returns its final states (`encoder_final` below), which is used to initialize the decoder RNN. We also provide the sequence lengths as the RNNs require those."
      ]
    },
    {
      "cell_type": "code",
      "metadata": {
        "id": "A1SbP_iPyYfG"
      },
      "source": [
        "class EncoderDecoder(nn.Module):\n",
        "    \"\"\"\n",
        "    A standard Encoder-Decoder architecture. Base for this and many \n",
        "    other models.\n",
        "    \"\"\"\n",
        "    def __init__(self, encoder, decoder, src_embed, trg_embed, generator):\n",
        "        super(EncoderDecoder, self).__init__()\n",
        "        self.encoder = encoder\n",
        "        self.decoder = decoder\n",
        "        self.src_embed = src_embed\n",
        "        self.trg_embed = trg_embed\n",
        "        self.generator = generator\n",
        "        \n",
        "    def forward(self, src, trg, src_mask, trg_mask, src_lengths, trg_lengths):\n",
        "        \"\"\"Take in and process masked src and target sequences.\"\"\"\n",
        "        encoder_hidden, encoder_final = self.encode(src, src_mask, src_lengths)\n",
        "        return self.decode(encoder_hidden, encoder_final, src_mask, trg, trg_mask)\n",
        "    \n",
        "    def encode(self, src, src_mask, src_lengths):\n",
        "        return self.encoder(self.src_embed(src), src_mask, src_lengths)\n",
        "    \n",
        "    def decode(self, encoder_hidden, encoder_final, src_mask, trg, trg_mask,\n",
        "               decoder_hidden=None):\n",
        "        return self.decoder(self.trg_embed(trg), encoder_hidden, encoder_final,\n",
        "                            src_mask, trg_mask, hidden=decoder_hidden)"
      ],
      "execution_count": 3,
      "outputs": []
    },
    {
      "cell_type": "markdown",
      "metadata": {
        "id": "LetaY0FMyYfM"
      },
      "source": [
        "To keep things easy we also keep the `Generator` class the same. \n",
        "It simply projects the pre-output layer ($x$ in the `forward` function below) to obtain the output layer, so that the final dimension is the target vocabulary size."
      ]
    },
    {
      "cell_type": "code",
      "metadata": {
        "id": "CPnu1-r-yYfN"
      },
      "source": [
        "class Generator(nn.Module):\n",
        "    \"\"\"Define standard linear + softmax generation step.\"\"\"\n",
        "    def __init__(self, hidden_size, vocab_size):\n",
        "        super(Generator, self).__init__()\n",
        "        self.proj = nn.Linear(hidden_size, vocab_size, bias=False)\n",
        "\n",
        "    def forward(self, x):\n",
        "        return F.log_softmax(self.proj(x), dim=-1)"
      ],
      "execution_count": 4,
      "outputs": []
    },
    {
      "cell_type": "markdown",
      "metadata": {
        "id": "Du3fMtLJyYfU"
      },
      "source": [
        "## Encoder\n",
        "\n",
        "Our encoder is a bi-directional GRU. \n",
        "\n",
        "Because we want to process multiple sentences at the same time for speed reasons (it is more effcient on GPU), we need to support **mini-batches**. Sentences in a mini-batch may have different lengths, which means that the RNN needs to unroll further for certain sentences while it might already have finished for others:\n",
        "\n",
        "```\n",
        "Example: mini-batch with 3 source sentences of different lengths (7, 5, and 3).\n",
        "End-of-sequence is marked with a \"3\" here, and padding positions with \"1\".\n",
        "\n",
        "+---------------+\n",
        "| 4 5 9 8 7 8 3 |\n",
        "+---------------+\n",
        "| 5 4 8 7 3 1 1 |\n",
        "+---------------+\n",
        "| 5 8 3 1 1 1 1 |\n",
        "+---------------+\n",
        "```\n",
        "You can see that, when computing hidden states for this mini-batch, for sentence #2 and #3 we will need to stop updating the hidden state after we have encountered \"3\". We don't want to incorporate the padding values (1s).\n",
        "\n",
        "Luckily, PyTorch has convenient helper functions called `pack_padded_sequence` and `pad_packed_sequence`.\n",
        "These functions take care of masking and padding, so that the resulting word representations are simply zeros after a sentence stops.\n",
        "\n",
        "The code below reads in a source sentence (a sequence of word embeddings) and produces the hidden states.\n",
        "It also returns a final vector, a summary of the complete sentence, by concatenating the first and the last hidden states (they have both seen the whole sentence, each in a different direction). We will use the final vector to initialize the decoder."
      ]
    },
    {
      "cell_type": "code",
      "metadata": {
        "id": "F2A8ICvUyYfW"
      },
      "source": [
        "class Encoder(nn.Module):\n",
        "    \"\"\"Encodes a sequence of word embeddings\"\"\"\n",
        "    def __init__(self, input_size, hidden_size, num_layers=1, dropout=0.):\n",
        "        super(Encoder, self).__init__()\n",
        "        self.num_layers = num_layers\n",
        "        self.rnn = nn.GRU(input_size, hidden_size, num_layers, \n",
        "                          batch_first=True, bidirectional=True, dropout=dropout)\n",
        "        \n",
        "    def forward(self, x, mask, lengths):\n",
        "        \"\"\"\n",
        "        Applies a bidirectional GRU to sequence of embeddings x.\n",
        "        The input mini-batch x needs to be sorted by length.\n",
        "        x should have dimensions [batch, time, dim].\n",
        "        \"\"\"\n",
        "        packed = pack_padded_sequence(x, lengths, batch_first=True)\n",
        "        output, final = self.rnn(packed)\n",
        "        output, _ = pad_packed_sequence(output, batch_first=True)\n",
        "\n",
        "        # we need to manually concatenate the final states for both directions\n",
        "        fwd_final = final[0:final.size(0):2]\n",
        "        bwd_final = final[1:final.size(0):2]\n",
        "        final = torch.cat([fwd_final, bwd_final], dim=2)  # [num_layers, batch, 2*dim]\n",
        "\n",
        "        return output, final"
      ],
      "execution_count": 5,
      "outputs": []
    },
    {
      "cell_type": "markdown",
      "metadata": {
        "id": "PKw6OEBNyYfc"
      },
      "source": [
        "### Decoder\n",
        "\n",
        "The decoder is a conditional GRU. Rather than starting with an empty state like the encoder, its initial hidden state results from a projection of the encoder final vector. \n",
        "\n",
        "#### Training\n",
        "In `forward` you can find a for-loop that computes the decoder hidden states one time step at a time. \n",
        "Note that, during training, we know exactly what the target words should be! (They are in `trg_embed`.) This means that we are not even checking here what the prediction is! We simply feed the correct previous target word embedding to the GRU at each time step. This is called teacher forcing.\n",
        "\n",
        "The `forward` function returns all decoder hidden states and pre-output vectors. Elsewhere these are used to compute the loss, after which the parameters are updated.\n",
        "\n",
        "#### Prediction\n",
        "For prediction time, for forward function is only used for a single time step. After predicting a word from the returned pre-output vector, we can call it again, supplying it the word embedding of the previously predicted word and the last state."
      ]
    },
    {
      "cell_type": "code",
      "metadata": {
        "id": "VLxrbZHNyYfd"
      },
      "source": [
        "class Decoder(nn.Module):\n",
        "    \"\"\"A conditional RNN decoder with attention.\"\"\"\n",
        "    \n",
        "    def __init__(self, emb_size, hidden_size, attention, num_layers=1, dropout=0.5,\n",
        "                 bridge=True):\n",
        "        super(Decoder, self).__init__()\n",
        "        \n",
        "        self.hidden_size = hidden_size\n",
        "        self.num_layers = num_layers\n",
        "        self.attention = attention\n",
        "        self.dropout = dropout\n",
        "                 \n",
        "        self.rnn = nn.GRU(emb_size + 2*hidden_size, hidden_size, num_layers,\n",
        "                          batch_first=True, dropout=dropout)\n",
        "                 \n",
        "        # to initialize from the final encoder state\n",
        "        self.bridge = nn.Linear(2*hidden_size, hidden_size, bias=True) if bridge else None\n",
        "\n",
        "        self.dropout_layer = nn.Dropout(p=dropout)\n",
        "        self.pre_output_layer = nn.Linear(hidden_size + 2*hidden_size + emb_size,\n",
        "                                          hidden_size, bias=False)\n",
        "        \n",
        "    def forward_step(self, prev_embed, encoder_hidden, src_mask, proj_key, hidden):\n",
        "        \"\"\"Perform a single decoder step (1 word)\"\"\"\n",
        "\n",
        "        # compute context vector using attention mechanism\n",
        "        query = hidden[-1].unsqueeze(1)  # [#layers, B, D] -> [B, 1, D]\n",
        "        context, attn_probs = self.attention(\n",
        "            query=query, proj_key=proj_key,\n",
        "            value=encoder_hidden, mask=src_mask)\n",
        "\n",
        "        # update rnn hidden state\n",
        "        rnn_input = torch.cat([prev_embed, context], dim=2)\n",
        "        output, hidden = self.rnn(rnn_input, hidden)\n",
        "        \n",
        "        pre_output = torch.cat([prev_embed, output, context], dim=2)\n",
        "        pre_output = self.dropout_layer(pre_output)\n",
        "        pre_output = self.pre_output_layer(pre_output)\n",
        "\n",
        "        return output, hidden, pre_output\n",
        "    \n",
        "    def forward(self, trg_embed, encoder_hidden, encoder_final, \n",
        "                src_mask, trg_mask, hidden=None, max_len=None):\n",
        "        \"\"\"Unroll the decoder one step at a time.\"\"\"\n",
        "                                         \n",
        "        # the maximum number of steps to unroll the RNN\n",
        "        if max_len is None:\n",
        "            max_len = trg_mask.size(-1)\n",
        "\n",
        "        # initialize decoder hidden state\n",
        "        if hidden is None:\n",
        "            hidden = self.init_hidden(encoder_final)\n",
        "        \n",
        "        # pre-compute projected encoder hidden states\n",
        "        # (the \"keys\" for the attention mechanism)\n",
        "        # this is only done for efficiency\n",
        "        proj_key = self.attention.key_layer(encoder_hidden)\n",
        "        \n",
        "        # here we store all intermediate hidden states and pre-output vectors\n",
        "        decoder_states = []\n",
        "        pre_output_vectors = []\n",
        "        \n",
        "        # unroll the decoder RNN for max_len steps\n",
        "        for i in range(max_len):\n",
        "            prev_embed = trg_embed[:, i].unsqueeze(1)\n",
        "            output, hidden, pre_output = self.forward_step(\n",
        "              prev_embed, encoder_hidden, src_mask, proj_key, hidden)\n",
        "            decoder_states.append(output)\n",
        "            pre_output_vectors.append(pre_output)\n",
        "\n",
        "        decoder_states = torch.cat(decoder_states, dim=1)\n",
        "        pre_output_vectors = torch.cat(pre_output_vectors, dim=1)\n",
        "        return decoder_states, hidden, pre_output_vectors  # [B, N, D]\n",
        "\n",
        "    def init_hidden(self, encoder_final):\n",
        "        \"\"\"Returns the initial decoder state,\n",
        "        conditioned on the final encoder state.\"\"\"\n",
        "\n",
        "        if encoder_final is None:\n",
        "            return None  # start with zeros\n",
        "\n",
        "        return torch.tanh(self.bridge(encoder_final))            \n"
      ],
      "execution_count": 6,
      "outputs": []
    },
    {
      "cell_type": "markdown",
      "metadata": {
        "id": "88zo2J4kyYfl"
      },
      "source": [
        "### Attention                                                                                                                                                                               \n",
        "\n",
        "At every time step, the decoder has access to *all* source word representations $\\mathbf{h}_1, \\dots, \\mathbf{h}_M$. \n",
        "An attention mechanism allows the model to focus on the currently most relevant part of the source sentence.\n",
        "The state of the decoder is represented by GRU hidden state $\\mathbf{s}_i$.\n",
        "So if we want to know which source word representation(s) $\\mathbf{h}_j$ are most relevant, we will need to define a function that takes those two things as input.\n",
        "\n",
        "Here we use the MLP-based, additive attention that was used in Bahdanau et al.:\n",
        "\n",
        "<img src=\"https://github.com/bastings/annotated_encoder_decoder/blob/master/images/attention.png?raw=1\" width=\"280\">\n",
        "\n",
        "\n",
        "We apply an MLP with tanh-activation to both the current decoder state $\\bf s_i$ (the *query*) and each encoder state $\\bf h_j$ (the *key*), and then project this to a single value (i.e. a scalar) to get the *attention energy* $e_{ij}$. \n",
        "\n",
        "Once all energies are computed, they are normalized by a softmax so that they sum to one: \n",
        "\n",
        "$$ \\alpha_{ij} = \\text{softmax}(\\mathbf{e}_i)[j] $$\n",
        "\n",
        "$$\\sum_j \\alpha_{ij} = 1.0$$ \n",
        "\n",
        "The context vector for time step $i$ is then a weighted sum of the encoder hidden states (the *values*):\n",
        "$$\\mathbf{c}_i = \\sum_j \\alpha_{ij} \\mathbf{h}_j$$"
      ]
    },
    {
      "cell_type": "code",
      "metadata": {
        "id": "A92rNM2GyYfn"
      },
      "source": [
        "class BahdanauAttention(nn.Module):\n",
        "    \"\"\"Implements Bahdanau (MLP) attention\"\"\"\n",
        "    \n",
        "    def __init__(self, hidden_size, key_size=None, query_size=None):\n",
        "        super(BahdanauAttention, self).__init__()\n",
        "        \n",
        "        # We assume a bi-directional encoder so key_size is 2*hidden_size\n",
        "        key_size = 2 * hidden_size if key_size is None else key_size\n",
        "        query_size = hidden_size if query_size is None else query_size\n",
        "\n",
        "        self.key_layer = nn.Linear(key_size, hidden_size, bias=False)\n",
        "        self.query_layer = nn.Linear(query_size, hidden_size, bias=False)\n",
        "        self.energy_layer = nn.Linear(hidden_size, 1, bias=False)\n",
        "        \n",
        "        # to store attention scores\n",
        "        self.alphas = None\n",
        "        \n",
        "    def forward(self, query=None, proj_key=None, value=None, mask=None):\n",
        "        assert mask is not None, \"mask is required\"\n",
        "\n",
        "        # We first project the query (the decoder state).\n",
        "        # The projected keys (the encoder states) were already pre-computated.\n",
        "        query = self.query_layer(query)\n",
        "        \n",
        "        # Calculate scores.\n",
        "        scores = self.energy_layer(torch.tanh(query + proj_key))\n",
        "        scores = scores.squeeze(2).unsqueeze(1)\n",
        "        \n",
        "        # Mask out invalid positions.\n",
        "        # The mask marks valid positions so we invert it using `mask & 0`.\n",
        "        scores.data.masked_fill_(mask == 0, -float('inf'))\n",
        "        \n",
        "        # Turn scores to probabilities.\n",
        "        alphas = F.softmax(scores, dim=-1)\n",
        "        self.alphas = alphas        \n",
        "        \n",
        "        # The context vector is the weighted sum of the values.\n",
        "        context = torch.bmm(alphas, value)\n",
        "        \n",
        "        # context shape: [B, 1, 2D], alphas shape: [B, 1, M]\n",
        "        return context, alphas"
      ],
      "execution_count": 7,
      "outputs": []
    },
    {
      "cell_type": "markdown",
      "metadata": {
        "id": "CySX4BMgyYfs"
      },
      "source": [
        "## Embeddings and Softmax                                                                                                                                                                                                                                                                                           \n",
        "We use learned embeddings to convert the input tokens and output tokens to vectors of dimension `emb_size`.\n",
        "\n",
        "We will simply use PyTorch's [nn.Embedding](https://pytorch.org/docs/stable/nn.html?highlight=embedding#torch.nn.Embedding) class."
      ]
    },
    {
      "cell_type": "markdown",
      "metadata": {
        "id": "m7MaNg73yYfu"
      },
      "source": [
        "## Full Model\n",
        "\n",
        "Here we define a function from hyperparameters to a full model. "
      ]
    },
    {
      "cell_type": "code",
      "metadata": {
        "id": "vD_9-DuiyYfv"
      },
      "source": [
        "def make_model(src_vocab, tgt_vocab, emb_size=256, hidden_size=512, num_layers=1, dropout=0.1):\n",
        "    \"Helper: Construct a model from hyperparameters.\"\n",
        "\n",
        "    attention = BahdanauAttention(hidden_size)\n",
        "\n",
        "    model = EncoderDecoder(\n",
        "        Encoder(emb_size, hidden_size, num_layers=num_layers, dropout=dropout),\n",
        "        Decoder(emb_size, hidden_size, attention, num_layers=num_layers, dropout=dropout),\n",
        "        nn.Embedding(src_vocab, emb_size),\n",
        "        nn.Embedding(tgt_vocab, emb_size),\n",
        "        Generator(hidden_size, tgt_vocab))\n",
        "\n",
        "    return model.cuda() if USE_CUDA else model"
      ],
      "execution_count": 8,
      "outputs": []
    },
    {
      "cell_type": "markdown",
      "metadata": {
        "id": "leMR5KJ-yYf0"
      },
      "source": [
        "# Training\n",
        "\n",
        "This section describes the training regime for our models."
      ]
    },
    {
      "cell_type": "markdown",
      "metadata": {
        "id": "WuHVmoFpyYf1"
      },
      "source": [
        "We stop for a quick interlude to introduce some of the tools \n",
        "needed to train a standard encoder decoder model. First we define a batch object that holds the src and target sentences for training, as well as their lengths and masks. "
      ]
    },
    {
      "cell_type": "markdown",
      "metadata": {
        "id": "JDLZMHAxyYf3"
      },
      "source": [
        "## Batches and Masking"
      ]
    },
    {
      "cell_type": "code",
      "metadata": {
        "id": "hTdJPIPYyYf4"
      },
      "source": [
        "class Batch:\n",
        "    \"\"\"Object for holding a batch of data with mask during training.\n",
        "    Input is a batch from a torch text iterator.\n",
        "    \"\"\"\n",
        "    def __init__(self, src, trg, pad_index=0):\n",
        "        \n",
        "        src, src_lengths = src\n",
        "        \n",
        "        self.src = src\n",
        "        self.src_lengths = src_lengths\n",
        "        self.src_mask = (src != pad_index).unsqueeze(-2)\n",
        "        self.nseqs = src.size(0)\n",
        "        \n",
        "        self.trg = None\n",
        "        self.trg_y = None\n",
        "        self.trg_mask = None\n",
        "        self.trg_lengths = None\n",
        "        self.ntokens = None\n",
        "\n",
        "        if trg is not None:\n",
        "            trg, trg_lengths = trg\n",
        "            self.trg = trg[:, :-1]\n",
        "            self.trg_lengths = trg_lengths\n",
        "            self.trg_y = trg[:, 1:]\n",
        "            self.trg_mask = (self.trg_y != pad_index)\n",
        "            self.ntokens = (self.trg_y != pad_index).data.sum().item()\n",
        "        \n",
        "        if USE_CUDA:\n",
        "            self.src = self.src.cuda()\n",
        "            self.src_mask = self.src_mask.cuda()\n",
        "\n",
        "            if trg is not None:\n",
        "                self.trg = self.trg.cuda()\n",
        "                self.trg_y = self.trg_y.cuda()\n",
        "                self.trg_mask = self.trg_mask.cuda()\n",
        "                "
      ],
      "execution_count": 9,
      "outputs": []
    },
    {
      "cell_type": "markdown",
      "metadata": {
        "id": "MyW7DZxsyYgA"
      },
      "source": [
        "## Training Loop\n",
        "The code below trains the model for 1 epoch (=1 pass through the training data)."
      ]
    },
    {
      "cell_type": "code",
      "metadata": {
        "id": "PzFkN0S7yYgB"
      },
      "source": [
        "def run_epoch(data_iter, model, loss_compute, print_every=50):\n",
        "    \"\"\"Standard Training and Logging Function\"\"\"\n",
        "\n",
        "    start = time.time()\n",
        "    total_tokens = 0\n",
        "    total_loss = 0\n",
        "    print_tokens = 0\n",
        "\n",
        "    for i, batch in enumerate(data_iter, 1):\n",
        "        \n",
        "        out, _, pre_output = model.forward(batch.src, batch.trg,\n",
        "                                           batch.src_mask, batch.trg_mask,\n",
        "                                           batch.src_lengths, batch.trg_lengths)\n",
        "        loss = loss_compute(pre_output, batch.trg_y, batch.nseqs)\n",
        "        total_loss += loss\n",
        "        total_tokens += batch.ntokens\n",
        "        print_tokens += batch.ntokens\n",
        "        \n",
        "        if model.training and i % print_every == 0:\n",
        "            elapsed = time.time() - start\n",
        "            print(\"Epoch Step: %d Loss: %f Tokens per Sec: %f\" %\n",
        "                    (i, loss / batch.nseqs, print_tokens / elapsed))\n",
        "            start = time.time()\n",
        "            print_tokens = 0\n",
        "\n",
        "    return math.exp(total_loss / float(total_tokens))"
      ],
      "execution_count": 10,
      "outputs": []
    },
    {
      "cell_type": "markdown",
      "metadata": {
        "id": "gYIhIo1zyYgH"
      },
      "source": [
        "## Training Data and Batching\n",
        "\n",
        "We will use torch text for batching. This is discussed in more detail below. "
      ]
    },
    {
      "cell_type": "markdown",
      "metadata": {
        "id": "pwfm8lvsyYgI"
      },
      "source": [
        "## Optimizer\n",
        "\n",
        "We will use the [Adam optimizer](https://arxiv.org/abs/1412.6980) with default settings ($\\beta_1=0.9$, $\\beta_2=0.999$ and $\\epsilon=10^{-8}$).\n",
        "\n",
        "We will use $0.0003$ as the learning rate here, but for different problems another learning rate may be more appropriate. You will have to tune that."
      ]
    },
    {
      "cell_type": "markdown",
      "metadata": {
        "id": "63sLrDljyYgJ"
      },
      "source": [
        "# A First  Example\n",
        "\n",
        "We can begin by trying out a simple copy-task. Given a random set of input symbols from a small vocabulary, the goal is to generate back those same symbols. "
      ]
    },
    {
      "cell_type": "markdown",
      "metadata": {
        "id": "lq76X5y8yYgL"
      },
      "source": [
        "## Synthetic Data"
      ]
    },
    {
      "cell_type": "code",
      "metadata": {
        "id": "mYRoULHKyYgM"
      },
      "source": [
        "def data_gen(num_words=11, batch_size=16, num_batches=100, length=10, pad_index=0, sos_index=1):\n",
        "    \"\"\"Generate random data for a src-tgt copy task.\"\"\"\n",
        "    for i in range(num_batches):\n",
        "        data = torch.from_numpy(\n",
        "          np.random.randint(1, num_words, size=(batch_size, length)))\n",
        "        data[:, 0] = sos_index\n",
        "        data = data.cuda() if USE_CUDA else data\n",
        "        src = data[:, 1:]\n",
        "        trg = data\n",
        "        src_lengths = [length-1] * batch_size\n",
        "        trg_lengths = [length] * batch_size\n",
        "        yield Batch((src, src_lengths), (trg, trg_lengths), pad_index=pad_index)"
      ],
      "execution_count": 11,
      "outputs": []
    },
    {
      "cell_type": "markdown",
      "metadata": {
        "id": "ZifJM4rpyYgS"
      },
      "source": [
        "## Loss Computation"
      ]
    },
    {
      "cell_type": "code",
      "metadata": {
        "id": "y_S9Ur5dyYgT"
      },
      "source": [
        "class SimpleLossCompute:\n",
        "    \"\"\"A simple loss compute and train function.\"\"\"\n",
        "\n",
        "    def __init__(self, generator, criterion, opt=None):\n",
        "        self.generator = generator\n",
        "        self.criterion = criterion\n",
        "        self.opt = opt\n",
        "\n",
        "    def __call__(self, x, y, norm):\n",
        "        x = self.generator(x)\n",
        "        loss = self.criterion(x.contiguous().view(-1, x.size(-1)),\n",
        "                              y.contiguous().view(-1))\n",
        "        loss = loss / norm\n",
        "\n",
        "        if self.opt is not None:\n",
        "            loss.backward()          \n",
        "            self.opt.step()\n",
        "            self.opt.zero_grad()\n",
        "\n",
        "        return loss.data.item() * norm"
      ],
      "execution_count": 12,
      "outputs": []
    },
    {
      "cell_type": "markdown",
      "metadata": {
        "id": "Vcbuq7UeyYgY"
      },
      "source": [
        "### Printing examples\n",
        "\n",
        "To monitor progress during training, we will translate a few examples.\n",
        "\n",
        "We use greedy decoding for simplicity; that is, at each time step, starting at the first token, we choose the one with that maximum probability, and we never revisit that choice. "
      ]
    },
    {
      "cell_type": "code",
      "metadata": {
        "id": "BX8Q3ihkyYgZ"
      },
      "source": [
        "def greedy_decode(model, src, src_mask, src_lengths, max_len=100, sos_index=1, eos_index=None):\n",
        "    \"\"\"Greedily decode a sentence.\"\"\"\n",
        "\n",
        "    with torch.no_grad():\n",
        "        encoder_hidden, encoder_final = model.encode(src, src_mask, src_lengths)\n",
        "        prev_y = torch.ones(1, 1).fill_(sos_index).type_as(src)\n",
        "        trg_mask = torch.ones_like(prev_y)\n",
        "\n",
        "    output = []\n",
        "    attention_scores = []\n",
        "    hidden = None\n",
        "\n",
        "    for i in range(max_len):\n",
        "        with torch.no_grad():\n",
        "            out, hidden, pre_output = model.decode(\n",
        "              encoder_hidden, encoder_final, src_mask,\n",
        "              prev_y, trg_mask, hidden)\n",
        "\n",
        "            # we predict from the pre-output layer, which is\n",
        "            # a combination of Decoder state, prev emb, and context\n",
        "            prob = model.generator(pre_output[:, -1])\n",
        "\n",
        "        _, next_word = torch.max(prob, dim=1)\n",
        "        next_word = next_word.data.item()\n",
        "        output.append(next_word)\n",
        "        prev_y = torch.ones(1, 1).type_as(src).fill_(next_word)\n",
        "        attention_scores.append(model.decoder.attention.alphas.cpu().numpy())\n",
        "    \n",
        "    output = np.array(output)\n",
        "        \n",
        "    # cut off everything starting from </s> \n",
        "    # (only when eos_index provided)\n",
        "    if eos_index is not None:\n",
        "        first_eos = np.where(output==eos_index)[0]\n",
        "        if len(first_eos) > 0:\n",
        "            output = output[:first_eos[0]]      \n",
        "    \n",
        "    return output, np.concatenate(attention_scores, axis=1)\n",
        "  \n",
        "\n",
        "def lookup_words(x, vocab=None):\n",
        "    if vocab is not None:\n",
        "        x = [vocab.itos[i] for i in x]\n",
        "\n",
        "    return [str(t) for t in x]"
      ],
      "execution_count": 13,
      "outputs": []
    },
    {
      "cell_type": "code",
      "metadata": {
        "id": "jVQP12qHyYgf"
      },
      "source": [
        "def print_examples(example_iter, model, n=2, max_len=100, \n",
        "                   sos_index=1, \n",
        "                   src_eos_index=None, \n",
        "                   trg_eos_index=None, \n",
        "                   src_vocab=None, trg_vocab=None):\n",
        "    \"\"\"Prints N examples. Assumes batch size of 1.\"\"\"\n",
        "\n",
        "    model.eval()\n",
        "    count = 0\n",
        "    print()\n",
        "    \n",
        "    if src_vocab is not None and trg_vocab is not None:\n",
        "        src_eos_index = src_vocab.stoi[EOS_TOKEN]\n",
        "        trg_sos_index = trg_vocab.stoi[SOS_TOKEN]\n",
        "        trg_eos_index = trg_vocab.stoi[EOS_TOKEN]\n",
        "    else:\n",
        "        src_eos_index = None\n",
        "        trg_sos_index = 1\n",
        "        trg_eos_index = None\n",
        "        \n",
        "    for i, batch in enumerate(example_iter):\n",
        "      \n",
        "        src = batch.src.cpu().numpy()[0, :]\n",
        "        trg = batch.trg_y.cpu().numpy()[0, :]\n",
        "\n",
        "        # remove </s> (if it is there)\n",
        "        src = src[:-1] if src[-1] == src_eos_index else src\n",
        "        trg = trg[:-1] if trg[-1] == trg_eos_index else trg      \n",
        "      \n",
        "        result, _ = greedy_decode(\n",
        "          model, batch.src, batch.src_mask, batch.src_lengths,\n",
        "          max_len=max_len, sos_index=trg_sos_index, eos_index=trg_eos_index)\n",
        "        print(\"Example #%d\" % (i+1))\n",
        "        print(\"Src : \", \" \".join(lookup_words(src, vocab=src_vocab)))\n",
        "        print(\"Trg : \", \" \".join(lookup_words(trg, vocab=trg_vocab)))\n",
        "        print(\"Pred: \", \" \".join(lookup_words(result, vocab=trg_vocab)))\n",
        "        print()\n",
        "        \n",
        "        count += 1\n",
        "        if count == n:\n",
        "            break"
      ],
      "execution_count": 14,
      "outputs": []
    },
    {
      "cell_type": "markdown",
      "metadata": {
        "id": "SSILcO_HyYgm"
      },
      "source": [
        "## Training the copy task"
      ]
    },
    {
      "cell_type": "code",
      "metadata": {
        "scrolled": false,
        "id": "3jl2oVP-yYgn"
      },
      "source": [
        "def train_copy_task():\n",
        "    \"\"\"Train the simple copy task.\"\"\"\n",
        "    num_words = 11\n",
        "    criterion = nn.NLLLoss(reduction=\"sum\", ignore_index=0)\n",
        "    model = make_model(num_words, num_words, emb_size=32, hidden_size=64)\n",
        "    optim = torch.optim.Adam(model.parameters(), lr=0.0003)\n",
        "    eval_data = list(data_gen(num_words=num_words, batch_size=1, num_batches=100))\n",
        " \n",
        "    dev_perplexities = []\n",
        "    \n",
        "    if USE_CUDA:\n",
        "        model.cuda()\n",
        "\n",
        "    for epoch in range(10):\n",
        "        \n",
        "        print(\"Epoch %d\" % epoch)\n",
        "\n",
        "        # train\n",
        "        model.train()\n",
        "        data = data_gen(num_words=num_words, batch_size=32, num_batches=100)\n",
        "        run_epoch(data, model,\n",
        "                  SimpleLossCompute(model.generator, criterion, optim))\n",
        "\n",
        "        # evaluate\n",
        "        model.eval()\n",
        "        with torch.no_grad(): \n",
        "            perplexity = run_epoch(eval_data, model,\n",
        "                                   SimpleLossCompute(model.generator, criterion, None))\n",
        "            print(\"Evaluation perplexity: %f\" % perplexity)\n",
        "            dev_perplexities.append(perplexity)\n",
        "            print_examples(eval_data, model, n=2, max_len=9)\n",
        "        \n",
        "    return dev_perplexities"
      ],
      "execution_count": 15,
      "outputs": []
    },
    {
      "cell_type": "code",
      "metadata": {
        "scrolled": false,
        "id": "23DHkxL7yYgs",
        "outputId": "9e8b45a2-ff89-4251-f2ea-0297bd0270f2",
        "colab": {
          "base_uri": "https://localhost:8080/",
          "height": 1000
        }
      },
      "source": [
        "# train the copy task\n",
        "dev_perplexities = train_copy_task()\n",
        "\n",
        "def plot_perplexity(perplexities):\n",
        "    \"\"\"plot perplexities\"\"\"\n",
        "    plt.title(\"Perplexity per Epoch\")\n",
        "    plt.xlabel(\"Epoch\")\n",
        "    plt.ylabel(\"Perplexity\")\n",
        "    plt.plot(perplexities)\n",
        "    \n",
        "plot_perplexity(dev_perplexities)"
      ],
      "execution_count": 16,
      "outputs": [
        {
          "output_type": "stream",
          "text": [
            "/usr/local/lib/python3.6/dist-packages/torch/nn/modules/rnn.py:50: UserWarning: dropout option adds dropout after all but last recurrent layer, so non-zero dropout expects num_layers greater than 1, but got dropout=0.1 and num_layers=1\n",
            "  \"num_layers={}\".format(dropout, num_layers))\n"
          ],
          "name": "stderr"
        },
        {
          "output_type": "stream",
          "text": [
            "Epoch 0\n",
            "Epoch Step: 50 Loss: 19.720034 Tokens per Sec: 14803.280752\n",
            "Epoch Step: 100 Loss: 17.850552 Tokens per Sec: 15001.765399\n",
            "Evaluation perplexity: 7.165516\n",
            "\n",
            "Example #1\n",
            "Src :  4 8 5 7 10 3 7 8 5\n",
            "Trg :  4 8 5 7 10 3 7 8 5\n",
            "Pred:  5 8 7 5 8 7 5 8 7\n",
            "\n",
            "Example #2\n",
            "Src :  8 8 3 6 5 2 8 6 2\n",
            "Trg :  8 8 3 6 5 2 8 6 2\n",
            "Pred:  8 8 8 8 8 8 8 8 8\n",
            "\n",
            "Epoch 1\n",
            "Epoch Step: 50 Loss: 15.429652 Tokens per Sec: 15547.299377\n",
            "Epoch Step: 100 Loss: 11.758205 Tokens per Sec: 15102.171260\n",
            "Evaluation perplexity: 3.761093\n",
            "\n",
            "Example #1\n",
            "Src :  4 8 5 7 10 3 7 8 5\n",
            "Trg :  4 8 5 7 10 3 7 8 5\n",
            "Pred:  4 8 5 7 5 3 8 7 5\n",
            "\n",
            "Example #2\n",
            "Src :  8 8 3 6 5 2 8 6 2\n",
            "Trg :  8 8 3 6 5 2 8 6 2\n",
            "Pred:  8 8 3 8 2 5 8 3 2\n",
            "\n",
            "Epoch 2\n",
            "Epoch Step: 50 Loss: 9.917424 Tokens per Sec: 14859.951974\n",
            "Epoch Step: 100 Loss: 8.949947 Tokens per Sec: 15161.116759\n",
            "Evaluation perplexity: 2.573576\n",
            "\n",
            "Example #1\n",
            "Src :  4 8 5 7 10 3 7 8 5\n",
            "Trg :  4 8 5 7 10 3 7 8 5\n",
            "Pred:  4 8 5 7 3 5 7 8 10\n",
            "\n",
            "Example #2\n",
            "Src :  8 8 3 6 5 2 8 6 2\n",
            "Trg :  8 8 3 6 5 2 8 6 2\n",
            "Pred:  8 8 3 8 5 2 6 8 2\n",
            "\n",
            "Epoch 3\n",
            "Epoch Step: 50 Loss: 7.275527 Tokens per Sec: 15391.902059\n",
            "Epoch Step: 100 Loss: 6.582399 Tokens per Sec: 15102.631972\n",
            "Evaluation perplexity: 2.072119\n",
            "\n",
            "Example #1\n",
            "Src :  4 8 5 7 10 3 7 8 5\n",
            "Trg :  4 8 5 7 10 3 7 8 5\n",
            "Pred:  4 8 5 7 3 5 8 7 5\n",
            "\n",
            "Example #2\n",
            "Src :  8 8 3 6 5 2 8 6 2\n",
            "Trg :  8 8 3 6 5 2 8 6 2\n",
            "Pred:  8 8 3 6 2 5 8 2 6\n",
            "\n",
            "Epoch 4\n",
            "Epoch Step: 50 Loss: 5.942049 Tokens per Sec: 14725.941443\n",
            "Epoch Step: 100 Loss: 4.906624 Tokens per Sec: 15365.322156\n",
            "Evaluation perplexity: 1.765160\n",
            "\n",
            "Example #1\n",
            "Src :  4 8 5 7 10 3 7 8 5\n",
            "Trg :  4 8 5 7 10 3 7 8 5\n",
            "Pred:  4 8 5 7 3 5 10 8 7\n",
            "\n",
            "Example #2\n",
            "Src :  8 8 3 6 5 2 8 6 2\n",
            "Trg :  8 8 3 6 5 2 8 6 2\n",
            "Pred:  8 8 3 6 5 2 8 6 2\n",
            "\n",
            "Epoch 5\n",
            "Epoch Step: 50 Loss: 5.266300 Tokens per Sec: 15313.127847\n",
            "Epoch Step: 100 Loss: 4.140487 Tokens per Sec: 15479.762506\n",
            "Evaluation perplexity: 1.565404\n",
            "\n",
            "Example #1\n",
            "Src :  4 8 5 7 10 3 7 8 5\n",
            "Trg :  4 8 5 7 10 3 7 8 5\n",
            "Pred:  4 8 5 7 3 10 5 7 8\n",
            "\n",
            "Example #2\n",
            "Src :  8 8 3 6 5 2 8 6 2\n",
            "Trg :  8 8 3 6 5 2 8 6 2\n",
            "Pred:  8 8 3 6 5 2 8 6 2\n",
            "\n",
            "Epoch 6\n",
            "Epoch Step: 50 Loss: 3.958579 Tokens per Sec: 15504.308006\n",
            "Epoch Step: 100 Loss: 3.681248 Tokens per Sec: 15490.589178\n",
            "Evaluation perplexity: 1.455613\n",
            "\n",
            "Example #1\n",
            "Src :  4 8 5 7 10 3 7 8 5\n",
            "Trg :  4 8 5 7 10 3 7 8 5\n",
            "Pred:  4 8 5 7 10 3 5 8 7\n",
            "\n",
            "Example #2\n",
            "Src :  8 8 3 6 5 2 8 6 2\n",
            "Trg :  8 8 3 6 5 2 8 6 2\n",
            "Pred:  8 8 3 6 5 2 8 8 6\n",
            "\n",
            "Epoch 7\n",
            "Epoch Step: 50 Loss: 2.987802 Tokens per Sec: 15186.494028\n",
            "Epoch Step: 100 Loss: 2.790764 Tokens per Sec: 15247.217063\n",
            "Evaluation perplexity: 1.366846\n",
            "\n",
            "Example #1\n",
            "Src :  4 8 5 7 10 3 7 8 5\n",
            "Trg :  4 8 5 7 10 3 7 8 5\n",
            "Pred:  4 8 5 7 10 3 7 8 5\n",
            "\n",
            "Example #2\n",
            "Src :  8 8 3 6 5 2 8 6 2\n",
            "Trg :  8 8 3 6 5 2 8 6 2\n",
            "Pred:  8 8 3 6 5 2 8 6 2\n",
            "\n",
            "Epoch 8\n",
            "Epoch Step: 50 Loss: 2.148364 Tokens per Sec: 15316.894746\n",
            "Epoch Step: 100 Loss: 2.303626 Tokens per Sec: 15300.997055\n",
            "Evaluation perplexity: 1.275108\n",
            "\n",
            "Example #1\n",
            "Src :  4 8 5 7 10 3 7 8 5\n",
            "Trg :  4 8 5 7 10 3 7 8 5\n",
            "Pred:  4 8 5 7 10 3 7 8 5\n",
            "\n",
            "Example #2\n",
            "Src :  8 8 3 6 5 2 8 6 2\n",
            "Trg :  8 8 3 6 5 2 8 6 2\n",
            "Pred:  8 8 3 6 5 2 8 6 2\n",
            "\n",
            "Epoch 9\n",
            "Epoch Step: 50 Loss: 2.088918 Tokens per Sec: 14978.951289\n",
            "Epoch Step: 100 Loss: 2.050286 Tokens per Sec: 15575.730137\n",
            "Evaluation perplexity: 1.195517\n",
            "\n",
            "Example #1\n",
            "Src :  4 8 5 7 10 3 7 8 5\n",
            "Trg :  4 8 5 7 10 3 7 8 5\n",
            "Pred:  4 8 5 7 10 3 7 8 5\n",
            "\n",
            "Example #2\n",
            "Src :  8 8 3 6 5 2 8 6 2\n",
            "Trg :  8 8 3 6 5 2 8 6 2\n",
            "Pred:  8 8 3 6 5 2 8 6 2\n",
            "\n"
          ],
          "name": "stdout"
        },
        {
          "output_type": "display_data",
          "data": {
            "image/png": "[encoded data removed]",
            "text/plain": [
              "<Figure size 432x288 with 1 Axes>"
            ]
          },
          "metadata": {
            "tags": [],
            "needs_background": "light"
          }
        }
      ]
    },
    {
      "cell_type": "markdown",
      "metadata": {
        "id": "WFtoJEDayYgy"
      },
      "source": [
        "You can see that the model managed to correctly 'translate' the two examples in the end.\n",
        "\n",
        "Moreover, the perplexity of the development data nicely went down towards 1."
      ]
    },
    {
      "cell_type": "markdown",
      "metadata": {
        "id": "MeMVhxxUyYgz"
      },
      "source": [
        "# A Real World Example\n",
        "\n",
        "Now we consider a real-world example using the IWSLT German-English Translation task. \n",
        "This task is much smaller than usual, but it illustrates the whole system. \n",
        "\n",
        "The cell below installs torch text and spacy. This might take a while."
      ]
    },
    {
      "cell_type": "code",
      "metadata": {
        "id": "fF5nAj38yYg0",
        "outputId": "18d41d0c-9e0f-4e95-8d59-791aebdfd585",
        "colab": {
          "base_uri": "https://localhost:8080/"
        }
      },
      "source": [
        "!pip install git+git://github.com/pytorch/text spacy \n",
        "!python -m spacy download en\n",
        "!python -m spacy download de"
      ],
      "execution_count": 17,
      "outputs": [
        {
          "output_type": "stream",
          "text": [
            "Collecting git+git://github.com/pytorch/text\n",
            "  Cloning git://github.com/pytorch/text to /tmp/pip-req-build-p7q5gunr\n",
            "  Running command git clone -q git://github.com/pytorch/text /tmp/pip-req-build-p7q5gunr\n",
            "  Running command git submodule update --init --recursive -q\n",
            "Requirement already satisfied: spacy in /usr/local/lib/python3.6/dist-packages (2.2.4)\n",
            "Requirement already satisfied: tqdm in /usr/local/lib/python3.6/dist-packages (from torchtext==0.9.0a0+97e6d1d) (4.41.1)\n",
            "Requirement already satisfied: requests in /usr/local/lib/python3.6/dist-packages (from torchtext==0.9.0a0+97e6d1d) (2.23.0)\n",
            "Requirement already satisfied: torch in /usr/local/lib/python3.6/dist-packages (from torchtext==0.9.0a0+97e6d1d) (1.5.1+cu92)\n",
            "Requirement already satisfied: numpy in /usr/local/lib/python3.6/dist-packages (from torchtext==0.9.0a0+97e6d1d) (1.18.5)\n",
            "Requirement already satisfied: preshed<3.1.0,>=3.0.2 in /usr/local/lib/python3.6/dist-packages (from spacy) (3.0.2)\n",
            "Requirement already satisfied: cymem<2.1.0,>=2.0.2 in /usr/local/lib/python3.6/dist-packages (from spacy) (2.0.3)\n",
            "Requirement already satisfied: srsly<1.1.0,>=1.0.2 in /usr/local/lib/python3.6/dist-packages (from spacy) (1.0.2)\n",
            "Requirement already satisfied: catalogue<1.1.0,>=0.0.7 in /usr/local/lib/python3.6/dist-packages (from spacy) (1.0.0)\n",
            "Requirement already satisfied: blis<0.5.0,>=0.4.0 in /usr/local/lib/python3.6/dist-packages (from spacy) (0.4.1)\n",
            "Requirement already satisfied: setuptools in /usr/local/lib/python3.6/dist-packages (from spacy) (50.3.2)\n",
            "Requirement already satisfied: plac<1.2.0,>=0.9.6 in /usr/local/lib/python3.6/dist-packages (from spacy) (1.1.3)\n",
            "Requirement already satisfied: wasabi<1.1.0,>=0.4.0 in /usr/local/lib/python3.6/dist-packages (from spacy) (0.8.0)\n",
            "Requirement already satisfied: thinc==7.4.0 in /usr/local/lib/python3.6/dist-packages (from spacy) (7.4.0)\n",
            "Requirement already satisfied: murmurhash<1.1.0,>=0.28.0 in /usr/local/lib/python3.6/dist-packages (from spacy) (1.0.2)\n",
            "Requirement already satisfied: idna<3,>=2.5 in /usr/local/lib/python3.6/dist-packages (from requests->torchtext==0.9.0a0+97e6d1d) (2.10)\n",
            "Requirement already satisfied: chardet<4,>=3.0.2 in /usr/local/lib/python3.6/dist-packages (from requests->torchtext==0.9.0a0+97e6d1d) (3.0.4)\n",
            "Requirement already satisfied: certifi>=2017.4.17 in /usr/local/lib/python3.6/dist-packages (from requests->torchtext==0.9.0a0+97e6d1d) (2020.6.20)\n",
            "Requirement already satisfied: urllib3!=1.25.0,!=1.25.1,<1.26,>=1.21.1 in /usr/local/lib/python3.6/dist-packages (from requests->torchtext==0.9.0a0+97e6d1d) (1.24.3)\n",
            "Requirement already satisfied: future in /usr/local/lib/python3.6/dist-packages (from torch->torchtext==0.9.0a0+97e6d1d) (0.16.0)\n",
            "Requirement already satisfied: importlib-metadata>=0.20; python_version < \"3.8\" in /usr/local/lib/python3.6/dist-packages (from catalogue<1.1.0,>=0.0.7->spacy) (2.0.0)\n",
            "Requirement already satisfied: zipp>=0.5 in /usr/local/lib/python3.6/dist-packages (from importlib-metadata>=0.20; python_version < \"3.8\"->catalogue<1.1.0,>=0.0.7->spacy) (3.3.1)\n",
            "Building wheels for collected packages: torchtext\n",
            "  Building wheel for torchtext (setup.py) ... \u001b[?25l\u001b[?25hdone\n",
            "  Created wheel for torchtext: filename=torchtext-0.9.0a0+97e6d1d-cp36-cp36m-linux_x86_64.whl size=7204760 sha256=6ae86fc8e431bb28e3cfa57b88c5beb6207ba4db1e03414fa7ee1adad18b058a\n",
            "  Stored in directory: /tmp/pip-ephem-wheel-cache-ru7jgqym/wheels/39/42/ff/82f5ccbb0f30b25e14610376f5d0c67913fc05017dab59f8eb\n",
            "Successfully built torchtext\n",
            "Installing collected packages: torchtext\n",
            "  Found existing installation: torchtext 0.3.1\n",
            "    Uninstalling torchtext-0.3.1:\n",
            "      Successfully uninstalled torchtext-0.3.1\n",
            "Successfully installed torchtext-0.9.0a0+97e6d1d\n",
            "Requirement already satisfied: en_core_web_sm==2.2.5 from https://github.com/explosion/spacy-models/releases/download/en_core_web_sm-2.2.5/en_core_web_sm-2.2.5.tar.gz#egg=en_core_web_sm==2.2.5 in /usr/local/lib/python3.6/dist-packages (2.2.5)\n",
            "Requirement already satisfied: spacy>=2.2.2 in /usr/local/lib/python3.6/dist-packages (from en_core_web_sm==2.2.5) (2.2.4)\n",
            "Requirement already satisfied: wasabi<1.1.0,>=0.4.0 in /usr/local/lib/python3.6/dist-packages (from spacy>=2.2.2->en_core_web_sm==2.2.5) (0.8.0)\n",
            "Requirement already satisfied: tqdm<5.0.0,>=4.38.0 in /usr/local/lib/python3.6/dist-packages (from spacy>=2.2.2->en_core_web_sm==2.2.5) (4.41.1)\n",
            "Requirement already satisfied: preshed<3.1.0,>=3.0.2 in /usr/local/lib/python3.6/dist-packages (from spacy>=2.2.2->en_core_web_sm==2.2.5) (3.0.2)\n",
            "Requirement already satisfied: thinc==7.4.0 in /usr/local/lib/python3.6/dist-packages (from spacy>=2.2.2->en_core_web_sm==2.2.5) (7.4.0)\n",
            "Requirement already satisfied: cymem<2.1.0,>=2.0.2 in /usr/local/lib/python3.6/dist-packages (from spacy>=2.2.2->en_core_web_sm==2.2.5) (2.0.3)\n",
            "Requirement already satisfied: numpy>=1.15.0 in /usr/local/lib/python3.6/dist-packages (from spacy>=2.2.2->en_core_web_sm==2.2.5) (1.18.5)\n",
            "Requirement already satisfied: blis<0.5.0,>=0.4.0 in /usr/local/lib/python3.6/dist-packages (from spacy>=2.2.2->en_core_web_sm==2.2.5) (0.4.1)\n",
            "Requirement already satisfied: murmurhash<1.1.0,>=0.28.0 in /usr/local/lib/python3.6/dist-packages (from spacy>=2.2.2->en_core_web_sm==2.2.5) (1.0.2)\n",
            "Requirement already satisfied: requests<3.0.0,>=2.13.0 in /usr/local/lib/python3.6/dist-packages (from spacy>=2.2.2->en_core_web_sm==2.2.5) (2.23.0)\n",
            "Requirement already satisfied: plac<1.2.0,>=0.9.6 in /usr/local/lib/python3.6/dist-packages (from spacy>=2.2.2->en_core_web_sm==2.2.5) (1.1.3)\n",
            "Requirement already satisfied: catalogue<1.1.0,>=0.0.7 in /usr/local/lib/python3.6/dist-packages (from spacy>=2.2.2->en_core_web_sm==2.2.5) (1.0.0)\n",
            "Requirement already satisfied: setuptools in /usr/local/lib/python3.6/dist-packages (from spacy>=2.2.2->en_core_web_sm==2.2.5) (50.3.2)\n",
            "Requirement already satisfied: srsly<1.1.0,>=1.0.2 in /usr/local/lib/python3.6/dist-packages (from spacy>=2.2.2->en_core_web_sm==2.2.5) (1.0.2)\n",
            "Requirement already satisfied: idna<3,>=2.5 in /usr/local/lib/python3.6/dist-packages (from requests<3.0.0,>=2.13.0->spacy>=2.2.2->en_core_web_sm==2.2.5) (2.10)\n",
            "Requirement already satisfied: chardet<4,>=3.0.2 in /usr/local/lib/python3.6/dist-packages (from requests<3.0.0,>=2.13.0->spacy>=2.2.2->en_core_web_sm==2.2.5) (3.0.4)\n",
            "Requirement already satisfied: urllib3!=1.25.0,!=1.25.1,<1.26,>=1.21.1 in /usr/local/lib/python3.6/dist-packages (from requests<3.0.0,>=2.13.0->spacy>=2.2.2->en_core_web_sm==2.2.5) (1.24.3)\n",
            "Requirement already satisfied: certifi>=2017.4.17 in /usr/local/lib/python3.6/dist-packages (from requests<3.0.0,>=2.13.0->spacy>=2.2.2->en_core_web_sm==2.2.5) (2020.6.20)\n",
            "Requirement already satisfied: importlib-metadata>=0.20; python_version < \"3.8\" in /usr/local/lib/python3.6/dist-packages (from catalogue<1.1.0,>=0.0.7->spacy>=2.2.2->en_core_web_sm==2.2.5) (2.0.0)\n",
            "Requirement already satisfied: zipp>=0.5 in /usr/local/lib/python3.6/dist-packages (from importlib-metadata>=0.20; python_version < \"3.8\"->catalogue<1.1.0,>=0.0.7->spacy>=2.2.2->en_core_web_sm==2.2.5) (3.3.1)\n",
            "\u001b[38;5;2m✔ Download and installation successful\u001b[0m\n",
            "You can now load the model via spacy.load('en_core_web_sm')\n",
            "\u001b[38;5;2m✔ Linking successful\u001b[0m\n",
            "/usr/local/lib/python3.6/dist-packages/en_core_web_sm -->\n",
            "/usr/local/lib/python3.6/dist-packages/spacy/data/en\n",
            "You can now load the model via spacy.load('en')\n",
            "Collecting de_core_news_sm==2.2.5\n",
            "\u001b[?25l  Downloading https://github.com/explosion/spacy-models/releases/download/de_core_news_sm-2.2.5/de_core_news_sm-2.2.5.tar.gz (14.9MB)\n",
            "\u001b[K     |████████████████████████████████| 14.9MB 877kB/s \n",
            "\u001b[?25hRequirement already satisfied: spacy>=2.2.2 in /usr/local/lib/python3.6/dist-packages (from de_core_news_sm==2.2.5) (2.2.4)\n",
            "Requirement already satisfied: srsly<1.1.0,>=1.0.2 in /usr/local/lib/python3.6/dist-packages (from spacy>=2.2.2->de_core_news_sm==2.2.5) (1.0.2)\n",
            "Requirement already satisfied: blis<0.5.0,>=0.4.0 in /usr/local/lib/python3.6/dist-packages (from spacy>=2.2.2->de_core_news_sm==2.2.5) (0.4.1)\n",
            "Requirement already satisfied: tqdm<5.0.0,>=4.38.0 in /usr/local/lib/python3.6/dist-packages (from spacy>=2.2.2->de_core_news_sm==2.2.5) (4.41.1)\n",
            "Requirement already satisfied: cymem<2.1.0,>=2.0.2 in /usr/local/lib/python3.6/dist-packages (from spacy>=2.2.2->de_core_news_sm==2.2.5) (2.0.3)\n",
            "Requirement already satisfied: requests<3.0.0,>=2.13.0 in /usr/local/lib/python3.6/dist-packages (from spacy>=2.2.2->de_core_news_sm==2.2.5) (2.23.0)\n",
            "Requirement already satisfied: thinc==7.4.0 in /usr/local/lib/python3.6/dist-packages (from spacy>=2.2.2->de_core_news_sm==2.2.5) (7.4.0)\n",
            "Requirement already satisfied: setuptools in /usr/local/lib/python3.6/dist-packages (from spacy>=2.2.2->de_core_news_sm==2.2.5) (50.3.2)\n",
            "Requirement already satisfied: catalogue<1.1.0,>=0.0.7 in /usr/local/lib/python3.6/dist-packages (from spacy>=2.2.2->de_core_news_sm==2.2.5) (1.0.0)\n",
            "Requirement already satisfied: numpy>=1.15.0 in /usr/local/lib/python3.6/dist-packages (from spacy>=2.2.2->de_core_news_sm==2.2.5) (1.18.5)\n",
            "Requirement already satisfied: preshed<3.1.0,>=3.0.2 in /usr/local/lib/python3.6/dist-packages (from spacy>=2.2.2->de_core_news_sm==2.2.5) (3.0.2)\n",
            "Requirement already satisfied: murmurhash<1.1.0,>=0.28.0 in /usr/local/lib/python3.6/dist-packages (from spacy>=2.2.2->de_core_news_sm==2.2.5) (1.0.2)\n",
            "Requirement already satisfied: wasabi<1.1.0,>=0.4.0 in /usr/local/lib/python3.6/dist-packages (from spacy>=2.2.2->de_core_news_sm==2.2.5) (0.8.0)\n",
            "Requirement already satisfied: plac<1.2.0,>=0.9.6 in /usr/local/lib/python3.6/dist-packages (from spacy>=2.2.2->de_core_news_sm==2.2.5) (1.1.3)\n",
            "Requirement already satisfied: idna<3,>=2.5 in /usr/local/lib/python3.6/dist-packages (from requests<3.0.0,>=2.13.0->spacy>=2.2.2->de_core_news_sm==2.2.5) (2.10)\n",
            "Requirement already satisfied: urllib3!=1.25.0,!=1.25.1,<1.26,>=1.21.1 in /usr/local/lib/python3.6/dist-packages (from requests<3.0.0,>=2.13.0->spacy>=2.2.2->de_core_news_sm==2.2.5) (1.24.3)\n",
            "Requirement already satisfied: chardet<4,>=3.0.2 in /usr/local/lib/python3.6/dist-packages (from requests<3.0.0,>=2.13.0->spacy>=2.2.2->de_core_news_sm==2.2.5) (3.0.4)\n",
            "Requirement already satisfied: certifi>=2017.4.17 in /usr/local/lib/python3.6/dist-packages (from requests<3.0.0,>=2.13.0->spacy>=2.2.2->de_core_news_sm==2.2.5) (2020.6.20)\n",
            "Requirement already satisfied: importlib-metadata>=0.20; python_version < \"3.8\" in /usr/local/lib/python3.6/dist-packages (from catalogue<1.1.0,>=0.0.7->spacy>=2.2.2->de_core_news_sm==2.2.5) (2.0.0)\n",
            "Requirement already satisfied: zipp>=0.5 in /usr/local/lib/python3.6/dist-packages (from importlib-metadata>=0.20; python_version < \"3.8\"->catalogue<1.1.0,>=0.0.7->spacy>=2.2.2->de_core_news_sm==2.2.5) (3.3.1)\n",
            "Building wheels for collected packages: de-core-news-sm\n",
            "  Building wheel for de-core-news-sm (setup.py) ... \u001b[?25l\u001b[?25hdone\n",
            "  Created wheel for de-core-news-sm: filename=de_core_news_sm-2.2.5-cp36-none-any.whl size=14907056 sha256=b1783718502b5f8d23cb1b615521f954bfb913be447763d266c5abe01a58a0a9\n",
            "  Stored in directory: /tmp/pip-ephem-wheel-cache-z4ae1rs2/wheels/ba/3f/ed/d4aa8e45e7191b7f32db4bfad565e7da1edbf05c916ca7a1ca\n",
            "Successfully built de-core-news-sm\n",
            "Installing collected packages: de-core-news-sm\n",
            "Successfully installed de-core-news-sm-2.2.5\n",
            "\u001b[38;5;2m✔ Download and installation successful\u001b[0m\n",
            "You can now load the model via spacy.load('de_core_news_sm')\n",
            "\u001b[38;5;2m✔ Linking successful\u001b[0m\n",
            "/usr/local/lib/python3.6/dist-packages/de_core_news_sm -->\n",
            "/usr/local/lib/python3.6/dist-packages/spacy/data/de\n",
            "You can now load the model via spacy.load('de')\n"
          ],
          "name": "stdout"
        }
      ]
    },
    {
      "cell_type": "markdown",
      "metadata": {
        "id": "qLRWIq4lyYg5"
      },
      "source": [
        "## Data Loading\n",
        "\n",
        "We will load the dataset using torchtext and spacy for tokenization.\n",
        "\n",
        "This cell might take a while to run the first time, as it will download and tokenize the IWSLT data.\n",
        "\n",
        "For speed we only include short sentences, and we include a word in the vocabulary only if it occurs at least 5 times. In this case we also lowercase the data.\n",
        "\n",
        "If you have **issues** with torch text in the cell below (e.g. an `ascii` error), try running `export LC_ALL=\"en_US.UTF-8\"` before you start `jupyter notebook`."
      ]
    },
    {
      "cell_type": "code",
      "metadata": {
        "id": "VlYEyMneyYg6",
        "outputId": "7b29e691-874a-4aec-f7ca-7eaede3f351f",
        "colab": {
          "base_uri": "https://localhost:8080/"
        }
      },
      "source": [
        "# For data loading.\n",
        "from torchtext import data, datasets\n",
        "\n",
        "if True:\n",
        "    import spacy\n",
        "    spacy_de = spacy.load('de')\n",
        "    spacy_en = spacy.load('en')\n",
        "\n",
        "    def tokenize_de(text):\n",
        "        return [tok.text for tok in spacy_de.tokenizer(text)]\n",
        "\n",
        "    def tokenize_en(text):\n",
        "        return [tok.text for tok in spacy_en.tokenizer(text)]\n",
        "\n",
        "    UNK_TOKEN = \"<unk>\"\n",
        "    PAD_TOKEN = \"<pad>\"    \n",
        "    SOS_TOKEN = \"<s>\"\n",
        "    EOS_TOKEN = \"</s>\"\n",
        "    LOWER = True\n",
        "    \n",
        "    # we include lengths to provide to the RNNs\n",
        "    SRC = data.Field(tokenize=tokenize_de, \n",
        "                     batch_first=True, lower=LOWER, include_lengths=True,\n",
        "                     unk_token=UNK_TOKEN, pad_token=PAD_TOKEN, init_token=None, eos_token=EOS_TOKEN)\n",
        "    TRG = data.Field(tokenize=tokenize_en, \n",
        "                     batch_first=True, lower=LOWER, include_lengths=True,\n",
        "                     unk_token=UNK_TOKEN, pad_token=PAD_TOKEN, init_token=SOS_TOKEN, eos_token=EOS_TOKEN)\n",
        "\n",
        "    MAX_LEN = 25  # NOTE: we filter out a lot of sentences for speed\n",
        "    train_data, valid_data, test_data = datasets.IWSLT.splits(\n",
        "        exts=('.de', '.en'), fields=(SRC, TRG), \n",
        "        filter_pred=lambda x: len(vars(x)['src']) <= MAX_LEN and \n",
        "            len(vars(x)['trg']) <= MAX_LEN)\n",
        "    MIN_FREQ = 5  # NOTE: we limit the vocabulary to frequent words for speed\n",
        "    SRC.build_vocab(train_data.src, min_freq=MIN_FREQ)\n",
        "    TRG.build_vocab(train_data.trg, min_freq=MIN_FREQ)\n",
        "    \n",
        "    PAD_INDEX = TRG.vocab.stoi[PAD_TOKEN]\n"
      ],
      "execution_count": 18,
      "outputs": [
        {
          "output_type": "stream",
          "text": [
            "/usr/local/lib/python3.6/dist-packages/torchtext/data/field.py:150: UserWarning: Field class will be retired soon and moved to torchtext.legacy. Please see the most recent release notes for further information.\n",
            "  warnings.warn('{} class will be retired soon and moved to torchtext.legacy. Please see the most recent release notes for further information.'.format(self.__class__.__name__), UserWarning)\n"
          ],
          "name": "stderr"
        },
        {
          "output_type": "stream",
          "text": [
            "downloading de-en.tgz\n"
          ],
          "name": "stdout"
        },
        {
          "output_type": "stream",
          "text": [
            "de-en.tgz: 100%|██████████| 24.2M/24.2M [00:17<00:00, 1.35MB/s]\n"
          ],
          "name": "stderr"
        },
        {
          "output_type": "stream",
          "text": [
            ".data/iwslt/de-en/IWSLT16.TED.tst2010.de-en.en.xml\n",
            ".data/iwslt/de-en/IWSLT16.TED.tst2014.de-en.de.xml\n",
            ".data/iwslt/de-en/IWSLT16.TED.tst2011.de-en.en.xml\n",
            ".data/iwslt/de-en/IWSLT16.TEDX.dev2012.de-en.de.xml\n",
            ".data/iwslt/de-en/IWSLT16.TED.tst2010.de-en.de.xml\n",
            ".data/iwslt/de-en/IWSLT16.TED.tst2014.de-en.en.xml\n",
            ".data/iwslt/de-en/IWSLT16.TEDX.tst2014.de-en.de.xml\n",
            ".data/iwslt/de-en/IWSLT16.TEDX.tst2013.de-en.en.xml\n",
            ".data/iwslt/de-en/IWSLT16.TED.tst2011.de-en.de.xml\n",
            ".data/iwslt/de-en/IWSLT16.TED.dev2010.de-en.en.xml\n",
            ".data/iwslt/de-en/IWSLT16.TED.tst2012.de-en.de.xml\n",
            ".data/iwslt/de-en/IWSLT16.TED.tst2013.de-en.en.xml\n",
            ".data/iwslt/de-en/IWSLT16.TEDX.tst2014.de-en.en.xml\n",
            ".data/iwslt/de-en/IWSLT16.TED.dev2010.de-en.de.xml\n",
            ".data/iwslt/de-en/IWSLT16.TED.tst2013.de-en.de.xml\n",
            ".data/iwslt/de-en/IWSLT16.TEDX.dev2012.de-en.en.xml\n",
            ".data/iwslt/de-en/IWSLT16.TED.tst2012.de-en.en.xml\n",
            ".data/iwslt/de-en/IWSLT16.TEDX.tst2013.de-en.de.xml\n",
            ".data/iwslt/de-en/train.tags.de-en.en\n",
            ".data/iwslt/de-en/train.tags.de-en.de\n"
          ],
          "name": "stdout"
        },
        {
          "output_type": "stream",
          "text": [
            "/usr/local/lib/python3.6/dist-packages/torchtext/data/example.py:78: UserWarning: Example class will be retired soon and moved to torchtext.legacy. Please see the most recent release notes for further information.\n",
            "  warnings.warn('Example class will be retired soon and moved to torchtext.legacy. Please see the most recent release notes for further information.', UserWarning)\n"
          ],
          "name": "stderr"
        }
      ]
    },
    {
      "cell_type": "markdown",
      "metadata": {
        "id": "3SOvDI-vyYhB"
      },
      "source": [
        "### Let's look at the data\n",
        "\n",
        "It never hurts to look at your data and some statistics."
      ]
    },
    {
      "cell_type": "code",
      "metadata": {
        "id": "rZBHKAThyYhC",
        "outputId": "e741c590-e1d0-44df-f5e5-cd026710c05d",
        "colab": {
          "base_uri": "https://localhost:8080/"
        }
      },
      "source": [
        "def print_data_info(train_data, valid_data, test_data, src_field, trg_field):\n",
        "    \"\"\" This prints some useful stuff about our data sets. \"\"\"\n",
        "\n",
        "    print(\"Data set sizes (number of sentence pairs):\")\n",
        "    print('train', len(train_data))\n",
        "    print('valid', len(valid_data))\n",
        "    print('test', len(test_data), \"\\n\")\n",
        "\n",
        "    print(\"First training example:\")\n",
        "    print(\"src:\", \" \".join(vars(train_data[0])['src']))\n",
        "    print(\"trg:\", \" \".join(vars(train_data[0])['trg']), \"\\n\")\n",
        "\n",
        "    print(\"Most common words (src):\")\n",
        "    print(\"\\n\".join([\"%10s %10d\" % x for x in src_field.vocab.freqs.most_common(10)]), \"\\n\")\n",
        "    print(\"Most common words (trg):\")\n",
        "    print(\"\\n\".join([\"%10s %10d\" % x for x in trg_field.vocab.freqs.most_common(10)]), \"\\n\")\n",
        "\n",
        "    print(\"First 10 words (src):\")\n",
        "    print(\"\\n\".join(\n",
        "        '%02d %s' % (i, t) for i, t in enumerate(src_field.vocab.itos[:10])), \"\\n\")\n",
        "    print(\"First 10 words (trg):\")\n",
        "    print(\"\\n\".join(\n",
        "        '%02d %s' % (i, t) for i, t in enumerate(trg_field.vocab.itos[:10])), \"\\n\")\n",
        "\n",
        "    print(\"Number of German words (types):\", len(src_field.vocab))\n",
        "    print(\"Number of English words (types):\", len(trg_field.vocab), \"\\n\")\n",
        "    \n",
        "    \n",
        "print_data_info(train_data, valid_data, test_data, SRC, TRG)"
      ],
      "execution_count": 19,
      "outputs": [
        {
          "output_type": "stream",
          "text": [
            "Data set sizes (number of sentence pairs):\n",
            "train 143115\n",
            "valid 690\n",
            "test 963 \n",
            "\n",
            "First training example:\n",
            "src: david gallo : das ist bill lange . ich bin dave gallo .\n",
            "trg: david gallo : this is bill lange . i 'm dave gallo . \n",
            "\n",
            "Most common words (src):\n",
            "         .     138329\n",
            "         ,     105944\n",
            "       und      41843\n",
            "       die      40808\n",
            "       das      33324\n",
            "       sie      33034\n",
            "       ich      31150\n",
            "       ist      31037\n",
            "        es      27449\n",
            "       wir      25817 \n",
            "\n",
            "Most common words (trg):\n",
            "         .     137259\n",
            "         ,      91615\n",
            "       the      73343\n",
            "       and      50276\n",
            "        to      42799\n",
            "         a      39572\n",
            "        of      39496\n",
            "         i      33521\n",
            "        it      32920\n",
            "      that      32640 \n",
            "\n",
            "First 10 words (src):\n",
            "00 <unk>\n",
            "01 <pad>\n",
            "02 </s>\n",
            "03 .\n",
            "04 ,\n",
            "05 und\n",
            "06 die\n",
            "07 das\n",
            "08 sie\n",
            "09 ich \n",
            "\n",
            "First 10 words (trg):\n",
            "00 <unk>\n",
            "01 <pad>\n",
            "02 <s>\n",
            "03 </s>\n",
            "04 .\n",
            "05 ,\n",
            "06 the\n",
            "07 and\n",
            "08 to\n",
            "09 a \n",
            "\n",
            "Number of German words (types): 15765\n",
            "Number of English words (types): 13002 \n",
            "\n"
          ],
          "name": "stdout"
        }
      ]
    },
    {
      "cell_type": "markdown",
      "metadata": {
        "id": "t4fw4mRJyYhH"
      },
      "source": [
        "## Iterators\n",
        "Batching matters a ton for speed. We will use torch text's BucketIterator here to get batches containing sentences of (almost) the same length.\n",
        "\n",
        "#### Note on sorting batches for RNNs in PyTorch\n",
        "\n",
        "For effiency reasons, PyTorch RNNs require that batches have been sorted by length, with the longest sentence in the batch first. For training, we simply sort each batch. \n",
        "For validation, we would run into trouble if we want to compare our translations with some external file that was not sorted. Therefore we simply set the validation batch size to 1, so that we can keep it in the original order."
      ]
    },
    {
      "cell_type": "code",
      "metadata": {
        "id": "JV7Z5ActyYhI",
        "outputId": "9fcc5c15-d480-4ce8-aee8-2cb0f95265a3",
        "colab": {
          "base_uri": "https://localhost:8080/"
        }
      },
      "source": [
        "train_iter = data.BucketIterator(train_data, batch_size=64, train=True, \n",
        "                                 sort_within_batch=True, \n",
        "                                 sort_key=lambda x: (len(x.src), len(x.trg)), repeat=False,\n",
        "                                 device=DEVICE)\n",
        "valid_iter = data.Iterator(valid_data, batch_size=1, train=False, sort=False, repeat=False, \n",
        "                           device=DEVICE)\n",
        "\n",
        "\n",
        "def rebatch(pad_idx, batch):\n",
        "    \"\"\"Wrap torchtext batch into our own Batch class for pre-processing\"\"\"\n",
        "    return Batch(batch.src, batch.trg, pad_idx)"
      ],
      "execution_count": 20,
      "outputs": [
        {
          "output_type": "stream",
          "text": [
            "/usr/local/lib/python3.6/dist-packages/torchtext/data/iterator.py:48: UserWarning: BucketIterator class will be retired soon and moved to torchtext.legacy. Please see the most recent release notes for further information.\n",
            "  warnings.warn('{} class will be retired soon and moved to torchtext.legacy. Please see the most recent release notes for further information.'.format(self.__class__.__name__), UserWarning)\n",
            "/usr/local/lib/python3.6/dist-packages/torchtext/data/iterator.py:48: UserWarning: Iterator class will be retired soon and moved to torchtext.legacy. Please see the most recent release notes for further information.\n",
            "  warnings.warn('{} class will be retired soon and moved to torchtext.legacy. Please see the most recent release notes for further information.'.format(self.__class__.__name__), UserWarning)\n"
          ],
          "name": "stderr"
        }
      ]
    },
    {
      "cell_type": "markdown",
      "metadata": {
        "id": "sPeroIyWyYhN"
      },
      "source": [
        "## Training the System\n",
        "\n",
        "Now we train the model. \n",
        "\n",
        "On a Titan X GPU, this runs at ~18,000 tokens per second with a batch size of 64."
      ]
    },
    {
      "cell_type": "code",
      "metadata": {
        "id": "49fZiy1iyYhO"
      },
      "source": [
        "def train(model, num_epochs=10, lr=0.0003, print_every=100):\n",
        "    \"\"\"Train a model on IWSLT\"\"\"\n",
        "    \n",
        "    if USE_CUDA:\n",
        "        model.cuda()\n",
        "\n",
        "    # optionally add label smoothing; see the Annotated Transformer\n",
        "    criterion = nn.NLLLoss(reduction=\"sum\", ignore_index=PAD_INDEX)\n",
        "    optim = torch.optim.Adam(model.parameters(), lr=lr)\n",
        "    \n",
        "    dev_perplexities = []\n",
        "\n",
        "    for epoch in range(num_epochs):\n",
        "      \n",
        "        print(\"Epoch\", epoch)\n",
        "        model.train()\n",
        "        train_perplexity = run_epoch((rebatch(PAD_INDEX, b) for b in train_iter), \n",
        "                                     model,\n",
        "                                     SimpleLossCompute(model.generator, criterion, optim),\n",
        "                                     print_every=print_every)\n",
        "        \n",
        "        model.eval()\n",
        "        with torch.no_grad():\n",
        "            print_examples((rebatch(PAD_INDEX, x) for x in valid_iter), \n",
        "                           model, n=3, src_vocab=SRC.vocab, trg_vocab=TRG.vocab)        \n",
        "\n",
        "            dev_perplexity = run_epoch((rebatch(PAD_INDEX, b) for b in valid_iter), \n",
        "                                       model, \n",
        "                                       SimpleLossCompute(model.generator, criterion, None))\n",
        "            print(\"Validation perplexity: %f\" % dev_perplexity)\n",
        "            dev_perplexities.append(dev_perplexity)\n",
        "        \n",
        "    return dev_perplexities\n",
        "        "
      ],
      "execution_count": 21,
      "outputs": []
    },
    {
      "cell_type": "code",
      "metadata": {
        "scrolled": false,
        "id": "q5hgqMgzyYhU",
        "outputId": "0502a547-0f72-4cae-8e5d-5f5ec7360e95",
        "colab": {
          "base_uri": "https://localhost:8080/"
        }
      },
      "source": [
        "model = make_model(len(SRC.vocab), len(TRG.vocab),\n",
        "                   emb_size=256, hidden_size=256,\n",
        "                   num_layers=1, dropout=0.2)\n",
        "dev_perplexities = train(model, print_every=100)"
      ],
      "execution_count": 22,
      "outputs": [
        {
          "output_type": "stream",
          "text": [
            "/usr/local/lib/python3.6/dist-packages/torch/nn/modules/rnn.py:50: UserWarning: dropout option adds dropout after all but last recurrent layer, so non-zero dropout expects num_layers greater than 1, but got dropout=0.2 and num_layers=1\n",
            "  \"num_layers={}\".format(dropout, num_layers))\n"
          ],
          "name": "stderr"
        },
        {
          "output_type": "stream",
          "text": [
            "Epoch 0\n"
          ],
          "name": "stdout"
        },
        {
          "output_type": "stream",
          "text": [
            "/usr/local/lib/python3.6/dist-packages/torchtext/data/batch.py:23: UserWarning: Batch class will be retired soon and moved to torchtext.legacy. Please see the most recent release notes for further information.\n",
            "  warnings.warn('{} class will be retired soon and moved to torchtext.legacy. Please see the most recent release notes for further information.'.format(self.__class__.__name__), UserWarning)\n"
          ],
          "name": "stderr"
        },
        {
          "output_type": "stream",
          "text": [
            "Epoch Step: 100 Loss: 70.112305 Tokens per Sec: 25060.161875\n",
            "Epoch Step: 200 Loss: 41.264889 Tokens per Sec: 25984.557866\n",
            "Epoch Step: 300 Loss: 42.190342 Tokens per Sec: 26096.067416\n",
            "Epoch Step: 400 Loss: 47.460754 Tokens per Sec: 25925.760598\n",
            "Epoch Step: 500 Loss: 84.781990 Tokens per Sec: 26104.144367\n",
            "Epoch Step: 600 Loss: 58.289665 Tokens per Sec: 25938.465204\n",
            "Epoch Step: 700 Loss: 76.603668 Tokens per Sec: 26101.730312\n",
            "Epoch Step: 800 Loss: 106.676140 Tokens per Sec: 26107.581155\n",
            "Epoch Step: 900 Loss: 60.315262 Tokens per Sec: 26546.786154\n",
            "Epoch Step: 1000 Loss: 101.887619 Tokens per Sec: 26506.394303\n",
            "Epoch Step: 1100 Loss: 74.387787 Tokens per Sec: 26773.418473\n",
            "Epoch Step: 1200 Loss: 70.069038 Tokens per Sec: 26177.490397\n",
            "Epoch Step: 1300 Loss: 33.168324 Tokens per Sec: 26265.782453\n",
            "Epoch Step: 1400 Loss: 83.956322 Tokens per Sec: 26235.832411\n",
            "Epoch Step: 1500 Loss: 41.395081 Tokens per Sec: 26329.132980\n",
            "Epoch Step: 1600 Loss: 38.885620 Tokens per Sec: 26496.541264\n",
            "Epoch Step: 1700 Loss: 97.956871 Tokens per Sec: 26375.903665\n",
            "Epoch Step: 1800 Loss: 41.519642 Tokens per Sec: 26037.363456\n",
            "Epoch Step: 1900 Loss: 56.951401 Tokens per Sec: 26366.235738\n",
            "Epoch Step: 2000 Loss: 44.953011 Tokens per Sec: 26197.518105\n",
            "Epoch Step: 2100 Loss: 72.577538 Tokens per Sec: 25995.175475\n",
            "Epoch Step: 2200 Loss: 28.278297 Tokens per Sec: 25649.642969\n",
            "\n",
            "Example #1\n",
            "Src :  als ich 11 jahre alt war , wurde ich eines morgens von den <unk> heller freude geweckt .\n",
            "Trg :  when i was 11 , i remember waking up one morning to the sound of joy in my house .\n",
            "Pred:  when i was years old , i was a <unk> of <unk> <unk> .\n",
            "\n",
            "Example #2\n",
            "Src :  mein vater hörte sich auf seinem kleinen , grauen radio die <unk> der bbc an .\n",
            "Trg :  my father was listening to bbc news on his small , gray radio .\n",
            "Pred:  my father is to be able to get a little bit of the <unk> .\n",
            "\n",
            "Example #3\n",
            "Src :  er sah sehr glücklich aus , was damals ziemlich ungewöhnlich war , da ihn die nachrichten meistens <unk> .\n",
            "Trg :  there was a big smile on his face which was unusual then , because the news mostly depressed him .\n",
            "Pred:  he was very much , what was very much , there was a <unk> , there was the <unk> .\n",
            "\n",
            "Validation perplexity: 31.248654\n",
            "Epoch 1\n",
            "Epoch Step: 100 Loss: 85.554878 Tokens per Sec: 24921.598038\n",
            "Epoch Step: 200 Loss: 7.094929 Tokens per Sec: 25990.800682\n",
            "Epoch Step: 300 Loss: 28.195299 Tokens per Sec: 25938.147122\n",
            "Epoch Step: 400 Loss: 66.645615 Tokens per Sec: 26850.210219\n",
            "Epoch Step: 500 Loss: 23.542320 Tokens per Sec: 26563.410691\n",
            "Epoch Step: 600 Loss: 44.994858 Tokens per Sec: 26368.564350\n",
            "Epoch Step: 700 Loss: 75.453575 Tokens per Sec: 26277.371118\n",
            "Epoch Step: 800 Loss: 49.815529 Tokens per Sec: 26857.359100\n",
            "Epoch Step: 900 Loss: 60.700607 Tokens per Sec: 26271.560198\n",
            "Epoch Step: 1000 Loss: 72.581329 Tokens per Sec: 26229.906206\n",
            "Epoch Step: 1100 Loss: 75.581726 Tokens per Sec: 26472.417385\n",
            "Epoch Step: 1200 Loss: 43.255077 Tokens per Sec: 25674.889561\n",
            "Epoch Step: 1300 Loss: 34.929462 Tokens per Sec: 26258.957920\n",
            "Epoch Step: 1400 Loss: 31.145327 Tokens per Sec: 26369.323602\n",
            "Epoch Step: 1500 Loss: 41.283569 Tokens per Sec: 25995.803800\n",
            "Epoch Step: 1600 Loss: 25.672264 Tokens per Sec: 26461.854419\n",
            "Epoch Step: 1700 Loss: 12.723253 Tokens per Sec: 26356.083271\n",
            "Epoch Step: 1800 Loss: 40.044132 Tokens per Sec: 26287.733944\n",
            "Epoch Step: 1900 Loss: 62.201294 Tokens per Sec: 26491.646280\n",
            "Epoch Step: 2000 Loss: 57.682724 Tokens per Sec: 26332.046924\n",
            "Epoch Step: 2100 Loss: 40.151714 Tokens per Sec: 26071.732726\n",
            "Epoch Step: 2200 Loss: 67.066406 Tokens per Sec: 26096.852749\n",
            "\n",
            "Example #1\n",
            "Src :  als ich 11 jahre alt war , wurde ich eines morgens von den <unk> heller freude geweckt .\n",
            "Trg :  when i was 11 , i remember waking up one morning to the sound of joy in my house .\n",
            "Pred:  when i was 11 years old , i was a <unk> of the <unk> .\n",
            "\n",
            "Example #2\n",
            "Src :  mein vater hörte sich auf seinem kleinen , grauen radio die <unk> der bbc an .\n",
            "Trg :  my father was listening to bbc news on his small , gray radio .\n",
            "Pred:  my father was on his little <unk> , the <unk> of the <unk> .\n",
            "\n",
            "Example #3\n",
            "Src :  er sah sehr glücklich aus , was damals ziemlich ungewöhnlich war , da ihn die nachrichten meistens <unk> .\n",
            "Trg :  there was a big smile on his face which was unusual then , because the news mostly depressed him .\n",
            "Pred:  he saw very happy , which was very much , which was the most exciting , there was the news .\n",
            "\n",
            "Validation perplexity: 19.900805\n",
            "Epoch 2\n",
            "Epoch Step: 100 Loss: 39.360649 Tokens per Sec: 24794.857235\n",
            "Epoch Step: 200 Loss: 30.928646 Tokens per Sec: 26100.946903\n",
            "Epoch Step: 300 Loss: 35.029358 Tokens per Sec: 26687.944918\n",
            "Epoch Step: 400 Loss: 60.316616 Tokens per Sec: 26145.331497\n",
            "Epoch Step: 500 Loss: 58.824417 Tokens per Sec: 26219.279224\n",
            "Epoch Step: 600 Loss: 39.062447 Tokens per Sec: 25853.041569\n",
            "Epoch Step: 700 Loss: 50.978058 Tokens per Sec: 25986.581029\n",
            "Epoch Step: 800 Loss: 41.590965 Tokens per Sec: 26459.517482\n",
            "Epoch Step: 900 Loss: 52.738159 Tokens per Sec: 26111.128759\n",
            "Epoch Step: 1000 Loss: 60.625725 Tokens per Sec: 26755.429812\n",
            "Epoch Step: 1100 Loss: 16.076918 Tokens per Sec: 26362.414925\n",
            "Epoch Step: 1200 Loss: 30.360916 Tokens per Sec: 26474.617836\n",
            "Epoch Step: 1300 Loss: 19.812529 Tokens per Sec: 26483.837531\n",
            "Epoch Step: 1400 Loss: 71.525421 Tokens per Sec: 26656.322589\n",
            "Epoch Step: 1500 Loss: 28.985792 Tokens per Sec: 26328.440527\n",
            "Epoch Step: 1600 Loss: 37.191662 Tokens per Sec: 26606.300978\n",
            "Epoch Step: 1700 Loss: 26.931232 Tokens per Sec: 26633.267332\n",
            "Epoch Step: 1800 Loss: 62.417053 Tokens per Sec: 26490.493754\n",
            "Epoch Step: 1900 Loss: 78.007912 Tokens per Sec: 26405.466792\n",
            "Epoch Step: 2000 Loss: 65.284752 Tokens per Sec: 26775.461949\n",
            "Epoch Step: 2100 Loss: 74.201736 Tokens per Sec: 26601.882581\n",
            "Epoch Step: 2200 Loss: 41.871628 Tokens per Sec: 26410.636756\n",
            "\n",
            "Example #1\n",
            "Src :  als ich 11 jahre alt war , wurde ich eines morgens von den <unk> heller freude geweckt .\n",
            "Trg :  when i was 11 , i remember waking up one morning to the sound of joy in my house .\n",
            "Pred:  when i was 11 years old , i was a <unk> of <unk> .\n",
            "\n",
            "Example #2\n",
            "Src :  mein vater hörte sich auf seinem kleinen , grauen radio die <unk> der bbc an .\n",
            "Trg :  my father was listening to bbc news on his small , gray radio .\n",
            "Pred:  my father was on his little bit , the radio <unk> of the bbc .\n",
            "\n",
            "Example #3\n",
            "Src :  er sah sehr glücklich aus , was damals ziemlich ungewöhnlich war , da ihn die nachrichten meistens <unk> .\n",
            "Trg :  there was a big smile on his face which was unusual then , because the news mostly depressed him .\n",
            "Pred:  he saw very happy , which was pretty unusual , which was the news , the <unk> .\n",
            "\n",
            "Validation perplexity: 15.615469\n",
            "Epoch 3\n",
            "Epoch Step: 100 Loss: 62.230648 Tokens per Sec: 25441.156605\n",
            "Epoch Step: 200 Loss: 43.565823 Tokens per Sec: 26640.093832\n",
            "Epoch Step: 300 Loss: 67.912971 Tokens per Sec: 26544.594262\n",
            "Epoch Step: 400 Loss: 23.278484 Tokens per Sec: 26602.887315\n",
            "Epoch Step: 500 Loss: 12.867797 Tokens per Sec: 26705.012238\n",
            "Epoch Step: 600 Loss: 30.379564 Tokens per Sec: 26692.246579\n",
            "Epoch Step: 700 Loss: 35.572914 Tokens per Sec: 26549.974890\n",
            "Epoch Step: 800 Loss: 27.589344 Tokens per Sec: 26710.561832\n",
            "Epoch Step: 900 Loss: 32.299488 Tokens per Sec: 26606.551100\n",
            "Epoch Step: 1000 Loss: 45.032612 Tokens per Sec: 26418.175562\n",
            "Epoch Step: 1100 Loss: 44.334248 Tokens per Sec: 25932.883035\n",
            "Epoch Step: 1200 Loss: 43.451141 Tokens per Sec: 26449.211794\n",
            "Epoch Step: 1300 Loss: 4.584603 Tokens per Sec: 26138.858026\n",
            "Epoch Step: 1400 Loss: 31.354256 Tokens per Sec: 25928.574897\n",
            "Epoch Step: 1500 Loss: 63.382336 Tokens per Sec: 25645.352251\n",
            "Epoch Step: 1600 Loss: 7.962438 Tokens per Sec: 26715.068287\n",
            "Epoch Step: 1700 Loss: 50.921005 Tokens per Sec: 26380.370623\n",
            "Epoch Step: 1800 Loss: 56.782509 Tokens per Sec: 26853.112915\n",
            "Epoch Step: 1900 Loss: 48.666935 Tokens per Sec: 26606.659848\n",
            "Epoch Step: 2000 Loss: 40.502647 Tokens per Sec: 26901.559796\n",
            "Epoch Step: 2100 Loss: 45.181038 Tokens per Sec: 26369.532377\n",
            "Epoch Step: 2200 Loss: 54.428909 Tokens per Sec: 26290.285345\n",
            "\n",
            "Example #1\n",
            "Src :  als ich 11 jahre alt war , wurde ich eines morgens von den <unk> heller freude geweckt .\n",
            "Trg :  when i was 11 , i remember waking up one morning to the sound of joy in my house .\n",
            "Pred:  when i was 11 years old , i was one of the <unk> of the <unk> <unk> .\n",
            "\n",
            "Example #2\n",
            "Src :  mein vater hörte sich auf seinem kleinen , grauen radio die <unk> der bbc an .\n",
            "Trg :  my father was listening to bbc news on his small , gray radio .\n",
            "Pred:  my father was on his little <unk> , the radio <unk> of the bbc .\n",
            "\n",
            "Example #3\n",
            "Src :  er sah sehr glücklich aus , was damals ziemlich ungewöhnlich war , da ihn die nachrichten meistens <unk> .\n",
            "Trg :  there was a big smile on his face which was unusual then , because the news mostly depressed him .\n",
            "Pred:  he saw very happy , which was pretty unusual , because it was the news of the <unk> .\n",
            "\n",
            "Validation perplexity: 13.352982\n",
            "Epoch 4\n",
            "Epoch Step: 100 Loss: 24.890486 Tokens per Sec: 25574.454558\n",
            "Epoch Step: 200 Loss: 21.752869 Tokens per Sec: 26703.161322\n",
            "Epoch Step: 300 Loss: 42.604969 Tokens per Sec: 26488.976970\n",
            "Epoch Step: 400 Loss: 17.055267 Tokens per Sec: 26115.631670\n",
            "Epoch Step: 500 Loss: 20.855770 Tokens per Sec: 26852.874695\n",
            "Epoch Step: 600 Loss: 40.638088 Tokens per Sec: 26117.612916\n",
            "Epoch Step: 700 Loss: 25.735783 Tokens per Sec: 26542.678347\n",
            "Epoch Step: 800 Loss: 54.051136 Tokens per Sec: 25924.133619\n",
            "Epoch Step: 900 Loss: 48.570580 Tokens per Sec: 26491.503294\n",
            "Epoch Step: 1000 Loss: 16.555372 Tokens per Sec: 27001.461000\n",
            "Epoch Step: 1100 Loss: 60.876984 Tokens per Sec: 26830.088445\n",
            "Epoch Step: 1200 Loss: 63.431168 Tokens per Sec: 26377.078123\n",
            "Epoch Step: 1300 Loss: 15.337017 Tokens per Sec: 26082.877742\n",
            "Epoch Step: 1400 Loss: 7.209841 Tokens per Sec: 26897.182946\n",
            "Epoch Step: 1500 Loss: 56.282707 Tokens per Sec: 26425.677910\n",
            "Epoch Step: 1600 Loss: 25.386030 Tokens per Sec: 26652.284922\n",
            "Epoch Step: 1700 Loss: 59.435993 Tokens per Sec: 26282.875548\n",
            "Epoch Step: 1800 Loss: 14.960180 Tokens per Sec: 26641.543413\n",
            "Epoch Step: 1900 Loss: 17.862186 Tokens per Sec: 26032.679641\n",
            "Epoch Step: 2000 Loss: 59.854771 Tokens per Sec: 25835.613340\n",
            "Epoch Step: 2100 Loss: 43.516762 Tokens per Sec: 26304.113624\n",
            "Epoch Step: 2200 Loss: 40.955353 Tokens per Sec: 26386.574113\n",
            "\n",
            "Example #1\n",
            "Src :  als ich 11 jahre alt war , wurde ich eines morgens von den <unk> heller freude geweckt .\n",
            "Trg :  when i was 11 , i remember waking up one morning to the sound of joy in my house .\n",
            "Pred:  when i was 11 years old , i was a <unk> of the <unk> <unk> .\n",
            "\n",
            "Example #2\n",
            "Src :  mein vater hörte sich auf seinem kleinen , grauen radio die <unk> der bbc an .\n",
            "Trg :  my father was listening to bbc news on his small , gray radio .\n",
            "Pred:  my father stopped on his little , tiny radio the <unk> of the bbc .\n",
            "\n",
            "Example #3\n",
            "Src :  er sah sehr glücklich aus , was damals ziemlich ungewöhnlich war , da ihn die nachrichten meistens <unk> .\n",
            "Trg :  there was a big smile on his face which was unusual then , because the news mostly depressed him .\n",
            "Pred:  he saw very happy , which was pretty unusual , there was a news <unk> , there was the news <unk> .\n",
            "\n",
            "Validation perplexity: 12.477224\n",
            "Epoch 5\n",
            "Epoch Step: 100 Loss: 23.642014 Tokens per Sec: 25448.515938\n",
            "Epoch Step: 200 Loss: 59.926167 Tokens per Sec: 25877.772076\n",
            "Epoch Step: 300 Loss: 28.386219 Tokens per Sec: 26649.300604\n",
            "Epoch Step: 400 Loss: 2.964329 Tokens per Sec: 26968.398554\n",
            "Epoch Step: 500 Loss: 19.586226 Tokens per Sec: 26670.165997\n",
            "Epoch Step: 600 Loss: 43.199730 Tokens per Sec: 26402.550834\n",
            "Epoch Step: 700 Loss: 18.150887 Tokens per Sec: 26304.344123\n",
            "Epoch Step: 800 Loss: 22.167219 Tokens per Sec: 27220.988622\n",
            "Epoch Step: 900 Loss: 18.245533 Tokens per Sec: 26905.460730\n",
            "Epoch Step: 1000 Loss: 31.225267 Tokens per Sec: 26235.498198\n",
            "Epoch Step: 1100 Loss: 10.134810 Tokens per Sec: 26963.335035\n",
            "Epoch Step: 1200 Loss: 33.489353 Tokens per Sec: 26793.332071\n",
            "Epoch Step: 1300 Loss: 33.840557 Tokens per Sec: 26602.442407\n",
            "Epoch Step: 1400 Loss: 6.571393 Tokens per Sec: 26796.805934\n",
            "Epoch Step: 1500 Loss: 41.655701 Tokens per Sec: 26484.476035\n",
            "Epoch Step: 1600 Loss: 47.784874 Tokens per Sec: 26070.648266\n",
            "Epoch Step: 1700 Loss: 14.211373 Tokens per Sec: 25847.470450\n",
            "Epoch Step: 1800 Loss: 44.366844 Tokens per Sec: 25895.992334\n",
            "Epoch Step: 1900 Loss: 59.258167 Tokens per Sec: 26311.057573\n",
            "Epoch Step: 2000 Loss: 23.475925 Tokens per Sec: 26789.920834\n",
            "Epoch Step: 2100 Loss: 56.699837 Tokens per Sec: 26587.685113\n",
            "Epoch Step: 2200 Loss: 2.889134 Tokens per Sec: 26266.057924\n",
            "\n",
            "Example #1\n",
            "Src :  als ich 11 jahre alt war , wurde ich eines morgens von den <unk> heller freude geweckt .\n",
            "Trg :  when i was 11 , i remember waking up one morning to the sound of joy in my house .\n",
            "Pred:  when i was 11 years old , i was one of the morning of the <unk> <unk> .\n",
            "\n",
            "Example #2\n",
            "Src :  mein vater hörte sich auf seinem kleinen , grauen radio die <unk> der bbc an .\n",
            "Trg :  my father was listening to bbc news on his small , gray radio .\n",
            "Pred:  my father was on his little <unk> , <unk> radio the <unk> of the bbc .\n",
            "\n",
            "Example #3\n",
            "Src :  er sah sehr glücklich aus , was damals ziemlich ungewöhnlich war , da ihn die nachrichten meistens <unk> .\n",
            "Trg :  there was a big smile on his face which was unusual then , because the news mostly depressed him .\n",
            "Pred:  he saw very happy , which was pretty unusual , because it was the news of the news .\n",
            "\n",
            "Validation perplexity: 12.233566\n",
            "Epoch 6\n",
            "Epoch Step: 100 Loss: 22.278252 Tokens per Sec: 25161.958605\n",
            "Epoch Step: 200 Loss: 34.447357 Tokens per Sec: 26362.370194\n",
            "Epoch Step: 300 Loss: 39.136562 Tokens per Sec: 26675.393720\n",
            "Epoch Step: 400 Loss: 17.827860 Tokens per Sec: 26769.734649\n",
            "Epoch Step: 500 Loss: 32.244312 Tokens per Sec: 26666.130354\n",
            "Epoch Step: 600 Loss: 23.103313 Tokens per Sec: 26733.106005\n",
            "Epoch Step: 700 Loss: 4.040649 Tokens per Sec: 26661.815955\n",
            "Epoch Step: 800 Loss: 30.261625 Tokens per Sec: 26225.304883\n",
            "Epoch Step: 900 Loss: 45.994869 Tokens per Sec: 26783.947737\n",
            "Epoch Step: 1000 Loss: 52.475731 Tokens per Sec: 26411.568067\n",
            "Epoch Step: 1100 Loss: 27.524368 Tokens per Sec: 26629.964487\n",
            "Epoch Step: 1200 Loss: 24.233158 Tokens per Sec: 26225.408839\n",
            "Epoch Step: 1300 Loss: 9.431123 Tokens per Sec: 26363.718587\n",
            "Epoch Step: 1400 Loss: 17.532755 Tokens per Sec: 26658.498694\n",
            "Epoch Step: 1500 Loss: 10.342650 Tokens per Sec: 26559.343826\n",
            "Epoch Step: 1600 Loss: 32.211578 Tokens per Sec: 26794.906026\n",
            "Epoch Step: 1700 Loss: 14.541333 Tokens per Sec: 26573.732218\n",
            "Epoch Step: 1800 Loss: 48.207661 Tokens per Sec: 26514.146950\n",
            "Epoch Step: 1900 Loss: 46.348087 Tokens per Sec: 26693.988772\n",
            "Epoch Step: 2000 Loss: 22.353964 Tokens per Sec: 26118.733642\n",
            "Epoch Step: 2100 Loss: 20.043425 Tokens per Sec: 26599.237935\n",
            "Epoch Step: 2200 Loss: 30.513493 Tokens per Sec: 26581.152289\n",
            "\n",
            "Example #1\n",
            "Src :  als ich 11 jahre alt war , wurde ich eines morgens von den <unk> heller freude geweckt .\n",
            "Trg :  when i was 11 , i remember waking up one morning to the sound of joy in my house .\n",
            "Pred:  when i was 11 11 , i was a <unk> of the <unk> of pleasure <unk> .\n",
            "\n",
            "Example #2\n",
            "Src :  mein vater hörte sich auf seinem kleinen , grauen radio die <unk> der bbc an .\n",
            "Trg :  my father was listening to bbc news on his small , gray radio .\n",
            "Pred:  my father was on his little , <unk> radio the <unk> of the bbc .\n",
            "\n",
            "Example #3\n",
            "Src :  er sah sehr glücklich aus , was damals ziemlich ungewöhnlich war , da ihn die nachrichten meistens <unk> .\n",
            "Trg :  there was a big smile on his face which was unusual then , because the news mostly depressed him .\n",
            "Pred:  he looked very happy , which was pretty unusual , because the news was <unk> .\n",
            "\n",
            "Validation perplexity: 11.799585\n",
            "Epoch 7\n",
            "Epoch Step: 100 Loss: 40.662830 Tokens per Sec: 24727.138979\n",
            "Epoch Step: 200 Loss: 38.284893 Tokens per Sec: 25535.730784\n",
            "Epoch Step: 300 Loss: 41.413116 Tokens per Sec: 25457.854238\n",
            "Epoch Step: 400 Loss: 41.736702 Tokens per Sec: 26424.947625\n",
            "Epoch Step: 500 Loss: 7.629299 Tokens per Sec: 26373.383250\n",
            "Epoch Step: 600 Loss: 34.019428 Tokens per Sec: 26731.367103\n",
            "Epoch Step: 700 Loss: 15.780749 Tokens per Sec: 26543.010071\n",
            "Epoch Step: 800 Loss: 19.622831 Tokens per Sec: 26569.812897\n",
            "Epoch Step: 900 Loss: 32.126965 Tokens per Sec: 26952.826889\n",
            "Epoch Step: 1000 Loss: 35.288921 Tokens per Sec: 26524.311935\n",
            "Epoch Step: 1100 Loss: 42.116653 Tokens per Sec: 26563.694786\n",
            "Epoch Step: 1200 Loss: 57.384048 Tokens per Sec: 27140.682261\n",
            "Epoch Step: 1300 Loss: 24.833279 Tokens per Sec: 26430.783154\n",
            "Epoch Step: 1400 Loss: 33.790817 Tokens per Sec: 25975.018790\n",
            "Epoch Step: 1500 Loss: 10.495614 Tokens per Sec: 26421.831432\n",
            "Epoch Step: 1600 Loss: 41.623459 Tokens per Sec: 26897.361682\n",
            "Epoch Step: 1700 Loss: 53.572681 Tokens per Sec: 26685.584518\n",
            "Epoch Step: 1800 Loss: 20.272558 Tokens per Sec: 26587.484926\n",
            "Epoch Step: 1900 Loss: 29.962389 Tokens per Sec: 26743.991282\n",
            "Epoch Step: 2000 Loss: 25.871307 Tokens per Sec: 26505.725503\n",
            "Epoch Step: 2100 Loss: 48.305595 Tokens per Sec: 26629.880094\n",
            "Epoch Step: 2200 Loss: 11.508104 Tokens per Sec: 26583.795972\n",
            "\n",
            "Example #1\n",
            "Src :  als ich 11 jahre alt war , wurde ich eines morgens von den <unk> heller freude geweckt .\n",
            "Trg :  when i was 11 , i remember waking up one morning to the sound of joy in my house .\n",
            "Pred:  when i was 11 11 , i was one of the one of the <unk> <unk> <unk> .\n",
            "\n",
            "Example #2\n",
            "Src :  mein vater hörte sich auf seinem kleinen , grauen radio die <unk> der bbc an .\n",
            "Trg :  my father was listening to bbc news on his small , gray radio .\n",
            "Pred:  my father stopped on his little , gray is the <unk> of the bbc .\n",
            "\n",
            "Example #3\n",
            "Src :  er sah sehr glücklich aus , was damals ziemlich ungewöhnlich war , da ihn die nachrichten meistens <unk> .\n",
            "Trg :  there was a big smile on his face which was unusual then , because the news mostly depressed him .\n",
            "Pred:  he looked very happy , which was pretty unusual , because there were the news to get the news .\n",
            "\n",
            "Validation perplexity: 11.851292\n",
            "Epoch 8\n",
            "Epoch Step: 100 Loss: 12.352029 Tokens per Sec: 25361.183099\n",
            "Epoch Step: 200 Loss: 24.874426 Tokens per Sec: 26764.733338\n",
            "Epoch Step: 300 Loss: 18.800108 Tokens per Sec: 26544.892783\n",
            "Epoch Step: 400 Loss: 47.664120 Tokens per Sec: 26442.661924\n",
            "Epoch Step: 500 Loss: 49.467991 Tokens per Sec: 26741.986466\n",
            "Epoch Step: 600 Loss: 37.410198 Tokens per Sec: 26913.079466\n",
            "Epoch Step: 700 Loss: 27.711027 Tokens per Sec: 26624.663980\n",
            "Epoch Step: 800 Loss: 18.278770 Tokens per Sec: 25825.497003\n",
            "Epoch Step: 900 Loss: 49.094906 Tokens per Sec: 26370.359238\n",
            "Epoch Step: 1000 Loss: 14.688347 Tokens per Sec: 26643.003920\n",
            "Epoch Step: 1100 Loss: 50.061054 Tokens per Sec: 26840.531636\n",
            "Epoch Step: 1200 Loss: 22.799133 Tokens per Sec: 26409.586165\n",
            "Epoch Step: 1300 Loss: 37.563107 Tokens per Sec: 26612.166061\n",
            "Epoch Step: 1400 Loss: 57.534153 Tokens per Sec: 26505.506137\n",
            "Epoch Step: 1500 Loss: 14.715031 Tokens per Sec: 26416.102812\n",
            "Epoch Step: 1600 Loss: 17.365463 Tokens per Sec: 26941.761387\n",
            "Epoch Step: 1700 Loss: 49.005249 Tokens per Sec: 26672.158779\n",
            "Epoch Step: 1800 Loss: 39.887817 Tokens per Sec: 26869.881443\n",
            "Epoch Step: 1900 Loss: 23.710049 Tokens per Sec: 26411.849031\n",
            "Epoch Step: 2000 Loss: 42.555630 Tokens per Sec: 27249.085907\n",
            "Epoch Step: 2100 Loss: 48.120987 Tokens per Sec: 26266.971010\n",
            "Epoch Step: 2200 Loss: 38.617195 Tokens per Sec: 26821.816655\n",
            "\n",
            "Example #1\n",
            "Src :  als ich 11 jahre alt war , wurde ich eines morgens von den <unk> heller freude geweckt .\n",
            "Trg :  when i was 11 , i remember waking up one morning to the sound of joy in my house .\n",
            "Pred:  when i was 11 11 , i was a <unk> of the <unk> of <unk> <unk> .\n",
            "\n",
            "Example #2\n",
            "Src :  mein vater hörte sich auf seinem kleinen , grauen radio die <unk> der bbc an .\n",
            "Trg :  my father was listening to bbc news on his small , gray radio .\n",
            "Pred:  my father was on his little <unk> , radio radio <unk> the bbc of the bbc .\n",
            "\n",
            "Example #3\n",
            "Src :  er sah sehr glücklich aus , was damals ziemlich ungewöhnlich war , da ihn die nachrichten meistens <unk> .\n",
            "Trg :  there was a big smile on his face which was unusual then , because the news mostly depressed him .\n",
            "Pred:  he saw very happy , which was pretty unusual , because it was the news to get the news .\n",
            "\n",
            "Validation perplexity: 11.849774\n",
            "Epoch 9\n",
            "Epoch Step: 100 Loss: 11.050588 Tokens per Sec: 25424.111644\n",
            "Epoch Step: 200 Loss: 42.801929 Tokens per Sec: 26287.857066\n",
            "Epoch Step: 300 Loss: 28.226038 Tokens per Sec: 27034.249262\n",
            "Epoch Step: 400 Loss: 6.812844 Tokens per Sec: 26578.583000\n",
            "Epoch Step: 500 Loss: 40.943501 Tokens per Sec: 26790.405865\n",
            "Epoch Step: 600 Loss: 37.279877 Tokens per Sec: 26406.172006\n",
            "Epoch Step: 700 Loss: 7.681050 Tokens per Sec: 26588.757605\n",
            "Epoch Step: 800 Loss: 24.589018 Tokens per Sec: 26401.070794\n",
            "Epoch Step: 900 Loss: 14.163430 Tokens per Sec: 26932.029648\n",
            "Epoch Step: 1000 Loss: 19.294502 Tokens per Sec: 26078.734194\n",
            "Epoch Step: 1100 Loss: 23.795004 Tokens per Sec: 26356.234764\n",
            "Epoch Step: 1200 Loss: 42.619755 Tokens per Sec: 26122.324273\n",
            "Epoch Step: 1300 Loss: 41.579327 Tokens per Sec: 26616.272063\n",
            "Epoch Step: 1400 Loss: 13.408896 Tokens per Sec: 26418.483084\n",
            "Epoch Step: 1500 Loss: 24.184925 Tokens per Sec: 27041.489313\n",
            "Epoch Step: 1600 Loss: 33.963676 Tokens per Sec: 26553.191768\n",
            "Epoch Step: 1700 Loss: 19.402084 Tokens per Sec: 26559.759579\n",
            "Epoch Step: 1800 Loss: 25.221718 Tokens per Sec: 26498.006034\n",
            "Epoch Step: 1900 Loss: 43.717701 Tokens per Sec: 26984.477348\n",
            "Epoch Step: 2000 Loss: 11.399558 Tokens per Sec: 26526.036745\n",
            "Epoch Step: 2100 Loss: 15.560185 Tokens per Sec: 25948.208832\n",
            "Epoch Step: 2200 Loss: 48.054070 Tokens per Sec: 26626.664110\n",
            "\n",
            "Example #1\n",
            "Src :  als ich 11 jahre alt war , wurde ich eines morgens von den <unk> heller freude geweckt .\n",
            "Trg :  when i was 11 , i remember waking up one morning to the sound of joy in my house .\n",
            "Pred:  when i was 11 11 , i was a <unk> of the <unk> <unk> <unk> .\n",
            "\n",
            "Example #2\n",
            "Src :  mein vater hörte sich auf seinem kleinen , grauen radio die <unk> der bbc an .\n",
            "Trg :  my father was listening to bbc news on his small , gray radio .\n",
            "Pred:  my dad was on his little , gray radio the bbc .\n",
            "\n",
            "Example #3\n",
            "Src :  er sah sehr glücklich aus , was damals ziemlich ungewöhnlich war , da ihn die nachrichten meistens <unk> .\n",
            "Trg :  there was a big smile on his face which was unusual then , because the news mostly depressed him .\n",
            "Pred:  he saw very happy , which was pretty unusual , because the news was going to get rid of the news .\n",
            "\n",
            "Validation perplexity: 12.169336\n"
          ],
          "name": "stdout"
        }
      ]
    },
    {
      "cell_type": "code",
      "metadata": {
        "id": "ZUAe3814yYha",
        "outputId": "d5160c5c-4e12-4778-e074-811e93d07989",
        "colab": {
          "base_uri": "https://localhost:8080/",
          "height": 295
        }
      },
      "source": [
        "plot_perplexity(dev_perplexities)"
      ],
      "execution_count": 23,
      "outputs": [
        {
          "output_type": "display_data",
          "data": {
            "image/png": "[encoded data removed]",
            "text/plain": [
              "<Figure size 432x288 with 1 Axes>"
            ]
          },
          "metadata": {
            "tags": [],
            "needs_background": "light"
          }
        }
      ]
    },
    {
      "cell_type": "markdown",
      "metadata": {
        "id": "8455TWLEyYhi"
      },
      "source": [
        "## Prediction and Evaluation\n",
        "\n",
        "Once trained we can use the model to produce a set of translations. \n",
        "\n",
        "If we translate the whole validation set, we can use [SacreBLEU](https://github.com/mjpost/sacreBLEU) to get a [BLEU score](https://en.wikipedia.org/wiki/BLEU), which is the most common way to evaluate translations.\n",
        "\n",
        "#### Important sidenote\n",
        "Typically you would use SacreBLEU from the **command line** using the output file and original (possibly tokenized) development reference file. This will give you a nice version string that shows how the BLEU score was calculated; for example, if it was lowercased, if it was tokenized (and how), and what smoothing was used. If you want to learn more about how BLEU scores are (and should be) reported, check out [this paper](https://arxiv.org/abs/1804.08771).\n",
        "\n",
        "However, right now our pre-processed data is only in memory, so we'll calculate the BLEU score right from this notebook for demonstration purposes.\n",
        "\n",
        "We'll first test the raw BLEU function:"
      ]
    },
    {
      "cell_type": "code",
      "metadata": {
        "id": "QIJCpGVJyYhk"
      },
      "source": [
        "import sacrebleu"
      ],
      "execution_count": 26,
      "outputs": []
    },
    {
      "cell_type": "code",
      "metadata": {
        "id": "RTLiTVPUyYhr",
        "outputId": "be1a9fcf-0aff-4b8a-cd15-0797ecabccbf",
        "colab": {
          "base_uri": "https://localhost:8080/"
        }
      },
      "source": [
        "# this should result in a perfect BLEU of 100%\n",
        "hypotheses = [\"this is a test\"]\n",
        "references = [\"this is a test\"]\n",
        "bleu = sacrebleu.raw_corpus_bleu(hypotheses, [references], .01).score\n",
        "print(bleu)"
      ],
      "execution_count": 27,
      "outputs": [
        {
          "output_type": "stream",
          "text": [
            "100.00000000000004\n"
          ],
          "name": "stdout"
        }
      ]
    },
    {
      "cell_type": "code",
      "metadata": {
        "id": "CThUASOMyYhx",
        "outputId": "c10fa02a-e863-41bc-a623-cdf80ee33173",
        "colab": {
          "base_uri": "https://localhost:8080/"
        }
      },
      "source": [
        "# here the BLEU score will be lower, because some n-grams won't match\n",
        "hypotheses = [\"this is a test\"]\n",
        "references = [\"this is a fest\"]\n",
        "bleu = sacrebleu.raw_corpus_bleu(hypotheses, [references], .01).score\n",
        "print(bleu)"
      ],
      "execution_count": 28,
      "outputs": [
        {
          "output_type": "stream",
          "text": [
            "22.360679774997894\n"
          ],
          "name": "stdout"
        }
      ]
    },
    {
      "cell_type": "markdown",
      "metadata": {
        "id": "in8LaqpAyYh6"
      },
      "source": [
        "Since we did some filtering for speed, our validation set contains 690 sentences.\n",
        "The references are the tokenized versions, but they should not contain out-of-vocabulary UNKs that our network might have seen. So we'll take the references straight out of the `valid_data` object:"
      ]
    },
    {
      "cell_type": "code",
      "metadata": {
        "id": "SZ4knsouyYh7",
        "outputId": "f1258a32-ecda-4305-c5fe-2d7680b5df48",
        "colab": {
          "base_uri": "https://localhost:8080/"
        }
      },
      "source": [
        "len(valid_data)"
      ],
      "execution_count": 29,
      "outputs": [
        {
          "output_type": "execute_result",
          "data": {
            "text/plain": [
              "690"
            ]
          },
          "metadata": {
            "tags": []
          },
          "execution_count": 29
        }
      ]
    },
    {
      "cell_type": "code",
      "metadata": {
        "id": "wNkoXtegyYiA",
        "outputId": "745640e5-bb80-4c4f-fbc9-e49623c54e1b",
        "colab": {
          "base_uri": "https://localhost:8080/"
        }
      },
      "source": [
        "references = [\" \".join(example.trg) for example in valid_data]\n",
        "print(len(references))\n",
        "print(references[0])"
      ],
      "execution_count": 30,
      "outputs": [
        {
          "output_type": "stream",
          "text": [
            "690\n",
            "when i was 11 , i remember waking up one morning to the sound of joy in my house .\n"
          ],
          "name": "stdout"
        }
      ]
    },
    {
      "cell_type": "code",
      "metadata": {
        "id": "si5Zvb1MyYiI",
        "outputId": "d32b8b50-3520-4a72-e511-8b2da930b213",
        "colab": {
          "base_uri": "https://localhost:8080/",
          "height": 35
        }
      },
      "source": [
        "references[-2]"
      ],
      "execution_count": 31,
      "outputs": [
        {
          "output_type": "execute_result",
          "data": {
            "application/vnd.google.colaboratory.intrinsic+json": {
              "type": "string"
            },
            "text/plain": [
              "\"i 'm always the one taking the picture .\""
            ]
          },
          "metadata": {
            "tags": []
          },
          "execution_count": 31
        }
      ]
    },
    {
      "cell_type": "markdown",
      "metadata": {
        "id": "lItTMoANyYiN"
      },
      "source": [
        "**Now we translate the validation set!**\n",
        "\n",
        "This might take a little bit of time.\n",
        "\n",
        "Note that `greedy_decode` will cut-off the sentence when it encounters the end-of-sequence symbol, if we provide it the index of that symbol."
      ]
    },
    {
      "cell_type": "code",
      "metadata": {
        "id": "mURb2PXXyYiO",
        "outputId": "ccef03ed-85e6-4765-9ee5-91bd4d925733",
        "colab": {
          "base_uri": "https://localhost:8080/"
        }
      },
      "source": [
        "hypotheses = []\n",
        "alphas = []  # save the last attention scores\n",
        "for batch in valid_iter:\n",
        "  batch = rebatch(PAD_INDEX, batch)\n",
        "  pred, attention = greedy_decode(\n",
        "    model, batch.src, batch.src_mask, batch.src_lengths, max_len=25,\n",
        "    sos_index=TRG.vocab.stoi[SOS_TOKEN],\n",
        "    eos_index=TRG.vocab.stoi[EOS_TOKEN])\n",
        "  hypotheses.append(pred)\n",
        "  alphas.append(attention)"
      ],
      "execution_count": 32,
      "outputs": [
        {
          "output_type": "stream",
          "text": [
            "/usr/local/lib/python3.6/dist-packages/torchtext/data/batch.py:23: UserWarning: Batch class will be retired soon and moved to torchtext.legacy. Please see the most recent release notes for further information.\n",
            "  warnings.warn('{} class will be retired soon and moved to torchtext.legacy. Please see the most recent release notes for further information.'.format(self.__class__.__name__), UserWarning)\n"
          ],
          "name": "stderr"
        }
      ]
    },
    {
      "cell_type": "code",
      "metadata": {
        "id": "vce5o06vyYiV",
        "outputId": "efcf4eb2-76ce-426f-f9b6-ed40ce8f95cf",
        "colab": {
          "base_uri": "https://localhost:8080/"
        }
      },
      "source": [
        "# we will still need to convert the indices to actual words!\n",
        "hypotheses[0]"
      ],
      "execution_count": 33,
      "outputs": [
        {
          "output_type": "execute_result",
          "data": {
            "text/plain": [
              "array([  70,   11,   24, 1460, 1460,    5,   11,   24,    9,    0,   10,\n",
              "          6,    0,    0,    0,    4])"
            ]
          },
          "metadata": {
            "tags": []
          },
          "execution_count": 33
        }
      ]
    },
    {
      "cell_type": "code",
      "metadata": {
        "id": "kfkS-NUzyYia",
        "outputId": "2167db8d-338a-4a54-9529-587fbb0cc361",
        "colab": {
          "base_uri": "https://localhost:8080/"
        }
      },
      "source": [
        "hypotheses = [lookup_words(x, TRG.vocab) for x in hypotheses]\n",
        "hypotheses[0]"
      ],
      "execution_count": 34,
      "outputs": [
        {
          "output_type": "execute_result",
          "data": {
            "text/plain": [
              "['when',\n",
              " 'i',\n",
              " 'was',\n",
              " '11',\n",
              " '11',\n",
              " ',',\n",
              " 'i',\n",
              " 'was',\n",
              " 'a',\n",
              " '<unk>',\n",
              " 'of',\n",
              " 'the',\n",
              " '<unk>',\n",
              " '<unk>',\n",
              " '<unk>',\n",
              " '.']"
            ]
          },
          "metadata": {
            "tags": []
          },
          "execution_count": 34
        }
      ]
    },
    {
      "cell_type": "code",
      "metadata": {
        "id": "opzDBbWmyYif",
        "outputId": "c6d3f8ab-4b1b-461f-cf4f-604cddac8387",
        "colab": {
          "base_uri": "https://localhost:8080/"
        }
      },
      "source": [
        "# finally, the SacreBLEU raw scorer requires string input, so we convert the lists to strings\n",
        "hypotheses = [\" \".join(x) for x in hypotheses]\n",
        "print(len(hypotheses))\n",
        "print(hypotheses[0])"
      ],
      "execution_count": 35,
      "outputs": [
        {
          "output_type": "stream",
          "text": [
            "690\n",
            "when i was 11 11 , i was a <unk> of the <unk> <unk> <unk> .\n"
          ],
          "name": "stdout"
        }
      ]
    },
    {
      "cell_type": "code",
      "metadata": {
        "id": "AXDRI7TayYik",
        "outputId": "8b66fef6-930b-45f3-ad6f-3a8216ccb83f",
        "colab": {
          "base_uri": "https://localhost:8080/"
        }
      },
      "source": [
        "# now we can compute the BLEU score!\n",
        "bleu = sacrebleu.raw_corpus_bleu(hypotheses, [references], .01).score\n",
        "print(bleu)"
      ],
      "execution_count": 36,
      "outputs": [
        {
          "output_type": "stream",
          "text": [
            "23.390309709759112\n"
          ],
          "name": "stdout"
        }
      ]
    },
    {
      "cell_type": "markdown",
      "metadata": {
        "id": "fS6YKMvMyYip"
      },
      "source": [
        "## Attention Visualization\n",
        "\n",
        "We can also visualize the attention scores of the decoder."
      ]
    },
    {
      "cell_type": "code",
      "metadata": {
        "id": "BTryIv-qyYiq"
      },
      "source": [
        "def plot_heatmap(src, trg, scores):\n",
        "\n",
        "    fig, ax = plt.subplots()\n",
        "    heatmap = ax.pcolor(scores, cmap='viridis')\n",
        "\n",
        "    ax.set_xticklabels(trg, minor=False, rotation='vertical')\n",
        "    ax.set_yticklabels(src, minor=False)\n",
        "\n",
        "    # put the major ticks at the middle of each cell\n",
        "    # and the x-ticks on top\n",
        "    ax.xaxis.tick_top()\n",
        "    ax.set_xticks(np.arange(scores.shape[1]) + 0.5, minor=False)\n",
        "    ax.set_yticks(np.arange(scores.shape[0]) + 0.5, minor=False)\n",
        "    ax.invert_yaxis()\n",
        "\n",
        "    plt.colorbar(heatmap)\n",
        "    plt.show()"
      ],
      "execution_count": 37,
      "outputs": []
    },
    {
      "cell_type": "code",
      "metadata": {
        "id": "jQgoJrEAyYi0",
        "outputId": "b3ede7d5-b728-4adf-e80d-1eaa4c76b8c4",
        "colab": {
          "base_uri": "https://localhost:8080/",
          "height": 341
        }
      },
      "source": [
        "# This plots a chosen sentence, for which we saved the attention scores above.\n",
        "idx = 5\n",
        "src = valid_data[idx].src + [\"</s>\"]\n",
        "trg = valid_data[idx].trg + [\"</s>\"]\n",
        "pred = hypotheses[idx].split() + [\"</s>\"]\n",
        "pred_att = alphas[idx][0].T[:, :len(pred)]\n",
        "print(\"src\", src)\n",
        "print(\"ref\", trg)\n",
        "print(\"pred\", pred)\n",
        "plot_heatmap(src, pred, pred_att)"
      ],
      "execution_count": 38,
      "outputs": [
        {
          "output_type": "stream",
          "text": [
            "src ['\"', 'jetzt', 'kannst', 'du', 'auf', 'eine', 'richtige', 'schule', 'gehen', ',', '\"', 'sagte', 'er', '.', '</s>']\n",
            "ref ['\"', 'you', 'can', 'go', 'to', 'a', 'real', 'school', 'now', ',', '\"', 'he', 'said', '.', '</s>']\n",
            "pred ['\"', 'now', 'you', 'can', 'go', 'to', 'a', 'right', 'now', ',', '\"', 'he', 'said', '.', '</s>']\n"
          ],
          "name": "stdout"
        },
        {
          "output_type": "display_data",
          "data": {
            "image/png": "[encoded data removed]",
            "text/plain": [
              "<Figure size 432x288 with 2 Axes>"
            ]
          },
          "metadata": {
            "tags": [],
            "needs_background": "light"
          }
        }
      ]
    },
    {
      "cell_type": "markdown",
      "metadata": {
        "id": "iHiGYJKXyYi8"
      },
      "source": [
        "# Congratulations! You've finished this notebook.\n",
        "\n",
        "What didn't we cover?\n",
        "\n",
        "- Subwords / Byte Pair Encoding [[paper]](https://arxiv.org/abs/1508.07909) [[github]](https://github.com/rsennrich/subword-nmt) let you deal with unknown words. \n",
        "- You can implement a [multiplicative/bilinear attention mechanism](https://arxiv.org/abs/1508.04025) instead of the additive one used here.\n",
        "- We used greedy decoding here to get translations, but you can get better results with beam search.\n",
        "- The original model only uses a single dropout layer (in the decoder), but you can experiment with adding more dropout layers, for example on the word embeddings and the source word representations.\n",
        "- You can experiment with multiple encoder/decoder layers.- Experiment with a benchmarked and improved codebase: [Joey NMT](https://github.com/joeynmt/joeynmt)"
      ]
    },
    {
      "cell_type": "markdown",
      "metadata": {
        "id": "KqkvJSBoyYi-"
      },
      "source": [
        "If this was useful to your research, please consider citing:\n",
        "\n",
        "> J Bastings. 2018. The Annotated Encoder-Decoder with Attention. https://bastings.github.io/annotated_encoder_decoder/\n",
        "\n",
        "Or use the following `Bibtex`:\n",
        "```\n",
        "@misc{bastings2018annotated,\n",
        "  title={The Annotated Encoder-Decoder with Attention},\n",
        "  author={Bastings, J.},\n",
        "  journal={https://bastings.github.io/annotated\\_encoder\\_decoder/},\n",
        "  year={2018}\n",
        "}```"
      ]
    },
    {
      "cell_type": "code",
      "metadata": {
        "id": "9FVhxRVcA0SB",
        "outputId": "6a153379-50d0-4c45-c294-b73518911df5",
        "colab": {
          "base_uri": "https://localhost:8080/"
        }
      },
      "source": [
        "from google.colab import drive\n",
        "drive.mount('/content/gdrive', force_remount=True)"
      ],
      "execution_count": 39,
      "outputs": [
        {
          "output_type": "stream",
          "text": [
            "Mounted at /content/gdrive\n"
          ],
          "name": "stdout"
        }
      ]
    },
    {
      "cell_type": "code",
      "metadata": {
        "id": "hOdzzMjfA4gb",
        "outputId": "e1c39481-c093-4521-c29d-7aa33bce9f21",
        "colab": {
          "base_uri": "https://localhost:8080/"
        }
      },
      "source": [
        "model.to('cpu')\n",
        "model.eval()"
      ],
      "execution_count": 40,
      "outputs": [
        {
          "output_type": "execute_result",
          "data": {
            "text/plain": [
              "EncoderDecoder(\n",
              "  (encoder): Encoder(\n",
              "    (rnn): GRU(256, 256, batch_first=True, dropout=0.2, bidirectional=True)\n",
              "  )\n",
              "  (decoder): Decoder(\n",
              "    (attention): BahdanauAttention(\n",
              "      (key_layer): Linear(in_features=512, out_features=256, bias=False)\n",
              "      (query_layer): Linear(in_features=256, out_features=256, bias=False)\n",
              "      (energy_layer): Linear(in_features=256, out_features=1, bias=False)\n",
              "    )\n",
              "    (rnn): GRU(768, 256, batch_first=True, dropout=0.2)\n",
              "    (bridge): Linear(in_features=512, out_features=256, bias=True)\n",
              "    (dropout_layer): Dropout(p=0.2, inplace=False)\n",
              "    (pre_output_layer): Linear(in_features=1024, out_features=256, bias=False)\n",
              "  )\n",
              "  (src_embed): Embedding(15765, 256)\n",
              "  (trg_embed): Embedding(13002, 256)\n",
              "  (generator): Generator(\n",
              "    (proj): Linear(in_features=256, out_features=13002, bias=False)\n",
              "  )\n",
              ")"
            ]
          },
          "metadata": {
            "tags": []
          },
          "execution_count": 40
        }
      ]
    },
    {
      "cell_type": "code",
      "metadata": {
        "id": "mL3IgkeuFYpu"
      },
      "source": [
        "torch.save(model.state_dict(), '/content/gdrive/My Drive/E4P2/S9/AEDmodel.pt')"
      ],
      "execution_count": 44,
      "outputs": []
    },
    {
      "cell_type": "code",
      "metadata": {
        "id": "T_U3O4XCFA6-",
        "outputId": "20ab937f-18db-432e-9dc6-36becc9fa99f",
        "colab": {
          "base_uri": "https://localhost:8080/"
        }
      },
      "source": [
        "torch.from_numpy(np.random.randint(1, 11, size=(1, 10))).shape"
      ],
      "execution_count": 45,
      "outputs": [
        {
          "output_type": "execute_result",
          "data": {
            "text/plain": [
              "torch.Size([1, 10])"
            ]
          },
          "metadata": {
            "tags": []
          },
          "execution_count": 45
        }
      ]
    },
    {
      "cell_type": "code",
      "metadata": {
        "id": "sP0f68MwJk5R"
      },
      "source": [
        "a=data_gen(num_words=11, batch_size=32, num_batches=1)\n",
        "for i, batch in enumerate(a, 1):\n",
        "  break\n",
        "  # out, _, pre_output = model.forward(batch.src, batch.trg, batch.src_mask, batch.trg_mask, batch.src_lengths, batch.trg_lengths)"
      ],
      "execution_count": 52,
      "outputs": []
    },
    {
      "cell_type": "code",
      "metadata": {
        "id": "CgmYHkbLBRqU",
        "outputId": "8c6ee234-0b4c-4483-d65c-b5e5b710e2d8",
        "colab": {
          "base_uri": "https://localhost:8080/"
        }
      },
      "source": [
        "from PIL import Image\n",
        "from torch.autograd import Variable\n",
        "from torchvision.transforms import ToTensor, ToPILImage\n",
        "\n",
        "# seq = torch.from_numpy(np.random.randint(1, 11, size=(1, 10))).to('cpu') \n",
        "batch.src = batch.src.to('cpu')\n",
        "batch.trg = batch.trg.to('cpu')\n",
        "batch.src_mask = batch.src_mask.to('cpu')\n",
        "batch.trg_mask = batch.trg_mask.to('cpu')\n",
        "batch.src_lengths = torch.tensor(batch.src_lengths).to('cpu')\n",
        "batch.trg_lengths = torch.tensor(batch.trg_lengths).to('cpu')\n",
        "traced_model = torch.jit.trace(model, (batch.src, batch.trg, batch.src_mask, batch.trg_mask, batch.src_lengths, batch.trg_lengths))\n",
        "traced_model.save(\"/content/gdrive/My Drive/E4P2/S9/TracedAEDmodel.pt\")"
      ],
      "execution_count": 56,
      "outputs": [
        {
          "output_type": "stream",
          "text": [
            "/usr/local/lib/python3.6/dist-packages/ipykernel_launcher.py:20: TracerWarning: Converting a tensor to a Python index might cause the trace to be incorrect. We can't record the data flow of Python values, so this value will be treated as a constant in the future. This means that the trace might not generalize to other inputs!\n",
            "/usr/local/lib/python3.6/dist-packages/ipykernel_launcher.py:21: TracerWarning: Converting a tensor to a Python index might cause the trace to be incorrect. We can't record the data flow of Python values, so this value will be treated as a constant in the future. This means that the trace might not generalize to other inputs!\n",
            "/usr/local/lib/python3.6/dist-packages/ipykernel_launcher.py:64: TracerWarning: Converting a tensor to a Python index might cause the trace to be incorrect. We can't record the data flow of Python values, so this value will be treated as a constant in the future. This means that the trace might not generalize to other inputs!\n"
          ],
          "name": "stderr"
        }
      ]
    },
    {
      "cell_type": "code",
      "metadata": {
        "id": "QqI_vmXhFtug",
        "outputId": "725092d1-ac40-4d4b-b09c-5d8924065252",
        "colab": {
          "base_uri": "https://localhost:8080/"
        }
      },
      "source": [
        "!pip install torchsummaryX"
      ],
      "execution_count": 57,
      "outputs": [
        {
          "output_type": "stream",
          "text": [
            "Collecting torchsummaryX\n",
            "  Downloading https://files.pythonhosted.org/packages/36/23/87eeaaf70daa61aa21495ece0969c50c446b8fd42c4b8905af264b40fe7f/torchsummaryX-1.3.0-py3-none-any.whl\n",
            "Requirement already satisfied: torch in /usr/local/lib/python3.6/dist-packages (from torchsummaryX) (1.5.1+cu92)\n",
            "Requirement already satisfied: pandas in /usr/local/lib/python3.6/dist-packages (from torchsummaryX) (1.1.3)\n",
            "Requirement already satisfied: numpy in /usr/local/lib/python3.6/dist-packages (from torchsummaryX) (1.18.5)\n",
            "Requirement already satisfied: future in /usr/local/lib/python3.6/dist-packages (from torch->torchsummaryX) (0.16.0)\n",
            "Requirement already satisfied: pytz>=2017.2 in /usr/local/lib/python3.6/dist-packages (from pandas->torchsummaryX) (2018.9)\n",
            "Requirement already satisfied: python-dateutil>=2.7.3 in /usr/local/lib/python3.6/dist-packages (from pandas->torchsummaryX) (2.8.1)\n",
            "Requirement already satisfied: six>=1.5 in /usr/local/lib/python3.6/dist-packages (from python-dateutil>=2.7.3->pandas->torchsummaryX) (1.15.0)\n",
            "Installing collected packages: torchsummaryX\n",
            "Successfully installed torchsummaryX-1.3.0\n"
          ],
          "name": "stdout"
        }
      ]
    },
    {
      "cell_type": "code",
      "metadata": {
        "id": "9byNTludTkKg",
        "outputId": "c64a6292-f0aa-4b31-f175-79267afa3c8d",
        "colab": {
          "base_uri": "https://localhost:8080/",
          "height": 1000
        }
      },
      "source": [
        "from torchsummaryX import summary\n",
        "\n",
        "summary(model, batch.src, batch.trg, batch.src_mask, batch.trg_mask, batch.src_lengths, batch.trg_lengths)"
      ],
      "execution_count": 59,
      "outputs": [
        {
          "output_type": "stream",
          "text": [
            "===========================================================================================\n",
            "                                          Kernel Shape   Output Shape  \\\n",
            "Layer                                                                   \n",
            "0_src_embed                               [256, 15765]   [32, 9, 256]   \n",
            "1_encoder.GRU_rnn                                    -     [288, 512]   \n",
            "2_trg_embed                               [256, 13002]   [32, 9, 256]   \n",
            "3_decoder.Linear_bridge                     [512, 256]   [1, 32, 256]   \n",
            "4_decoder.attention.Linear_key_layer        [512, 256]   [32, 9, 256]   \n",
            "5_decoder.attention.Linear_query_layer      [256, 256]   [32, 1, 256]   \n",
            "6_decoder.attention.Linear_energy_layer       [256, 1]     [32, 9, 1]   \n",
            "7_decoder.GRU_rnn                                    -   [32, 1, 256]   \n",
            "8_decoder.Dropout_dropout_layer                      -  [32, 1, 1024]   \n",
            "9_decoder.Linear_pre_output_layer          [1024, 256]   [32, 1, 256]   \n",
            "10_decoder.attention.Linear_query_layer     [256, 256]   [32, 1, 256]   \n",
            "11_decoder.attention.Linear_energy_layer      [256, 1]     [32, 9, 1]   \n",
            "12_decoder.GRU_rnn                                   -   [32, 1, 256]   \n",
            "13_decoder.Dropout_dropout_layer                     -  [32, 1, 1024]   \n",
            "14_decoder.Linear_pre_output_layer         [1024, 256]   [32, 1, 256]   \n",
            "15_decoder.attention.Linear_query_layer     [256, 256]   [32, 1, 256]   \n",
            "16_decoder.attention.Linear_energy_layer      [256, 1]     [32, 9, 1]   \n",
            "17_decoder.GRU_rnn                                   -   [32, 1, 256]   \n",
            "18_decoder.Dropout_dropout_layer                     -  [32, 1, 1024]   \n",
            "19_decoder.Linear_pre_output_layer         [1024, 256]   [32, 1, 256]   \n",
            "20_decoder.attention.Linear_query_layer     [256, 256]   [32, 1, 256]   \n",
            "21_decoder.attention.Linear_energy_layer      [256, 1]     [32, 9, 1]   \n",
            "22_decoder.GRU_rnn                                   -   [32, 1, 256]   \n",
            "23_decoder.Dropout_dropout_layer                     -  [32, 1, 1024]   \n",
            "24_decoder.Linear_pre_output_layer         [1024, 256]   [32, 1, 256]   \n",
            "25_decoder.attention.Linear_query_layer     [256, 256]   [32, 1, 256]   \n",
            "26_decoder.attention.Linear_energy_layer      [256, 1]     [32, 9, 1]   \n",
            "27_decoder.GRU_rnn                                   -   [32, 1, 256]   \n",
            "28_decoder.Dropout_dropout_layer                     -  [32, 1, 1024]   \n",
            "29_decoder.Linear_pre_output_layer         [1024, 256]   [32, 1, 256]   \n",
            "30_decoder.attention.Linear_query_layer     [256, 256]   [32, 1, 256]   \n",
            "31_decoder.attention.Linear_energy_layer      [256, 1]     [32, 9, 1]   \n",
            "32_decoder.GRU_rnn                                   -   [32, 1, 256]   \n",
            "33_decoder.Dropout_dropout_layer                     -  [32, 1, 1024]   \n",
            "34_decoder.Linear_pre_output_layer         [1024, 256]   [32, 1, 256]   \n",
            "35_decoder.attention.Linear_query_layer     [256, 256]   [32, 1, 256]   \n",
            "36_decoder.attention.Linear_energy_layer      [256, 1]     [32, 9, 1]   \n",
            "37_decoder.GRU_rnn                                   -   [32, 1, 256]   \n",
            "38_decoder.Dropout_dropout_layer                     -  [32, 1, 1024]   \n",
            "39_decoder.Linear_pre_output_layer         [1024, 256]   [32, 1, 256]   \n",
            "40_decoder.attention.Linear_query_layer     [256, 256]   [32, 1, 256]   \n",
            "41_decoder.attention.Linear_energy_layer      [256, 1]     [32, 9, 1]   \n",
            "42_decoder.GRU_rnn                                   -   [32, 1, 256]   \n",
            "43_decoder.Dropout_dropout_layer                     -  [32, 1, 1024]   \n",
            "44_decoder.Linear_pre_output_layer         [1024, 256]   [32, 1, 256]   \n",
            "45_decoder.attention.Linear_query_layer     [256, 256]   [32, 1, 256]   \n",
            "46_decoder.attention.Linear_energy_layer      [256, 1]     [32, 9, 1]   \n",
            "47_decoder.GRU_rnn                                   -   [32, 1, 256]   \n",
            "48_decoder.Dropout_dropout_layer                     -  [32, 1, 1024]   \n",
            "49_decoder.Linear_pre_output_layer         [1024, 256]   [32, 1, 256]   \n",
            "\n",
            "                                             Params  Mult-Adds  \n",
            "Layer                                                           \n",
            "0_src_embed                                4.03584M   4.03584M  \n",
            "1_encoder.GRU_rnn                          789.504k   786.432k  \n",
            "2_trg_embed                               3.328512M  3.328512M  \n",
            "3_decoder.Linear_bridge                    131.328k   131.072k  \n",
            "4_decoder.attention.Linear_key_layer       131.072k   131.072k  \n",
            "5_decoder.attention.Linear_query_layer      65.536k    65.536k  \n",
            "6_decoder.attention.Linear_energy_layer       256.0      256.0  \n",
            "7_decoder.GRU_rnn                          787.968k   786.432k  \n",
            "8_decoder.Dropout_dropout_layer                   -          -  \n",
            "9_decoder.Linear_pre_output_layer          262.144k   262.144k  \n",
            "10_decoder.attention.Linear_query_layer           -    65.536k  \n",
            "11_decoder.attention.Linear_energy_layer          -      256.0  \n",
            "12_decoder.GRU_rnn                                -   786.432k  \n",
            "13_decoder.Dropout_dropout_layer                  -          -  \n",
            "14_decoder.Linear_pre_output_layer                -   262.144k  \n",
            "15_decoder.attention.Linear_query_layer           -    65.536k  \n",
            "16_decoder.attention.Linear_energy_layer          -      256.0  \n",
            "17_decoder.GRU_rnn                                -   786.432k  \n",
            "18_decoder.Dropout_dropout_layer                  -          -  \n",
            "19_decoder.Linear_pre_output_layer                -   262.144k  \n",
            "20_decoder.attention.Linear_query_layer           -    65.536k  \n",
            "21_decoder.attention.Linear_energy_layer          -      256.0  \n",
            "22_decoder.GRU_rnn                                -   786.432k  \n",
            "23_decoder.Dropout_dropout_layer                  -          -  \n",
            "24_decoder.Linear_pre_output_layer                -   262.144k  \n",
            "25_decoder.attention.Linear_query_layer           -    65.536k  \n",
            "26_decoder.attention.Linear_energy_layer          -      256.0  \n",
            "27_decoder.GRU_rnn                                -   786.432k  \n",
            "28_decoder.Dropout_dropout_layer                  -          -  \n",
            "29_decoder.Linear_pre_output_layer                -   262.144k  \n",
            "30_decoder.attention.Linear_query_layer           -    65.536k  \n",
            "31_decoder.attention.Linear_energy_layer          -      256.0  \n",
            "32_decoder.GRU_rnn                                -   786.432k  \n",
            "33_decoder.Dropout_dropout_layer                  -          -  \n",
            "34_decoder.Linear_pre_output_layer                -   262.144k  \n",
            "35_decoder.attention.Linear_query_layer           -    65.536k  \n",
            "36_decoder.attention.Linear_energy_layer          -      256.0  \n",
            "37_decoder.GRU_rnn                                -   786.432k  \n",
            "38_decoder.Dropout_dropout_layer                  -          -  \n",
            "39_decoder.Linear_pre_output_layer                -   262.144k  \n",
            "40_decoder.attention.Linear_query_layer           -    65.536k  \n",
            "41_decoder.attention.Linear_energy_layer          -      256.0  \n",
            "42_decoder.GRU_rnn                                -   786.432k  \n",
            "43_decoder.Dropout_dropout_layer                  -          -  \n",
            "44_decoder.Linear_pre_output_layer                -   262.144k  \n",
            "45_decoder.attention.Linear_query_layer           -    65.536k  \n",
            "46_decoder.attention.Linear_energy_layer          -      256.0  \n",
            "47_decoder.GRU_rnn                                -   786.432k  \n",
            "48_decoder.Dropout_dropout_layer                  -          -  \n",
            "49_decoder.Linear_pre_output_layer                -   262.144k  \n",
            "-------------------------------------------------------------------------------------------\n",
            "                         Totals\n",
            "Total params           9.53216M\n",
            "Trainable params       9.53216M\n",
            "Non-trainable params        0.0\n",
            "Mult-Adds             18.44224M\n",
            "===========================================================================================\n"
          ],
          "name": "stdout"
        },
        {
          "output_type": "execute_result",
          "data": {
            "text/html": [
              "<div>\n",
              "<style scoped>\n",
              "    .dataframe tbody tr th:only-of-type {\n",
              "        vertical-align: middle;\n",
              "    }\n",
              "\n",
              "    .dataframe tbody tr th {\n",
              "        vertical-align: top;\n",
              "    }\n",
              "\n",
              "    .dataframe thead th {\n",
              "        text-align: right;\n",
              "    }\n",
              "</style>\n",
              "<table border=\"1\" class=\"dataframe\">\n",
              "  <thead>\n",
              "    <tr style=\"text-align: right;\">\n",
              "      <th></th>\n",
              "      <th>Kernel Shape</th>\n",
              "      <th>Output Shape</th>\n",
              "      <th>Params</th>\n",
              "      <th>Mult-Adds</th>\n",
              "    </tr>\n",
              "    <tr>\n",
              "      <th>Layer</th>\n",
              "      <th></th>\n",
              "      <th></th>\n",
              "      <th></th>\n",
              "      <th></th>\n",
              "    </tr>\n",
              "  </thead>\n",
              "  <tbody>\n",
              "    <tr>\n",
              "      <th>0_src_embed</th>\n",
              "      <td>[256, 15765]</td>\n",
              "      <td>[32, 9, 256]</td>\n",
              "      <td>4035840.0</td>\n",
              "      <td>4035840.0</td>\n",
              "    </tr>\n",
              "    <tr>\n",
              "      <th>1_encoder.GRU_rnn</th>\n",
              "      <td>-</td>\n",
              "      <td>[288, 512]</td>\n",
              "      <td>789504.0</td>\n",
              "      <td>786432.0</td>\n",
              "    </tr>\n",
              "    <tr>\n",
              "      <th>2_trg_embed</th>\n",
              "      <td>[256, 13002]</td>\n",
              "      <td>[32, 9, 256]</td>\n",
              "      <td>3328512.0</td>\n",
              "      <td>3328512.0</td>\n",
              "    </tr>\n",
              "    <tr>\n",
              "      <th>3_decoder.Linear_bridge</th>\n",
              "      <td>[512, 256]</td>\n",
              "      <td>[1, 32, 256]</td>\n",
              "      <td>131328.0</td>\n",
              "      <td>131072.0</td>\n",
              "    </tr>\n",
              "    <tr>\n",
              "      <th>4_decoder.attention.Linear_key_layer</th>\n",
              "      <td>[512, 256]</td>\n",
              "      <td>[32, 9, 256]</td>\n",
              "      <td>131072.0</td>\n",
              "      <td>131072.0</td>\n",
              "    </tr>\n",
              "    <tr>\n",
              "      <th>5_decoder.attention.Linear_query_layer</th>\n",
              "      <td>[256, 256]</td>\n",
              "      <td>[32, 1, 256]</td>\n",
              "      <td>65536.0</td>\n",
              "      <td>65536.0</td>\n",
              "    </tr>\n",
              "    <tr>\n",
              "      <th>6_decoder.attention.Linear_energy_layer</th>\n",
              "      <td>[256, 1]</td>\n",
              "      <td>[32, 9, 1]</td>\n",
              "      <td>256.0</td>\n",
              "      <td>256.0</td>\n",
              "    </tr>\n",
              "    <tr>\n",
              "      <th>7_decoder.GRU_rnn</th>\n",
              "      <td>-</td>\n",
              "      <td>[32, 1, 256]</td>\n",
              "      <td>787968.0</td>\n",
              "      <td>786432.0</td>\n",
              "    </tr>\n",
              "    <tr>\n",
              "      <th>8_decoder.Dropout_dropout_layer</th>\n",
              "      <td>-</td>\n",
              "      <td>[32, 1, 1024]</td>\n",
              "      <td>NaN</td>\n",
              "      <td>NaN</td>\n",
              "    </tr>\n",
              "    <tr>\n",
              "      <th>9_decoder.Linear_pre_output_layer</th>\n",
              "      <td>[1024, 256]</td>\n",
              "      <td>[32, 1, 256]</td>\n",
              "      <td>262144.0</td>\n",
              "      <td>262144.0</td>\n",
              "    </tr>\n",
              "    <tr>\n",
              "      <th>10_decoder.attention.Linear_query_layer</th>\n",
              "      <td>[256, 256]</td>\n",
              "      <td>[32, 1, 256]</td>\n",
              "      <td>NaN</td>\n",
              "      <td>65536.0</td>\n",
              "    </tr>\n",
              "    <tr>\n",
              "      <th>11_decoder.attention.Linear_energy_layer</th>\n",
              "      <td>[256, 1]</td>\n",
              "      <td>[32, 9, 1]</td>\n",
              "      <td>NaN</td>\n",
              "      <td>256.0</td>\n",
              "    </tr>\n",
              "    <tr>\n",
              "      <th>12_decoder.GRU_rnn</th>\n",
              "      <td>-</td>\n",
              "      <td>[32, 1, 256]</td>\n",
              "      <td>NaN</td>\n",
              "      <td>786432.0</td>\n",
              "    </tr>\n",
              "    <tr>\n",
              "      <th>13_decoder.Dropout_dropout_layer</th>\n",
              "      <td>-</td>\n",
              "      <td>[32, 1, 1024]</td>\n",
              "      <td>NaN</td>\n",
              "      <td>NaN</td>\n",
              "    </tr>\n",
              "    <tr>\n",
              "      <th>14_decoder.Linear_pre_output_layer</th>\n",
              "      <td>[1024, 256]</td>\n",
              "      <td>[32, 1, 256]</td>\n",
              "      <td>NaN</td>\n",
              "      <td>262144.0</td>\n",
              "    </tr>\n",
              "    <tr>\n",
              "      <th>15_decoder.attention.Linear_query_layer</th>\n",
              "      <td>[256, 256]</td>\n",
              "      <td>[32, 1, 256]</td>\n",
              "      <td>NaN</td>\n",
              "      <td>65536.0</td>\n",
              "    </tr>\n",
              "    <tr>\n",
              "      <th>16_decoder.attention.Linear_energy_layer</th>\n",
              "      <td>[256, 1]</td>\n",
              "      <td>[32, 9, 1]</td>\n",
              "      <td>NaN</td>\n",
              "      <td>256.0</td>\n",
              "    </tr>\n",
              "    <tr>\n",
              "      <th>17_decoder.GRU_rnn</th>\n",
              "      <td>-</td>\n",
              "      <td>[32, 1, 256]</td>\n",
              "      <td>NaN</td>\n",
              "      <td>786432.0</td>\n",
              "    </tr>\n",
              "    <tr>\n",
              "      <th>18_decoder.Dropout_dropout_layer</th>\n",
              "      <td>-</td>\n",
              "      <td>[32, 1, 1024]</td>\n",
              "      <td>NaN</td>\n",
              "      <td>NaN</td>\n",
              "    </tr>\n",
              "    <tr>\n",
              "      <th>19_decoder.Linear_pre_output_layer</th>\n",
              "      <td>[1024, 256]</td>\n",
              "      <td>[32, 1, 256]</td>\n",
              "      <td>NaN</td>\n",
              "      <td>262144.0</td>\n",
              "    </tr>\n",
              "    <tr>\n",
              "      <th>20_decoder.attention.Linear_query_layer</th>\n",
              "      <td>[256, 256]</td>\n",
              "      <td>[32, 1, 256]</td>\n",
              "      <td>NaN</td>\n",
              "      <td>65536.0</td>\n",
              "    </tr>\n",
              "    <tr>\n",
              "      <th>21_decoder.attention.Linear_energy_layer</th>\n",
              "      <td>[256, 1]</td>\n",
              "      <td>[32, 9, 1]</td>\n",
              "      <td>NaN</td>\n",
              "      <td>256.0</td>\n",
              "    </tr>\n",
              "    <tr>\n",
              "      <th>22_decoder.GRU_rnn</th>\n",
              "      <td>-</td>\n",
              "      <td>[32, 1, 256]</td>\n",
              "      <td>NaN</td>\n",
              "      <td>786432.0</td>\n",
              "    </tr>\n",
              "    <tr>\n",
              "      <th>23_decoder.Dropout_dropout_layer</th>\n",
              "      <td>-</td>\n",
              "      <td>[32, 1, 1024]</td>\n",
              "      <td>NaN</td>\n",
              "      <td>NaN</td>\n",
              "    </tr>\n",
              "    <tr>\n",
              "      <th>24_decoder.Linear_pre_output_layer</th>\n",
              "      <td>[1024, 256]</td>\n",
              "      <td>[32, 1, 256]</td>\n",
              "      <td>NaN</td>\n",
              "      <td>262144.0</td>\n",
              "    </tr>\n",
              "    <tr>\n",
              "      <th>25_decoder.attention.Linear_query_layer</th>\n",
              "      <td>[256, 256]</td>\n",
              "      <td>[32, 1, 256]</td>\n",
              "      <td>NaN</td>\n",
              "      <td>65536.0</td>\n",
              "    </tr>\n",
              "    <tr>\n",
              "      <th>26_decoder.attention.Linear_energy_layer</th>\n",
              "      <td>[256, 1]</td>\n",
              "      <td>[32, 9, 1]</td>\n",
              "      <td>NaN</td>\n",
              "      <td>256.0</td>\n",
              "    </tr>\n",
              "    <tr>\n",
              "      <th>27_decoder.GRU_rnn</th>\n",
              "      <td>-</td>\n",
              "      <td>[32, 1, 256]</td>\n",
              "      <td>NaN</td>\n",
              "      <td>786432.0</td>\n",
              "    </tr>\n",
              "    <tr>\n",
              "      <th>28_decoder.Dropout_dropout_layer</th>\n",
              "      <td>-</td>\n",
              "      <td>[32, 1, 1024]</td>\n",
              "      <td>NaN</td>\n",
              "      <td>NaN</td>\n",
              "    </tr>\n",
              "    <tr>\n",
              "      <th>29_decoder.Linear_pre_output_layer</th>\n",
              "      <td>[1024, 256]</td>\n",
              "      <td>[32, 1, 256]</td>\n",
              "      <td>NaN</td>\n",
              "      <td>262144.0</td>\n",
              "    </tr>\n",
              "    <tr>\n",
              "      <th>30_decoder.attention.Linear_query_layer</th>\n",
              "      <td>[256, 256]</td>\n",
              "      <td>[32, 1, 256]</td>\n",
              "      <td>NaN</td>\n",
              "      <td>65536.0</td>\n",
              "    </tr>\n",
              "    <tr>\n",
              "      <th>31_decoder.attention.Linear_energy_layer</th>\n",
              "      <td>[256, 1]</td>\n",
              "      <td>[32, 9, 1]</td>\n",
              "      <td>NaN</td>\n",
              "      <td>256.0</td>\n",
              "    </tr>\n",
              "    <tr>\n",
              "      <th>32_decoder.GRU_rnn</th>\n",
              "      <td>-</td>\n",
              "      <td>[32, 1, 256]</td>\n",
              "      <td>NaN</td>\n",
              "      <td>786432.0</td>\n",
              "    </tr>\n",
              "    <tr>\n",
              "      <th>33_decoder.Dropout_dropout_layer</th>\n",
              "      <td>-</td>\n",
              "      <td>[32, 1, 1024]</td>\n",
              "      <td>NaN</td>\n",
              "      <td>NaN</td>\n",
              "    </tr>\n",
              "    <tr>\n",
              "      <th>34_decoder.Linear_pre_output_layer</th>\n",
              "      <td>[1024, 256]</td>\n",
              "      <td>[32, 1, 256]</td>\n",
              "      <td>NaN</td>\n",
              "      <td>262144.0</td>\n",
              "    </tr>\n",
              "    <tr>\n",
              "      <th>35_decoder.attention.Linear_query_layer</th>\n",
              "      <td>[256, 256]</td>\n",
              "      <td>[32, 1, 256]</td>\n",
              "      <td>NaN</td>\n",
              "      <td>65536.0</td>\n",
              "    </tr>\n",
              "    <tr>\n",
              "      <th>36_decoder.attention.Linear_energy_layer</th>\n",
              "      <td>[256, 1]</td>\n",
              "      <td>[32, 9, 1]</td>\n",
              "      <td>NaN</td>\n",
              "      <td>256.0</td>\n",
              "    </tr>\n",
              "    <tr>\n",
              "      <th>37_decoder.GRU_rnn</th>\n",
              "      <td>-</td>\n",
              "      <td>[32, 1, 256]</td>\n",
              "      <td>NaN</td>\n",
              "      <td>786432.0</td>\n",
              "    </tr>\n",
              "    <tr>\n",
              "      <th>38_decoder.Dropout_dropout_layer</th>\n",
              "      <td>-</td>\n",
              "      <td>[32, 1, 1024]</td>\n",
              "      <td>NaN</td>\n",
              "      <td>NaN</td>\n",
              "    </tr>\n",
              "    <tr>\n",
              "      <th>39_decoder.Linear_pre_output_layer</th>\n",
              "      <td>[1024, 256]</td>\n",
              "      <td>[32, 1, 256]</td>\n",
              "      <td>NaN</td>\n",
              "      <td>262144.0</td>\n",
              "    </tr>\n",
              "    <tr>\n",
              "      <th>40_decoder.attention.Linear_query_layer</th>\n",
              "      <td>[256, 256]</td>\n",
              "      <td>[32, 1, 256]</td>\n",
              "      <td>NaN</td>\n",
              "      <td>65536.0</td>\n",
              "    </tr>\n",
              "    <tr>\n",
              "      <th>41_decoder.attention.Linear_energy_layer</th>\n",
              "      <td>[256, 1]</td>\n",
              "      <td>[32, 9, 1]</td>\n",
              "      <td>NaN</td>\n",
              "      <td>256.0</td>\n",
              "    </tr>\n",
              "    <tr>\n",
              "      <th>42_decoder.GRU_rnn</th>\n",
              "      <td>-</td>\n",
              "      <td>[32, 1, 256]</td>\n",
              "      <td>NaN</td>\n",
              "      <td>786432.0</td>\n",
              "    </tr>\n",
              "    <tr>\n",
              "      <th>43_decoder.Dropout_dropout_layer</th>\n",
              "      <td>-</td>\n",
              "      <td>[32, 1, 1024]</td>\n",
              "      <td>NaN</td>\n",
              "      <td>NaN</td>\n",
              "    </tr>\n",
              "    <tr>\n",
              "      <th>44_decoder.Linear_pre_output_layer</th>\n",
              "      <td>[1024, 256]</td>\n",
              "      <td>[32, 1, 256]</td>\n",
              "      <td>NaN</td>\n",
              "      <td>262144.0</td>\n",
              "    </tr>\n",
              "    <tr>\n",
              "      <th>45_decoder.attention.Linear_query_layer</th>\n",
              "      <td>[256, 256]</td>\n",
              "      <td>[32, 1, 256]</td>\n",
              "      <td>NaN</td>\n",
              "      <td>65536.0</td>\n",
              "    </tr>\n",
              "    <tr>\n",
              "      <th>46_decoder.attention.Linear_energy_layer</th>\n",
              "      <td>[256, 1]</td>\n",
              "      <td>[32, 9, 1]</td>\n",
              "      <td>NaN</td>\n",
              "      <td>256.0</td>\n",
              "    </tr>\n",
              "    <tr>\n",
              "      <th>47_decoder.GRU_rnn</th>\n",
              "      <td>-</td>\n",
              "      <td>[32, 1, 256]</td>\n",
              "      <td>NaN</td>\n",
              "      <td>786432.0</td>\n",
              "    </tr>\n",
              "    <tr>\n",
              "      <th>48_decoder.Dropout_dropout_layer</th>\n",
              "      <td>-</td>\n",
              "      <td>[32, 1, 1024]</td>\n",
              "      <td>NaN</td>\n",
              "      <td>NaN</td>\n",
              "    </tr>\n",
              "    <tr>\n",
              "      <th>49_decoder.Linear_pre_output_layer</th>\n",
              "      <td>[1024, 256]</td>\n",
              "      <td>[32, 1, 256]</td>\n",
              "      <td>NaN</td>\n",
              "      <td>262144.0</td>\n",
              "    </tr>\n",
              "  </tbody>\n",
              "</table>\n",
              "</div>"
            ],
            "text/plain": [
              "                                          Kernel Shape  ...  Mult-Adds\n",
              "Layer                                                   ...           \n",
              "0_src_embed                               [256, 15765]  ...  4035840.0\n",
              "1_encoder.GRU_rnn                                    -  ...   786432.0\n",
              "2_trg_embed                               [256, 13002]  ...  3328512.0\n",
              "3_decoder.Linear_bridge                     [512, 256]  ...   131072.0\n",
              "4_decoder.attention.Linear_key_layer        [512, 256]  ...   131072.0\n",
              "5_decoder.attention.Linear_query_layer      [256, 256]  ...    65536.0\n",
              "6_decoder.attention.Linear_energy_layer       [256, 1]  ...      256.0\n",
              "7_decoder.GRU_rnn                                    -  ...   786432.0\n",
              "8_decoder.Dropout_dropout_layer                      -  ...        NaN\n",
              "9_decoder.Linear_pre_output_layer          [1024, 256]  ...   262144.0\n",
              "10_decoder.attention.Linear_query_layer     [256, 256]  ...    65536.0\n",
              "11_decoder.attention.Linear_energy_layer      [256, 1]  ...      256.0\n",
              "12_decoder.GRU_rnn                                   -  ...   786432.0\n",
              "13_decoder.Dropout_dropout_layer                     -  ...        NaN\n",
              "14_decoder.Linear_pre_output_layer         [1024, 256]  ...   262144.0\n",
              "15_decoder.attention.Linear_query_layer     [256, 256]  ...    65536.0\n",
              "16_decoder.attention.Linear_energy_layer      [256, 1]  ...      256.0\n",
              "17_decoder.GRU_rnn                                   -  ...   786432.0\n",
              "18_decoder.Dropout_dropout_layer                     -  ...        NaN\n",
              "19_decoder.Linear_pre_output_layer         [1024, 256]  ...   262144.0\n",
              "20_decoder.attention.Linear_query_layer     [256, 256]  ...    65536.0\n",
              "21_decoder.attention.Linear_energy_layer      [256, 1]  ...      256.0\n",
              "22_decoder.GRU_rnn                                   -  ...   786432.0\n",
              "23_decoder.Dropout_dropout_layer                     -  ...        NaN\n",
              "24_decoder.Linear_pre_output_layer         [1024, 256]  ...   262144.0\n",
              "25_decoder.attention.Linear_query_layer     [256, 256]  ...    65536.0\n",
              "26_decoder.attention.Linear_energy_layer      [256, 1]  ...      256.0\n",
              "27_decoder.GRU_rnn                                   -  ...   786432.0\n",
              "28_decoder.Dropout_dropout_layer                     -  ...        NaN\n",
              "29_decoder.Linear_pre_output_layer         [1024, 256]  ...   262144.0\n",
              "30_decoder.attention.Linear_query_layer     [256, 256]  ...    65536.0\n",
              "31_decoder.attention.Linear_energy_layer      [256, 1]  ...      256.0\n",
              "32_decoder.GRU_rnn                                   -  ...   786432.0\n",
              "33_decoder.Dropout_dropout_layer                     -  ...        NaN\n",
              "34_decoder.Linear_pre_output_layer         [1024, 256]  ...   262144.0\n",
              "35_decoder.attention.Linear_query_layer     [256, 256]  ...    65536.0\n",
              "36_decoder.attention.Linear_energy_layer      [256, 1]  ...      256.0\n",
              "37_decoder.GRU_rnn                                   -  ...   786432.0\n",
              "38_decoder.Dropout_dropout_layer                     -  ...        NaN\n",
              "39_decoder.Linear_pre_output_layer         [1024, 256]  ...   262144.0\n",
              "40_decoder.attention.Linear_query_layer     [256, 256]  ...    65536.0\n",
              "41_decoder.attention.Linear_energy_layer      [256, 1]  ...      256.0\n",
              "42_decoder.GRU_rnn                                   -  ...   786432.0\n",
              "43_decoder.Dropout_dropout_layer                     -  ...        NaN\n",
              "44_decoder.Linear_pre_output_layer         [1024, 256]  ...   262144.0\n",
              "45_decoder.attention.Linear_query_layer     [256, 256]  ...    65536.0\n",
              "46_decoder.attention.Linear_energy_layer      [256, 1]  ...      256.0\n",
              "47_decoder.GRU_rnn                                   -  ...   786432.0\n",
              "48_decoder.Dropout_dropout_layer                     -  ...        NaN\n",
              "49_decoder.Linear_pre_output_layer         [1024, 256]  ...   262144.0\n",
              "\n",
              "[50 rows x 4 columns]"
            ]
          },
          "metadata": {
            "tags": []
          },
          "execution_count": 59
        }
      ]
    },
    {
      "cell_type": "code",
      "metadata": {
        "id": "m0PonDPQT2Bk"
      },
      "source": [
        ""
      ],
      "execution_count": null,
      "outputs": []
    }
  ]
}