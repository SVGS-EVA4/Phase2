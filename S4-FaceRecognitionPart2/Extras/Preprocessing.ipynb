{
  "nbformat": 4,
  "nbformat_minor": 0,
  "metadata": {
    "colab": {
      "name": "Copy of Session4.ipynb",
      "provenance": [],
      "collapsed_sections": [],
      "include_colab_link": true
    },
    "kernelspec": {
      "name": "python3",
      "display_name": "Python 3"
    }
  },
  "cells": [
    {
      "cell_type": "markdown",
      "metadata": {
        "id": "view-in-github",
        "colab_type": "text"
      },
      "source": [
        "<a href=\"https://colab.research.google.com/github/SVGS-EVA4/Phase2/blob/master/S4-FaceRecognitionPart2/Extras/Preprocessing.ipynb\" target=\"_parent\"><img src=\"https://colab.research.google.com/assets/colab-badge.svg\" alt=\"Open In Colab\"/></a>"
      ]
    },
    {
      "cell_type": "code",
      "metadata": {
        "id": "vScSrfEdjhIb",
        "colab_type": "code",
        "colab": {
          "base_uri": "https://localhost:8080/",
          "height": 34
        },
        "outputId": "b805353a-7d93-42bc-e2d5-6029d10065b7"
      },
      "source": [
        "from google.colab import drive\n",
        "drive.mount('/content/drive')"
      ],
      "execution_count": null,
      "outputs": [
        {
          "output_type": "stream",
          "text": [
            "Drive already mounted at /content/drive; to attempt to forcibly remount, call drive.mount(\"/content/drive\", force_remount=True).\n"
          ],
          "name": "stdout"
        }
      ]
    },
    {
      "cell_type": "code",
      "metadata": {
        "id": "rHadWT7WRl-w",
        "colab_type": "code",
        "colab": {
          "base_uri": "https://localhost:8080/",
          "height": 34
        },
        "outputId": "9c31908c-73f9-43d6-8b24-9266753b3aae"
      },
      "source": [
        "# Total No Of Classes\n",
        "!ls '/content/drive/My Drive/lfw_funneled'| wc -l"
      ],
      "execution_count": null,
      "outputs": [
        {
          "output_type": "stream",
          "text": [
            "5770\n"
          ],
          "name": "stdout"
        }
      ]
    },
    {
      "cell_type": "code",
      "metadata": {
        "id": "iWxSYfXgk335",
        "colab_type": "code",
        "colab": {}
      },
      "source": [
        "import torchvision\n",
        "from torchvision import transforms\n",
        "import torch\n",
        "import os\n",
        "import shutil"
      ],
      "execution_count": null,
      "outputs": []
    },
    {
      "cell_type": "code",
      "metadata": {
        "id": "V5u7Av4CoQOn",
        "colab_type": "code",
        "colab": {
          "base_uri": "https://localhost:8080/",
          "height": 34
        },
        "outputId": "9eff64e3-4dc0-46fd-bb45-327259cb15d0"
      },
      "source": [
        "c = 0\n",
        "num_list = []  # no. of files in each folder\n",
        "folder_list = [] # folder names\n",
        "files = []\n",
        "for i in os.listdir('/content/drive/My Drive/lfw_funneled'):\n",
        "  path = f'/content/drive/My Drive/lfw_funneled/{i}'\n",
        "  if os.path.isdir(path):\n",
        "    num = len(os.listdir(path))\n",
        "    c+=num\n",
        "    num_list.append(num)\n",
        "    folder_list.append(i)\n",
        "    # print(i,num)\n",
        "  else:\n",
        "    # print(i,'file')\n",
        "    files.append(i)\n",
        "print('total',c)"
      ],
      "execution_count": null,
      "outputs": [
        {
          "output_type": "stream",
          "text": [
            "total 13330\n"
          ],
          "name": "stdout"
        }
      ]
    },
    {
      "cell_type": "code",
      "metadata": {
        "id": "QLOBuZcB3o1A",
        "colab_type": "code",
        "colab": {
          "base_uri": "https://localhost:8080/",
          "height": 87
        },
        "outputId": "5898b062-8d32-4234-b984-7f384312b4e3"
      },
      "source": [
        "print(len(num_list))\n",
        "print(sum(num_list))\n",
        "print(num_list)"
      ],
      "execution_count": null,
      "outputs": [
        {
          "output_type": "stream",
          "text": [
            "5759\n",
            "13330\n",
            "[3, 4, 4, 1, 1, 1, 1, 1, 4, 2, 3, 2, 1, 3, 2, 1, 1, 1, 3, 6, 2, 1, 6, 1, 1, 2, 1, 6, 1, 1, 1, 1, 8, 5, 2, 1, 1, 1, 1, 1, 1, 1, 2, 2, 8, 2, 1, 2, 1, 2, 1, 1, 1, 1, 1, 1, 3, 3, 1, 1, 1, 4, 1, 1, 2, 1, 2, 5, 1, 8, 2, 2, 1, 1, 1, 1, 1, 1, 1, 1, 1, 1, 1, 1, 1, 1, 1, 1, 1, 1, 1, 1, 2, 14, 1, 7, 2, 1, 1, 1, 1, 2, 1, 1, 1, 5, 1, 1, 1, 2, 1, 1, 1, 3, 1, 1, 32, 1, 1, 1, 1, 2, 1, 2, 2, 1, 1, 1, 1, 4, 1, 1, 3, 1, 1, 1, 26, 4, 3, 1, 1, 1, 1, 1, 1, 1, 1, 1, 1, 1, 1, 1, 2, 1, 2, 6, 1, 1, 2, 1, 1, 1, 1, 1, 1, 1, 8, 12, 1, 1, 7, 1, 6, 1, 1, 1, 1, 2, 1, 1, 1, 2, 1, 1, 2, 1, 1, 2, 3, 2, 2, 1, 1, 5, 1, 1, 2, 1, 1, 1, 23, 4, 2, 1, 1, 1, 13, 1, 2, 1, 1, 1, 1, 2, 1, 1, 1, 4, 1, 1, 1, 1, 1, 1, 1, 1, 2, 3, 1, 3, 1, 1, 1, 1, 1, 3, 1, 4, 2, 5, 1, 2, 1, 1, 1, 3, 1, 2, 3, 1, 1, 1, 1, 1, 5, 2, 1, 4, 2, 1, 5, 1, 6, 1, 1, 1, 1, 2, 1, 1, 1, 1, 1, 1, 1, 1, 1, 3, 4, 1, 1, 3, 3, 1, 1, 1, 1, 1, 2, 1, 1, 2, 1, 1, 3, 1, 1, 1, 2, 1, 1, 1, 11, 1, 4, 1, 5, 2, 11, 5, 1, 1, 1, 52, 1, 2, 3, 1, 1, 1, 1, 1, 1, 1, 2, 1, 1, 1, 8, 1, 1, 2, 1, 1, 4, 6, 8, 1, 1, 1, 2, 1, 1, 1, 1, 1, 1, 1, 7, 33, 4, 1, 1, 1, 1, 2, 1, 1, 1, 1, 1, 1, 5, 1, 2, 1, 1, 1, 4, 1, 1, 2, 1, 1, 1, 1, 1, 1, 1, 1, 1, 2, 1, 1, 1, 2, 1, 1, 2, 2, 1, 1, 3, 1, 17, 1, 1, 1, 1, 1, 1, 1, 1, 2, 1, 1, 1, 1, 1, 1, 1, 1, 2, 1, 1, 2, 1, 2, 1, 1, 1, 1, 1, 1, 1, 1, 1, 1, 1, 1, 1, 1, 1, 1, 1, 1, 1, 1, 3, 1, 1, 1, 6, 5, 1, 1, 2, 2, 1, 2, 1, 1, 1, 1, 1, 1, 1, 1, 1, 1, 1, 1, 3, 2, 1, 1, 1, 1, 1, 2, 1, 1, 6, 1, 1, 2, 1, 1, 1, 1, 2, 1, 2, 1, 1, 1, 1, 2, 1, 1, 1, 3, 1, 15, 1, 1, 1, 1, 1, 1, 1, 1, 1, 1, 9, 1, 1, 11, 1, 6, 1, 2, 1, 1, 1, 1, 1, 1, 1, 1, 2, 1, 1, 1, 2, 1, 1, 1, 2, 1, 1, 1, 1, 1, 1, 1, 1, 1, 4, 1, 1, 1, 1, 1, 2, 1, 1, 1, 1, 3, 1, 1, 1, 1, 1, 1, 1, 1, 2, 1, 1, 1, 1, 2, 1, 1, 1, 1, 1, 1, 1, 1, 5, 1, 1, 1, 1, 1, 1, 1, 1, 1, 2, 2, 1, 1, 1, 1, 1, 1, 1, 1, 1, 1, 19, 1, 1, 1, 2, 2, 1, 2, 1, 1, 1, 1, 1, 2, 1, 1, 1, 1, 1, 1, 4, 4, 1, 4, 1, 2, 1, 3, 1, 1, 1, 9, 23, 1, 1, 3, 6, 1, 1, 1, 1, 2, 2, 2, 3, 1, 1, 1, 1, 1, 1, 1, 1, 5, 1, 1, 1, 1, 1, 1, 5, 1, 2, 1, 1, 1, 1, 1, 1, 1, 10, 4, 1, 1, 2, 1, 1, 1, 2, 1, 1, 3, 10, 10, 1, 1, 3, 1, 25, 1, 1, 1, 16, 1, 1, 1, 1, 1, 5, 1, 1, 1, 1, 1, 1, 1, 1, 3, 33, 6, 1, 1, 1, 1, 1, 4, 3, 1, 1, 1, 1, 2, 3, 1, 1, 1, 1, 144, 6, 1, 4, 2, 1, 1, 2, 2, 2, 1, 1, 1, 1, 1, 1, 9, 3, 1, 1, 1, 1, 16, 1, 1, 1, 1, 1, 1, 1, 1, 1, 1, 9, 3, 5, 1, 1, 32, 1, 1, 17, 1, 1, 1, 1, 1, 1, 1, 1, 1, 2, 1, 1, 1, 1, 1, 1, 1, 4, 1, 5, 2, 1, 1, 2, 3, 6, 2, 6, 1, 1, 1, 1, 2, 1, 3, 1, 5, 2, 1, 7, 2, 1, 4, 1, 1, 1, 2, 1, 1, 1, 1, 1, 1, 2, 3, 49, 2, 7, 1, 2, 1, 1, 1, 1, 1, 1, 4, 1, 3, 5, 1, 10, 13, 3, 1, 1, 1, 1, 1, 1, 1, 1, 1, 1, 2, 1, 1, 1, 1, 1, 3, 1, 7, 3, 2, 7, 1, 1, 1, 1, 4, 1, 1, 1, 1, 2, 1, 2, 1, 2, 1, 1, 1, 5, 1, 1, 1, 1, 1, 1, 1, 1, 1, 1, 1, 4, 1, 24, 1, 1, 4, 1, 2, 1, 1, 1, 1, 1, 1, 1, 1, 1, 5, 1, 2, 1, 1, 1, 1, 1, 7, 1, 1, 1, 1, 1, 1, 1, 1, 1, 1, 1, 1, 1, 8, 1, 1, 2, 1, 1, 1, 4, 2, 1, 2, 1, 1, 1, 1, 14, 1, 8, 1, 5, 1, 1, 1, 1, 1, 6, 2, 2, 4, 1, 1, 5, 1, 1, 1, 1, 1, 3, 1, 1, 1, 4, 1, 1, 9, 1, 4, 4, 6, 1, 1, 1, 10, 9, 10, 10, 9, 10, 10, 10, 9, 10, 1, 1, 1, 1, 3, 1, 1, 1, 1, 2, 2, 2, 1, 1, 1, 1, 1, 1, 1, 1, 1, 2, 1, 1, 2, 5, 1, 1, 3, 1, 1, 5, 2, 1, 1, 1, 2, 1, 1, 1, 1, 1, 1, 1, 11, 2, 1, 3, 1, 1, 2, 1, 2, 1, 1, 3, 7, 8, 2, 1, 3, 1, 1, 1, 1, 1, 2, 2, 2, 1, 1, 1, 1, 1, 1, 1, 5, 2, 1, 3, 3, 1, 1, 1, 1, 2, 1, 4, 1, 1, 1, 1, 1, 1, 1, 3, 1, 2, 1, 3, 4, 1, 7, 4, 3, 1, 5, 1, 1, 1, 5, 1, 1, 3, 1, 1, 1, 1, 1, 1, 1, 2, 1, 2, 1, 1, 1, 1, 1, 7, 1, 1, 3, 1, 1, 1, 3, 1, 1, 1, 1, 1, 1, 1, 3, 3, 1, 1, 1, 1, 1, 1, 1, 3, 1, 1, 1, 1, 1, 1, 2, 2, 1, 1, 1, 1, 2, 1, 1, 1, 1, 4, 1, 2, 15, 1, 1, 1, 1, 1, 3, 1, 1, 4, 1, 2, 2, 1, 1, 1, 2, 1, 1, 2, 1, 1, 1, 33, 3, 1, 1, 1, 1, 4, 1, 1, 20, 8, 1, 1, 6, 1, 1, 5, 1, 1, 1, 1, 1, 1, 1, 1, 1, 1, 2, 1, 1, 1, 1, 1, 2, 1, 1, 1, 1, 1, 5, 1, 1, 2, 1, 1, 1, 1, 3, 1, 2, 1, 12, 1, 2, 1, 5, 1, 1, 1, 1, 5, 1, 2, 2, 1, 1, 1, 1, 2, 1, 1, 2, 1, 1, 6, 1, 1, 2, 1, 2, 1, 2, 3, 1, 1, 2, 1, 1, 1, 1, 8, 1, 1, 1, 2, 1, 3, 1, 1, 1, 5, 2, 1, 1, 1, 2, 1, 1, 1, 1, 1, 18, 1, 2, 1, 2, 1, 2, 1, 2, 1, 4, 2, 7, 11, 1, 1, 1, 1, 1, 1, 4, 2, 1, 1, 2, 7, 1, 1, 3, 1, 4, 1, 1, 1, 1, 1, 1, 2, 3, 1, 2, 1, 1, 5, 1, 1, 1, 1, 3, 1, 1, 1, 1, 1, 1, 1, 2, 10, 1, 1, 1, 1, 1, 2, 4, 1, 1, 3, 1, 3, 1, 1, 1, 15, 1, 1, 1, 1, 2, 3, 1, 1, 1, 1, 1, 1, 3, 1, 1, 1, 1, 3, 1, 1, 2, 1, 10, 5, 1, 1, 4, 2, 1, 1, 5, 1, 8, 1, 1, 1, 6, 1, 1, 1, 1, 2, 1, 1, 1, 1, 1, 8, 2, 2, 2, 2, 2, 15, 1, 1, 1, 1, 4, 1, 1, 1, 1, 1, 1, 2, 1, 1, 2, 1, 1, 1, 4, 1, 1, 37, 1, 2, 3, 4, 1, 1, 1, 1, 1, 1, 6, 1, 2, 1, 1, 1, 3, 5, 1, 1, 1, 1, 1, 5, 1, 2, 1, 1, 4, 1, 1, 1, 22, 11, 1, 1, 1, 2, 1, 2, 5, 2, 1, 1, 2, 1, 1, 1, 1, 4, 1, 1, 1, 1, 1, 1, 1, 1, 1, 1, 4, 1, 1, 3, 1, 1, 1, 2, 1, 1, 1, 1, 1, 19, 1, 1, 1, 1, 1, 1, 7, 1, 1, 1, 15, 1, 1, 1, 1, 1, 1, 4, 2, 1, 1, 4, 1, 1, 2, 1, 1, 2, 1, 2, 1, 1, 5, 3, 1, 1, 1, 1, 1, 1, 1, 4, 4, 1, 1, 1, 1, 2, 1, 1, 2, 1, 2, 7, 1, 1, 3, 4, 1, 1, 1, 1, 1, 1, 1, 1, 3, 2, 1, 2, 1, 1, 1, 2, 1, 10, 1, 1, 2, 5, 1, 1, 1, 2, 2, 1, 2, 1, 1, 1, 1, 1, 2, 4, 2, 1, 2, 1, 1, 1, 1, 1, 1, 7, 2, 1, 1, 1, 1, 1, 1, 1, 1, 1, 1, 2, 1, 20, 1, 9, 1, 2, 2, 2, 3, 1, 2, 3, 1, 1, 3, 1, 1, 1, 1, 3, 1, 1, 1, 1, 11, 8, 1, 1, 2, 1, 1, 1, 2, 1, 4, 1, 1, 1, 1, 10, 1, 1, 1, 1, 3, 1, 1, 1, 1, 1, 1, 3, 1, 1, 1, 1, 1, 1, 1, 6, 1, 22, 2, 2, 1, 1, 1, 1, 1, 2, 1, 1, 4, 7, 3, 1, 1, 1, 2, 18, 1, 1, 5, 1, 3, 1, 1, 1, 2, 2, 1, 1, 1, 1, 1, 1, 1, 1, 1, 1, 1, 1, 2, 2, 1, 3, 1, 3, 1, 1, 1, 1, 1, 1, 1, 1, 1, 1, 5, 1, 1, 1, 1, 1, 1, 1, 1, 2, 1, 1, 1, 1, 15, 1, 1, 1, 1, 1, 1, 1, 1, 2, 1, 1, 1, 1, 1, 1, 1, 4, 1, 1, 2, 5, 1, 1, 1, 1, 2, 1, 1, 3, 1, 1, 1, 1, 1, 1, 8, 1, 1, 2, 3, 3, 1, 1, 1, 1, 1, 4, 5, 1, 1, 1, 2, 1, 1, 1, 1, 1, 1, 1, 2, 5, 1, 1, 1, 2, 1, 3, 1, 1, 1, 1, 4, 13, 1, 1, 1, 1, 4, 4, 1, 2, 3, 1, 1, 1, 1, 1, 5, 4, 1, 1, 1, 1, 1, 2, 2, 1, 1, 1, 1, 1, 1, 1, 1, 1, 1, 1, 1, 1, 2, 1, 1, 1, 1, 1, 1, 1, 1, 1, 9, 1, 1, 3, 1, 2, 1, 4, 1, 1, 3, 1, 1, 1, 1, 2, 1, 1, 2, 1, 1, 1, 1, 1, 4, 2, 4, 1, 1, 1, 2, 1, 1, 4, 1, 1, 2, 27, 1, 1, 1, 1, 6, 1, 1, 17, 1, 1, 1, 1, 1, 1, 30, 1, 1, 2, 1, 1, 1, 1, 8, 1, 2, 1, 10, 11, 1, 1, 2, 1, 1, 1, 1, 1, 1, 1, 1, 2, 1, 18, 1, 2, 9, 1, 1, 1, 1, 2, 3, 1, 1, 4, 1, 2, 2, 2, 1, 1, 1, 2, 1, 1, 1, 2, 1, 1, 1, 1, 1, 1, 1, 1, 2, 1, 1, 1, 1, 2, 1, 1, 1, 1, 1, 1, 2, 2, 1, 1, 1, 6, 1, 1, 3, 1, 1, 1, 1, 1, 1, 2, 1, 1, 1, 1, 2, 1, 1, 4, 1, 1, 1, 1, 1, 1, 1, 1, 1, 2, 1, 1, 2, 3, 1, 10, 1, 1, 1, 1, 1, 1, 7, 2, 3, 2, 1, 1, 1, 1, 2, 1, 1, 3, 6, 1, 10, 1, 1, 17, 2, 1, 2, 10, 3, 2, 1, 2, 1, 1, 1, 1, 1, 3, 1, 1, 1, 1, 1, 2, 1, 1, 55, 1, 1, 12, 2, 1, 1, 1, 42, 1, 2, 1, 2, 1, 1, 1, 1, 1, 1, 1, 12, 21, 1, 2, 1, 1, 1, 1, 1, 1, 4, 1, 3, 1, 2, 3, 2, 1, 1, 4, 1, 21, 1, 1, 1, 9, 1, 1, 1, 1, 9, 1, 1, 1, 2, 1, 2, 24, 1, 1, 1, 1, 1, 1, 3, 1, 4, 1, 1, 1, 1, 1, 1, 1, 1, 1, 1, 1, 1, 1, 2, 2, 6, 3, 1, 1, 1, 1, 2, 2, 1, 1, 1, 1, 20, 1, 1, 1, 1, 1, 1, 1, 1, 1, 1, 1, 1, 1, 4, 9, 1, 1, 1, 2, 1, 1, 2, 13, 1, 1, 1, 2, 1, 1, 1, 1, 1, 1, 1, 1, 1, 4, 1, 1, 9, 1, 1, 1, 1, 2, 1, 1, 1, 1, 11, 2, 2, 1, 1, 1, 1, 1, 1, 1, 1, 1, 2, 1, 2, 1, 1, 1, 4, 11, 1, 9, 2, 1, 1, 1, 1, 8, 1, 2, 1, 2, 2, 19, 2, 1, 1, 1, 1, 1, 1, 1, 1, 2, 1, 1, 1, 1, 1, 1, 1, 2, 1, 1, 2, 1, 1, 1, 1, 1, 1, 1, 1, 17, 53, 1, 1, 1, 1, 1, 2, 7, 2, 1, 31, 3, 1, 1, 1, 1, 1, 1, 1, 2, 11, 17, 3, 1, 1, 7, 1, 1, 1, 1, 17, 3, 1, 1, 2, 2, 2, 1, 1, 5, 2, 2, 1, 1, 2, 3, 2, 1, 3, 1, 1, 1, 2, 1, 1, 1, 7, 2, 1, 2, 1, 2, 1, 1, 1, 1, 2, 1, 4, 1, 1, 3, 1, 1, 1, 1, 19, 1, 1, 1, 2, 1, 1, 6, 1, 1, 2, 7, 1, 1, 2, 3, 1, 2, 8, 1, 3, 4, 1, 1, 1, 2, 2, 1, 1, 1, 1, 1, 3, 1, 1, 1, 3, 1, 1, 1, 1, 1, 1, 4, 1, 1, 1, 5, 9, 1, 23, 2, 1, 1, 1, 1, 1, 2, 1, 1, 1, 1, 1, 3, 1, 1, 1, 1, 1, 1, 1, 1, 1, 1, 2, 1, 3, 2, 1, 1, 1, 3, 2, 1, 3, 1, 1, 1, 2, 1, 1, 1, 8, 28, 19, 1, 1, 1, 1, 1, 1, 1, 2, 4, 1, 8, 1, 1, 1, 2, 3, 1, 1, 60, 1, 1, 1, 1, 1, 1, 1, 1, 1, 15, 2, 1, 1, 2, 1, 4, 5, 1, 1, 1, 1, 1, 1, 1, 1, 1, 1, 1, 2, 2, 1, 1, 1, 1, 1, 6, 1, 2, 1, 7, 1, 1, 1, 1, 1, 1, 1, 1, 1, 4, 1, 1, 1, 1, 1, 9, 1, 1, 1, 1, 1, 3, 1, 1, 2, 1, 12, 1, 1, 2, 1, 1, 1, 1, 3, 1, 1, 2, 1, 1, 1, 1, 1, 1, 1, 1, 1, 3, 1, 1, 1, 1, 3, 1, 1, 2, 1, 1, 1, 8, 1, 1, 1, 1, 1, 1, 1, 1, 14, 2, 1, 2, 5, 1, 3, 1, 1, 1, 1, 1, 1, 1, 1, 1, 1, 1, 2, 8, 1, 1, 2, 1, 1, 1, 3, 1, 1, 1, 1, 1, 2, 3, 1, 5, 1, 11, 4, 1, 1, 2, 1, 1, 5, 3, 3, 1, 1, 1, 1, 2, 1, 1, 1, 1, 1, 3, 1, 1, 1, 1, 1, 32, 1, 1, 1, 2, 3, 1, 1, 1, 5, 3, 1, 5, 2, 2, 1, 1, 2, 1, 1, 1, 1, 4, 1, 1, 1, 2, 1, 3, 2, 1, 1, 2, 1, 1, 1, 1, 1, 1, 1, 4, 7, 3, 1, 1, 1, 3, 18, 1, 1, 3, 2, 1, 1, 1, 1, 1, 1, 41, 4, 2, 1, 1, 1, 1, 1, 2, 2, 1, 1, 1, 1, 1, 1, 2, 1, 1, 1, 1, 1, 1, 1, 1, 1, 1, 3, 1, 1, 1, 1, 2, 1, 3, 2, 1, 2, 1, 1, 2, 2, 2, 1, 1, 1, 1, 1, 1, 1, 1, 1, 1, 1, 1, 1, 2, 2, 6, 3, 1, 3, 1, 4, 2, 2, 5, 1, 1, 1, 1, 2, 1, 1, 2, 9, 1, 1, 1, 2, 1, 8, 3, 1, 3, 1, 1, 1, 9, 3, 1, 1, 1, 2, 1, 2, 2, 1, 1, 1, 1, 1, 1, 1, 2, 1, 1, 1, 1, 1, 1, 1, 1, 2, 1, 1, 1, 1, 3, 1, 1, 1, 1, 1, 1, 3, 1, 1, 22, 1, 1, 1, 1, 4, 1, 1, 2, 2, 1, 2, 2, 7, 1, 2, 41, 1, 1, 2, 1, 1, 1, 1, 1, 1, 5, 6, 1, 1, 1, 1, 3, 1, 1, 5, 13, 1, 1, 2, 5, 6, 1, 1, 48, 1, 1, 1, 4, 1, 1, 1, 3, 1, 1, 1, 1, 1, 1, 4, 1, 1, 14, 3, 3, 1, 3, 1, 1, 1, 1, 2, 2, 1, 1, 1, 3, 1, 1, 1, 1, 2, 2, 1, 3, 5, 1, 1, 2, 1, 1, 1, 1, 1, 2, 1, 2, 1, 29, 1, 1, 1, 1, 2, 1, 1, 1, 1, 1, 1, 2, 1, 1, 1, 6, 1, 1, 1, 1, 1, 1, 1, 3, 1, 2, 5, 1, 1, 3, 1, 1, 1, 1, 1, 1, 1, 1, 2, 1, 1, 1, 2, 1, 2, 2, 1, 1, 1, 1, 2, 1, 1, 1, 1, 1, 1, 1, 2, 1, 1, 1, 1, 1, 5, 1, 1, 2, 1, 1, 1, 1, 3, 1, 1, 1, 2, 1, 1, 1, 1, 1, 1, 4, 1, 1, 1, 1, 1, 2, 1, 1, 4, 1, 5, 1, 1, 1, 1, 1, 7, 1, 2, 1, 1, 1, 2, 14, 1, 1, 1, 1, 1, 1, 1, 1, 1, 1, 3, 1, 1, 2, 1, 1, 1, 1, 1, 1, 2, 1, 1, 1, 5, 1, 2, 1, 1, 2, 3, 1, 2, 4, 4, 1, 1, 1, 6, 1, 2, 6, 2, 1, 2, 2, 1, 1, 1, 7, 1, 1, 1, 1, 1, 1, 1, 1, 2, 1, 4, 1, 1, 2, 1, 1, 1, 1, 1, 2, 1, 1, 1, 1, 1, 1, 1, 1, 1, 1, 1, 2, 1, 1, 1, 1, 1, 1, 1, 2, 1, 2, 1, 1, 1, 1, 15, 2, 1, 1, 14, 2, 1, 3, 1, 1, 2, 1, 1, 4, 1, 1, 1, 121, 3, 1, 1, 2, 1, 1, 1, 4, 1, 1, 1, 1, 1, 1, 1, 2, 1, 1, 1, 1, 1, 1, 2, 1, 1, 1, 2, 1, 1, 1, 3, 2, 1, 1, 2, 1, 1, 1, 1, 1, 1, 1, 5, 3, 1, 1, 1, 13, 1, 3, 1, 1, 1, 1, 1, 2, 1, 1, 1, 3, 1, 1, 1, 1, 2, 6, 1, 1, 1, 1, 1, 3, 1, 2, 1, 6, 4, 1, 3, 1, 1, 1, 1, 5, 2, 5, 1, 1, 3, 3, 1, 1, 2, 3, 1, 2, 1, 1, 1, 1, 1, 1, 1, 1, 1, 1, 1, 1, 2, 4, 1, 1, 1, 1, 1, 1, 2, 14, 4, 1, 1, 1, 1, 2, 1, 1, 1, 2, 1, 2, 1, 1, 1, 2, 1, 2, 5, 1, 2, 1, 1, 1, 1, 1, 1, 1, 1, 1, 7, 1, 3, 1, 1, 5, 1, 1, 2, 1, 1, 1, 1, 1, 1, 1, 1, 1, 1, 1, 2, 1, 1, 1, 1, 1, 1, 2, 1, 1, 5, 1, 1, 2, 1, 2, 1, 1, 1, 1, 1, 1, 1, 2, 1, 1, 1, 3, 4, 5, 1, 3, 1, 1, 1, 2, 1, 1, 1, 1, 1, 2, 1, 2, 1, 1, 1, 2, 1, 2, 1, 1, 4, 1, 1, 4, 1, 1, 1, 1, 1, 1, 1, 1, 1, 1, 1, 1, 1, 3, 2, 4, 1, 1, 1, 4, 1, 2, 1, 2, 1, 1, 1, 1, 3, 1, 1, 1, 1, 1, 1, 1, 5, 2, 4, 1, 1, 2, 1, 1, 1, 1, 1, 1, 1, 2, 1, 2, 1, 2, 1, 8, 4, 9, 1, 18, 1, 1, 1, 2, 1, 2, 1, 1, 1, 1, 1, 1, 1, 1, 1, 2, 2, 1, 2, 1, 1, 1, 1, 2, 1, 1, 1, 1, 1, 1, 1, 1, 2, 2, 1, 1, 2, 1, 2, 1, 1, 1, 1, 4, 2, 1, 2, 1, 1, 1, 1, 4, 1, 3, 1, 1, 1, 1, 1, 1, 4, 5, 1, 1, 1, 7, 2, 1, 1, 1, 1, 9, 1, 1, 1, 1, 1, 2, 1, 1, 1, 1, 1, 1, 1, 1, 1, 2, 1, 2, 1, 1, 3, 2, 1, 3, 1, 2, 1, 2, 2, 1, 22, 4, 1, 5, 1, 1, 2, 2, 1, 3, 5, 13, 2, 1, 1, 530, 1, 1, 1, 1, 1, 2, 1, 1, 1, 1, 1, 2, 1, 1, 1, 1, 3, 1, 1, 4, 1, 1, 1, 2, 1, 1, 1, 1, 1, 8, 5, 1, 109, 1, 1, 1, 1, 1, 1, 1, 5, 2, 1, 2, 1, 1, 7, 1, 4, 1, 1, 2, 1, 1, 4, 1, 1, 1, 4, 1, 1, 1, 2, 1, 1, 1, 1, 1, 44, 13, 1, 1, 1, 1, 1, 12, 1, 1, 1, 7, 2, 1, 1, 1, 3, 2, 30, 1, 1, 5, 1, 1, 1, 1, 2, 2, 1, 1, 3, 1, 4, 2, 1, 1, 1, 2, 1, 4, 2, 1, 26, 22, 1, 1, 5, 1, 1, 3, 1, 6, 2, 1, 1, 1, 1, 2, 1, 1, 16, 5, 1, 1, 1, 2, 1, 1, 1, 1, 1, 1, 1, 1, 1, 1, 1, 1, 1, 1, 1, 1, 39, 1, 9, 4, 4, 4, 3, 3, 1, 1, 2, 4, 5, 1, 1, 4, 2, 1, 1, 12, 1, 1, 1, 1, 2, 1, 2, 1, 1, 2, 3, 3, 1, 1, 1, 1, 1, 1, 2, 1, 1, 2, 1, 1, 1, 1, 1, 2, 1, 1, 1, 2, 1, 1, 1, 1, 4, 2, 1, 1, 1, 1, 1, 2, 1, 1, 9, 1, 5, 14, 1, 1, 1, 1, 1, 1, 2, 1, 1, 1, 4, 3, 1, 3, 7, 1, 1, 1, 1, 1, 1, 1, 12, 1, 71, 1, 1, 1, 1, 1, 2, 1, 9, 1, 15, 2, 1, 1, 1, 1, 1, 1, 1, 1, 10, 4, 1, 1, 4, 3, 1, 1, 1, 1, 1, 2, 1, 1, 1, 1, 1, 2, 20, 1, 1, 1, 1, 1, 6, 3, 1, 1, 1, 1, 1, 1, 1, 2, 1, 1, 1, 1, 2, 1, 1, 1, 2, 1, 1, 2, 1, 1, 1, 2, 1, 3, 1, 1, 1, 1, 1, 1, 1, 1, 1, 1, 3, 1, 1, 1, 1, 1, 1, 1, 1, 1, 1, 1, 1, 13, 28, 1, 1, 2, 1, 1, 1, 1, 1, 14, 1, 1, 1, 1, 1, 1, 1, 1, 2, 1, 1, 1, 1, 1, 1, 10, 1, 52, 1, 1, 1, 3, 2, 1, 1, 5, 1, 1, 1, 5, 1, 1, 11, 2, 1, 2, 1, 3, 1, 1, 1, 1, 2, 3, 4, 2, 1, 1, 1, 2, 4, 1, 1, 1, 1, 1, 1, 1, 2, 1, 1, 1, 2, 4, 1, 2, 1, 1, 1, 2, 3, 1, 1, 1, 2, 2, 1, 1, 1, 1, 2, 1, 1, 1, 1, 1, 1, 8, 5, 7, 1, 3, 5, 3, 1, 1, 1, 1, 2, 1, 1, 1, 1, 1, 1, 1, 1, 1, 1, 1, 5, 2, 2, 2, 1, 6, 2, 1, 1, 4, 1, 1, 1, 4, 3, 1, 1, 1, 1, 1, 1, 1, 1, 1, 1, 3, 39, 1, 1, 1, 1, 1, 1, 4, 1, 1, 1, 2, 2, 1, 1, 1, 1, 1, 1, 3, 1, 1, 1, 2, 1, 1, 1, 1, 1, 1, 2, 1, 1, 1, 1, 1, 4, 1, 1, 1, 1, 1, 1, 2, 1, 2, 2, 1, 1, 1, 5, 1, 1, 8, 1, 1, 1, 2, 1, 2, 1, 4, 3, 1, 35, 3, 1, 1, 2, 21, 1, 1, 4, 1, 7, 8, 2, 1, 1, 1, 1, 1, 1, 1, 1, 4, 3, 1, 1, 7, 1, 1, 2, 1, 1, 1, 1, 1, 1, 1, 1, 1, 1, 2, 1, 1, 36, 2, 1, 1, 1, 1, 1, 2, 1, 1, 1, 1, 1, 2, 1, 1, 1, 1, 1, 1, 11, 2, 4, 1, 1, 1, 1, 1, 1, 2, 1, 1, 1, 1, 20, 1, 1, 3, 1, 1, 1, 1, 1, 1, 1, 1, 1, 15, 6, 12, 1, 1, 1, 5, 3, 1, 1, 1, 1, 1, 1, 1, 2, 1, 1, 1, 1, 3, 1, 3, 1, 1, 1, 1, 1, 4, 1, 2, 1, 1, 2, 1, 2, 1, 1, 3, 2, 1, 1, 8, 1, 1, 1, 1, 1, 5, 3, 1, 4, 13, 1, 2, 6, 3, 1, 77, 1, 2, 2, 1, 42, 5, 1, 4, 1, 1, 1, 1, 1, 1, 1, 1, 5, 1, 1, 1, 1, 1, 1, 2, 3, 1, 2, 3, 1, 1, 1, 1, 1, 1, 1, 1, 3, 1, 1, 1, 1, 1, 1, 1, 4, 1, 24, 1, 3, 7, 1, 1, 1, 1, 2, 1, 1, 1, 2, 1, 1, 1, 2, 5, 1, 1, 1, 1, 1, 1, 1, 1, 1, 1, 1, 1, 1, 2, 1, 1, 2, 1, 2, 1, 4, 1, 1, 1, 1, 1, 1, 4, 1, 1, 1, 1, 1, 1, 1, 1, 5, 2, 1, 1, 4, 1, 2, 2, 1, 1, 1, 1, 5, 2, 2, 1, 1, 5, 1, 3, 1, 1, 1, 3, 4, 1, 1, 1, 1, 1, 3, 2, 1, 1, 1, 1, 1, 1, 1, 1, 1, 9, 1, 6, 2, 2, 1, 9, 1, 1, 1, 1, 1, 29, 1, 1, 1, 1, 1, 1, 1, 1, 1, 1, 1, 4, 17, 1, 1, 15, 1, 2, 1, 1, 1, 10, 1, 2, 1, 1, 1, 2, 7, 2, 1, 2, 2, 2, 1, 3, 6, 1, 1, 1, 1, 1, 2, 1, 1, 1, 1, 4, 1, 1, 2, 1, 1, 1, 1, 1, 1, 1, 3, 4, 3, 1, 2, 1, 1, 1, 1, 1, 1, 8, 1, 1, 1, 7, 1, 1, 1, 1, 1, 5, 1, 1, 1, 1, 1, 1, 2, 1, 1, 1, 1, 1, 2, 1, 1, 1, 1, 1, 1, 6, 1, 1, 1, 1, 4, 1, 3, 1, 1, 1, 1, 1, 1, 2, 2, 1, 2, 1, 1, 2, 1, 1, 1, 1, 1, 1, 1, 1, 1, 2, 1, 1, 1, 1, 2, 1, 1, 1, 2, 1, 1, 1, 1, 1, 1, 1, 2, 1, 1, 1, 1, 4, 1, 1, 1, 14, 1, 1, 1, 3, 6, 1, 1, 1, 1, 1, 1, 6, 2, 2, 2, 1, 1, 1, 1, 1, 1, 6, 1, 4, 1, 3, 1, 1, 5, 1, 6, 1, 3, 1, 1, 1, 2, 1, 2, 2, 1, 1, 19, 1, 1, 1, 1, 1, 1, 2, 2, 1, 1, 1, 3, 3, 1, 1, 3, 1, 1, 21, 4, 1, 1, 3, 1, 1, 2, 3, 1, 2, 1, 1, 5, 2, 4, 1, 1, 4, 1, 1, 1, 1, 1, 1, 1, 5, 1, 11, 1, 1, 1, 1, 1, 1, 1, 1, 1, 1, 1, 1, 3, 1, 1, 1, 1, 1, 1, 3, 1, 9, 2, 1, 6, 1, 1, 13, 2, 1, 1, 2, 1, 1, 2, 1, 1, 1, 1, 1, 1, 1, 1, 8, 1, 2, 3, 1, 1, 1, 1, 8, 1, 1, 1, 1, 1, 1, 2, 5, 1, 4, 1, 2, 1, 1, 1, 1, 1, 1, 1, 1, 1, 1, 1, 1, 3, 1, 1, 2, 5, 1, 1, 1, 2, 5, 2, 1, 1, 1, 1, 1, 1, 1, 1, 1, 1, 1, 3, 1, 1, 1, 4, 2, 1, 1, 2, 1, 1, 4, 2, 1, 6, 1, 1, 1, 2, 1, 1, 1, 1, 1, 1, 1, 5, 1, 1, 1, 2, 4, 1, 1, 1, 1, 2, 1, 1, 1, 1, 4, 1, 1, 1, 2, 1, 1, 5, 1, 9, 1, 1, 1, 3, 1, 5, 2, 1, 2, 1, 1, 3, 6, 2, 1, 5, 2, 1, 1, 2, 2, 1, 1, 1, 1, 1, 4, 1, 1, 1, 5, 1, 6, 1, 1, 2, 3, 2, 5, 1, 3, 1, 1, 1, 1, 1, 1, 1, 2, 1, 1, 3, 3, 1, 1, 1, 6, 236, 1, 1, 1, 1, 1, 1, 1, 11, 1, 1, 1, 2, 1, 1, 1, 1, 4, 1, 1, 1, 1, 1, 2, 4, 3, 1, 1, 1, 1, 1, 1, 1, 1, 1, 1, 1, 1, 1, 1, 1, 1, 1, 1, 1, 1, 1, 1, 1, 1, 1, 1, 4, 1, 1, 1, 3, 1, 1, 1, 1, 1, 4, 1, 1, 1, 1, 1, 1, 1, 1, 1, 1, 1, 1, 2, 1, 1, 1, 1, 1, 1, 1, 2, 1, 1, 1, 2, 1, 1, 1, 1, 2, 1, 1, 1, 2, 1, 5, 1, 1, 1, 31, 1, 1, 4, 1, 3, 2, 1, 1, 1, 1, 1, 1, 2, 1, 1, 1, 1, 2, 1, 3, 1, 1, 2, 3, 2, 1, 1, 1, 1, 2, 2, 1, 2, 1, 1, 1, 1, 1, 1, 2, 1, 1, 4, 1, 1, 1, 1, 1, 1, 1, 1, 1, 1, 1, 1, 2, 1, 1, 1, 1, 1, 1, 1, 2, 1, 2, 2, 1, 1, 2, 1, 1, 4, 1, 2, 1, 2, 1, 1, 1, 2, 1, 3, 2, 1, 1, 2, 1, 1, 2, 1, 1, 1, 1, 3, 1, 1, 1, 1, 1, 1, 1, 1, 1, 1, 1, 1, 2, 1, 2, 1, 1, 1, 1, 1, 2, 1, 2, 1, 1, 1, 1, 1, 2, 2, 1, 1, 1, 1, 1, 1, 1, 1, 3, 1, 1, 2, 1, 2, 1, 1, 1, 1, 1, 1, 1, 1, 1, 2, 1, 1, 2, 1, 1, 1, 1, 1, 1, 2, 1, 1, 1, 3, 4, 1, 1, 1, 3, 2, 2, 1, 2, 1, 1, 1, 1, 1, 1, 2, 1, 1, 2, 1, 1, 1, 1, 1, 1, 1, 1, 1, 1, 1, 3, 1, 4, 6, 2, 3, 1, 1, 1, 4, 2, 1, 2, 1, 2, 1, 1, 1, 1, 1, 1, 1, 1, 1, 3, 2, 1, 1, 1, 1, 1, 1, 1, 1, 4, 3, 1, 2, 1, 3, 1, 1, 1, 3, 1, 1, 1, 1, 1, 3, 3, 1, 2, 1, 1, 3, 1, 1, 1, 1, 2, 1, 1, 1, 1, 1, 2, 2, 1, 2, 1, 2, 1, 1, 2, 1, 1, 1, 2, 1, 1, 2, 1, 1, 1, 1, 1, 2, 2, 1, 2, 1, 1, 1, 1, 1, 1, 1, 1, 1, 1, 2, 2, 1, 1, 1, 2, 1, 1, 1, 2, 1, 3, 1, 2, 1, 1, 2, 3, 2, 1, 1, 1, 1, 1, 1, 1, 1, 2, 1, 3, 2, 1, 2, 2, 1, 3, 4, 1, 4, 1, 1, 1, 1, 1, 1, 1, 1, 1, 2, 1, 1, 2, 2, 2, 1, 1, 2, 8, 2, 1, 1, 1, 1, 1, 1, 2, 1, 1, 1, 2, 2, 1, 2, 1, 1, 1, 1, 1, 3, 1, 1, 1, 1, 1, 1, 1, 1, 1, 1, 1, 1, 2, 3, 2, 1, 1, 2, 3, 1, 1, 1, 1, 2, 1, 1, 1, 1, 1, 1, 1, 1, 2, 4, 1, 2, 1, 1, 1, 1, 1, 1, 3, 1, 1, 1, 2, 1, 2, 1, 1, 1, 1, 2, 3, 1, 1, 2, 1, 1, 1, 2, 1, 1, 1, 3, 1, 1, 4, 1, 1, 2, 1, 1, 1, 1, 2, 1, 1, 1, 1, 1, 2, 1, 1, 1, 1, 1, 4, 1, 2, 2, 1, 1, 1, 1, 1, 1, 1, 1, 1, 1, 1, 2, 1, 1, 4, 1, 1, 1, 1, 1, 2, 1, 1, 1, 1, 1, 1, 1, 2, 1, 1, 1, 1, 4, 1, 1, 1, 1, 2, 1, 2, 2, 1, 1, 1, 1, 1, 1, 1, 1, 1, 1, 2, 1, 1, 1, 1, 1, 1, 1, 4, 1, 1, 1, 2, 2, 1, 1, 3, 1, 1, 1, 1, 2, 2, 1, 1, 1, 1, 1, 1, 2, 1, 1, 1, 2, 2, 1, 3, 1, 2, 1, 1, 1, 1, 1, 1, 1, 2, 1, 1, 2, 2, 1, 3, 1, 1, 2, 1, 1, 1, 2, 1, 2, 2, 1, 1, 1, 1, 1, 1, 2, 1, 3, 1, 1, 1, 3, 1, 1, 1, 1, 1, 4, 6, 1, 1, 2, 1, 1, 1, 3, 2, 1, 1, 2, 1, 1, 1, 3, 2, 1, 1, 3, 1, 2, 1, 1, 1, 3, 2, 1, 1, 4, 1, 1, 2, 1, 1, 1, 1, 1, 3, 1, 1, 1, 1, 1, 1, 1, 1, 1, 3, 4, 1, 3, 1, 1, 1, 1, 1, 1, 3, 1, 1, 2, 1, 1, 1, 1, 1, 1, 1, 1, 1, 1, 7, 3, 3, 1, 1, 1, 1, 1, 1, 1, 1, 1, 1, 1, 2, 1, 1, 2, 1, 1, 1, 1, 1, 1, 1, 1, 5, 1, 1, 1, 2, 1, 2, 1, 3, 1, 2, 1, 2, 1, 1, 1, 1, 2, 1, 1, 4, 1, 3, 2, 1, 1, 1, 1, 1, 1, 2, 1, 4, 3, 5, 1, 1, 1, 3, 1, 1, 1, 1, 19, 1, 1, 1, 1, 1, 1, 4, 4, 4, 3, 1, 1, 1, 1, 12, 1, 1, 2, 2, 1, 1, 1, 1, 1, 3, 1, 1, 1, 1, 1, 2, 1, 1, 2]\n"
          ],
          "name": "stdout"
        }
      ]
    },
    {
      "cell_type": "code",
      "metadata": {
        "id": "x9aGJQ29qmmn",
        "colab_type": "code",
        "colab": {
          "base_uri": "https://localhost:8080/",
          "height": 218
        },
        "outputId": "48acd165-38f2-4acb-90e2-4f3c60287aaa"
      },
      "source": [
        "print(len(files))\n",
        "files"
      ],
      "execution_count": null,
      "outputs": [
        {
          "output_type": "stream",
          "text": [
            "11\n"
          ],
          "name": "stdout"
        },
        {
          "output_type": "execute_result",
          "data": {
            "text/plain": [
              "['pairs_01.txt',\n",
              " 'pairs_02.txt',\n",
              " 'pairs_03.txt',\n",
              " 'pairs_04.txt',\n",
              " 'pairs_05.txt',\n",
              " 'pairs_06.txt',\n",
              " 'pairs_07.txt',\n",
              " 'pairs_08.txt',\n",
              " 'pairs_09.txt',\n",
              " 'pairs_10.txt',\n",
              " 'pairs.txt']"
            ]
          },
          "metadata": {
            "tags": []
          },
          "execution_count": 5
        }
      ]
    },
    {
      "cell_type": "code",
      "metadata": {
        "id": "hr1WSoohtJmU",
        "colab_type": "code",
        "colab": {
          "base_uri": "https://localhost:8080/",
          "height": 907
        },
        "outputId": "4e169ae8-919c-45ce-a112-cd12210598c6"
      },
      "source": [
        "uniq = set(num_list)\n",
        "for i in uniq:\n",
        "  print(i, num_list.count(i)) # no. of files, no. of folders which that no. of files"
      ],
      "execution_count": null,
      "outputs": [
        {
          "output_type": "stream",
          "text": [
            "1 4069\n",
            "2 779\n",
            "3 291\n",
            "4 187\n",
            "5 112\n",
            "6 55\n",
            "7 39\n",
            "8 33\n",
            "9 29\n",
            "10 22\n",
            "11 16\n",
            "12 10\n",
            "13 11\n",
            "14 10\n",
            "15 11\n",
            "16 3\n",
            "17 8\n",
            "144 1\n",
            "19 7\n",
            "20 5\n",
            "18 5\n",
            "22 5\n",
            "23 3\n",
            "24 3\n",
            "25 1\n",
            "26 2\n",
            "27 1\n",
            "21 4\n",
            "28 2\n",
            "30 2\n",
            "31 2\n",
            "32 3\n",
            "33 3\n",
            "29 2\n",
            "35 1\n",
            "36 1\n",
            "37 1\n",
            "39 2\n",
            "41 2\n",
            "42 2\n",
            "44 1\n",
            "48 1\n",
            "49 1\n",
            "52 2\n",
            "53 1\n",
            "55 1\n",
            "60 1\n",
            "71 1\n",
            "77 1\n",
            "530 1\n",
            "236 1\n",
            "109 1\n",
            "121 1\n"
          ],
          "name": "stdout"
        }
      ]
    },
    {
      "cell_type": "code",
      "metadata": {
        "id": "EJnKYUHZOKIK",
        "colab_type": "code",
        "colab": {
          "base_uri": "https://localhost:8080/",
          "height": 34
        },
        "outputId": "2c7625e3-226c-40da-e496-484a9a613133"
      },
      "source": [
        "uniq = set(num_list)\n",
        "c = 0\n",
        "for i in range(1,9):\n",
        "  c = c+i*num_list.count(i)\n",
        "print(c )"
      ],
      "execution_count": null,
      "outputs": [
        {
          "output_type": "stream",
          "text": [
            "8675\n"
          ],
          "name": "stdout"
        }
      ]
    },
    {
      "cell_type": "markdown",
      "metadata": {
        "id": "OxPtihb8q6Fk",
        "colab_type": "text"
      },
      "source": [
        "No. of images in the folder we added to the LFW dataset"
      ]
    },
    {
      "cell_type": "code",
      "metadata": {
        "id": "-M-0VBsOzxIz",
        "colab_type": "code",
        "colab": {
          "base_uri": "https://localhost:8080/",
          "height": 185
        },
        "outputId": "0e923b33-893b-4239-f41b-8cee1dc89658"
      },
      "source": [
        "print(len(os.listdir('/content/drive/My Drive/lfw_funneled/APJ_Abdul_Kalam')))\n",
        "print(len(os.listdir('/content/drive/My Drive/lfw_funneled/Barack_Obama')))\n",
        "print(len(os.listdir('/content/drive/My Drive/lfw_funneled/Chandler_Bing')))\n",
        "print(len(os.listdir('/content/drive/My Drive/lfw_funneled/Elon_Musk')))\n",
        "print(len(os.listdir('/content/drive/My Drive/lfw_funneled/Joey_Tribianni')))\n",
        "print(len(os.listdir('/content/drive/My Drive/lfw_funneled/Michelle_Obama')))\n",
        "print(len(os.listdir('/content/drive/My Drive/lfw_funneled/Ross_Gellar')))\n",
        "print(len(os.listdir('/content/drive/My Drive/lfw_funneled/Rachel_Green')))\n",
        "print(len(os.listdir('/content/drive/My Drive/lfw_funneled/Pheobe_Buffay')))\n",
        "print(len(os.listdir('/content/drive/My Drive/lfw_funneled/Monica_Gellar')))"
      ],
      "execution_count": null,
      "outputs": [
        {
          "output_type": "stream",
          "text": [
            "9\n",
            "9\n",
            "9\n",
            "10\n",
            "10\n",
            "10\n",
            "10\n",
            "10\n",
            "10\n",
            "10\n"
          ],
          "name": "stdout"
        }
      ]
    },
    {
      "cell_type": "code",
      "metadata": {
        "id": "FD8Dzg2Txbwi",
        "colab_type": "code",
        "colab": {
          "base_uri": "https://localhost:8080/",
          "height": 35
        },
        "outputId": "9489bbcf-28ec-4c51-dec4-8fc90afbecbd"
      },
      "source": [
        "shutil.copytree('/content/drive/My Drive/lfw_funneled','lfw_funneled')"
      ],
      "execution_count": null,
      "outputs": [
        {
          "output_type": "execute_result",
          "data": {
            "application/vnd.google.colaboratory.intrinsic+json": {
              "type": "string"
            },
            "text/plain": [
              "'lfw_funneled'"
            ]
          },
          "metadata": {
            "tags": []
          },
          "execution_count": 31
        }
      ]
    },
    {
      "cell_type": "code",
      "metadata": {
        "id": "OdX0gQOZEmF0",
        "colab_type": "code",
        "colab": {
          "base_uri": "https://localhost:8080/",
          "height": 34
        },
        "outputId": "303892c4-39f2-40d6-b573-4bf1d2033c1f"
      },
      "source": [
        "# Total No Of Classes\n",
        "!ls '/content/lfw_funneled'| wc -l"
      ],
      "execution_count": null,
      "outputs": [
        {
          "output_type": "stream",
          "text": [
            "5770\n"
          ],
          "name": "stdout"
        }
      ]
    },
    {
      "cell_type": "code",
      "metadata": {
        "id": "TZjtw4QdEz5o",
        "colab_type": "code",
        "colab": {
          "base_uri": "https://localhost:8080/",
          "height": 34
        },
        "outputId": "cc780973-4492-4b1d-b320-6f80e37a155b"
      },
      "source": [
        "c = 0\n",
        "for i in os.listdir('/content/lfw_funneled'):\n",
        "  path = f'/content/lfw_funneled/{i}'\n",
        "  if os.path.isdir(path):\n",
        "    num = len(os.listdir(path))\n",
        "    c+=num\n",
        "  else:\n",
        "    pass\n",
        "print('total',c)"
      ],
      "execution_count": null,
      "outputs": [
        {
          "output_type": "stream",
          "text": [
            "total 13330\n"
          ],
          "name": "stdout"
        }
      ]
    },
    {
      "cell_type": "markdown",
      "metadata": {
        "id": "Q86vQHkyqxI_",
        "colab_type": "text"
      },
      "source": [
        "deleting folders with less than 9 images"
      ]
    },
    {
      "cell_type": "code",
      "metadata": {
        "id": "Cn_0611e1Bek",
        "colab_type": "code",
        "colab": {
          "base_uri": "https://localhost:8080/",
          "height": 121
        },
        "outputId": "3bd3c7e8-5893-44cc-9473-d58141ea7f7e"
      },
      "source": [
        "dlist = []\n",
        "dfile_list = []\n",
        "numfiles = 0\n",
        "dirs = os.listdir('/content/lfw_funneled')\n",
        "for i in dirs:\n",
        "  path = f'/content/lfw_funneled/{i}'\n",
        "  if os.path.isdir(path):\n",
        "    num = len(os.listdir(path))\n",
        "    if num < 9:\n",
        "      numfiles +=num\n",
        "      shutil.rmtree(path)\n",
        "      dlist.append(i)\n",
        "  else:\n",
        "    os.remove(path)\n",
        "    dfile_list.append(i)\n",
        "print('Total files deleted',numfiles)\n",
        "print('No of folders deleted:',len(dlist))\n",
        "print('folders deleted: ',dlist)\n",
        "print('No of files deleted:',len(dfile_list))\n",
        "print('files deleted',dfile_list)"
      ],
      "execution_count": null,
      "outputs": [
        {
          "output_type": "stream",
          "text": [
            "Total files deleted 8675\n",
            "No of folders deleted: 5565\n",
            "folders deleted:  ['Billy_Andrade', 'Gordon_McDonald', 'Francis_Crick', 'Tom_Scully', 'David_Bell', 'James_Hallock', 'George_Lucas', 'Makhdoom_Amin_Fahim', 'Linda_Lingle', 'Begum_Khaleda_Zia', 'Gloria_Allred', 'Pyar_Jung_Thapa', 'Richard_Rodriguez', 'Jason_Petty', 'Goran_Zivkovic', 'Krishna_Bhadur_Mahara', 'Chanda_Rubin', 'Michael_Frayn', 'Sharon_Osbourne', 'James_Harris', 'Marc_Leger', 'Paek_Nam_Sun', 'Harvey_Wachsman', 'Marcelo_Bielsa', 'Mike_Cunning', 'Mitchell_Garabedian', 'Stacy_Nelson', 'Claudette_Robinson', 'Vincent_Brooks', 'Mickey_Gilley', 'Mark_Martin', 'Eladio_Larez', 'Robert_Lange', 'Valerie_Thwaites', 'Tex_Ritter', 'Carol_Moseley_Braun', 'Tono_Suratman', 'BB_King', 'Jim_Ahern', 'Yana_Klochkova', 'Brian_Heidik', 'Iain_Anderson', 'Ray_Nagin', 'James_McPherson', 'Estella_Warren', 'Shaul_Mofaz', 'Andrew_Shutley', 'Ibrahim_Hilal', 'Hamad_Bin_Jassim', 'Frederique_van_der_Wal', 'Avril_Lavigne', 'Dora_Bakoyianni', 'Eric_Clapton', 'Taylyn_Solomon', 'Sanjay_Gupta', 'Laura_Pausini', 'Demetrin_Veal', 'Wolfgang_Schneiderhan', 'Donald_Hays', 'Kiki_Vandeweghe', 'Daniel_Chin', 'Maria_Conchita_Alonso', 'Joseph_Fiennes', 'Mark_Bellhorn', 'David_Duval', 'Tom_Foy', 'Jose_Miguel_Aleman', 'Marie-Reine_Le_Gougne', 'Dule_Hill', 'Na_Na_Keum', 'Dwain_Kyles', 'Lenny_Wilkens', 'Einars_Repse', 'Hiroyuki_Yoshino', 'Amy_Redford', 'John_Geoghan', 'Jason_Jennings', 'Rick_Husband', 'Lutz_Freitag', 'Daisy_Fuentes', 'Abraham_Foxman', 'Prince_Felipe', 'Vitali_Klitschko', 'Torri_Edwards', 'Dalia_Rabin-Pelosoff', 'Ted_Costa', 'Brandon_Robinson', 'Ahmet_Demir', 'Billy_Crawford', 'John_Williams', 'Lindsay_Lohan', 'George_McCloud', 'Sheila_Taormina', 'Manfred_Reyes_Villa', 'Chip_Knight', 'Andrea_Bocelli', 'Eugene_Melnyk', 'Ali_Bin_Hussein', 'Takaloo', 'Aldo_Paredes', 'Polona_Bas', 'Douglas_Gansler', 'Paul_Desmarais', 'Kelli_White', 'Jessica_Biel', 'Harvey_Weinstein', 'Brad_Alexander_Smith', 'Lee_Soo-hyuck', 'Thomas_Kelly', 'Sherry_Fisher', 'Spike_Lee', 'Dianne_Reeves', 'Shinzo_Abe', 'Frank_Shea', 'Alexandre_Despatie', 'Sara_Elisabeth_Ahmad', 'Raymond_Arthurs', 'Malik_Mahmud', 'Stella_Keitel', 'Roger_Suarez', 'Kenneth_Branagh', 'Hernan_Diaz', 'Goh_Kun', 'Rolf_Eckrodt', 'Michael_Haneke', 'Priscilla_Presley', 'Scott_Verplank', 'Isabela_Moraes', 'Hamza_Atiya_Muhsen', 'Tian_Liang', 'Roman_Abramovich', 'Bobby_Goldwater', 'Irfan_Ahmed', 'Bertrand_Delanoe', 'Pedro_Velasquez', 'Cecilia_Cheung', 'Marina_Anissina', 'Sue_Grafton', 'Mstislav_Rostropovich', 'Roy_Halladay', 'Chita_Rivera', 'Bonnie_Hunt', 'James_McMahon', 'Dwayne_Williams', 'Christian_Fittipaldi', 'Princess_Masako', 'Don_Carcieri', 'Maurice_Papon', 'Pedro_Mahecha', 'Peter_Greenaway', 'Gunter_Pleuger', 'Jonathan_Edwards', 'Mitzi_Gaynor', 'Jamie_Dimon', 'James_Mathis', 'Hisao_Oguchi', 'Phil_Donahue', 'Stephan_Eberharter', 'Dale_Earnhardt_Jr', 'Richard_Penniman', 'Kim_Jong-Il', 'Paul-Henri_Mathieu', 'Mark_Schweiker', 'Efrain_Rios_Montt', 'Daniel_Radcliffe', 'Chris_Rock', 'Ron_Howard', 'Steve_McManaman', 'Paul_Newman', 'Annika_Sorenstam', 'Stella_McCartney', 'Shoshannah_Stern', 'Frank_Bell', 'Nigel_Redden', 'Ken_Wharfe', 'Naomi_Hayashi', 'Gianni_Agnelli', 'Ismael_Miranda', 'Kimi_Raikkonen', 'Owen_Nolan', 'Richard_Pennington', 'Jimmy_Szymanski', 'Eddy_Hartenstein', 'Olympia_Dukakis', 'Pablo_Latras', 'Carroll_Weimer', 'Allison_Janney', 'Rick_Bland', 'Carlo_Azeglio_Ciampi', 'Franz_Muentefering', 'Cabas', 'Brian_Pavlich', 'John_Ruiz', 'Jaymon_Crabb', 'Michael_Dell', 'Tom_Sizemore', 'Gregorio_Rosal', 'Vernon_Forrest', 'Sonja_Kesselschlager', 'Tubby_Smith', 'Gabriella_Bo', 'Horace_Newcomb', 'Ben_Braun', 'Dick_Vermeil', 'Donna_Walker', 'Michel_Duclos', 'Helen_Alvare', 'Thor_Pedersen', 'Pat_Summerall', 'Gus_Van_Sant', 'Robert_Ehrlich', 'Li_Changchun', 'Luther_Htu', 'Mark_Andrew', 'Matt_Morris', 'Annette_Lu', 'Nancy_Demme', 'Tavis_Smiley', 'Leon_Barmore', 'Lloyd_Mudiwa', 'John_Wright', 'Azra_Akin', 'Art_Howe', 'Anthony_Carter', 'Jim_Anderson', 'Nikolay_Davydenko', 'Wycliffe_Grousbeck', 'Rafidah_Aziz', 'Cherry_Jones', 'Colleen_Ryan', 'AnFernce_Negron', 'Cruz_Bustamante', 'Willie_Nelson', 'Nicolas_Cage', 'Sachiko_Yamada', 'Mary_Zorn', 'John_Walsh', 'Maureen_Kanka', 'Sam_Bith', 'Manuel_Pellegrini', 'Sharon_Stone', 'Danny_Avalon', 'Alisha_Richman', 'Alex_King', 'James_Kirtley', 'Morgan_Freeman', 'Chen_Kaige', 'Ben_Glisan', 'Luis_Ernesto_Derbez_Bautista', 'Brian_Gregory', 'James_Traficant', 'Robert_Durst', 'Erin_Hershey_Presley', 'Michael_Keaton', 'Ann_Morgan', 'Chante_Jawan_Mallard', 'Brian_Florence', 'Francois_Botha', 'Jim_Bollman', 'Christopher_Russell', 'Deece_Eckstein', 'Jay_Leno', 'E_Clay_Shaw', 'Nick_Reilly', 'Marsha_Thomason', 'Eric_Fehr', 'Anibal_Ibarra', 'Daja_Bedanova', 'Kim_Jin-sun', 'Franco_Cangele', 'Larry_Flynt', 'Mike_Tice', 'Tom_Izzo', 'David_Ho', 'Perry_Gibbs', 'Moon-So-ri', 'Allan_Houston', 'Imam_Samudra', 'Juan_Roman_Carrasco', 'Glen_DaSilva', 'Fruit_Chan', 'Peter_Caruana', 'Paul_LeClerc', 'Desmon_Farmer', 'Andrew_Gilligan', 'Monica_Serra', 'Bob_Goldman', 'Agnes_Bruckner', 'Rhett_Warrener', 'Kwame_Kilpatrick', 'Alex_Ferguson', 'Prem_Kumar_Nair', 'Emily_Mortimer', 'John_Duprey', 'George_Pataki', 'Maurice_Strong', 'Vanessa_Redgrave', 'Randy_Travis', 'Rick_Wagoner', 'Moby', 'Kenny_Chesney', 'Mary_Katherine_Smart', 'Hermes_Gamonal', 'Stacey_Jones', 'Viktor_Yushchenko', 'Hideki_Sato', 'Nancy_Smith', 'Kathryn_Bigelow', 'Vicki_Zhao_Wei', 'Janine_Pietsch', 'Tatiana_Shchegoleva', 'Miles_Stewart', 'Desiree_McKenzie', 'John_Wolf', 'Joey_Mantia', 'Sven_Ottke', 'Bill_Guerin', 'Lee_Byung-woong', 'Eloy_Gutierrez', 'Susan_Sarandon', 'SJ_Twu', 'Ascencion_Barajas', 'Aishwarya_Rai', 'Neil_Goldman', 'Dany_Heatley', 'Faisal_Iqbal', 'Tony_Fernandes', 'Kweisi_Mfume', 'Malcolm_Glazer', 'Daniel_Patrick_Moynihan', 'Steve_Patterson', 'Asif_Ali_Zardari', 'Billy_Beane', 'Edward_Lohn', 'Liliana_Cavani', 'Georgi_Parvanov', 'Donna_Morrissey', 'Roy_Moore', 'Brian_De_Palma', 'Ira_Einhorn', 'Tina_Fey', 'Javier_Camara', 'Rod_Paige', 'Stephen_Frears', 'Carina_Lau_Ka-ling', 'Raf_Vallone', 'Earl_Campbell', 'Alexander_Lukashenko', 'Christy_Ferer', 'Amanda_Coetzer', 'Aileen_Riggin_Soule', 'Pauline_Landers', 'Ben_Howland', 'Ken_Watanabe', 'Leslie_Ann_Woodward', 'Adam_Kennedy', 'Gorden_Tallis', 'Maria_Simon', 'Tom_Brennan', 'Jude_Law', 'Daniel_Montenegro', 'Nancy_Greenlaw', 'Roberto_Arguelles', 'Mark_Lazarus', 'Robin_Williams', 'Melinda_Czink', 'William_Swor', 'Fred_Durst', 'Lisa_Ling', 'Anne_ONeil', 'Jane_Riley', 'Susan_Walvius', 'Perry_Compton', 'Hunter_Bates', 'Jerry_Regier', 'Dominik_Garcia-Lorido', 'Mohammad_Hasanein', 'Gary_Locke', 'Raghad_Saddam_Hussein', 'Eva_Herzigova', 'Andrew_Weissmann', 'Gloria_Gaynor', 'Imre_Kertasz', 'Guus_Hiddink', 'Raag_Singhal', 'Judy_Locy', 'Paul_Reiser', 'Joseph_Galante', 'Barry_Williams', 'Shia_LaBeouf', 'Thomas_Mesereau_Jr', 'Mikhail_Wehbe', 'Jose_Genoino', 'Brandon_Knight', 'Larry_Templeton', 'Marina_Silva', 'Donna_Ralston', 'Elizabeth_Regan', 'James_Brazelton', 'Caroline_Kennedy', 'Luis_Figo', 'Stephanie_Cohen_Aloro', 'Bill_Parcells', 'Leuris_Pupo', 'Rulon_Gardner', 'Erwin_Mapasseng', 'Mark_Swartz', 'Beatrice_Dalle', 'Guillermo_Ortiz', 'David_Hannay', 'Sergei_Ivanov', 'Chris_Cornell', 'Anne_Cavers', 'Thomas_Ferguson', 'Zarai_Toledo', 'Eli_Rosenbaum', 'Adriana_Lima', 'Steve_Austin', 'Chris_Moore', 'Colin_Phillips', 'Al_Davis', 'Marlene_Weingartner', 'Ian_Smith', 'Jean-Francois_Lemounier', 'Steven_Briggs', 'Mike_Matheny', 'Amanda_Bynes', 'Richard_Virenque', 'Mark_Gottfried', 'Hugo_Conte', 'Sofia_Milos', 'Chip_Burrus', 'John_F_Kennedy_Jr', 'Carlos_Ghosn', 'Phil_Morris', 'Barbara_Brezigar', 'Raul_Gonzalez', 'Ciaran_Hinds', 'Gregory_Hines', 'Tessa_Jowell', 'Billy_Rork', 'Cole_Chapman', 'Ben_Cahoon', 'Boris_Jordan', 'Rob_Niedermayer', 'Angel_Maza', 'Carly_Fiorina', 'Colleen_Donovan', 'Svetlana_Belousova', 'Earl_Scruggs', 'Nasser_al-Kidwa', 'Tim_Curley', 'Brenda_van_Dam', 'Mario_Gallegos', 'Peggy_McGuinness', 'Alain_Ducasse', 'Edward_Norton', 'Wayne_Allard', 'Thomas_Wyman', 'Ralph_Goodale', 'Steve_Phillips', 'Scott_Wittman', 'Robert_DeFraites', 'Martina_McBride', 'Tom_Coughlin', 'Dyana_Calub', 'Jaromir_Jagr', 'Pamela_Melroy', 'Aretha_Franklin', 'Alan_Greenspan', 'Amelia_Vega', 'Sushma_Swaraj', 'Ion_Tiriac', 'Enrique_Medina_Gomez', 'Elena_Likhovtseva', 'Robert_Kocharian', 'Nora_Bendijo', 'Nick_Nolte', 'Choi_Sung-hong', 'Chuck_Yeager', 'John_Garamendi', 'Karin_Viard', 'Benjamin_Franklin', 'Oliver_Phelps', 'Bob_Newhart', 'Guy_Hemmings', 'Eddie_Fenech_Adami', 'Elizabeth_Berkeley', 'Jeffrey_Pfeffer', 'Katie_Couric', 'Dario_Franchitti', 'Antonio_Cassano', 'Ray_Sherman', 'Alison_Lohman', 'Juan_Ignacio_Chela', 'JK_Rowling', 'Ben_Lee', 'Augusto_Roa_Bastos', 'Eduardo_Romero', 'Omar_Khan_Sharif', 'Jalen_Rose', 'Amber_Frey', 'Kelsey_Grammer', 'Hilmi_Ozkok', 'Peter_Gabriel', 'Claire_Leger', 'Joseph_Salgado', 'Patrik_Kristiansson', 'Dick_Armey', 'Ren_Qingjin', 'Erwin_Abdullah', 'Lord_Hutton', 'Laura_Marlow', 'Chris_Noth', 'Cheryl_Ford', 'Michael_Hoffa', 'Keith_Foulke', 'Brenda_Magana', 'Enrica_Fico', 'Boris_Trajkovski', 'Mayumi_Moriyama', 'Robert_Hyatt', 'Jim_Hahn', 'Janela_Jara', 'Jose_Vicente_Rangel', 'Javier_Delgado', 'Sanja_Papic', 'Chuck_Hagel', 'Jose_Mourinho', 'Alan_Trammell', 'Alanis_Morissette', 'Kathy_Baker', 'Antonio_Palocci', 'John_Sidgmore', 'Max_Mayfield', 'Thomas_Scavone', 'Alex_Cabrera', 'Vanessa_Incontrada', 'Timothy_Coughlin', 'Paul_Henderson', 'Kenneth_Bowersox', 'Tirunesh_Dibaba', 'Jaap_de_Hoop_Scheffer', 'Kirby_Puckett', 'Shingo_Suetsugu', 'Lou_Reed', 'Hushiar_Zebari', 'Vyacheslav_Fetisov', 'Buford_Blount', 'Sadam_Hassan', 'Howard_Wilkinson', 'Jerome_Jenkins', 'Michael_Doleac', 'Charlotte_Church', 'Jim_Letten', 'Melissa_Mulloy', 'Scott_Rudin', 'Joseph_Lopez', 'Della_Clara', 'Hashan_Tillakaratne', 'Chris_Reitsma', 'Lisa_Raymond', 'Tom_McClintock', 'Jodie_Henry', 'Andy_Perez', 'Phillip_Seymor_Hoffmann', 'Larry_Thompson', 'Laura_Flessel', 'Tony_Cummo', 'Joe_Plumeri', 'Manuel_Gehring', 'Mohamed_Hammam', 'Mitoji_Yabunaka', 'Jamie_Villafane', 'Roy_Blunt', 'Dennis_Kucinich', 'Gao_Qiang', 'Tom_Brady', 'Marina_Hands', 'Fred_Wilpon', 'Ms_Dynamite', 'Rick_Perry', 'Robert_Stack', 'Stefano_Gabbana', 'Peter_Goldmark', 'James_Wattana', 'Iain_Richmond', 'Kelly_Ripa', 'Abid_Hamid_Mahmud_Al-Tikriti', 'Linda_Baboolal', 'Billy_Joel', 'Jo_Joong-hyon', 'Charles_Bell', 'Gordon_Lightfoot', 'Natalia_Motuziuk', 'Ali_Khamenei', 'Julia_Ormond', 'Ramon_Ponce_de_Leon', 'Din_Samsudin', 'Geraldine_Chaplin', 'John_McEnroe', 'Bill_Fennelly', 'David_Kelly', 'Lane_Bryant', 'Boris_Berezovsky', 'Bob_Herz', 'Richard_Tubb', 'Mike_Maroth', 'Hugh_Jessiman', 'Alfredo_di_Stefano', 'Alberto_Fujimori', 'Elvis_Stojko', 'Mary_Catherine_Correll', 'Claire_Tomalin', 'Darryl_McDaniels', 'Dan_LaCoutre', 'Neri_Marcore', 'Basdeo_Panday', 'Paul_Lo_Duca', 'Ernest_Hollings', 'Dinah_Turner', 'Bryant_Young', 'Stephen_Thompson', 'Marcio_de_Souza', 'Hermann_Maier', 'Janet_Napolitano', 'Fujio_Cho', 'John_Norquist', 'Thomas_Birmingham', 'Martin_McCauley', 'Michael_Broad', 'Ingrid_Betancourt', 'Ron_Dittemore', 'David_Brown', 'Tyler_Hamilton', 'Yang_Jianli', 'Ziwang_Xu', 'Vinnie_Jones', 'Brooke_Shields', 'Romain_Duris', 'Surakait_Sathirathai', 'Viola_Davis', 'Charley_Armey', 'Marty_Mornhinweg', 'Dick_Clark', 'Anna_Faris', 'Paul_Murphy', 'Ryan_Leaf', 'Trevor_McDonald', 'Robert_F_Kennedy_Jr', 'Joan_Claybrook', 'Mark_Everson', 'William_Hurt', 'Ronald_Perelman', 'Lidija_Djukanovic', 'James_Coviello', 'Phil_Vassar', 'Nursultan_Nazarbayev', 'Rob_Moore', 'Jose_Woldenberg', 'Gong_Ruina', 'Paulo_Cesar_Pinheiro', 'Debra_Shank', 'David_Heyman', 'Ashley_Judd', 'Jody_Richards', 'Randall_Tobias', 'Gina_Gershon', 'Reina_Hayes', 'Curtis_Joseph', 'Mario_Cipollini', 'Noer_Muis', 'Ignatius_Wang', 'Ruth_Harlow', 'Steve_Wariner', 'Herta_Daeubler-Gmelin', 'Jim_Flaherty', 'Orlando_Bloom', 'Nicolas_Sarkozy', 'Daniel_Kurtzer', 'Emma_Thompson', 'Elizabeth_Taylor', 'Audrey_Lacroix', 'Jenna_Elfman', 'Alfonso_Cuaron', 'John_White', 'Alicia_Molik', 'Giancarlo_Fisichella', 'Sahim_Alwan', 'Paul_Li_Calsi', 'Omar_el-Heib', 'Frank_Pallone', 'Richard_Greenberg', 'Steve_Redgrave', 'Brook_Robinson', 'Brian_Kerr', 'Hal_McCoy', 'Mary_Anne_Souza', 'David_Blaine', 'Chen_Liang_Yu', 'Carlos_De_Abreu', 'Wilton_Gregory', 'Richard_Jefferson', 'Darrell_Porter', 'Maria_Wetterstrand', 'Kultida_Woods', 'Nadine_Vinzens', 'Jules_Asner', 'Sandra_Bullock', 'Grace_Dodd', 'Bob_Hartley', 'John_Philip_Elkann', 'Laurence_Tribe', 'Ed_Mekertichian', 'Jean-Pierre_Bemba', 'Michael_Arif', 'Chris_Forsyth', 'Dick_Bennett', 'Freddy_Garcia', 'Rachel_Kempson', 'Nastia_Liukin', 'Fayssal_Mekdad', 'Dan_Bylsma', 'Oscar_DLeon', 'Shafal_Mosed', 'John_Dallager', 'Chawki_Armali', 'Thomas_Fargo', 'Alex_Sink', 'Eliott_Spitzer', 'Lew_Rywin', 'Kyle_McLaren', 'Todd_Haynes', 'Michelle_Branch', 'Jose_Alencar', 'Jim_Tressel', 'Osrat_Iosef', 'Prospero_Pichay', 'Talisa_Soto', 'Pierre_Van_Hooijdonk', 'Lawrence_Di_Rita', 'Madeleine_Albright', 'Steven_Hatfill', 'Jeff_Feldman', 'Jose_Luis_Rodriguez_Zapatero', 'Jeffery_Hendren', 'Juan_Sanchez', 'Seydou_Diarra', 'James_McGreevey', 'Jerry_Pauley', 'Carlos_Bianchi', 'Aidan_Quinn', 'Tim_Welsh', 'Sammy_Knight', 'Matt_Anderson', 'Mirela_Manjani', 'Jesse_James', 'Vladimir_Spidla', 'Raul_Rivero', 'Mohammad_Al-Sharief', 'Janet_Crawford', 'Elliott_Mincberg', 'Katerina_Smrzova', 'Nancy_Humbert', 'Matt_Roney', 'Robert_Evans', 'Gary_Condit', 'Omar_Sharif', 'Tiago_Splitter', 'Brian_Henson', 'Andy_Madikians', 'Joe_Calzaghe', 'Daniele_Bergamin', 'Parris_Glendening', 'Patrick_Clawsen', 'Bill_Parsons', 'Andre_Techine', 'Morgan_Hentzen', 'Nicole_Hiltz', 'Drew_Barrymore', 'Hal_Sutton', 'Jorma_Huhtala', 'Dimitar_Berbatov', 'Jamie_Cooke', 'Paul_Johnson', 'Princess_Aiko', 'Calbert_Cheaney', 'Ron_Zook', 'Nelson_Shanks', 'Dieter_Zetsche', 'Peter_Chan', 'Lance_Bass', 'Ari_Bousbib', 'Nobuyuki_Idei', 'Jack_Grubman', 'Don_Boudria', 'Mary_Lou_Retton', 'Petro_Symonenko', 'Hector_Mitelman', 'Candace_Sutton', 'Jeanne_Moreau', 'Juanes', 'Troy_Aikman', 'Princess_Stephanie', 'Enrique_Haroldo_Gorriaran_Merlo', 'Mariana_Pollack', 'Mary_Bono', 'Samira_Makhmalbaf', 'Rohman_al-Ghozi', 'Park_Jung_Sung', 'Linn_Thornton', 'Cho_Myung-kyun', 'Candie_Kung', 'Chok_Tong_Goh', 'Shobha_De', 'Geovani_Lapentti', 'Stephen_Crampton', 'Stephen_Keener', 'Lee_Ann_Knight', 'Christian_Von_Wernich', 'John_Prescott', 'Luis_Gonzalez', 'Julie_Infante', 'Ruth_Pearce', 'Kaspar_Villiger', 'Fabricio_Oberto', 'Thad_Matta', 'Nancy_Sinatra', 'Katie_Holmes', 'Shaun_Rusling', 'Uri_Lopolianski', 'Peter_Fisher', 'Zach_Pillar', 'Ahmad_Jbarah', 'Maureen_Fanning', 'Jeremy_Gompertz', 'Yevgeny_Kafelnikov', 'Theo_Angelopoulos', 'Casey_Crowder', 'Juan_Pablo_Montoya', 'John_Paul_DeJoria', 'Fabiola_Zuluaga', 'Asa_Hutchinson', 'Yann_Martel', 'Lou_Ye', 'William_Ragland', 'Felipe_Perez_Roque', 'James_Smith', 'Charles_Pickering', 'Robert_Kipkoech_Cheruiyot', 'Steve_Lenard', 'Sheila_Fraser', 'Paul_Wilson', 'Mohammad_Mustapha_Miro', 'Catherine_Deneuve', 'Bill_Walton', 'Bob_Alper', 'Shane_Hmiel', 'Tayshaun_Prince', 'Nastassia_Kinski', 'Craig_Burley', 'Nancy_Reagan', 'Jane_Krakowski', 'Svetoslav_Todorov', 'Derrick_Taylor', 'Michael_Hagee', 'Jose_Jose', 'Mark_Polansky', 'Gene_Autry', 'Stuart_Knoll', 'Almeida_Baptista', 'Dirk_Kempthorne', 'Eddie_Compass', 'Lyle_Vanclief', 'David_Montoya', 'Princess_Victoria', 'Alessandro_Nesta', 'Alan_Zemaitis', 'Lee_Yuan-tseh', 'Patrick_Stewart', 'Olesya_Bonabarenko', 'Allan_Kemakeza', 'Henri_Proglio', 'Kevin_Borseth', 'Osmond_Smith', 'Gus_Frerotte', 'Lee_Jun', 'Jamie_Kellner', 'Armando_Calderon_Sol', 'Anna_Chicherova', 'Mike_Duke', 'Roberto_Laratro', 'Mikhail_Khodorkovsky', 'Costas_Simitis', 'Claire_Hentzen', 'Janet_Leigh', 'Jim_Talent', 'Chuck_Woolery', 'Jim_OBrien', 'Kaisser_Bazan', 'Herb_Ritts', 'Sandra_Shamas', 'Marisol_Martinez_Sambran', 'Eric_Lloyd', 'Dave_Ragone', 'Randy_Johnson', 'Billy_Boyd', 'Dave_Johnson', 'Eric_Shinseki', 'Edouard_Michelin', 'GL_Peiris', 'Mark_Stuart', 'Carlos_Arroyo', 'Bertie_Ahern', 'Donald_Regan', 'Liu_Xiaoqing', 'Taoufik_Mathlouthi', 'Bruce_Springsteen', 'Mike_Fisher', 'Miguel_Estrada', 'Ai_Sugiyama', 'Tia_Mowry', 'Carey_Lowell', 'Rene_Antonio_Leon_Rodriguez', 'Ulrich_Kueperkoch', 'Ruben_Studdard', 'Marc_Gold', 'Michael_Peat', 'Anna_Jones', 'Joe_Gatti', 'Tony_Shalhoub', 'Romario_Farias', 'Rollie_Massimino', 'Aby_Har-Even', 'Li_Ruihuan', 'Brian_Jordan', 'Ishaq_Shahryar', 'David_Millar', 'Laura_Gobai', 'Carmen_Electra', 'Stacey_Dales-Schuman', 'Roberto_Marinho', 'Keith_Lockhart', 'Abdel_Nasser_Assidi', 'Evelyn_Lauder', 'John_Salazar', 'Farouk_Kaddoumi', 'Horst_Koehler', 'Patty_Schnyder', 'Ted_Nolan', 'Wes_Craven', 'Juergen_Trittin', 'Gregory_Geoffroy', 'Khum_Bahadur_Khadka', 'Rick_Lu', 'Ricardo_Lopez_Murphy', 'Zaini_Abdullah', 'Jacob_Frenkel', 'Jan_van_Breda_Kolff', 'William_Macy', 'Guy_Ritchie', 'Bart_Freundlich', 'Robert_Horan', 'David_Alpay', 'David_Canary', 'Fazal-ur-Rehman', 'Paul_Gascoigne', 'Sarah_Wynter', 'Nuon_Chea', 'Bilal_Erdogan', 'John_Stallworth', 'Sherry_Irving', 'Ismail_Khan', 'Kjell_Magne_Bondevik', 'Joe_Cravens', 'Ashanti', 'Yao_Ming', 'Cathryn_Crawford', 'Kang_Gum-sil', 'Kathryn_Morris', 'Sandy_Wise', 'Natalie_Stewart', 'Jen_Schefft', 'Curtis_Rodriguez', 'Picabo_Street', 'Guangdong_Ou_Guangyuan', 'Diana_Silvius', 'Meg_Wakeman', 'Natalie_Imbruglia', 'Ciro_Gomes', 'Adam_Rich', 'Amy_Pascal', 'Joey_Buttafuoco', 'Emmanuelle_Jagodsinski', 'Kurt_Budke', 'Bob_Petrino', 'Billy_Gilman', 'Kirk_Ferentz', 'Hassan_Wirajuda', 'Robert_Mueller', 'Sven_Goran_Eriksson', 'Bobby_Bowden', 'Susie_Castillo', 'Franklin_Brown', 'Christina_Aguilera', 'Karol_Kucera', 'Cora_Cambell', 'Michael_Shane_Jolly', 'Paula_Prentiss', 'Randy_Jackson', 'Sherri_Coale', 'Hilda_Fortune', 'Charles_Lebois', 'Kristin_Chenoweth', 'Mark_Hogan', 'Jerry_Bruckheimer', 'Clare_Latimer', 'Michael_Linscott', 'Mark_Foley', 'Carol_Carmody', 'Carolyn_Kuhl', 'Rohinton_Mistry', 'Franko_Simatovic', 'Ray_Lucas', 'Bryan_Murray', 'Greg_Gilbert', 'Rick_Reed', 'Michael_Lopez-Alegria', 'Nicolas_Latorre', 'Jada_Pinkett_Smith', 'Donald_Keyser', 'Jim_Sterk', 'Joy_Lee_Sadler', 'Joseph_Ralston', 'Jacqueline_Marris', 'Sally_Ride', 'Larry_Wilmore', 'John_McKay', 'Steve_Karsay', 'Paula_Abdul', 'Solomon_Passy', 'Lynne_Slepian', 'Hayden_Panettiere', 'Odai_Hussein', 'Dave_Wannstedt', 'Sue_Johnston', 'Dean_Sheremet', 'Fernando_Alonso', 'Jeremy_Fogel', 'Chris_Hernandez', 'Pele', 'Yishan_Zhang', 'Gerard_Depardieu', 'Lionel_Hampton', 'Emyr_Jones_Parry', 'Bill_King', 'Elena_Dementieva', 'LeAnn_Rimes', 'Maria_Bello', 'Charles_Holzner', 'Zavad_Zarif', 'Flavia_Pennetta', 'Philip_Zalewski', 'Janet_Thorpe', 'James_Meeks', 'Franco_Dragone', 'Pat_Burns', 'Zhong_Nanshan', 'Jim_Fassel', 'John_McCain', 'Heidi_Fleiss', 'Wilson_Alvarez', 'Jacqueline_Obradors', 'John_Thune', 'Dawn_Staley', 'Derek_Abney', 'Queen_Beatrix', 'Chan_Choi', 'Carlos_Queiroz', 'Joe_Glover', 'Jeffrey_Jones', 'James_Williams', 'Russell_Simmons', 'Andrei_Nikolishin', 'Helmut_Panke', 'Milt_Heflin', 'Christian_Malcolm', 'Stephen_Webster', 'Landon_Donovan', 'Carrie-Anne_Moss', 'Sheila_Wellstone', 'Saied_Hadi_al_Mudarissi', 'Mitchell_McLaughlin', 'Johnny_Tapia', 'Luis_Berrondo', 'Khin_Nyunt', 'Pringe_Ernst_August', 'Gabi_Zimmer', 'Christian_Lacroix', 'Sargis_Sargsian', 'Warren_Buffett', 'Eric_Rosser', 'Brandon_Lloyd', 'David_Dewayne_Williams', 'Georgina_Papin', 'Andrea_Kiser', 'Gary_Bald', 'Jay_Garner', 'Bobby_Jackson', 'Mohammed_Abulhasan', 'Laurent_Gbagbo', 'Rien_Long', 'Enrique_Bolanos', 'Tim_Duncan', 'Steve_Allan', 'Robert_Wagner', 'Tom_DeLay', 'Marcus_Allen', 'Bob_Taft', 'Miguel_Jimenez', 'Christopher_Reeve', 'Don_Flanagan', 'Yu_Shyi-kun', 'Sadie_Frost', 'Tina_Andrews', 'Jim_Haslett', 'Brian_Grazier', 'Ronald_Kessler', 'Hisashi_Owada', 'Tracy_Wyle', 'Vince_Gill', 'Lucio_Angulo', 'Ali_Mohammed_Maher', 'Gen_Meredith', 'Naoto_Kan', 'Mickey_Rooney', 'Giselle_Estefania_Tavarelli', 'William_Webster', 'William_Cocksedge', 'Tristan_Gretzky', 'Stuart_Whitman', 'Mark_Gangloff', 'Ewan_McGregor', 'Luc_Montagnier', 'Ricardo_Maduro', 'Marc_Shaiman', 'Spike_Jonze', 'Michael_Chang', 'Joan_Collins', 'Carson_Palmer', 'John_Reid', 'Dan_Duquette', 'Jim_Otto', 'Kim_Dong-tae', 'Gregor_Gysi', 'Tommy_Haas', 'Kevin_Nealon', 'Jerry_Lewis', 'Justin_Gatlin', 'Minnie_Mendoza', 'Devin_Harris', 'Paula_Dobriansky', 'Marquis_Estill', 'John_Travolta', 'Sergei_Yushenkov', 'Joe_Dumars', 'Sheryl_Crow', 'Laura_Ziskin', 'Julie_Goodenough', 'Joaquim_Rodriguez', 'Alejandro_Fernandez', 'Bob_Riley', 'Ana_Paula_Gerard', 'Rachel_Griffiths', 'Steve_Avery', 'Wang_Fei', 'Peter_Fonda', 'Gaston_Gaudio', 'Ronald_Harwood', 'Tim_Robbins', 'Chung_Mong-joon', 'Derrick_Rodgers', 'Hipolito_Mejia', 'Gael_Garcia_Bermal', 'Bill_Nelson', 'Henry_Hilow', 'Ivan_Stambolic', 'Will_Self', 'Ward_Cuff', 'Vladimir_Meciar', 'Rob_Morrow', 'Charlton_Heston', 'Mark_Leno', 'Linda_Dano', 'Alexis_Bledel', 'Tom_Coverdale', 'Richard_Shelby', 'Lemuel_Montulo', 'Jimmy_Lee', 'Ray_Wasden', 'Roberto_Cercelletta', 'Matt_Damon', 'John_Herrington', 'Adolfo_Rodriguez_Saa', 'Kevin_Garnett', 'Chris_Whitney', 'Glen_Clark', 'Nick_Turner', 'Tonga', 'Kyoko_Nakayama', 'Marisol_Breton', 'Pete_Aldridge', 'Angelo_Genova', 'Raja_Ramani', 'Suh_Young-hoon', 'Jimmy_Iovine', 'Lara_Logan', 'Princess_Hisako', 'LeRoy_Millette_Jr', 'Stipe_Mesic', 'Randy_Ferbey', 'Elisabeth_Welch', 'Rena_Sofer', 'Caroline_Dhavernas', 'Steve_Rush', 'Andre_Lange', 'Jerry_Sexton', 'Bak_Chang-Ryun', 'Jeffrey_Scott_Postell', 'Daniel_Pearl', 'Patrick_Kron', 'Molly_Sims', 'Vince_Dooley', 'Larry_Campbell', 'David_Arquette', 'Herb_Brooks', 'Lionel_Chalmers', 'Sofyan_Dawood', 'William_Morrow', 'John_Belushi', 'David_Chase', 'Mark_Hurlbert', 'Ramon_Cardenas', 'Masamori_Tokuyama', 'Carla_Sullivan', 'Barbara_Becker', 'Fredric_Seaman', 'Sylvia_Plachy', 'Justin_Guarini', 'Oxana_Fedorova', 'Paula_Locke', 'Dorthy_Moxley', 'JC_Chasez', 'Jean-Francois_Pontal', 'Assad_Ahmadi', 'Robert_McKee', 'Jeff_Schiffner', 'Kirsten_Gilham', 'James_Barksdale', 'Kurt_Hellstrom', 'Willie_Wilson', 'Carlos_Beltran', 'Steve_Cox', 'Donald_Anderson', 'Peter_Bacanovic', 'Bill_Callahan', 'David_Hanson', 'Michael_Patrick_King', 'Fred_Rogers', 'Craig_MacTavish', 'Qian_Qichen', 'Dick_Posthumus', 'Darrell_Royal', 'Fernando_Hierro', 'Rodolfo_Abalos', 'Mary_Matalin', 'Fiona_Milne', 'Woodrow_Stanley', 'Michael_Rolinee', 'Calvin_Harrison', 'Tab_Turner', 'Frederick_Madden', 'Richard_Parsons', 'Michalis_Chrisohoides', 'Maggie_Smith', 'Naomi_Campbell', 'Mahendra_Chaudhry', 'Davey_Johnson', 'Mireille_Jospin-Dandieu', 'Kenneth_Cooper', 'Jerry_Springer', 'Jim_Parque', 'James_Comey', 'Santiago_Botero', 'Rose_Linkins', 'Horace_Donovan_Reid', 'Brian_Campbell', 'Rainer_Geulen', 'Anne_Krueger', 'Kenneth_Carlsen', 'Jafar_Umar_Thalib', 'Natalie_Coughlin', 'Hernan_Crespo', 'Rod_Bryden', 'Hans-Christian_Schmid', 'Linda_Amicangioli', 'Sam_Gerald', 'Javier_Vargas', 'Jennifer_Rodriguez', 'Faisal_Saleh_Hayat', 'Jeremy_Shockey', 'Stanley_McChrystal', 'Robert_Hanssen', 'David_Dorfman', 'Jeanette_Stauffer', 'Judy_Genshaft', 'Oliver_Neuville', 'Inam-ul-Haq', 'James_Murdoch', 'Michael_Denzel', 'Daryl_Hannah', 'Dita_Von_Tesse', 'Edward_Kennedy', 'Albert_Costa', 'Tommy_Lewis', 'Phillip_Fulmer', 'Carlos_Alberto_Parreira', 'Keith_Brown', 'Kenenisa_Bekele', 'Don_Nickles', 'Baz_Luhrmann', 'Frank_Sinatra', 'Peter_OToole', 'Dolma_Tsering', 'Takeo_Hiranuma', 'Arnoldo_Aleman', 'Eliza_Dushku', 'Irene_Kahn', 'Sandra_Ceccarelli', 'Mike_Holmgren', 'Vidar_Helgesen', 'Mary_Jo_Myers', 'Patti_Labelle', 'Sasha_Cohen', 'Richard_Haass', 'Terri_Clark', 'Anastasia_Kelesidou', 'James_Gibson', 'Helen_Clark', 'Steven_Spielberg', 'Veronica_Lake', 'Fabrice_Santoro', 'Alex_Corretja', 'Kirk_Douglas', 'Danny_Morgan', 'Augusto_Pinochet', 'Geoffrey_Davis', 'Robert_Vowler', 'Eli_Stutsman', 'Don_Lake', 'Timothy_McVeigh', 'Ronald_White', 'Tian_Zhuang_Zhuang', 'Charlie_Coles', 'Jackie_Dennis', 'Fatmir_Limaj', 'Zhang_Ziyi', 'Robert_Marshall', 'Anthony_Pisciotti', 'Steve_Ballmer', 'Robert_Douglas', 'Beth_Jones', 'Jane_Leeves', 'Benicio_Del_Toro', 'Se_Hyuk_Joo', 'Jean-Patrick_Nazon', 'Deepa_Mehta', 'Jonathan_Tiomkin', 'Massoud_Barzani', 'Lincoln_Chafee', 'Mariano_Zabaleta', 'Kate_Burton', 'Guy_Verhofstadt', 'Bruce_Weber', 'Chelsea_Clinton', 'Mary_Lou_Markakis', 'Joe_Mendes', 'Frank_Schmoekel', 'Kevin_Stallings', 'Richard_Krajicek', 'Sasha_Alexander', 'Jennifer_McCoy', 'Kenneth_Dam', 'Brian_Griese', 'Pedro_Malan', 'Alex_Zanardi', 'Zoran_Djindjic', 'Clifford_Robinson', 'Ted_Williams', 'S_Jayakumar', 'Marc_Bulger', 'John_Cornyn', 'Aly_Wagner', 'Rick_Rickert', 'Hamad_Bin_Isa_al-Khalifa', 'Don_Siegelman', 'Rita_Moreno', 'Shae-Lynn_Bourne', 'James_Meredeth', 'Adrian_Murrell', 'Guillermo_Canas', 'Gian_Marco', 'Javier_Bardem', 'Rodrigo_de_la_Cerna', 'Sid_Caesar', 'Martin_Lawrence', 'Albaro_Recoba', 'Bernard_Lord', 'Gina_Torres', 'Corinne_Coman', 'Philip_Murtaugh', 'Rodney_Rempt', 'Dave_Potter', 'John_Burkett', 'Caio_Blat', 'Doris_Roberts', 'Tim_Floyd', 'David_Brent', 'Amy_Smart', 'Rachel_Roy', 'Ian_Campbell', 'Gavin_Degraw', 'Casey_Mears', 'Evo_Morales', 'Chin-Feng_Chen', 'Stockard_Channing', 'Priyanka_Chopra', 'Mark_Richt', 'Ernie_Preate', 'Frank_Abagnale_Jr', 'Scott_Wolf', 'Hassanal_Bolkiah', 'Gordon_Campbell', 'Sally_Kirkland', 'Richard_Hellfant', 'Gholamreza_Aghazadeh', 'Tom_Craddick', 'Mark_Butcher', 'Barbara_Esbin', 'Han_Sung_Joo', 'Leslie_Caldwell', 'Laura_Hernandez', 'Jan_Peter_Balkenende', 'John_Gordnick', 'Marcella_Anderson', 'Phil_Mickelson', 'Robert_Morvillo', 'Barry_Diller', 'Hugh_Campbell', 'Ivo_Dubs', 'Lou_Lang', 'Jon_Stewart', 'Natalie_Maines', 'Hichiro_Naemura', 'Nikki_Teasley', 'Frank_Hsieh', 'Warren_Truss', 'Ornella_Muti', 'Glenn_Plummer', 'Ali_Adbul_Karim_Madani', 'Gerald_Calabrese', 'John_Barnett', 'Brian_Van_Dusen', 'Frank_Murkowski', 'Michael_Powell', 'Alek_Wek', 'Brian_Scalabrine', 'Lee_Yeo-jin', 'Lena_Olin', 'Cemil_Cicek', 'Faye_Alibocus', 'Robert_Blake', 'Ian_Huntley', 'Iain_Duncan_Smith', 'Tracee_Ellis_Ross', 'Freda_Black', 'Alain_Cervantes', 'Kaio_Almeida', 'Zelma_Novelo', 'Maria_Garcia', 'William_Murabito', 'Luis_Guzman', 'Ronald_Brower', 'Hanns_Schumacher', 'Aung_San_Suu_Kyi', 'Hee-Won_Han', 'Philippe_Gagnon', 'Mitar_Rasevic', 'Sam_Torrance', 'Scott_OGrady', 'Roy_Chaderton', 'Sami_Al-Arian', 'Joshua_Harapko', 'Conan_OBrien', 'Melissa_Gilbert', 'Mike_Martz', 'Cameron_Diaz', 'Roger_Machado', 'Tom_Tunney', 'Alec_Baldwin', 'Wang_Yi', 'Bill_Readdy', 'Bryan_Cooley', 'Juergen_Braehmer', 'Vincent_Cianci_Jr', 'John_Madden', 'Pedro_Almodovar', 'Eric_Vigouroux', 'John_Timoney', 'Keith_Rodriguez', 'Dan_Boyle', 'Aram_Adler', 'Alexandra_Rozovskaya', 'Michelle_Hofland', 'Alan_Mulally', 'Julio_Iglesias_Jr', 'Budd_Schulberg', 'Henry_Hyde', 'Jon_Voight', 'Gene_Robinson', 'Alfred_Sant', 'Vladimiro_Montesinos', 'Elaine_Chao', 'Wu_Peng', 'Bernard_Ebbers', 'Arnold_Scott', 'Nate_Huffman', 'Warren_Granados', 'Mehdi_Baala', 'Daniel_Bruehl', 'Valdas_Adamkus', 'Teresa_Williams', 'Anthony_Corso', 'Luis_Sanchez', 'Noel_Forgeard', 'Hideki_Matsui', 'Michael_Piuze', 'Nestor_Santillan', 'Maria_Burks', 'Felix_Doh', 'Claudia_Coslovich', 'Paul_Brandt', 'John_Lawrence', 'Andy_Dick', 'Coco_dEste', 'Pierre_Boulanger', 'Jon_Kitna', 'John_Hartson', 'Jon_Gruden', 'Conrad_Black', 'David_Gest', 'Patty_Duke', 'Kathy_Gannon', 'Gabriel_Hughes', 'Billy_Graham', 'Leni_Bjorklund', 'Marcus_Gronholm', 'Martin_Bandier', 'Christy_Turlington', 'Barbara_Boxer', 'Barry_Bonds', 'Vincent_Sombrotto', 'Brady_Rodgers', 'Yoon_Young-kwan', 'Patricia_Medina', 'John_Elway', 'Uzi_Landau', 'Sim_Yong', 'Larry_Hahn', 'Ahmet_Necdet_Sezer', 'Chris_Cookson', 'Michael_Brandon', 'Vince_Vaughan', 'Anette_Hosoi', 'Steve_Zahn', 'Doug_Racine', 'Colleen_Atwood', 'Shanna_Zolman', 'Jonathan_Fine', 'Giovanny_Cordoba', 'Penelope_Cruz', 'Binyamin_Ben-Eliezer', 'Abdel_Aziz_Al-Hakim', 'Wendell_Bryant', 'Norman_Jewison', 'Roberto_Lavagna', 'Astrid_Eyzaguirre', 'Mikhail_Shvydkoi', 'Barbra_Streisand', 'Joe_Paterno', 'Joe_Mantello', 'Joe_Dicaro', 'Alfred_Ford', 'Dean_Barker', 'Mel_Gibson', 'Julio_Cesar_Chavez', 'Hans_Corell', 'Nate_Blackwell', 'Mike_Bair', 'Keith_Fotta', 'Edward_Albee', 'Larenz_Tate', 'Alejandro_Lerner', 'Bob_Huggins', 'Mary_Tyler_Moore', 'Saburo_Kawabuchi', 'Bill_Belichick', 'Sylvie_Guillem', 'Bill_Sizemore', 'Wayne_Newton', 'Esther_Macklin', 'Jana_Pittman', 'Sean_Combs', 'Magdalena_Maleeva', 'Slobodan_Milosevic', 'Lynne_Cheney', 'Paul_Patton', 'Robby_Ginepri', 'James_Maguire', 'Yukiko_Okudo', 'David_Hilt', 'Anita_DeFrantz', 'Eric_Ryan_Donnelly', 'Robin_Tunney', 'Nathan_Smith', 'Reyyan_Uzuner', 'Markus_Naslund', 'Federico_Trillo', 'Jose_Cevallos', 'Art_Cooper', 'Hans_Leistritz', 'Gary_Paer', 'Oswald_Gruebel', 'Mitchell_Crooks', 'Jane_Clayson', 'Javier_Zanetti', 'Hana_Sadiq', 'Win_Aung', 'Agbani_Darego', 'Roger_Toussaint', 'Mauricio_Macri', 'Mariam_Ali_Hassan', 'Wan_Yanhai', 'Robert_Zoellick', 'Gerald_Ford', 'Azmi_Bishara', 'James_Coburn', 'Eminem', 'Aitor_Gonzalez', 'Ray_Liotta', 'Qusai_Hussein', 'Mufti_Mohammad_Syed', 'Queen_Noor', 'Chris_Penn', 'Alan_Dershowitz', 'Katie_Smith', 'Sarah_Michelle_Gellar', 'Derek_Bond', 'Ratna_Sari_Dewi_Sukarno', 'Bart_Hendricks', 'Nur_Jaafar', 'Werner_Schlager', 'Lauren_Killian', 'Martha_Burk', 'Paul_Wellstone', 'Warren_Beatty', 'Gore_Vidal', 'Celia_Cruz', 'Halbert_Fillinger', 'Heather_Whitestone_McCallum', 'Phil_Jackson', 'Michael_Andretti', 'Shimon_Peres', 'Brad_Miller', 'King_Bhumibol_Adulyadej', 'Isabella_Rossellini', 'Karin_Pilsaeter', 'Jonathan_Karsh', 'Retief_Goosen', 'Eduard_Limonov', 'Mekhi_Phifer', 'Satnarine_Sharma', 'Kristin_Scott_Thomas', 'Timbul_Silaen', 'Artieas_Shanks', 'Micky_Arison', 'Klaus_Zwickel', 'Rod_Stewart', 'Stephen_Ebberharter', 'Imad_Moustapha', 'Emilio_Azcarraga_Jean', 'Anderson_Varejao', 'Josh_Evans', 'Kurt_Busch', 'Alex_Cejka', 'Michael_Capellas', 'Tom_Amstutz', 'Jan_Pronk', 'James_Schultz', 'Jason_Campbell', 'Denzel_Washington', 'Sergei_Alexandrovitch_Ordzhonikidze', 'Raul_Cubas', 'Michelle_Chiklis', 'Janet_Chandler', 'Lee_Baca', 'Peter_Harvey', 'Alexis_Dennisoff', 'Giannina_Facio', 'Bill_Elliott', 'San_Lan', 'Patrick_Bourrat', 'Reese_Witherspoon', 'Steve_Spurrier', 'Carol_Burnett', 'James_Robertson_Jr', 'Sada_Jacobson', 'Reggie_Miller', 'Nick_Cassavetes', 'Katalin_Kollat', 'Matthew_McConaughey', 'Robert_Flodquist', 'Paul_Coppin', 'Harriet_Lessy', 'Ron_Lantz', 'Spike_Helmick', 'Elena_Bereznaya', 'James_Morris', 'Clark_Randt', 'Miguel_Angel_Rodriguez', 'Elmar_Brok', 'Leon_Lai', 'Alfredo_Pena', 'Seth_Gorney', 'Dan_Kellner', 'Beecher_Ray_Kirby', 'Noel_Niell', 'Jim_Zorn', 'Natalya_Sazanovich', 'Valerie_Harper', 'Eva_Amurri', 'Sebastien_Grosjean', 'Mohammad_Aktar', 'Howard_Ross', 'Andrei_Mikhnevich', 'Andrew_Firestone', 'Hank_Stram', 'Nicola_Wells', 'Felicity_Huffman', 'Gilberto_Simoni', 'Peri_Gilpin', 'Tommy_Shane_Steiner', 'Edward_Burns', 'John_Rowe', 'Dragan_Covic', 'John_Ferguson', 'Raymond_Odierno', 'Colin_Montgomerie', 'Stella_Tennant', 'Steve_Cutler', 'Tyra_Banks', 'Bobo_Balde', 'Mike_Johanns', 'Paul_Crake', 'Raquel_Welch', 'Joseph_LePore', 'Carlos_Iturgaitz', 'Douglas_Meester', 'Jawad_Boulus', 'Patricia_Garone', 'Ozzy_Osbourne', 'Alvaro_Silva_Calderon', 'Leon_Silver', 'Jason_Sorens', 'Chea_Sophara', 'Rudolph_Holton', 'Betty_Williams', 'Gary_Barnett', 'Brandon_Spann', 'Kurt_Thomas', 'Hoda_Asfor', 'Claudio_Abbado', 'Claire_Danes', 'Ilie_Nastase', 'Jennifer_Thompson', 'Kelvin_Sampson', 'Masatoshi_Koshiba', 'Diane_Green', 'Michelle_Pfeiffer', 'Martina_Hingis', 'James_Baker', 'Jason_Bentley', 'Celso_Amorim', 'Natalie_Cole', 'Robert_Nillson', 'Abdullah', 'Michael_Douglas', 'Harry_Schmidt', 'Roger_Moore', 'Barbara_Roberts', 'Dariusz_Michalczewski', 'Junichi_Inamoto', 'Peter_Mullan', 'Tom_Miller', 'Tomomi_Morita', 'Mark_Mulder', 'Nelson_Acosta', 'John_Banko', 'Sarah_Canale', 'Larry_Pleau', 'Lennox_Lewis', 'Gerard_Butler', 'Nicolas_Kiefer', 'Richard_Jewell', 'James_Wallack', 'Suzanne_Somers', 'Jack_Nicholson', 'Justin_Leonard', 'Florencia_Kirchner', 'Peter_Holmberg', 'Vijay_Nambiar', 'Leo_Ramirez', 'Greg_Hodge', 'Roger_Corbett', 'Robbie_Fowler', 'Richard_Ward', 'Lionel_Richie', 'Thomas_Bjorn', 'Mike_Miller', 'Ridley_Scott', 'Klaus_Schwab', 'Shavon_Earp', 'Ashley_Postell', 'Jean_Carnahan', 'Alexandra_Spann', 'Tina_Brown', 'William_Nessen', 'Richard_Butler', 'George_Karl', 'Boris_Yeltsin', 'Paola_Espinoza', 'Clay_Campbell', 'Ivan_Shvedoff', 'John_Rigas', 'Tom_Kelly', 'Robert_Lee_Yates_Jr', 'Jim_Abbott', 'John_Perrota', 'Anthony_Garotinho', 'Charles_Kartman', 'Adel_Al-Jubeir', 'Alexander_Payne', 'Pierre_Gagnon', 'Alina_Kabaeva', 'Elisabeth_Schumacher', 'Kathryn_Grayson', 'Luca_Cordero_di_Montezemolo', 'Wendy_Selig', 'Julio_Toro', 'Maribel_Dominguez', 'Chris_Neil', 'Stephen_Silas', 'Juan_Valencia_Osorio', 'Eva_Dimas', 'Garry_Kasparov', 'Elizabeth_Pena', 'Robbie_Mc_Ewen', 'John_Kerr', 'Claudia_Schiffer', 'Mohammaed_Ahmad_Al_Jarallah', 'Kosuke_Kitajima', 'Mahmoud_Al_Zhar', 'Angela_Merkel', 'Tim_Lobinger', 'Rick_Carlisle', 'Gordon_Cooper', 'Jeffrey_Archer', 'Steve_Coogan', 'Chris_Bell', 'Marcus_Garrettson', 'Reggie_Sanders', 'Terunobu_Maeda', 'Laurel_Clark', 'Joan_Jett', 'Pamela_Anderson', 'Cheryl_Tiegs', 'Aiysha_Smith', 'Abdul_Rahman', 'Juergen_Chrobog', 'Rafael_Ramirez', 'Cuba_Gooding_Jr', 'Dave_Williams', 'Mike_Helton', 'Norman_Mailer', 'Roy_Jones_Jr', 'Aleksander_Kwasniewski', 'Felix_Sanchez', 'Ellen_Barkin', 'Enos_Slaughter', 'Jorge_Valdano', 'Cecilia_Bolocco', 'Chandrika_Kumaratunga', 'Tony_Bennett', 'Peter_Fitzgerald', 'Winston_Churchill', 'Thomas_Ulrich', 'Terrell_Suggs', 'David_Braley', 'Monica_Gabrielle', 'Francisco_Garcia', 'Pete_Gillen', 'Alice_Fisher', 'Peter_Care', 'Scott_Gorelick', 'John_Marburger', 'Farouk_al-Sharaa', 'Thierry_Mariani', 'Chin-Hui_Tsao', 'Rainer_Schuettler', 'Lee_Nam-shin', 'Len_Jenoff', 'Nick_Rahall', 'Makiko_Tanaka', 'Chuanyun_Li', 'Roger_King', 'Sue_Slavec', 'Donald_Carty', 'Lina_Krasnoroutskaya', 'Lindsey_Graham', 'Johnny_Hallyday', 'Gianna_Angelopoulos-Daskalaki', 'Mark_McClellan', 'Anton_Balasingham', 'Richard_Lennon', 'Terry_Semel', 'Wang_Nan', 'Angelica_Romero', 'Jason_Lezak', 'James_Butts', 'Dusty_Baker', 'Leander_Paes', 'Martha_Lucia_Ramirez', 'Guillermo_Monroy', 'Kim_Hong-gul', 'John_Brady', 'Zoe_Ball', 'Vanessa_Laine', 'Buzz_Hargrove', 'Steve_Mariucci', 'John_Moxley', 'Steve_Fehr', 'Courtney_Cox', 'Prince_William', 'Mark_Wahlberg', 'Hartmut_Mehdorn', 'Guenter_Verheugen', 'Monica_Seles', 'Sandra_Milo', 'Tom_Koenigs', 'Severino_Antinori', 'Doug_Wilson', 'Dunn_Lampton', 'Babe_Ruth', 'Zach_Parise', 'Rebekah_Chantay_Revels', 'Dyab_Abou_Jahjah', 'Amanda_Beard', 'Jean-Sebastien_Giguere', 'Rogerio_Romero', 'Desiree_Lemosi', 'Ramon_Delgado', 'Gene_Sauers', 'Sureyya_Ayhan', 'Christian_Longo', 'Wolfgang_Clement', 'Oscar_de_la_Renta', 'Arie_Haan', 'Peter_Shaw', 'Aicha_El_Ouafi', 'Will_Ofenheusle', 'Davis_Love_III', 'Djabir_Said-Guerni', 'David_Modell', 'Martin_Torrijos', 'Alicia_Hollowell', 'Miroljub', 'Li_Zhaoxing', 'Mike_OConnell', 'Robert_Korzeniowski', 'Stefano_Accorsi', 'Wim_Duisenberg', 'Bill_Stein', 'Denise_Locke', 'George_Lopez', 'Petria_Thomas', 'Rachel_Wadsworth', 'Karen_Clarkson', 'George_Plimpton', 'Martin_Hoellwarth', 'Delphine_Chuillot', 'Jade_Jagger', 'Justin_Wilson', 'Kathy_Bates', 'Lenny_Kravitz', 'Wang_Hailan', 'Peter_Mackay', 'TJ_Ford', 'Richard_Perle', 'Albrecht_Mentz', 'Quincy_Jones', 'Ham_Pong-sil', 'Donald_Trump', 'Ralph_Lauren', 'Elsa_Zylberstein', 'David_Spade', 'Kaoru_Hasuike', 'Rene_Portland', 'Gary_Sinise', 'Christoph_Daum', 'Daniel_Osorno', 'Osama_Al_Baz', 'Ekke_Hard_Forberg', 'Julian_Fantino', 'Jaime_Orti', 'Ben_Kingsley', 'Mike_Slive', 'Miguel_Contreras', 'Robin_Wright_Penn', 'Gerhard_Boekel', 'Martin_Landau', 'Larry_Johnson', 'Farida_Ragoonanan', 'Candice_Bergen', 'Justine_Pasek', 'Amr_Moussa', 'Gene_Keady', 'Hiroki_Gomi', 'Marsah_Ambrosius', 'Greg_Kinsey', 'David_Welch', 'Daniel_Zelman', 'Martha_Stewart', 'Freddy_Vasques_Kinchokpe', 'Doug_Christie', 'Fernando_Leon_de_Aranoa', 'Anjum_Hussain', 'Alex_Popov', 'David_Oh', 'Ataollah_Mohajerani', 'Lennart_Johansson', 'Hector_Babenco', 'Huan_Chung_Yi', 'James_Becker', 'John_Coomber', 'Sabah_Al-Ahmad_Al-Jaber_Al-Sabah', 'John_Mayer', 'Curtis_Strange', 'Paddy_Torsney', 'Robin_Johansen', 'Hilmi_Akin_Zorlu', 'Lloyd_Ward', 'Ed_Smart', 'Thomas_Wilkens', 'Tony_Curtis', 'Alejandro_Gonzalez_Inarritu', 'Adrian_Fernandez', 'Wanda_Ilene_Barzee', 'Raoul_Ruiz', 'Princess_Caroline', 'Tina_Pisnik', 'Sheikh_Ahmed_Yassin', 'Lee_Hong-ki', 'Vadim_Strogalev', 'Sergei_Yastrzhembsky', 'Kurt_Tanabe', 'Jim_Nochols', 'Stanislas_Wawrinka', 'Ahmad_Masood', 'Adrian_Annus', 'Rick_Caruso', 'Daniell_Sunjata', 'Hu_Maoyuan', 'Ray_Evernham', 'Arnie_Boehm', 'Toshimitsu_Motegi', 'Adam_Mair', 'Ismail_Abu_Shanab', 'Gabriel_Batistuta', 'Gore_Verbinski', 'Kathy_Winters', 'Jaime_Pressly', 'Brian_Billick', 'Henrique_Meirelles', 'Jorge_Castaneda', 'Pedro_Pauleta', 'Suh_Chung-won', 'Turner_Stevenson', 'Fred_Funk', 'Chang_Sang', 'Nikki_Cascone', 'LK_Advani', 'Ian_McKellen', 'Vincent_Gallo', 'Derek_Jeter', 'Ken_Dorsey', 'Carlos_Ruckauf', 'Margerry_Bakley', 'Joe_Vandever', 'Jorge_Arce', 'Imad_Khadduri', 'Mark_Warner', 'Steve_Largent', 'Akbar_Hashemi_Rafsanjani', 'Jan_De_Bont', 'Dieter_Holzer', 'Bob_Geldof', 'Jim_Greenwood', 'Dustan_Mohr', 'Gerard_Kleisterlee', 'Lesia_Burlak', 'Don_Hewitt', 'Joe_Nichols', 'Stanley_Nelson', 'Prince_Rainier_III', 'Anne_Heche', 'John_McCormack', 'Jeane_Kirkpatrick', 'Jessica_Capshaw', 'David_Myers', 'Adriana_Perez_Navarro', 'Dan_Prinster', 'Amer_al-Saadi', 'Iban_Mayo', 'Valeri_Bure', 'William_Shatner', 'Toni_Braxton', 'Natalie_Juniardi', 'Federico_Castelan_Sayre', 'Liv_Tyler', 'Juan_Fernandez', 'Jeanette_Gray', 'Stephen_Funk', 'Crispin_Glover', 'Don_Meredith', 'Dana_Vollmer', 'William_Donaldson', 'Tim_Lopes', 'Amy_Cotton', 'Rob_Ramsay', 'Francisco_Urenda', 'Rodney_Dangerfield', 'Pete_Carroll', 'Lawrence_Roberts', 'Octavio_Lara', 'Kitin_Munoz', 'Dick_Latessa', 'Luciano_Bovicelli', 'Scott_Ritter', 'Jan_Bjoerklund', 'Marco_Pantani', 'Scott_Hoch', 'Jessica_Alba', 'Ed_Wade', 'Milo_Maestrecampo', 'Jerry_Colangelo', 'Julio_Cesar_Franco', 'Riek_Blanjaar', 'Yoelbi_Quesada', 'Jack_Valenti', 'Peter_Ahearn', 'Karen_Allen', 'Dorothy_Wilson', 'Shireen_Amir_Begum', 'Andrzej_Tyszkiewicz', 'Aaron_Peirsol', 'Suzanne_Mubarak', 'Iva_Majoli', 'Clifford_Etienne', 'Edward_James_Olmos', 'Michel_Kratochvil', 'Michel_Temer', 'Mitsou_Gelinas', 'Rudi_Voeller', 'Joe_Metz', 'Mike_Eskew', 'Liane_Janda', 'Ali_Hammoud', 'Kelly_Leigh', 'Pauline_Phillips', 'Deena_Burnett', 'Stepan_Demirchian', 'Michael_Guiler', 'Charles_Pouty', 'Alberto_Acosta', 'Steve_Kerr', 'Ludwig_Ovalle', 'Lee_Ann_Terlaji', 'Steffi_Graf', 'Brian_Cowen', 'Gideon_Black', 'Brian_Weaver', 'Leandrinho_Barbosa', 'William_Delahunt', 'Lubomir_Zaoralek', 'Dan_Ackroyd', 'James_Hughes', 'Todd_Wike', 'Bruce_Paltrow', 'Christine_Arron', 'Lea_Fastow', 'Graeme_Lloyd', 'Bill_Kollar', 'Ken_Macha', 'Meghann_Shaughnessy', 'Raja_Qureshi', 'Dave_Tucker', 'Donald_Fehr', 'Norm_Coleman', 'Giuseppe_Gibilisco', 'Randall_Terry', 'Dan_Snyder', 'Mark_Heller', 'Timothy_Wirth', 'Bobby_Robson', 'Sharess_Harrell', 'Mitchell_Daniels', 'Tom_Rouen', 'Mark_Broxmeyer', 'Demetrius_Ferraciu', 'Lucio_Stanca', 'Pat_Summitt', 'Francois_Pienaar', 'Eric_Bana', 'Benjamin_Netanyahu', 'Olivera_Labus', 'Nathirah_Hussein', 'Thomas_Franklin', 'Rocco_Buttiglione', 'Ronald_Ito', 'Marina_Canetti', 'Margaret_Thatcher', 'Jane_Kaczmarek', 'Floyd_Mayweather', 'Hugh_Carey', 'Mariana_Gonzalez', 'Yuri_Luzhkov', 'Saeed_Mortazavi', 'Mario_Dumont', 'Jaouad_Gharib', 'Barry_Alvarez', 'Ximena_Bohorquez', 'Michael_Wayne', 'Peter_Gilmour', 'Raza_Rabbani', 'Atom_Egoyan', 'Ana_Guevara', 'Francis_Ford_Coppola', 'Alberto_Sordi', 'Gabriel_Jorge_Ferreia', 'Richard_Regenhard', 'Ricky_Barnes', 'Marc_Anthony', 'Katie_Wagner', 'Rosalie_Perkov', 'Princess_Elisabeth', 'Viara_Vike-Freiberga', 'Charlie_Zaa', 'Nanni_Moretti', 'James_Layug', 'Antonio_Trillanes', 'Tim_Conway', 'David_McCallum', 'Takahiro_Mori', 'Elodie_Bouchez', 'Nathalia_Gillot', 'Rina_Lazo', 'Patrick_Roy', 'Scott_Weiland', 'Tom_Gamboa', 'Kong_Quan', 'Marco_Irizarry', 'Abner_Martinez', 'Sandra_Day_OConner', 'Jan-Michael_Gambill', 'Jim_Schwarz', 'Melvin_Talbert', 'Normand_Legault', 'Jamir_Miller', 'Donna_Brazile', 'Penny_Dupuie', 'Kirk_Franklin', 'Leo_Mullin', 'George_Allen', 'Hikmat_al-Azzawi', 'Donald_Keck', 'Abba_Eban', 'William_Burns', 'Annie_Machon', 'Rich_Gannon', 'Nicole_Parker', 'Kara_Lynn_Joyce', 'Svetlana_Koroleva', 'Whoopi_Goldberg', 'Saeed_Anwar', 'Evan_Rachel_Wood', 'Ray_Bradbury', 'William_Pryor_Jr', 'Thaksin_Shinawatra', 'Prakash_Hinduja', 'Pat_Wharton', 'Thierry_Falise', 'Trudi_Lacey', 'Du_Qinglin', 'Vivica_Fox', 'Placido_Domingo', 'Liam_Neeson', 'Vecdi_Gonul', 'Vincent_Spadea', 'Joey_Harrington', 'Russell_Coutts', 'Daniele_Hypolito', 'Amanda_Marsh', 'Bud_Selig', 'Ray_Lewis', 'James_Hoffa', 'Roy_Romanow', 'Henning_Scherf', 'Joseph_Hoy', 'Chuck_Finley', 'Ernie_Els', 'Diego_Colorado', 'Joe_DeLamielleure', 'Gala_Leon_Garcia', 'Barzan_al-Tikriti', 'Cesar_Maia', 'Mika_Hakkinen', 'Camille_Lewis', 'Jerry_Seinfeld', 'Barry_Ford', 'Raja_Ibrahim', 'Paul_McCartney', 'Ibrahim_Al-Marashi', 'Robert_Towne', 'Monica_Vergara', 'Cecile_de_France', 'Michael_Kahn', 'Vaclav_Klaus', 'Craig_Doblin', 'Roman_Polanski', 'Juan_Carlos_Morales', 'Michelle_Rodriguez', 'Syed_Ibrahim', 'Billy_Tibbets', 'Otto_Reich', 'Carlos_Mesa', 'Sergio_Garcia', 'Kevin_Keegan', 'Nadia_Petrova', 'Goldie_Hawn', 'James_Hill', 'Norbert_van_Heyst', 'Melchor_Cob_Castro', 'John_Baldacci', 'Ali_Ahmeti', 'David_Wells', 'Janice_Goldfinger', 'Stephen_Oake', 'Miranda_Otto', 'Darren_Campel', 'Turner_Gill', 'Wilma_McNabb', 'Jose_Sarney', 'Vladimir_Ustinov', 'Ellen_Pompeo', 'Nathalie_Gagnon', 'Anastasia_Myskina', 'Isaiah_Washington', 'Mariana_Ohata', 'Bob_Cantrell', 'Martin_Keown', 'Patrick_Dennehy', 'Dean_Barkley', 'Ed_Case', 'Shamai_Leibowitz', 'Michael_Donovan', 'Jeannette_Biedermann', 'AJ_Cook', 'Rick_Barnes', 'Floyd_Keith', 'Ronald_Young_Jr', 'Joy_Bryant', 'Elizabeth_Shue', 'Ron_Kirk', 'Michael_Friedman', 'Carlos_Alberto', 'Zach_Safrin', 'Marta_Dominguz', 'David_Collenette', 'Danny_Green', 'Perry_Farrell', 'John_Cusack', 'Barry_Switzer', 'Steve_Stirling', 'Kimora_Lee', 'Tino_Martinez', 'Samuel_Waksal', 'Mike_Krzyzewski', 'Barbara_Walters', 'Gil_de_Ferran', 'Frank_Marshall', 'Garry_Witherall', 'Lili_Marinho', 'Bruna_Colosio', 'Judi_Dench', 'Lester_Holt', 'Mike_Gable', 'Keira_Knightley', 'John_Danforth', 'Ralph_Friedgen', 'Bob_Ferguson', 'Kenneth_Brill', 'Diana_Krall', 'James_Carville', 'Russell_Crowe', 'Jorge_Alberto_Galindo', 'Margaret_Okayo', 'Ray_Young', 'Anthony_Mazur', 'Thomas_Haeggstroem', 'Don_King', 'Jamie_Olis', 'Takashi_Sorimachi', 'Darren_Clarke', 'Sue_Guevara', 'John_Eder', 'Conchita_Martinez', 'Jennie_Garth', 'Pascal_Lamy', 'Hector_Grullon', 'James_Spalding', 'Joel_Gallen', 'Dawna_LoPiccolo', 'Ralph_Fiennes', 'Inga_Hall', 'Bashar_Assad', 'Albert_Pujols', 'Peter_Lundgren', 'Bernard_Law', 'James_Brosnahan', 'Aleksander_Voloshin', 'Nicole', 'Kenneth_Reichert', 'Noelle_Bush', 'Austin_Kearns', 'Eunice_Barber', 'Tim_Matheson', 'Cass_Ballenger', 'Greg_Kinnear', 'Rolf_Zimmermann', 'Pak_Gil_Yon', 'Roy_Rogers', 'James_Phelps', 'Jacqueline_Edwards', 'Lisa_Marie_Presley', 'Ahmed_Chalabi', 'Adam_Ant', 'Yuri_Malenchenko', 'John_Robbins', 'Troy_Polamalu', 'Michel_Minard', 'David_Zeplowitz', 'Elvis_Presley', 'Larry_Brown', 'Harold_Brown', 'Janez_Drnovsek', 'Craig_Fitzgibbon', 'Benjamin_Bratt', 'Orrin_Hatch', 'Francis_Ricciardone', 'Amy_Gale', 'Jason_Priestley', 'Ali_Abbas', 'Jorge_Quiroga', 'Flavia_Delaroli', 'Mathias_Reichhold', 'Henk_Bekedam', 'Richard_Palmer', 'Dan_Dickau', 'Filip_De_Winter', 'Antwun_Echols', 'Dolly_Parton', 'Herman_Edwards', 'Maria_Shriver', 'Marie_Haghal', 'Khader_Rashid_Rahim', 'Paul_Cerjan', 'David_Kelley', 'Jason_Clermont', 'Osama_bin_Laden', 'Robbie_Naish', 'Jane_Russell', 'Marcelo_Rios', 'Lucrecia_Orozco', 'Gretchen_Mol', 'Rustu_Recber', 'John_McCallum', 'Mian_Khursheed_Mehmood_Kasuri', 'Kevin_Costner', 'Patricia_Russo', 'Robbie_Coltrane', 'Suzanne_Gaudet', 'Bob_Beauprez', 'David_Heymann', 'Mother_Teresa', 'Craig_OClair', 'Mark_Mariscal', 'Gary_Carter', 'Mark_Shapiro', 'Prince_Claus', 'Chuck_Eidson', 'Juliette_Binoche', 'Pierre_Png', 'Saman_Shali', 'Chick_Hearn', 'Shane_Phillips', 'Guillaume_Cannet', 'Shannyn_Sossamon', 'Christine_Ebersole', 'Reginald_Hudlin', 'Johnny_Unitas', 'Kathleen_Glynn', 'Adam_Freier', 'Mauricio_Pochetino', 'Rob_Marshall', 'Lane_Odom', 'Leigh_Winchell', 'Norodom_Chakrapong', 'Ivana_Trump', 'Barbara_Felt-Miller', 'Dennis_Archer', 'Cindy_Klassen', 'Diana_Munz', 'Toutai_Kefu', 'Inocencio_Arias', 'Gerry_Adams', 'Raul_Mondesi', 'Terrence_Kiel', 'Vladimir_Golovlyov', 'Candice_Beatty', 'Lope_Mendoza', 'Eric_Taino', 'Atiabet_Ijan_Amabel', 'Bettina_Rheims', 'Janet_Horvath', 'Joe_Mantegna', 'Romeo_Gigli', 'Nida_Blanca', 'Jalal_Talabani', 'Eduardo_Chillida', 'Park_Jie-won', 'Larry_Bowa', 'Margaret_Hoelzer', 'Craig_Wilson', 'Marat_Safin', 'Zeng_Qinghong', 'James_Young', 'Tara_VanDerveer', 'Hussein_Malik', 'Robert_Bullock', 'Kamel_Morjane', 'Keith_Bishop_Jr', 'Dionne_Warwick', 'Maria_Callas', 'Galen_Rowell', 'Szu_Yu_Chen', 'Katie_Harman', 'Camille_Colvin', 'Dan_Morales', 'Irina_Lobacheva', 'Annie_Chaplin', 'Adam_Scott', 'Brian_Lara', 'Jennifer_Murray', 'Luis_Pujols', 'Giulietta_Masina', 'Fabian_Vargas', 'Robin_McLaurin_Williams', 'Aaron_Sorkin', 'Leslie_Wiser_Jr', 'Mary_Robinson', 'Marvan_Atapattu', 'Evander_Holyfield', 'Paul_Kagame', 'Andrew_Wetzler', 'Bill_Mauldin', 'Scott_Hamilton', 'Eliane_Karp', 'Sebastian_Cuattrin', 'Mark_Sisk', 'Tangra_Riggle', 'Jesse_Helms', 'Patti_Lank', 'Geoff_Hoon', 'Andy_Hebb', 'Robert_Gordon_Card', 'Yashwant_Sinha', 'Fernando_Velardez', 'Timothy_Goebel', 'Yory_Boy_Campas', 'Thomas_Manger', 'Emelie_Loit', 'Nora_Ephron', 'Jerry_Hall', 'William_Rosenberg', 'David_Anderson', 'Alexandra_Jackson', 'Peter_Arnett', 'Vince_Carter', 'Joe_Carnahan', 'Ralph_Sampson', 'Bob_Holden', 'Robin_McGraw', 'Patsy_Kensit', 'Frank_Taylor', 'Bob_Curtis', 'Bernard_Landry', 'Mario_Austin', 'Xiang_Xu', 'Craig_Morgan', 'Pascal_Quignard', 'Susan_Whelan', 'Charlize_Theron', 'Frank_Beamer', 'Lorraine_Bracco', 'Jason_Gardner', 'Leonid_Kuchma', 'Bob_Melvin', 'Daryl_Smith', 'Bob_Krueger', 'Dustin_Brown', 'David_Duke', 'David_Obey', 'Armando_Carrillo', 'John_Jumper', 'Dino_Risi', 'Marwan_Barghouthi', 'Rolandas_Paksas', 'Sivan_Klein', 'Cecilia_Chang', 'Bill_Richardson', 'Mark_Mishkin', 'Peter_Struck', 'Carlos_Barragan', 'Sara_Silverman', 'Franz_Fischler', 'Terry_Lynn_Barton', 'Bernard_Kerik', 'Tatyana_Tomashova', 'Jimmy_Gobble', 'Allyson_Felix', 'Gordana_Grubin', 'Josh_Childress', 'Colleen_Jones', 'Tim_Salmon', 'David_Suazo', 'Celso_Lafer', 'Mario_Lobo_Zagallo', 'Drew_Gooden', 'Edward_Greenspan', 'Matt_Herden', 'Penelope_Taylor', 'Francisco_Maturana', 'Hanan_Ashrawi', 'Alan_Greer', 'Benjamin_Neulander', 'Kevin_Millwood', 'Irina_Framtsova', 'Kai-Uwe_Ricke', 'Bill_Lerach', 'Maria_Guida', 'Brawley_King', 'Joerg_Haider', 'Percy_Gibson', 'Dave_Robertson', 'Alfonso_Portillo', 'Samantha_Ledster', 'Martin_Verkerk', 'Jerry_Jones', 'Gina_Centrello', 'Wayne_Gretzky', 'John_Rowland', 'Brad_Pitt', 'Roger_Etchegaray', 'Francis_Mer', 'Emmy_Rossum', 'Muwafak_al-Ani', 'Robbie_Williams', 'Garry_Trudeau', 'Phoenix_Chang', 'Valorie_Brabazon', 'Lima_Azimi', 'Franco_Frattini', 'Nicolas_Eyzaguirre', 'Daniel_Ortega', 'Sidney_Poitier', 'Guillaume_Soro', 'Ricky_Cottrill', 'Jacky_Cheung', 'Melissa_Joan_Hart', 'Juan_Jose_Lucas', 'Michael_Sullivan', 'Brandon_Inge', 'Peter_Camejo', 'William_Hochul', 'Pedro_Solbes', 'Gary_Marshall', 'Kirsten_Clark', 'Mesut_Yilmaz', 'Antanas_Valionis', 'Frank_Solich', 'Eddie_Lewis', 'Sidney_Kimmel', 'Mahima_Chaudhari', 'Michael_Caine', 'Munir_Akram', 'Connie_Freydell', 'Daniel_Comisso_Urdaneta', 'Ernie_Grunfeld', 'Christian_Lirette', 'Nick_Rimando', 'Robert_Tyrrell', 'Gustavo_Noboa', 'Wayne_Brady', 'Kent_McCord', 'Jan_Paul_Miller', 'Zumrati_Juma', 'Jessica_Lange', 'Roger_Winter', 'Jeff_Bridges', 'Rahul_Dravid', 'Lee_Hoi-chang', 'Shane_Warne', 'Johnnie_Lynn', 'John_Bond', 'Kevin_Harvick', 'Michael_Kirby', 'Bill_OReilly', 'Intisar_Ajouri', 'George_Tenet', 'Sinead_OConnor', 'Ahmed_Ghazi', 'Paul_Kariya', 'Stefano_Basalini', 'Vicente_Fernandez', 'Robert_Redford', 'James_Ballenger', 'Mathilda_Karel_Spak', 'Garry_Alejano', 'Mikhail_Kalashnikov', 'Pat_DAmuro', 'Arminio_Fraga', 'Miguel_Aldana_Ibarra', 'Jong_Thae_Hwa', 'Hitoshi_Tanaka', 'Dan_Bartlett', 'Andrea_De_Cruz', 'Princess_Diana', 'Bob_Graham', 'Enrik_Vendt', 'Steffeny_Holtz', 'Rupert_Grint', 'Kim_Hong-up', 'James_Collinson', 'Kieran_Prendergast', 'Dennis_Miller', 'Najib_al-Salhi', 'Mohammed_Salmane', 'Malak_Habbak', 'Brent_Coles', 'Mitch_Kupchak', 'Steve_Case', 'Steve-O', 'Art_Hoffmann', 'Saadi_Gadhafi', 'Dan_Monson', 'Silvan_Shalom', 'Mercedes_Amor', 'Helo_Pinheiro', 'Lela_Rochon', 'Carlos_Quintanilla_Schmidt', 'Bridgette_Wilson-Sampras', 'Anthony_Pico', 'Brandon_Larson', 'Wayne_Ferreira', 'Mohammad_Fares', 'Vojislav_Kostunica', 'Carlos_Ortega', 'Clare_Short', 'Louis_Van_Gaal', 'Selma_Phoenix', 'Dave_Campo', 'Karen_Sharpe_Kramer', 'Fred_Swan', 'Infanta_Cristina', 'Nate_Hybl', 'Milan_Milutinovic', 'Roger_Grimes', 'Kevin_Spacey', 'Chris_Swecker', 'Mike_Brey', 'Claude_Jorda', 'Abbas_Kiarostami', 'Jim_Piper', 'Vagit_Alekperov', 'Mary_Carey', 'Pierre_Lacroix', 'Mike_Samp', 'Elizabeth_Dole', 'Joseph_Nacchio', 'Dean_Jacek', 'Dionigi_Tettamanzi', 'Gustavo_Kuerten', 'Todd_Petit', 'Shania_Twain', 'Cindy_Margolis', 'Leszek_Miller', 'Kristy_Curry', 'Arantxa_Sanchez-Vicario', 'Linda_Sanchez', 'Wei_Wu', 'Jean-Marc_Olive', 'Stacy_Dragila', 'Norodom_Sihanouk', 'Judi_Patton', 'Jean-Claude_Braquet', 'Mark_Hanson', 'Abdullatif_Sener', 'Ben_Wallace', 'Arthur_Johnson', 'Antony_Leung', 'Ravan_AG_Farhadi', 'Brian_Cashman', 'Zara_Akhmadova', 'Kent_Robinson', 'Rosny_Desroches', 'Otto_Schily', 'Bob_Hayes', 'Vladimir_Voltchkov', 'Darryl_Stingley', 'Jessica_Brungo', 'Laurie_Pirtle', 'Rosario_Dawson', 'Beyonce_Knowles', 'Alan_Tang_Kwong-wing', 'Mike_Bryan', 'Eddie_Murray', 'Michael_Killeen', 'Jonathan_Byrd', 'Robin_Cook', 'Andreas_Vinciguerra', 'Carol_Williams', 'Adoor_Gopalakarishnan', 'Ben_Chandler', 'Matthew_Broderick', 'Frank_Dunham_Jr', 'James_Caan', 'Heath_Ledger', 'Brendan_Hansen', 'Seymour_Cassell', 'Alejandro_Lembo', 'Joseph_Kabila', 'Charles_Richardson', 'Ed_Rosenthal', 'Kevin_Hearn', 'Felix_Trinidad', 'Serge_Melac', 'Tony_Parker', 'Duane_Barber', 'Chris_Matthews', 'Alex_Gonzalez', 'Darvis_Patton', 'Elgin_Baylor', 'Juljia_Vysotskij', 'Tamika_Catchings', 'Gina_Lollobrigida', 'Darko_Milicic', 'Richard_Carl', 'George_Galloway', 'Linda_Franklin', 'Laurent_Jalabert', 'James_Watt', 'Aaron_Patterson', 'Roberto_Guaterroma', 'Gavyn_Arthur', 'Evan_Marriott', 'Robert_Witt', 'Shoshana_Johnson', 'Jamie_Carey', 'Sam_Mendes', 'Lawrence_Vito', 'Heather_Willson', 'Kevin_Gil', 'Jung_Bong', 'Fidel_Castro_Daiz-Balart', 'Prince_Naruhito', 'Danny_Ainge', 'Adelina_Avila', 'Martha_Sahagun_de_Fox', 'Andrew_Caldecott', 'Rose_Marie', 'Miguel_Juarez_Perez', 'Bruce_Lunsford', 'Patrick_Leahy', 'Paul_McNulty', 'Johnny_Carson', 'Piers_Sellers', 'Laurent_Woulzy', 'Mohammed_Mehdi_Saleh', 'Rachel_Wheatley', 'Olivier_Boulay', 'Bob_Dole', 'Hrithik_Roshan', 'Jack_Osbourne', 'Jerry_Falwell', 'Baburam_Bhattari', 'Thomas_Van_Essen', 'Wen_Ho_Lee', 'JP_Suarez', 'Laurence_Fishburne', 'Elisha_Cuthbert', 'Juliette_Lewis', 'Abdullah_Ahmad_Badawi', 'Ben_Cohen', 'David_Caruso', 'Jerry_Sloan', 'Jewel_Howard-Taylor', 'Ernie_Harwell', 'Carlos_Vives', 'Askar_Akayev', 'Kirk_Doerger', 'Mark_Redman', 'Kim_Weeks', 'Paul_Greengrass', 'Marc-Andre_Fleury', 'Andy_Griggs', 'Jim_Paxson', 'Piotr_Anderszewski', 'Sheldon_Silver', 'Walter_Annenberg', 'Natalia_Dmitrieva', 'Michael_Fitzgerald', 'Jean-Marc_de_La_Sabliere', 'Brad_Brownell', 'Herbie_Hancock', 'Mukesh_Ambani', 'Melina_Kanakaredes', 'Hwang_Doo-yun', 'Marissa_Jaret_Winokur', 'Yannos_Papantoniou', 'Narayan_Singh_Pun', 'Razali_Ismail', 'Michael_DeMinico', 'Paul_Hogan', 'Zeljko_Rebraca', 'Carl_Levin', 'Lech_Walesa', 'Jeff_Dederian', 'John_Anderson', 'Jean_Brumley', 'Gerard_de_Cortanze', 'Aaron_Eckhart', 'Michael_McNeely', 'Emily_Stevens', 'Nina_Pecari', 'Isabel_Orellana', 'Hana_Makhmalbaf', 'Ben_Broussard', 'Tonino_Guerra', 'John_Sununu', 'Stephen_Covey', 'Mickey_Sherman', 'Adisai_Bodharamik', 'Ester_Canadas', 'Bill_Kong', 'Duane_Lee_Chapman', 'Michael_Boyce', 'Bob_Bowlsby', 'Hank_McKinnell', 'Tom_Glavine', 'Diego_Armando_Maradona', 'Dorothy_Lamour', 'Hadley_Bilger', 'Earl_Fritts', 'Andrew_Cuomo', 'Jennette_Bradley', 'Imelda_Marcos', 'Angie_Martinez', 'Gustavo_Terrazas', 'Megan_Mullally', 'Tom_Smothers', 'Lyle_Lovett', 'Dave_McGinnis', 'Mara_Georges', 'Laura_Schlessinger', 'Dennis_Johnson', 'Raul_Ibanez', 'Clint_Lamebear', 'Steve_Nesbitt', 'Lynn_Redgrave', 'Stephane_Delajoux', 'Ricky_Ray', 'Karl-Heinz_Rummenigge', 'Tatsuya_Fuji', 'Mikhail_Youzhny', 'Masja_Juel', 'William_Martin', 'Patricia_Clarkson', 'Liu_Mingkang', 'Daryl_Sabara', 'Ontario_Lett', 'Jamie_King', 'Michael_Moore', 'James_Hakett', 'Serge_Klarsfeld', 'Heinz_Feldmann', 'Manuel_Poggiali', 'Jonathan_Mostow', 'Phan_Van_Khai', 'Grady_Little', 'Manijeh_Hekmat', 'Marian_Dolan', 'Steny_Hoyer', 'Anthony_Fauci', 'Pierre_Pettigrew', 'Edina_Batar', 'Lars_Burgsmuller', 'Hugo_Colace', 'Phil_Bennett', 'Irina_Yatchenko', 'Sachin_Tendulkar', 'Jean-Claude_Trichet', 'Joaquin_Phoenix', 'Ruth_Bader_Ginsburg', 'Naji_Sabri', 'Gwen_Stefani', 'Claudine_Farrell', 'Michael_Jasny', 'Brenda_Wilson', 'Harry_Kalas', 'Joel_Todd', 'Mike_Tyson', 'Ruth_Christofferson', 'Rafael_Vinoly', 'Jeffery_Strelzin', 'Porter_Goss', 'Larry_Greene', 'Marina_Kuptsova', 'Richard_Langille', 'Mick_Jagger', 'Vicente_Fox_de_la_Concha', 'Andy_Lau', 'Mike_Matthews', 'Jaqueline_Godoy', 'Jason_Alexander', 'Sue_Wicks', 'Mick_McCarthy', 'Sultan_Qaboos', 'Mike_Stefanik', 'Larry_Coker', 'Teri_ORourke', 'Robert_Weitzel', 'Marion_Fahnestock', 'Yasar_Yakis', 'Emily_Mason', 'Giulio_Andreotti', 'Esad_Landzo', 'Tyron_Garner', 'John_Burnett', 'Martha_Martinez_Flores', 'Jane_Walker_Wood', 'Peter_Rasch', 'Annie-Jeanne_Reynaud', 'Justin_Timberlake', 'Victor_Kraatz', 'Evie_Lazarou', 'Dagmar_Dunlevy', 'David_Bowie', 'David_Coulthard', 'Erin_Runnion', 'Kathleen_Abernathy', 'Koichiro_Matsuura', 'Ahmed_Qureia', 'Kristen_Rivera', 'Andrew_Luster', 'Paul_Martin', 'Sepp_Blatter', 'Peter_Schultz', 'Parthiv_Patel', 'Ryan_Newman', 'Estelle_Morris', 'Arif_Mardin', 'Joe_Pantoliano', 'Pharrell_Williams', 'Kaye_Young', 'Cate_Blanchett', 'Tiffany_Limos', 'Christopher_Speer', 'David_Shayler', 'Jose_Acasuso', 'Sergio_Castellitto', 'Sharon_Davis', 'Dimitri_Perricos', 'Stephen_Swindal', 'Atsushi_Sato', 'Mario_Jardel', 'Michael_Olowokandi', 'Matt_Braker', 'Marion_Barry', 'Ferenc_Madl', 'Hal_Sellers', 'Alexandre_Herchcovitch', 'Oswaldo_Paya', 'David_Hyde_Pierce', 'Diana_Taylor', 'Muhammad_Ibrahim_Bilal', 'Rey_Sanchez', 'Afton_Smith', 'Biljana_Plavsic', 'Elias_Attallah', 'Vojislav_Seselj', 'Martin_Boryczewski', 'Leonardo_Fernandez', 'Scott_Dalton', 'Paul_Celluci', 'Alexander_Losyukov', 'Joseph_Estrada', 'Jim_Harrick', 'Gerry_Parsky', 'Annette_Bening', 'John_Daly_Jr', 'Javier_Vazquez', 'Cindy_Moll', 'Lorraine_Fenton', 'LeBron_James', 'Rosie_Perez', 'Scott_Hubbard', 'Eglis_Yaima_Cruz', 'Elena_Tihomirova', 'Cathy_Chisholm', 'Diana_Taurasi', 'Jeffrey_Immelt', 'Bernardo_Segura', 'Ted_Maher', 'Daniel_Barenboim', 'David_Westerfield', 'Yogi_Berra', 'Vin_Diesel', 'Geraldo_Rivera', 'Elva_Hsiao', 'Kim_Chinn', 'Julien_Boutter', 'David_Leahy', 'Fran_Drescher', 'Constance_Marie', 'Terry_Bradshaw', 'Arianna_Huffington', 'Svend_Aage_Jensby', 'Judd_Davies', 'Rick_Bragg', 'Chang_Dae-whan', 'Lana_Clarkson', 'Peter_Sejna', 'Alan_Dreher', 'Markus_Beyer', 'Kajsa_Bergqvist', 'Brittany_Snow', 'Bill_Pryor', 'William_Jackson', 'Robinson_Stevenin', 'Tassos_Papadopoulos', 'Bill_Butler', 'Ruben_Wolkowyski', 'Guido_Westerwelle', 'Paul_Luvera', 'John_Manley', 'Christina_Sawaya', 'Cliff_Ellis', 'Monte_Kiffin', 'William_Genego', 'Takeo_Fukui', 'Ernesto_Zedillo', 'Yekaterina_Guseva', 'Wolfgang_Schwarz', 'Nan_Wang', 'Robert_Nardelli', 'Heidi_Klum', 'Billy_Donovan', 'Mohamed_Benaissa', 'Michael_Smith_Foster', 'Tatjana_Gsell', 'Vassilis_Xiros', 'Angela_Mascia-Frye', 'Helene_Eksterowicz', 'Prince_Willem-Alexander', 'Bo_Ryan', 'Eric_Schacht', 'Paulie_Ayala', 'Marilyn_Monroe', 'Salman_Khan', 'Steven_Van_Zandt', 'Larry_Beinfest', 'Jodie_Kidd', 'Abel_Aguilar', 'Micah_Knorr', 'Kalid_Kaid', 'Emma_Nicholson', 'Melissa_Stark', 'Jong_Wook_Lee', 'Doug_Duncan', 'Harald_Ringstorff', 'Troy_Jenkins', 'Bill_Hughes', 'Albert_Brooks', 'Anthony_Principi', 'Frank_Hilldrup', 'Benedita_da_Silva', 'Carla_Del_Ponte', 'James_Gandolfini', 'Terrence_Trammell', 'Ernie_Fletcher', 'David_Hasselhoff', 'Peter_Hunt', 'Robert_Woody_Johnson', 'Hussam_Mohammed_Amin', 'Richard_Chamberlain', 'Eric_Staal', 'Martin_Brooke', 'Brad_Gushue', 'Mohammed_Al_Hindi', 'Patrice_Chereau', 'Valentina_Cervi', 'Anthony_Ervin', 'Koichi_Haraguchi', 'Stephen_Push', 'Don_Henley', 'Roberto_Cavalli', 'Corey_Maggette', 'Gustavo_Cisneros', 'Ruano_Pascual', 'Marieta_Chrousala', 'Armand_Sargen', 'Amber_Tamblyn', 'Taufik_Kiemas', 'Janis_Ruth_Coulter', 'Nick_Price', 'Nikki_McKibbin', 'Tracee_Treadwell', 'Barrett_Jackman', 'Larry_Anderson', 'Jesse_Ventura', 'Glenn_Rivers', 'Ignacio_Antonio_Velasco', 'John_Petty', 'Simon_Yam', 'Joseph_Blatter', 'Jennifer_Renee_Short', 'Mamdouh_Habib', 'Blythe_Hartley', 'Kevin_Sorbo', 'Kelly_Clarkson', 'Andy_Benes', 'Jason_Statham', 'Isidro_Pastor', 'David_Howard', 'Heather_Locklear', 'Keith_Bogans', 'Ken_Loach', 'Roel_Campos', 'Zahir_Shah', 'Barry_Nakell', 'Edward_Johnson', 'Scott_Wallach', 'Damon_Stoudamire', 'Mile_Mrksic', 'Dion_Glover', 'Miranda_Gaddis', 'George_Brumley', 'Cathy_Freeman', 'Charles_Chandler_IV', 'Lesley_Coppin', 'Kwon_Young-gil', 'Arnold_Palmer', 'Jack_LaLanne', 'Olivia_Newton-John', 'Maurice_Cheeks', 'Margie_Puente', 'William_Bratton', 'Horacio_Julio_Pina', 'Jason_Biggs', 'Stephen_Glassroth', 'Bernard_Siegel', 'Imran_Khan', 'Mike_Carona', 'Casy_Preslar', 'Camilla_Parker_Bowles', 'Tom_Reilly', 'Mike_Sherman', 'Jeffrey_Katzenberg', 'Sheila_Copps', 'Cheryl_James', 'Simon_Cowell', 'Claudia_Pechstein', 'Ben_Davis', 'Micheal_Jourdain_Jr', 'Janet_Ecker', 'Stephanie_Zimbalist', 'Daniel_Coats', 'Bob_Hope', 'Eugene_Teslovic', 'Paul_Tracy', 'Chan_Ho_Park', 'Dale_Bosworth', 'Gerald_Barbarito', 'Mary_Descenza', 'Mark_Rosenbaum', 'Anne_Donovan', 'Matthew_Perry', 'Josh_Kronfeld', 'Joaquim_Levy', 'Kurt_Warner', 'Chris_Byrd', 'Sean_OKeefe', 'Lesley_McCulloch', 'Eliza_Manningham-Buller', 'Colin_Campbell', 'Donald_Evans', 'Steve_Blake', 'Jimmy_Kimmel', 'Francisco_Santos', 'Kathryn_Tucker', 'Michael_Bolton', 'Stephen_Ambrose', 'Jesse_Harris', 'Phil_Cullen', 'Melissa_Manchester', 'Gong_Li', 'Jimmy_Gurule', 'Chen_Tsai-chin', 'Steve_Alford', 'Dominique_Perben', 'Bono', 'Harland_Braun', 'Marcos_Daniel_Jimenez', 'Eric_Hinske', 'Tom_Osborne', 'Barbara_Bach', 'Todd_MacCulloch', 'Robert_Downey_Jr', 'Richard_Hamilton', 'William_Joppy', 'Mireya_Moscoso', 'Humberto_Coelho', 'Hilary_Duff', 'Jelena_Dokic', 'Howard_Stern', 'Scott_Rolen', 'Elin_Nordegren', 'Liza_Minnelli', 'Luis_Fonsi', 'Alyson_Hannigan', 'Astou_Ndiaye-Diatta', 'Cassandra_Heise', 'Eric_Idle', 'Mike_Scioscia', 'Cynthia_Nixon', 'Jen_Bice', 'Tatiana_Kennedy_Schlossberg', 'Jose_Santos', 'Matt_Walters', 'Derek_Lowe', 'Gerald_Riley', 'Eriko_Tamura', 'Hans_Peter_Briegel', 'Collis_Temple_III', 'Brendan_Stai', 'Curt_Weldon', 'Sarah_Weddington', 'Joanna_Poitier', 'Paul_Farley', 'Johnny_Depp', 'Billy_Edelin', 'Luis_Rosario_Huertas', 'Colin_Jackson', 'Ted_Turner', 'Tom_Welch', 'Michael_Milton', 'Michael_Kostelnik', 'Oleksandr_Moroz', 'Leonardo_Del_Vecchio', 'James_Roberts', 'Charlie_Williams', 'Jesper_Parnevik', 'Roberto_Robaina', 'Jane_Menelaus', 'Pham_Thi_Mai_Phuong', 'Walt_Harris', 'Lynne_Thigpen', 'Angela_Bassett', 'Judy_Spreckels', 'Hayley_Tullett', 'Miguel_Hakim', 'Jennifer_Tilly', 'Jose_Luis_Chilavert', 'Diego_Diego_Lerman', 'Lim_Dong-won', 'Alexa_Loren', 'Gary_Forsee', 'Grant_Rossenmeyer', 'Ekaterina_Dmitriev', 'Hannah_Stockbauer', 'Ruben_Sierra', 'Leon_LaPorte', 'Martin_Cauchon', 'Bustam_A_Zedan_Aljanabi', 'Sereyvuth_Kem', 'Ty_Votaw', 'Fernando_Vargas', 'Sigourney_Weaver', 'Stefan_Holm', 'Joanne_Duquette', 'Laurie_Hobbs', 'Carlos_Fasciolo', 'Manuel_Llorente', 'John_Goold', 'Ricardo_Sanchez', 'Chang_Jae_On', 'Brandon_Boyd', 'Ghassan_Elashi', 'Anzori_Kikalishvili', 'Brajesh_Mishra', 'Yusaku_Miyazato', 'Trevor_Watson', 'Walid_Al-Awadi', 'Alex_Wallau', 'Nong_Duc_Manh', 'Suzie_McConnell_Serio', 'Hashim_Thaci', 'Georgina_Bardach', 'Bryan_Thomas', 'Andrei_Konchalovsky', 'Dale_Earnhardt', 'Karin_Stoiber', 'Uzi_Even', 'Diana_Ross', 'Bartosz_Kizierowski', 'Magui_Serna', 'Mike_Szymanczyk', 'Damarius_Bilbo', 'Blythe_Danner', 'Hassan_Nasrallah', 'Hilary_McKay', 'Khalid_Qazi', 'Tori_Amos', 'Eileen_Spina', 'Jack_Knowlton', 'Fatma_Kusibeh', 'David_Provost', 'Grady_Irvin_Jr', 'Oprah_Winfrey', 'Julia_Tymoshenko', 'Florecita_Cobian', 'Pieter_Bouw', 'Padraig_Harrington', 'Jodie_Foster', 'Raja_Zafar-ul-Haq', 'Claire_De_Gryse', 'John_Gruden', 'George_Murphy', 'Brian_Schneider', 'Mark_Dacey', 'Bing_Crosby', 'Martin_Scorsese', 'Graham_Bentley', 'Emmit_Smith', 'Mike_Davis', 'William_Rehnquist', 'Judy_Vassar', 'Gabriel_Valdes', 'Pedro_Duque', 'Habib_Hisham', 'Tommy_Amaker', 'Platon_Lebedev', 'Stuart_Townsend', 'Thomas_Klestil', 'Leland_Chapman', 'Greg_Rusedski', 'Stan_Kroenke', 'Michael_J_Sheehan', 'Jamling_Norgay', 'Shirley_Jones', 'Jean_Nagel', 'Dennis_Oswald', 'Shane_Loux', 'Andres_Pastrana', 'Peter_Hartz', 'Alberta_Lee', 'Eduardo_Fischer', 'Maxim_Afinogenov', 'Mario_Puzo', 'Emmanuelle_Beart', 'Carlos_Manuel_Pruneda', 'Max_Mosley', 'George_Roy_Hill', 'Riccardo_Muti', 'Xanana_Gusmao', 'Matt_Dillon', 'Alan_Jackson', 'Ed_Sullivan', 'Michael_Diekmann', 'Lucie_Lapovsky', 'Omar_Vizquel', 'Debra_Yang', 'Johannes_Rau', 'Emmanuel_Filiberto', 'Donald_Pettit', 'Heather_Mills', 'Anatoliy_Kinakh', 'Bernard_Giraudeau', 'Rachel_Corrie', 'Scott_Blum', 'Chang_Tso', 'Jorge_Marquez-Ruarte', 'Noah_Wyle', 'Jake_Gyllenhaal', 'Princess_Maxima', 'Toshi_Izawa', 'Earl_Counter', 'John_Mabry', 'Claudio_Ranieri', 'Michelle_Yeoh', 'Luis_Horna', 'Christiane_Wulff', 'Christopher_Matero', 'Duncan_Fletcher', 'Tab_Baldwin', 'Carlos_Savedra', 'Martin_Kristof', 'Alimzhan_Tokhtakhounov', 'Bill_Maher', 'Lisa_Leslie', 'John_Blaney', 'Dexter_Jackson', 'Lin_Yi-fu', 'Paul_Vathis', 'Gene_Hackman', 'Joseph_Deiss', 'Ismail_Merchant', 'Doris_Schroeder', 'Erika_Christensen', 'Narendra_Modi', 'Francisco_Flores', 'Pa_Kou_Hang', 'Ainsworth_Dyer', 'Peter_Max', 'Bo_Pelini', 'Rand_Beers', 'Bruno_Junquiera', 'Jason_Sehorn', 'Mahdi_Al_Bassam', 'Thomas_Malchow', 'Kim_Yong-il', 'Chistian_Stahl', 'Brian_Meadors', 'Tammy_Lynn_Michaels', 'Monique_Garbrecht-Enfeldt', 'Silvia_Farina_Elia', 'Kate_Starbird', 'Bob_Sulkin', 'Cristiano_da_Matta', 'Kenny_Brack', 'Donatella_Versace', 'Mark_Komara', 'Caroline_Link', 'Rani_Mukherjee', 'Alex_Penelas', 'Ryan_Goodman', 'Mladen_Naletilic', 'Mary_Blige', 'Linda_Mason', 'George_Voinovich', 'Leslie_Moonves', 'Emily_Robison', 'Javier_Saviola', 'Wesley_Clark', 'Justine_Henin', 'Jerry_Rice', 'Sam_Brownback', 'Gregorio_Honasan', 'Terje_Roed-Larsen', 'Ian_Gillan', 'Theodore_Tweed_Roosevelt', 'Terry_Gilliam', 'David_Donohue', 'Keith_Van_Horn', 'Julie_Taymor', 'Bonnie_Fuller', 'Gwendal_Peizerat', 'James_W_Kennedy', 'Tayyeb_Abdel_Rahim', 'Barry_Zito', 'Bill_Clancy', 'Mike_Thibault', 'Ramona_Rispton', 'Elena_Bovina', 'Mary_Sue_Coleman', 'Nawabzada_Nasrullah_Khan', 'Steven_Kinlock', 'Bridget_Fonda', 'Julius_Erving', 'Donna_Shalala', 'Franz_Gsell', 'Micky_Ward', 'Edwina_Currie', 'Brendan_Fraser', 'Derrick_Battie', 'Val_Ackerman', 'Kay_Bailey_Hutchison', 'Abdullah_Nasseef', 'Ivan_Lee', 'Filippo_Volandri', 'Jose_Dirceu', 'Kemal_Dervis', 'Angela_Lansbury', 'Lucio_Cecchinello', 'Fred_Thompson', 'Yasser_Arafat', 'Patsy_Hardy', 'Anja_Paerson', 'Ricardo_Mayorga', 'Nicholas_Tse', 'Denis_Fassou-Nguesso', 'Gary_Stevens', 'Takashi_Yamamoto', 'Silvie_Cabero', 'Cori_Enghusen', 'Daniela_Hantuchova', 'Patrick_Rafter', 'Clint_Eastwood', 'Elijah_Wood', 'Anders_Ebbeson', 'Jose_Luis_Santiago_Vasconcelos', 'John_Scarlett', 'Carlos_Lordkipanitse', 'Meirion_Evans', 'Jane_Fonda', 'Jolanta_Kwasniewski', 'Jorge_Moreno', 'Giuseppe_Morchio', 'Johnny_Benson', 'Pilar_Montenegro', 'Nebojsa_Pavkovic', 'Pete_Rose', 'Michael_Chiklis', 'Mack_Brown', 'Hugh_Hefner', 'Ian_Moran', 'Sok_An', 'Cristina_Torrens_Valero', 'Alvaro_Noboa', 'Pier_Ferdinando_Casini', 'Bruce_Gebhardt', 'Gabriel_Farhi', 'Todd_Reid', 'Mike_Smith', 'Chakib_Khelil', 'Mike_Flanagan', 'Fred_Eckhard', 'Lois_Smart', 'Gennifer_Flowers', 'Mary_Hill', 'Abdullah_al-Attiyah', 'Shinya_Taniguchi', 'Teri_Garr', 'Yuri_Fedotov', 'Coretta_Scott_King', 'Alison_Krauss', 'Bryan_Chui', 'Christopher_Conyers', 'Ed_Rendell', 'Esteban_Cordoba-Velazquez', 'Chris_Columbus', 'Keith_Tyson', 'Jack_Smith', 'Troy_Hudson', 'Paul_Kelleher', 'Alan_Ball', 'Adam_Sandler', 'Will_Young', 'Richard_Barry', 'John_Richardson', 'Norm_Macdonald', 'Pat_Cox', 'Roman_Tam', 'Michael_Munoz', 'Nikki_Reed', 'Brad_Banks', 'Tony_Stewart', 'Saparmurat_Niyazov', 'Ann_Landers', 'Bill_Carmody', 'Jacqueline_Gold', 'Marwan_Muasher', 'Andy_Bryant', 'David_Wolf', 'Janice_Abreu', 'John_Sweeney', 'Bronson_Arroyo', 'Randy_Brown', 'Andres_Manuel_Lopez_Obrador', 'Millicent_Martin', 'Debbie_Reynolds', 'Kristin_Davis', 'Michael_Taylor', 'Mo_Elleithee', 'Philip_Cummings', 'Rand_Miller', 'Uthai_Pimchaichon', 'Shigeru_Ishiba', 'Bela_Karolyi', 'Teruaki_Masumoto', 'Kyle_Shewfelt', 'Brett_Boone', 'Ludivine_Sagnier', 'Dennis_Erickson', 'Bill_Doba', 'Humberto_Espinoza', 'Gustavo_Franco', 'Daniel_Scioli', 'Ronaldo_Luis_Nazario_de_Lima', 'Arlen_Specter', 'Elijan_Ingram', 'Rob_Lowe', 'Takenori_Kanzaki', 'Jim_Jeffords', 'Anthony_Hazen', 'Miyako_Miyazaki', 'Tom_Harkin', 'Joe_Garner', 'Dave_McNally', 'Michael_Leavitt', 'Tara_Dawn_Christensen', 'Melana_Scantlin', 'John_Cruz', 'Jefferson_Perez', 'Phil_Cline', 'Brian_Clemens', 'Steve_Valentine', 'Nicolas_Macrozonaris', 'Steve_Allee', 'Paula_Radcliffe', 'John_Franco', 'Steve_Blankenship', 'Mitchell_Swartz', 'Francesco_Totti', 'Gerhard_Schmid', 'Martie_Maguire', 'Hatsui_Hasuike', 'Max_von_Sydow', 'Hamid_Reza_Asefi', 'Chuck_Bednarik', 'Jacques_Villeneuve', 'Anthony_Hopkins', 'Kenneth_Evans', 'Trista_Rehn', 'Kelly_Osbourne', 'Kit_Bond', 'Nila_Ferran', 'John_Jones', 'Carolyn_Dawn_Johnson', 'Jeff_Hornacek', 'Valentina_Tereshkova', 'Lisa_Stansfield', 'Daniele_Nardello', 'Victoria_Beckham', 'Robert_Bonner', 'Tina_Sinatra', 'Darlene_Garrettson', 'Chris_Claiborne', 'Chadha_Gurinder', 'Tim_Norbeck', 'Alexander_Rumyantsev', 'Edgar_Savisaar', 'James_Cameron', 'Serena_Karlan', 'Roberto_Carlos', 'Clive_Lloyd', 'Grace_Kelly', 'Eileen_Coparropa', 'Michael_Chertoff', 'Lewis_Booth', 'Sammy_Sosa', 'Jeff_George', 'Martin_Luther_King_III', 'Makiya_Ali_Hassan', 'Keith_Urban', 'Clemente_de_la_Vega', 'Walter_Woods', 'James_Dingemans', 'Matthew_Vaughan', 'Tsutomu_Takebe', 'Shawn_Bradley', 'Dan_Guerrero', 'Christopher_Amolsch', 'Brock_Berlin', 'Charles_Ingram', 'BJ_Habibie', 'Chris_Andrews', 'Yossi_Beilin', 'Allen_Rock', 'T_Boone_Pickens', 'Javier_Weber', 'James_May', 'Jim_Hardin', 'James_Franco', 'Yoon_Jeong_Cho', 'Felix_Mantilla', 'Monique_Gagnon-Tremblay', 'Pat_Rochester', 'Phil_Bredesen', 'Gracia_Burnham', 'Lyudmila_Putin', 'Jennifer_Gratz', 'Richard_Fine', 'John_Starks', 'Eva_Marie_Saint', 'Lindsay_Benko', 'Ashraf_Ghani', 'Franck_Cerutti', 'Juan_Carlos', 'Monica_Lewinsky', 'John_Fox', 'Malcolm_Jamal_Warner', 'Brett_Hawke', 'Daniel_Montgomery', 'Randy_Dryer', 'Oscar_Bolanos', 'Richard_Paul_Evans', 'Brandon_Jones', 'Ashraf_Alasmar', 'Paul_Otellini', 'Kathie_Louise_Saunders', 'George_Foreman', 'Ralph_Firman', 'Rita_Wilson', 'Tom_Christerson', 'Luke_Walton', 'Paul_Sarbanes', 'Tuncay_Sanli', 'Tim_Jones', 'Brett_Perry', 'Madge_Overhouse', 'Carson_Daly', 'Khalid_Khannouchi', 'Stephen_Arigbabu', 'David_McKiernan', 'Denys_Arcand', 'Julio_Rossi', 'Clara_Harris', 'Mark_Cuban', 'Dave_Matthews', 'Meg_Mallon', 'Keith_Lowen', 'Daniela_Cicarelli', 'Brian_Wells', 'Cristina_Saralegui', 'Queen_Sofia', 'Harvey_Fierstein', 'Itamar_Franco', 'Pinar_del_Rio', 'Barbara_De_Brun', 'Roger_Mahony', 'Nathalie_Baye', 'Patrick_Ewing', 'Carlton_Baugh', 'Jose_Lina', 'Stephane_Rochon', 'Theresa_May', 'Judy_Dean', 'Theo_Epstein', 'Radovan_Karadzic', 'Bertrand_Bonello', 'Jerome_Golmard', 'Dennis_Franchione', 'Malcolm_Wild', 'Sananda_Maitreya', 'Ellen_Engleman', 'John_Warner', 'Thomas_Day', 'Jim_Edmonds', 'Scott_Yates', 'Sean_Townsend', 'Pat_Riley', 'Wilfredo_Moreno', 'Lee_Chang-dong', 'Alexandre_Vinokourov', 'Richard_Crenna', 'Tom_Hanusik', 'Antonio_Elias_Saca', 'Natasha_Henstridge', 'Jay_Rasulo', 'Cindy_Crawford', 'Scott_McClellan', 'Pham_Sy_Chien', 'Arnaud_Clement', 'Dereck_Whittenburg', 'Muammar_Gaddafi', 'Marcos_Milinkovic', 'Chyung_Dai-chul', 'Jason_Mewes', 'Tanya_Lindenmuth', 'Brandon_Fails', 'Daryl_Parks', 'Katrin_Susi', 'Jim_Furyk', 'Olene_Walker', 'Albert_Montanes', 'Michael_Ballack', 'Ruth_Stubbs', 'Ralf_Schumacher', 'Hank_Azaria', 'Allan_Wagner', 'Catherine_Ndereba', 'Jean_Todt', 'Manuela_Montebrun', 'Wang_Yingfan', 'Kalpana_Chawla', 'Rick_Romley', 'Marricia_Tate', 'Rudy_Tomjanovich', 'Lee_Tae-sik', 'Charlie_Hunnam', 'Zorica_Radovic', 'Jan_Petersen', 'Jim_Spinoza', 'Richard_Branson', 'Terry_Stotts', 'Gary_Gero', 'Daniel_Darnell', 'Guillermo_Ruiz_Polanco', 'Dinora_Rosales', 'Ron_Gonzales', 'Clint_Howard', 'Mary_Elizabeth_Mastrantonio', 'Donnie_Brennan', 'Nova_Esther_Guthrie', 'Matt_Doherty', 'Paul_Gannon', 'Jane_Pauley', 'Alicia_Witt', 'Richie_Adubato', 'Roger_Penske', 'Jack_Welch', 'Kevin_James', 'Lisa_Girman', 'Edward_Flynn', 'Pernilla_Bjorn', 'Harbhajan_Singh', 'Chris_Tucker', 'Zico', 'Cha_Yung-gu', 'Ilan_Ramon', 'Katherine_Harris', 'Morris_Dees', 'David_Trimble', 'Helena_Schneider', 'Drew_Bledsoe', 'George_Gregan', 'Taylor_Twellman', 'Brendan_Gaughan', 'Eli_Broad', 'Christian_Wulff', 'Matt_Siebrandt', 'Cesar_Gaviria', 'Mark_Salter', 'Cynthia_Rowley', 'Herbert_Haupt', 'Prince_Charles', 'Graciano_Rocchigiani', 'Edward_Belvin', 'Oracene_Williams', 'Zdravko_Mucic', 'Rudolf_Schuster', 'Rashid_Qureshi', 'Ross_Verba', 'Fernando_Henrique_Cardoso', 'Sam_Rockwell', 'Nicoletta_Braschi', 'Rebecca_Romijn-Stamos', 'Rita_Grande', 'Marquier_Montano_Contreras', 'Jim_Thome', 'Phillips_Idowu', 'George_Harrison', 'Kim_Yun-kyu', 'Anil_Ramsook', 'Natalia_Verbeke', 'Griffin_Colvin', 'Wanda_de_la_Jesus', 'Clive_Woodward', 'Muffet_McGraw', 'Ralph_Klein', 'Isabelle_Huppert', 'Xiang_Liu', 'Bill_Byrne', 'Martin_Gecht', 'Betty_Garrison', 'Ana_Isabel_Sanchez', 'Bob_Stoops', 'Juan_Francisco_Palencia', 'Jennifer_Connelly', 'Paul_William_Hurley', 'Jake_Plummer', 'Thomas_Daily', 'Julius_Barnes', 'Ain_Seppik', 'Pedro_Alvarez', 'Namuddu_Florence', 'Robin_Wagner', 'Jenny_Romero', 'Hank_Aaron', 'Faye_Dunaway', 'Rodrigo_Rato', 'Bernadette_Peters', 'Jim_Freudenberg', 'Lee_Ann_Womack', 'Franklin_Damann', 'Jayson_Williams', 'Habib_Rizieq', 'Mukhtar_Alytnbayev', 'Poala_Suarez', 'Johan_Bruyneel', 'Ibrahim_Jaafari', 'Eric_Daze', 'Mel_Brooks', 'William_McDonough', 'Corinna_Harfouch', 'Kathleen_Kennedy_Townsend', 'Regina_Ip', 'Qazi_Hussain_Ahmed', 'Dustin_Hoffman', 'Tomas_Enge', 'Laura_Linney', 'Derian_Hatcher', 'Shigeo_Nagashima', 'Andy_Garcia', 'Beth_Blough', 'Ahmed_Lopez', 'Doug_Moe', 'OJ_Simpson', 'Faye_Wong', 'Manuel_Jesus', 'Bruce_Van_De_Velde', 'Yang_Pao-yu', 'Kirsten_Dunst', 'Bixente_LIzarazu', 'Joe_Torre', 'Nabil_Shaath', 'Brad_Garrett', 'Paul_Schrader', 'Jim_Kelly', 'Ernie_Stewart', 'Tom_OBrien', 'David_Sibleyk', 'Christopher_Whittle', 'Kellie_Coffey', 'Scott_Dickson', 'Prince_Philippe', 'Ronde_Barber', 'Eddy_Merckx', 'Jennifer_Keller', 'Jason_Kapono', 'Eric_Christian_Olsen', 'Martin_Howard', 'Laurie_Chan', 'Eva_Mendes', 'Oliver_Stone', 'Gary_Coleman', 'Michael_Weiss', 'Julianna_Margulies', 'Gunilla_Backman', 'Chance_Mock', 'Janette_Husarova', 'Paul_Pierce', 'Rosa_Haywa_de_Condori', 'Kurt_Suzuki', 'Natalia_Vodonova', 'George_Maxwell_Richards', 'Clay_Aiken', 'Joaquin_Sanchez', 'Alberto_Ruiz_Gallardon', 'Adolfo_Aguilar_Zinser', 'Al_Pacino', 'Shaukat_Aziz', 'Bobby_Kielty', 'Misty_Dawn_Clymer', 'Janica_Kostelic', 'Gary_Dellaverson', 'Stephanie_Moore', 'George_Brumley_III', 'Gary_Doer', 'Young_Kim', 'Gerry_Kelly', 'James_Sensenbrenner', 'Joseph_Safra', 'Robert_Beck', 'Chris_Cirino', 'Saoud_Al_Faisal', 'Oscar_De_La_Hoya', 'Eve_Pelletier', 'King_Abdullah_II', 'Paul_Tagliabue', 'Timothy_Rigas', 'Henry_Castellanos', 'Mohamed_ElBaradei', 'Mireya_Elisa_Moscoso_Rodriguez', 'Suzanne_Fox', 'Nestor_Gonzalez', 'Gregg_Berhalter', 'AJ_Lamas', 'Bill_Rainer', 'Quin_Snyder', 'Laszlo_Kovacs', 'Michael_Lechner', 'Lori_Berenson', 'Michael_Sheehan', 'Goran_Persson', 'Danis_Tanovic', 'Tim_Howard', 'Fujio_Mitarai', 'Cheryl_Little', 'Jan_Ullrich', 'Rachel_Leigh_Cook', 'Myung_Yang', 'Gene_Orza', 'Rowan_Williams', 'Loretta_Lynn_Harper', 'Helio_Castroneves', 'Charlotte_Casiraghi', 'Michelangelo_Antonioni', 'Ryan_Nyquist', 'Patricia_Hearst', 'Adrian_Nastase', 'Antje_Buschschulte', 'Ray_Price', 'Brian_Williams', 'Karen_Mok', 'Roger_Staubach', 'Al_Sharpton', 'Jean-Claude_Van_Damme', 'Frank_Cassell', 'John_Moe', 'Ben_Affleck', 'Chhouk_Rin', 'Daryl_Jones', 'Matthew_During', 'Dai_Bachtiar', 'Feliciano_Lopez', 'Carolina_Moraes', 'George_Blaney', 'Queen_Rania', 'Khaled_Sawalhi', 'Anthony_LaPaglia', 'Elena_de_Chavez', 'Mary_Frances_Seiter', 'Jose_Carreras', 'Sybille_Schmid', 'Izzat_Ibrahim', 'Bulent_Ecevit', 'Jennie_Finch', 'Kate_Lee', 'Peter_Medgyessy', 'Himmler_Rebu', 'Ken_Balk', 'JT_Snow', 'Marcelo_Salas', 'Phil_Gramm', 'Daniel_Rouse', 'Martin_Burnham', 'Mark_Sacco', 'Hamid_Efendi', 'Mehmet_Okur', 'Sohail_Abbas', 'Melissa_Etheridge', 'Carin_Koch', 'Van_Hilley', 'Pedro_Martinez', 'Paula_Zahn', 'David_Bisbal', 'Mary_Maddux', 'Maria_Soledad_Alvear_Valenzuela', 'Debbie_Allen', 'John_Nimmo', 'Danielle_Spencer', 'Liu_Ye', 'Nia_Vardalos', 'Thomas_Rupprath', 'Mike_Alden', 'Travis_Rudolph', 'Ricky_Ponting', 'Janusz_Kaminski', 'Joao_Rocha', 'Gerardo_Gambala', 'Saeb_Erekat', 'Larry_Ralston', 'Portia_de_Rossi', 'William_Bulger', 'Bill_Duffey', 'Dennis_Kozlowski', 'Cheryl_Hines', 'Christine_Todd_Whitman', 'Dave_Lewis', 'Willis_Roberts', 'David_Siegel', 'Katie_Boone', 'Yasein_Taher', 'Stefanie_De_Roux', 'Rick_Stansbury', 'Juergen_Peters', 'Paul_Shanley', 'Ali_Abdullah_Saleh', 'Alex_Holmes', 'Paul_Ebert', 'Jack_Goodman', 'Jacques_Kallis', 'Howard_Smith', 'Robert_Wiener', 'Kristen_Breitweiser', 'Hun_Sen', 'Filippo_Inzaghi', 'Nancy_Kerrigan', 'Dorothy_Loudon', 'Nicola_Bono', 'Maryn_McKenna', 'Tamara_Mowry', 'Adrianna_Zuzic', 'Taia_Balk', 'Thanongsak_Tuvinan', 'Jennifer_Love_Hewitt', 'Zurab_Tsereteli', 'Julie_Andrews', 'Paul_Wals', 'Kostya_Tszyu', 'Victoria_Clarke', 'Tomas_Malik', 'Julian_Battle', 'Hung_Wan-ting', 'Grace_Brinell', 'Abdel_Madi_Shabneh', 'Tom_Lantos', 'Maria_Luisa_Mendonca', 'Jim_Beattie', 'Roger_Cook', 'Lucas_Wysocki', 'Lili_Taylor', 'Tommy_Lasorda', 'Suzanne_Torrance', 'Christian_Gimenez', 'Dick_Jauron', 'Natasha_McElhone', 'Michael_Kors', 'Aparna_Pillai', 'Garth_Drabinsky', 'Ramiro_Goben_Reducindo', 'Angie_Arzola', 'Andrew_Sabey', 'Christian_Patino', 'Peter_Mugyeni', 'Donny_Osmond', 'Glenn_Tilton', 'Oleg_Romantsev', 'Robert_De_Niro', 'John_Eastman', 'Federico_Fellini', 'Richard_Sambrook', 'Vytas_Danelius', 'Chen_Shui-bian', 'Cindy_Zagorski', 'Irwan_Fadzi_Idris', 'Hestrie_Cloette', 'Maria_Shkolnikova', 'Alastair_Campbell', 'Joe_Finley', 'Kevin_Tarrant', 'Hana_Urushima', 'Leonard_Glick', 'Jimmy_Smits', 'Ambrose_Lee', 'Alyse_Beaupre', 'Scott_Fawell', 'John_Rosa', 'Erika_Reyes', 'David_Brinkley', 'Louisa_Baileche', 'Jackie_Sherrill', 'Amy_Brenneman', 'Phillipe_Comtois', 'Takuma_Sato', 'Kamal_Kharrazi', 'Lino_Oviedo', 'Raul_Castaneda', 'Shannon_OBrien', 'Ozzie_Smith', 'Bob_Crippen', 'Svetislav_Pesic', 'Paige_Fitzgerald', 'Calista_Flockhart', 'Gerrit_Zalm', 'Sarah_Price', 'Connie_Chung', 'Mickey_Loomis', 'Alastair_Johnston', 'Kelly_Santos', 'John_Reilly', 'Sophia_Loren', 'Roberta_Combs', 'Eric_Dubin', 'Monica_Bellucci', 'Kwon_Yang-sook', 'Ahmed_Ahmed', 'John_Stockton', 'Tony_Clement', 'Dwayne_Johnson', 'Uma_Thurman', 'Nina_Jacobson', 'Ellen_Saracini', 'Hisham_Halawi', 'Kate_Richardson', 'Charlotte_Rampling', 'Kifah_Ajouri', 'Patricia_Heaton', 'Derek_Parra', 'Kim_Su_Nam', 'Edward_Egan', 'Patrick_Eaves', 'Marco_Antonio_Barrera', 'Andrew_Jarecki', 'Jim_Cantalupo', 'Leisel_Jones', 'Tim_Blake_Nelson', 'Michelle_Bachelet', 'Lisa_Stone', 'Mae_Jemison', 'Marlon_Devonish', 'Edith_Masai', 'Sean_Astin', 'Huang_Suey-Sheng', 'Frank_Zappa', 'Roberto_Tovar', 'Mario_Dominguez', 'Kay_Behrensmeyer', 'Mohammed_Ashraf_Hafiz', 'William_Perry', 'Susilo_Bambang_Yudhoyono', 'Art_Lopez', 'Debra_Rose', 'Supachai_Panitchpakdi', 'William_Overlin', 'Natalie_Williams', 'Jose_Lopez_Beltran', 'Helio_Rubens_Garcia', 'Brandon_Webb', 'Boutros_Boutros_Ghali', 'Valery_Giscard_dEstaing', 'John_Taylor', 'Hitoshi_Oshitani', 'Rupert_Murdoch', 'James_Kopp', 'Phil_McGraw', 'Laila_Ali', 'Audrey_Sauret', 'Jakob_Kellenberger', 'Dino_de_Laurentis', 'David_Surrett', 'Dewayne_White', 'Anthony_Scott_Miller', 'Jason_Keep', 'Andre_Smith', 'David_Stern', 'Michelle_Lecky', 'Thomas_Enqvist', 'Jorge_Rodolfo_Canicoba_Corral', 'Marie-Josee_Croze', 'Carla_Tricoli', 'Reggie_Lewis', 'Didier_Defago', 'Andy_Rooney', 'Alessandra_Cerna', 'Uday_Hussein', 'Kimberly_Stewart', 'Cari_Davis', 'Justin_Marshall', 'Ben_Stein', 'Boris_Becker', 'Virgina_Ruano_Pascal', 'William_Hyde', 'Marisa_Tomei', 'Serge_Tchuruk', 'Ricky_Quick', 'Chris_Thomas', 'Alex_Barros', 'Robert_Torricelli', 'Greg_Owen', 'Guennadi_Chipouline', 'Woody_Allen', 'Jim_Wall', 'Max_Baucus', 'Hitomi_Soga', 'Peter_Mansbridge', 'Paul_Michael_Daniels', 'Mehmet_Ali_Sahin', 'Mikhail_Gorbachev', 'Jeff_Roehm', 'Frank_Keating', 'Wally_Szczerbiak', 'Eric_Snow', 'Michele_Placido', 'Al_Gore', 'Johnny_Htu', 'Martin_Frost', 'Gary_Bauer', 'Stephen_Friedman', 'Charles_Schumer', 'Cristian_Barros', 'Dominic_Monaghan', 'Stefan_Tafrov', 'Pascal_Rheaume', 'Tom_Vilsack', 'TA_McLendon', 'Larry_Harris', 'Jim_Ryan', 'Alberto_Gonzales', 'Andy_Warhol', 'Rick_Santorum', 'Patricia_Johnson', 'Joe_Darrell', 'MC_Hammer', 'Diane_Ladd', 'Tatiana_Panova', 'Syed_Abdul_Rahman_Geelani', 'Rogelio_Ramos', 'Marsha_Sharp', 'Stefan_Koubek', 'Cathy_Cunningham', 'Arsinee_Khanjian', 'Gloria_Trevi', 'Charlie_Deane', 'Tora_Takagi', 'Diana_Renee_Valdivieso_Dubon', 'Francis_Collins', 'Lindy_Ruff', 'Branko_Crvenkovski', 'Jana_Henke', 'Catherine_Donkers', 'Kurt_Russell', 'Stan_Kasten', 'Eric_Wedge', 'James_Wolfensohn', 'Mary_Landrieu', 'Jo_Dee_Messina', 'Joshua_Perper', 'Mia_Mottley', 'Graeme_Smith', 'Maria_Sanchez_Lorenzo', 'Raul_Chacon', 'Hong_Myung', 'Sean_Penn', 'Sung_Hong_Choi', 'Luiz_Felipe_Scolari', 'Rod_Jong-il', 'Enrique_Iglesias', 'Johnson_Panjaitan', 'Jose_Theodore', 'Linus_Roache', 'Bode_Miller', 'Dennis_Hastert', 'Patricia_Wartusch', 'Ronald_Kadish', 'Arthur_Martinez', 'Eurico_Guterres', 'Penny_Lancaster', 'Blas_Ople', 'Jamie_Lee_Curtis', 'Tim_Curry', 'Laura_Bozzo', 'Brad_Johnson', 'Shane_Reynolds', 'Marc_Racicot', 'John_Leguizamo', 'Tonya_Payne', 'Morris_Watts', 'Laurie_Laychak', 'Dick_Smothers', 'Charles_Bronson', 'Nicolas_Escude', 'Tatiana_Gratcheva', 'Steve_Backley', 'Lena_Katina', 'George_Ryan', 'Benazir_Bhutto', 'James_Jones', 'Sedigh_Barmak', 'Abdul_Majeed_Shobokshi', 'Laura_Romero', 'Queen_Latifah', 'Michael_Michele', 'Erin_Brockovich', 'Bryce_Carmine', 'Thalia', 'Barbara_Bodine', 'Kate_Winslet', 'Ranil_Wickremasinghe', 'Corliss_Williamson', 'Robert_Gallo', 'Chang_Saio-yue', 'Ellen_MacArthur', 'Jeri_Ryan', 'Koichi_Tanaka', 'Cristina_Fernandez', 'Valentino_Rossi', 'Kieran_Culkin', 'Jim_Leach', 'Hermogenes_Ebdane_Jr', 'Joshua_Gracin', 'Dai_Chul_Chyung', 'Robert_Pollack', 'John_Tyson', 'Emma_Watson', 'Noer_Moeis', 'Gillian_Anderson', 'Bill_Cartwright', 'Queen_Silvia', 'Tom_Watson', 'Michael_Clarke_Duncan', 'Charles_Mathews', 'Barbora_Strycova', 'Richard_Sterner', 'John_Wayne', 'Carl_Reiner', 'Rhina_Villatoro', 'Sebastian_Porto', 'Edie_Falco', 'Yingfan_Wang', 'Rick_Dinse', 'Ray_Halbritter', 'Wolfgang_Becker', 'Sally_Clark', 'Todd_Robbins', 'Marc_Grossman', 'Mitt_Romney', 'Anneli_Jaatteenmaki', 'Mike_Babcock', 'Talal_Keenaan', 'Ashley_Olsen', 'Dalai_Lama', 'Bernice_Wong', 'Sally_Field', 'Mona_Rishmawi', 'Scott_Sullivan', 'Patricia_Phillips', 'Dominick_Dunne', 'Pupi_Avati', 'Heather_Chinnock', 'Akbar_Al_Baker', 'Mike_Myers', 'Eduard_Shevardnadze', 'Tali_Imani', 'Steve_Shiver', 'Flor_Montulo', 'Keiko_Sofia_Fujimori', 'Dianne_Feinstein', 'Carl_Pope', 'Jessica_Lynch', 'John_Fenn', 'Amporn_Falise', 'Herb_Sendek', 'Samantha_Daniels', 'Christine_Baumgartner', 'Alicia_Silverstone', 'Ivan_Helguera', 'Betsy_Smith', 'Paul_Wollnough', 'Yang_Hee_Kim', 'Hugh_Miller', 'Brian_McIntyre', 'Tamara_Brooks', 'Ronald_Reagan', 'Glen_Sather', 'Milton_Berle', 'Tariq_Aziz', 'Michael_J_Fox', 'Charlene_Barshefsky', 'David_Eldon', 'Juan_Manuel_Marquez', 'Dan_Quayle', 'Gary_Gitnick', 'Kurt_Schottenheimer', 'John_Lennon', 'Catherine_Woodard', 'Patrick_McEnroe', 'Sanjay_Chawla', 'Gary_Leon_Ridgway', 'Manfred_Stolpe', 'Leonard_Schrank', 'Joanne_Woodward', 'Carlos_Ruiz', 'Jonathan_Horton', 'Leah_Remini', 'Jens_Lehmann', 'Suzanne_Haik_Terrell', 'Alexa_Vega', 'Craig_David', 'Al_Cardenas', 'Shingo_Katayama', 'Jeremy_Wotherspoon', 'Wu_Yi', 'Bill_Self', 'Georgia_Giddings', 'Martha_Beatriz_Roque', 'Martin_Short', 'Mauro_Viza', 'Thabo_Mbeki', 'Perri_Shaw', 'King_Gyanendra', 'Anna_Nicole_Smith', 'Glafcos_Clerides', 'Coleen_Rowley', 'Kobe_Bryant', 'Wilbert_Elki_Meza_Majino', 'Terry_Hoeppner', 'Tom_Jones', 'Michael_Stark', 'Owen_Wilson', 'Patsy_Mink', 'Sandra_Banning', 'Paul_Lockhart', 'Jeffrey_Donaldson', 'Steve_Peace', 'Andrew_Bunner', 'Natanaela_Barnova', 'Ryan_Drese', 'Frank_Coraci', 'Tocker_Pudwill', 'Charmaine_Crooks', 'Martin_McGuinness', 'Martha_Bowen', 'Angela_Alvarado_Rosa', 'Michael_Goldrich', 'Madeleine_Webber', 'Jesus_Cardenal', 'Keith_Snyder', 'Thomas_Cloyd', 'Jeff_Van_Gundy', 'Teresa_Graves', 'Steven_Craig', 'Martin_ONeill', 'Kellie_Greene', 'Mary_Steenburgen', 'Marcelo_Ebrard', 'Frank_Griswold', 'Li_Ka-shing', 'Mike_Price', 'Allison_Searing', 'Stanley_Ho', 'Martin_Rodriguez', 'Chris_Crocker', 'Amram_Mitzna', 'John_Swofford', 'Mike_Easley', 'Talisa_Bratt', 'Mel_Karmazin', 'Cherie_Blair', 'Steve_Nash', 'Rosalyn_Carter', 'Chip_Ganassi', 'Nathalie_Dechy', 'Joe_Crede', 'Ted_Christopher', 'Mark_Podlesny', 'Robert_Schuller', 'Lonnie_Donegan', 'Paulina_Rodriguez_Davila', 'Marco_Archer_Cardoso_Moreira', 'Ed_Book', 'Pauley_Perrette', 'Shi_Guangsheng', 'Matt_LeBlanc', 'Kyra_Sedgwick', 'Ian_Knop', 'Sharon_Frey', 'Hamzah_Haz', 'Jerry_Oliver', 'Gavyn_Davies', 'Deb_Santos', 'Brian_Olson', 'Michael_Richards', 'Robert_Mugabe', 'Brad_Smith', 'Alexandre_Daigle', 'Alan_Stonecipher', 'Mary-Kate_Olsen', 'Urmila_Matondkar', 'Chuck_Amato', 'Mohammed_Baqir_al-Hakim', 'Yoon_Won-Sik', 'Gary_Winnick', 'Chris_Kolanas', 'Yuvraj_Singh', 'Michel_Therrien', 'Romano_Prodi', 'Greg_Frers', 'Bianca_Jagger', 'Jim_Taylor', 'Kim_Gandy', 'Carlton_Dotson', 'Aaron_Guiel', 'David_Scott_Morris', 'Andy_North', 'Andy_Wisecarver', 'Chris_Pronger', 'Rick_Pitino', 'Jean-Luc_Bideau', 'Jeanne_Anne_Schroeder', 'Roland_Koch', 'Alma_Powell', 'Khatol_Mohammad_Zai', 'Chung_Mong-hun', 'Luke_Ridnour', 'Douglas_Paal', 'Tim_Pawlenty', 'Neil_Moritz', 'Alonzo_Mourning', 'Bill_Herrion', 'Robert_Blackwill', 'Stephane_Rousseau', 'Crandall_Bowles', 'Mike_Webster', 'David_Rivkin_Jr', 'McGuire_Gibson', 'Islam_Karimov', 'Teresa_Worbis', 'Adam_Herbert', 'Demi_Moore', 'Carla_Gugino', 'Claudia_Cardinale', 'Jose_Canseco_Sr', 'Ann_Godbehere', 'David_Caraway', 'Cristina_Kirchner', 'Bryan_Adams', 'Kim_Dae-jung', 'Sophie', 'Bill_Curry', 'Paul_Clark', 'Dan_Reeves', 'Mario_Alfaro-Lopez', 'Howard_Schultz', 'Iran_Brown', 'David_Dewhurst', 'Tony_Elias', 'Holly_Robinson_Peete', 'Anne_McLellan', 'Lloyd_Novick', 'Nona_Gaye', 'Kareena_Kapoor', 'Byron_Scott', 'Angel_Lockward', 'German_Khan', 'Matt_Welsh', 'Masum_Turker', 'Akhmed_Zakayev', 'Reinhard_Buetikofer', 'Barry_Hinson', 'Soon_Yi', 'Qais_al-Kazali', 'Jose_Rosado', 'Nathan_Lane', 'Gil_Cates', 'Terence_Newman', 'Peter_Hillary', 'Lin_Yung_Hsi', 'Fernando_Valenzuela', 'Nathan_Doudney', 'Newton_Carlton_Slawson', 'Katharine_Hepburn', 'Francois_Ozon', 'Steven_Curtis_Chapman', 'Elizabeth_Smart', 'Roger_Daltrey', 'Damon_van_Dam', 'Lisa_Gottsegen', 'Mario_Lemieux', 'Greg_Hennigar', 'Celine_Dion', 'Lokendra_Bahadur_Chand', 'Michael_Jordan', 'James_Parker', 'Sean_Patrick_OMalley', 'Debra_Messing', 'Aaron_Pena', 'Kate_Moss', 'Akmal_Taher', 'Steve_Pagliuca', 'Stellan_Skarsgard', 'Tanya_Holyk', 'John_Lithgow', 'Steve_Lavin', 'James_Brown', 'Irv_Nathan', 'Steven_Feldman', 'Michael_Shelby', 'Mark_Hamister', 'Jorge_Enrique_Jimenez', 'Suk_Chung_Hong', 'Edward_Seaga', 'Joseph_Ganim', 'Chloe_Sevigny', 'Wallace_Capel', 'Gerald_Fitch', 'Eddie_Jordan', 'Paul_Bettany', 'Arnaud_Lagardere', 'Henry_Suazo', 'Thomas_Watjen', 'Amy_Yasbeck', 'Gerard_Tronche', 'Akiko_Morigami', 'Henry_Kissinger', 'Mikulas_Dzurinda', 'Richard_Levin', 'Ibrahim_Rugova', 'Niall_Connolly', 'John_Rusnak', 'Tim_Chapman', 'Lily_Tomlin', 'Jennifer_Reilly', 'Stacey_Yamaguchi', 'Marianne_Stanley', 'Roberto_Benigni', 'Judith_Nathan', 'Victor_Hanescu', 'Jim_Calhoun', 'Milton_Wynants', 'Jake_Brace', 'Jon_Constance', 'Etta_James', 'Howard_Stringer', 'Strom_Thurmond', 'Mike_Montgomery', 'Emilio_Botin', 'Alfredo_Moreno', 'Lucy_Liu', 'Ricky_Martin', 'Minnie_Driver', 'Yolanda_King', 'Mitchell_Potter', 'Jimmy_Jimenez', 'Jennifer_Furminger', 'Asif_Hanif', 'Edward_Lu', 'Florencia_Macri', 'Augustin_Calleri', 'Steve_Park', 'Dave_McNealey', 'Sterling_Hitchcock', 'Nicolas_Lapentti', 'Bison_Dele', 'Gary_Williams', 'Rafiq_Hariri', 'Morgan_Fairchild', 'Aline_Chretien', 'Kevin_Crane', 'Elaine_Stritch', 'Carla_Gay_Balingit', 'Benjamin_Martinez', 'Elton_John', 'Charlotte_Chambers', 'Allen_Iverson', 'Alejandro_Avila', 'Teddy_Kollek', 'Richard_Naughton', 'Julien_Varlet', 'Jessica_Simpson', 'Jim_Bunning', 'Geoffrey_Rush', 'Paul_Byrd', 'Dan_Wheldon', 'Frank_Stallone', 'Greg_Ostertag', 'Jorge_Batlle', 'Mario_Kreutzberger', 'Michael_Phelps', 'Sean_Patrick_Thomas', 'Ruth_Dreifuss', 'Katja_Riemann', 'Nizar_Trabelsi', 'Simona_Hradil', 'Jeff_Bzdelik', 'Simon_Larose', 'Camryn_Manheim', 'Nathan_Powell', 'Maggie_Cheung', 'Bob_Eskridge', 'Bijan_Darvish', 'Horacio_de_Jesus_Montoya', 'Darin_Erstad', 'Trisha_Meili', 'Natasa_Micic', 'Patty_Sheehan', 'Frank_Van_Ecke', 'Ethan_Hawke', 'Karen_Lynn_Gorney', 'Gilberto_Rodriguez_Orejuela', 'Heinrich_Wolfgang', 'Jerry_Angelo', 'Jonathan_Woodgate', 'Yasushi_Akashi', 'Grant_Hackett', 'Peter_Rasmussen', 'Qazi_Afzal', 'Alistair_MacDonald', 'Martha_Smith', 'Wilbert_Foy', 'Chris_Klein', 'Robert_Duvall', 'Eric_Benet', 'Bob_Menendez', 'Stanley_Tong', 'Columba_Bush', 'Andrea_Yates', 'Tamara_Stokes', 'Colin_Cowie', 'Victor_Garber', 'Joan_Dangerfield', 'Julia_Glass', 'Bill_Stapleton', 'Natasha_Lyonne', 'Herman_Moore', 'Ana_Sebastiao', 'Jean-Rene_Fourtou', 'Brian_StPierre', 'Helen_Darling', 'Vanessa_Williams', 'Evgeni_Plushenko', 'Tyler_Grillo', 'Tommy_Maddox', 'Robert_Altman', 'Salman_Rushdie', 'Des_Brown', 'Chris_Dodd', 'William_Ford_Jr', 'Steven_Seagal', 'David_Przybyszewski', 'Christopher_Patten', 'Brian_Mulroney', 'Pio_Laghi', 'Alfonso_Soriano', 'Ellen_Martin', 'Stefaan_Declerk', 'Doug_Melvin', 'Alanna_Ubach', 'Michael_Deutsch', 'Carolina_Kluft', 'Dwayne_Wade', 'John_Connolly', 'Momir_Nikolic', 'Diane_Lane', 'Sonya_Walger', 'Joe_Leonard', 'David_Tornberg', 'Hedayat_Amin_Arsala', 'Compay_Segundo', 'Newt_Gingrich', 'Juan_Roman_Riquelme', 'Eric_Lindros', 'Ellen_DeGeneres', 'Beatriz_Merino', 'Mike_Leach', 'Chan_Gailey', 'Roman_Coppola', 'Jonathan_Arden', 'Claudio_Lopez', 'Cosmo_Iacavazzi', 'Brennon_Leighton', 'Tatiana_Paus', 'Larry_Nichols', 'Mahmoud_Diyab_al-Ahmed', 'Paddy_Long', 'Chris_Cooper', 'Roy_Williams', 'Laura_Morante', 'Elizabeth_Hurley', 'Mariah_Carey', 'Zakia_Hakki', 'Tyrone_Medley', 'Franz_Beckenbauer', 'James_Cunningham', 'Brett_Hull', 'Idi_Amin', 'Andres_DAlessandro', 'James_Ivory', 'Carol_Niedermayer', 'Tomoko_Hagiwara', 'Hubie_Brown', 'Dot_Helms', 'Pascal_Affi_Nguessan', 'Andrew_Niccol', 'Rodrigo_Borja', 'Nino_DAngelo', 'Jim_Hendry', 'Douglas_Faneuil', 'Billy_Sollie', 'Michael_Winterbottom', 'Colleen_OClair', 'Agnelo_Queiroz', 'Robert_Fico', 'Maritza_Macias_Furano', 'Michel_Charles_Chretien', 'Sandy_Smith', 'Richard_Cohen', 'Danny_Glover', 'Darcy_Regier', 'Ronnie_Jagday', 'Wendy_Kennedy', 'Peter_Ueberroth', 'Larry_Lucchino', 'Brigitte_Boisselier', 'Peter_Harrison', 'Stephen_Daldry', 'Ana_Palacio', 'Arturo_Gatti', 'Ray_Morrough', 'Damon_Dash', 'Gary_Sayler', 'Gonzalo_Barrientos', 'Dave_Odom', 'Enrique_Oliu', 'Thomas_Stewart', 'Arye_Mekel', 'Koji_Uehara', 'Tara_Reid', 'Calvin_Joseph_Coleman', 'Jose_Canseco', 'Ilham_Aliev', 'Jamie_Martin', 'Rogelio_Montemayor', 'Hal_Gehman', 'Tommy_Robredo', 'David_Sousa', 'Luis_Gonzalez_Macchi', 'Boris_Henry', 'Jean-Pierre_Raffarin', 'Ted_Washington', 'Kent_Rominger', 'Edward_Said', 'Kevin_Satterfield', 'Sarah_Hughes', 'Paris_Hilton', 'Princess_Anne', 'Ray_Allen', 'Brooke_Gordon', 'Holly_Hunter', 'Emanuel_Ginobili', 'Monique_Ferreira', 'Meles_Zenawi', 'Max_Biaggi', 'Sharon_Robinson', 'Rod_Blagojevich', 'Lon_Kruger', 'Aron_Ralston', 'Dave_Barr', 'Masahiko_Nagasawa', 'Abel_Pacheco', 'Stephen_Joseph', 'Jayne_Yarris', 'Taufik_Hidayat', 'Rainer_Gut', 'Red_Auerbach', 'Chris_Simon', 'Bob_Wright', 'Armando_Avila_Panchame', 'Sourav_Ganguly', 'Alicia_Keys', 'Masao_Azuma', 'Masaru_Hayami', 'Tabare_Vazquez', 'Ralph_Nader', 'Melanie_Griffith', 'Lene_Espersen', 'Thomas_Weston', 'Larry_Eustachy', 'Bruce_Arena', 'Steven_Tyler', 'Bob_Iger', 'Jim_Doyle', 'Zydrunas_Ilgauskas', 'Soenarno', 'El_Hadji_Diouf', 'Jerry_McEntee', 'Prince_Harry', 'Jim_Wong', 'Abdoulaye_Wade', 'Edwin_Edwards', 'Alejandro_Lopez', 'Richard_Dreyfuss', 'John_Lisowski', 'Ronnie_Musgrove', 'Barry_Collier', 'Gabrielle_Union', 'Linda_Ham', 'Alexander_Downer', 'Richard_Lugar', 'Mikhail_Kasyanov', 'Frank_Wycheck', 'Jia_Qinglin', 'Rafeeuddin_Ahmed', 'Richard_Norton-Taylor', 'Catherine_Bell', 'Lesley_Flood', 'Hermando_Harton', 'Benito_Santiago', 'Norman_Mineta', 'Gwyneth_Paltrow', 'DAngelo_Jimenez', 'Skip_Prosser', 'Moshe_Katsav', 'John_Darby', 'David_Ballantyne', 'Simon_Chalk', 'Paul_Walker', 'Guillaume_Depardieu', 'Kate_Capshaw', 'Jeffrey_Ashby', 'Hans_Eichel', 'Pete_Beaudrault', 'Michael_Adams', 'Mona_Locke', 'Carla_Moreno', 'Choi_Yun-yong', 'Billy_Bob_Thornton', 'Ringo_Starr', 'Cindy_Taylor', 'Darrell_Dickey', 'Leticia_Dolera', 'Karen_Pereiras', 'Andy_Griffith', 'Yasushi_Chimura', 'Lynn_Abraham', 'Mike_Farrar', 'Rafael_Bielsa', 'Tammy_Helm', 'Brad_Wilk', 'Raaf_Schefter', 'Aaron_Tippin', 'Charles_Tannok', 'Rod_Thorn', 'Denise_Johnson', 'Patti_Balgojevich', 'Eddie_Sutton', 'Mark_Geragos', 'Leandro_Garcia', 'Steve_Coterill', 'Felipe_De_Borbon', 'Tom_Crean', 'Alecos_Markides', 'Yale_Kamisar', 'Tippi_Hedren', 'Roseanne_Barr', 'Ricardo_Monasterio', 'Lazaro_Castro', 'Alexandra_Vodjanikova', 'Phil_Johnson', 'John_Nash', 'Milo_Djukanovic', 'Ian_Wilmut', 'Rio_Ferdinand', 'Carlos_Salinas', 'Edmund_Hillary', 'Zinedine_Zidane', 'Scott_McNealy', 'Chris_Gratton', 'Jose_Manuel_Durao_Barroso', 'Luciano_Pavarotti', 'Russ_Ortiz', 'Eve_Ensler', 'Margaret_Hasley', 'Sila_Calderon', 'Jose_Viegas_Filho', 'Laura_Elena_Harring', 'Ibrahim_Haddad', 'Bill_Paxton', 'Juan_Antonio_Samaranch', 'Courtney_Love', 'Jeff_Weaver', 'Teri_Files', 'Tony_LaRussa', 'Denis_Coderre', 'Antonio_Bernardo', 'David_Dodge', 'Tim_Allen', 'Dudley_Rogers', 'Matthias_Sammer', 'Philippe_Noiret', 'Francis_George', 'Leticia_Van_de_Putte', 'Astrid_Betancourt', 'John_Edwards', 'Sarah_Jessica_Parker', 'John_Malkovich', 'John_Lynch', 'Jon_Corzine', 'Christine_Gregoire', 'Jonathan_Schroeder', 'Jose_Bove', 'Ken_Kutaragi', 'Jennifer_Granholm', 'Rachel_Hunter', 'Joe_Cocker', 'Scott_Peterson', 'Leonard_Hamilton', 'Doug_Collins', 'Maura_Tierney', 'Lauren_Hutton', 'Joxel_Garcia', 'Erick_Barkley', 'Mike_Richter', 'Penelope_Ann_Miller', 'Jane_Rooney', 'Priscilla_Owen', 'Shawn_Kemp', 'Charles_Rogers', 'Charlie_Garner', 'Yukio_Hatoyama', 'James_Lockhart', 'Bruce_Willis', 'Yoshiyuki_Kamei', 'Bob_Colvin', 'Carlos_Juarez', 'George_Bovell', 'Buck_Rodgers', 'Kristin_Scott', 'Asmaa_Assad', 'Stan_Heath', 'Zalmay_Khalilzad', 'Gregg_Popovich', 'Igor_Trunov', 'Tom_Poston', 'John_Spencer', 'Antonio_Banderas', 'Ally_Sheedy', 'Geno_Auriemma', 'Charles_Grassley', 'Dario_Camuffo', 'Larry_Donald', 'Paul_Krueger', 'Silvio_Fernandez', 'Teresa_Heinz_Kerry', 'Shawn_Marion', 'Toby_Keith', 'Toshihiko_Fukui', 'Festus_Mogae', 'Noor_Mohammed', 'Jennifer_Pena', 'Ernie_Eves', 'Muhammad_Saeed_al-Sahhaf', 'Fernando_Sanz', 'Angelo_Reyes', 'Yoo_Jay-Kun', 'Mike_Sweeney', 'Edward_Arsenault', 'Daniel_Day-Lewis', 'Betsy_Coffin', 'Lou_Piniella', 'Sean_Hayes', 'Michael_Pfleger', 'Sonia_Gandhi', 'Theresa_Gattung', 'Nadia_Forte', 'John_Engler', 'Norio_Ohga', 'Shaun_Pollock', 'Hank_Bass', 'Wolfgang_Schuessel', 'Geoff_Dixon', 'Ion_Iliescu', 'Stephen_Cooper', 'Yves_Brodeur', 'Ahmed_Ibrahim_Bilal', 'Christian_Olsson', 'Elvis_Costello', 'Andrew_Fastow', 'Ilan_Goldfajn', 'Catriona_Le_May_Doan', 'Gilles_Panizzi', 'Mona_Ayoub', 'Ben_Curtis', 'Iveta_Benesova', 'Frank_Lautenberg', 'Joe_Friedberg', 'Mario_Vasquez_Rana', 'Michael_Bouchard', 'Takeshi_Kitano', 'Bijan_Namdar_Zangeneh', 'Pablo_Khulental', 'Latrell_Sprewell', 'Jason_White', 'Amanda_Plumer', 'Peter_Albertsen', 'Sonia_Lopez', 'Mohammed_Abu_Sharia', 'Gro_Harlem_Brundtland', 'Lars_Von_Trier', 'David_Carradine', 'Margaret_Caruso', 'Brooke_Adams', 'Nicholoas_DiMarzio', 'Marcos_Cafu', 'Kimberly_Bruckner', 'Nicklas_Lidstrom', 'Anthony_Lee_Johnson', 'Ali_Fallahian', 'Carlo_Ancelotti', 'Jason_Vale', 'Antonio_Catania', 'Jesse_James_Leija', 'Yusuf_Misbac', 'Nick_Markakis', 'Brian_Cook', 'Charla_Moye', 'Hama_Arba_Diallo', 'Troy_Garity', 'Lawrence_MacAulay', 'Rosemarie_Stack', 'Toni_Jennings', 'Kirk_Johnson', 'Andre_Bucher', 'Richard_Harris', 'Nicolas_Massu', 'Abdulaziz_Kamilov', 'Zafarullah_Khan_Jamali', 'Patrick_Coleman', 'Prince_Edward', 'Vadim_Devyatovskiy', 'Larry_Tanenbaum', 'Thomas_Gottschalk', 'Hunter_Kemper', 'Manuel_Rosendo', 'Kristanna_Loken', 'Lawrence_Foley', 'David_McCullough', 'Emmanuel_Milingo', 'Roger_Lyons', 'Cyndi_Thompson', 'Steve_Waugh', 'Shane_Mosley', 'Alexandra_Stevenson', 'Lee_Hyung-taik', 'George_P_Bush', 'Hubert_Green', 'Carlos_Barra', 'Surya_Bahadur_Thapa', 'Michelle_Kwan', 'Enola_Rice', 'Derek_King', 'Kim_Dong-hwa', 'Larry_Ellison', 'Erik_Morales', 'Itzhak_Perlman', 'Roger_Clemens', 'Magda_Kertasz', 'David_Glenn', 'Peter_Costello', 'Mira_Sorvino', 'Hasan_Wirayuda', 'Richard_Reid', 'Lisa_Murkowski', 'George_Papandreou', 'Lorne_Michaels', 'John_Henry', 'Christine_Rau', 'Katrin_Cartlidge', 'Doc_Rivers', 'Gideon_Yago', 'Butch_Davis', 'Charlie_Sheen', 'Darla_Moore', 'Fann_Wong', 'Ajit_Agarkar', 'Donna_Barrera', 'Denise_van_Outen', 'Anthony_Rackauckas', 'Haydar_Aliyev', 'Tara_Kirk', 'Junko_Tabei', 'Jim_Wessling', 'Dionyssis_Georgiadis', 'Hutomo_Mandala_Putra', 'Terry_McAuliffe', 'Rob_Schneider', 'Maha_Habib', 'Dennis_Powell', 'Xiang_Huaicheng', 'Hootie_Johnson', 'Roberto_Canessa', 'Kim_Cattrall', 'Matthew_Ouimet', 'Yoon_Jin-Sik', 'Billy_Crystal', 'Job_Cohen', 'Gregory_Peck', 'Gary_Bettman', 'William_Umbach', 'Taku_Yamasaki', 'Ben_Betts', 'Jerelle_Kraus', 'Oscar_Elias_Biscet', 'Felipe_Fernandez', 'Richard_Daley', 'Ashlea_Talbot', 'Joseph_Biden', 'Martin_Brodeur', 'Xavier_Malisse', 'Mariangel_Ruiz_Torrealba', 'Jose_Carlo_Fernandez', 'Lily_Safra', 'Gisele_Bundchen', 'Danny_Elfman', 'Tzipora_Obziler', 'Park_Na-kyong', 'Charles_Cope', 'Al_Leiter', 'Mary_McCarty', 'Nicholas_Byron', 'Lachlan_Murdoch', 'Ronald_Post', 'Herb_Dhaliwal', 'Todd_Parrott', 'Hidetoshi_Nakata', 'Tracy_McGrady', 'John_Velazquez', 'Harold_Scott', 'Alejandro_Atchugarry', 'Alexandra_Pelosi', 'Erskine_Bowles', 'Joshua_Davey', 'Tom_Moss', 'Leandro_Andrade', 'Brandon_Hammond', 'Renato_Soru', 'Milt_Palacio', 'Madonna', 'Naomi_Bronstein', 'Lucia_Kenny_Anthony', 'Andy_Graves', 'Sebastian_Saja', 'Svend_Robinson', 'Carlos_Paternina', 'Bob_Guccione', 'Lydia_Shum', 'Juergen_Schrempp', 'Peter_Greenspun', 'Eddie_Lucio', 'Luke_Smith', 'Fred_Huff', 'Frances_Fisher', 'Cedric_Benson', 'Andrew_Bernard', 'Olivier_Rochus', 'William_Harrison', 'Missy_Crider', 'Keith_Osik', 'Debra_Brown', 'Sun_Myung_Moon', 'Nancy_Powell', 'Odilia_Collazo', 'Ashton_Kutcher', 'Don_Matthews', 'Keizo_Yamada', 'Colin_Prescot', 'Christian_Bale', 'Gabrielle_Rose', 'Luo_Linquan', 'Adrian_McPherson', 'Nelson_Mandela', 'Carla_Myers', 'Chris_Terry', 'Michelle_Collins', 'Susan_Collins', 'Ana_Claudia_Talancon', 'Brad_Russ', 'Lloyd_Richards', 'Zhang_Yimou', 'Dominik_Hrbaty', 'Larry_Lindsey', 'Zulfiqar_Ahmed', 'Yoko_Ono', 'Patti_Smith', 'Martin_Sheen', 'Will_Ferrell', 'Elizabeth_Hill', 'Mohamed_Seineldin', 'Juan_Carlos_Ortega', 'Tina_Conner', 'Peter_Hollingworth', 'Mark_Kelly', 'Anwar_Ibrahim', 'Ismail_Cem', 'Ali_Naimi', 'Will_Smith', 'Eric_Robert_Rudolph', 'Keith_Olbermann', 'Ramon_Santana', 'Erika_Harold', 'Zhang_Wenkang', 'Benjamin_McKenzie', 'JJ_Redick', 'Anders_Fogh_Rasmussen', 'Jerry_Tarkanian', 'Miguel_Cotto', 'Darrell_Issa', 'Tommy_Tubberville', 'Elinor_Caplan', 'Carolina_Barco', 'Mohammed_Dahlan', 'Gary_Bergeron', 'Dick_Devine', 'Deniz_Baykal', 'Tom_Curley', 'Milan_Kucan', 'Tom_Schnackenberg', 'Jean-Claude_Juncker', 'Joe_Strummer', 'Garry_McCoy', 'Carly_Gullickson', 'Kevin_Marshall', 'Larry_Hagman', 'Emile_Lahoud', 'Rich_Brooks', 'Christopher_Walken', 'Momcilo_Perisic', 'Harry_Belafonte', 'Miguel_Rosseto', 'Jim_Carrey', 'Buddy_Ryan', 'Bill_Bradley', 'Julio_De_Brun']\n",
            "No of files deleted: 11\n",
            "files deleted ['pairs_10.txt', 'pairs_01.txt', 'pairs_03.txt', 'pairs_07.txt', 'pairs_09.txt', 'pairs_08.txt', 'pairs_06.txt', 'pairs_05.txt', 'pairs_04.txt', 'pairs.txt', 'pairs_02.txt']\n"
          ],
          "name": "stdout"
        }
      ]
    },
    {
      "cell_type": "code",
      "metadata": {
        "id": "_S8E9Uq6-Zty",
        "colab_type": "code",
        "colab": {
          "base_uri": "https://localhost:8080/",
          "height": 34
        },
        "outputId": "aff57ff2-7388-44d9-c9b5-44c7c4d9a7a0"
      },
      "source": [
        "\n",
        "#Export Zip file\n",
        "from zipfile import ZipFile \n",
        "import zipfile\n",
        "  \n",
        "def get_all_file_paths(directory): \n",
        "  \n",
        "    # initializing empty file paths list \n",
        "    file_paths = [] \n",
        "  \n",
        "    # crawling through directory and subdirectories \n",
        "    for root, directories, files in os.walk(directory): \n",
        "        for filename in files: \n",
        "            # join the two strings in order to form the full filepath. \n",
        "            filepath = os.path.join(root, filename) \n",
        "            file_paths.append(filepath) \n",
        "  \n",
        "    # returning all file paths \n",
        "    return file_paths         \n",
        "  \n",
        "def main(): \n",
        "    # path to folder which needs to be zipped \n",
        "    directory = 'lfw_funneled'\n",
        "  \n",
        "    # calling function to get all file paths in the directory \n",
        "    file_paths = get_all_file_paths(directory) \n",
        "    # writing files to a zipfile \n",
        "    with ZipFile('/content/drive/My Drive/E4S2-S5/lfw_funneled_modified1.zip','a', compression = zipfile.ZIP_DEFLATED) as zip: \n",
        "        # writing each file one by one \n",
        "        for file in file_paths: \n",
        "            zip.write(file) \n",
        "\n",
        "main()\n",
        "print('All files zipped successfully!')  "
      ],
      "execution_count": null,
      "outputs": [
        {
          "output_type": "stream",
          "text": [
            "All files zipped successfully!\n"
          ],
          "name": "stdout"
        }
      ]
    },
    {
      "cell_type": "code",
      "metadata": {
        "id": "mh1hBC3SNjSj",
        "colab_type": "code",
        "colab": {
          "base_uri": "https://localhost:8080/",
          "height": 50
        },
        "outputId": "31c23060-7114-4bac-dd33-14ea008b5dd8"
      },
      "source": [
        "from zipfile import ZipFile \n",
        "\n",
        "filename = '/content/drive/My Drive/E4S2-S5/lfw_funneled_modified1.zip'\n",
        "\n",
        "with ZipFile(filename, 'r') as zip_file: \n",
        "    print('Extracting all the files now...') \n",
        "    zip_file.extractall('files') \n",
        "    print('Done!')"
      ],
      "execution_count": null,
      "outputs": [
        {
          "output_type": "stream",
          "text": [
            "Extracting all the files now...\n",
            "Done!\n"
          ],
          "name": "stdout"
        }
      ]
    },
    {
      "cell_type": "code",
      "metadata": {
        "id": "Z70Nls4JOojg",
        "colab_type": "code",
        "colab": {
          "base_uri": "https://localhost:8080/",
          "height": 34
        },
        "outputId": "7b881c50-27b9-4368-d3e1-3ecc97739eca"
      },
      "source": [
        "# Total No Of Classes\n",
        "!ls '/content/files/lfw_funneled'| wc -l"
      ],
      "execution_count": null,
      "outputs": [
        {
          "output_type": "stream",
          "text": [
            "194\n"
          ],
          "name": "stdout"
        }
      ]
    },
    {
      "cell_type": "code",
      "metadata": {
        "id": "DzCXckAAbBfR",
        "colab_type": "code",
        "colab": {
          "base_uri": "https://localhost:8080/",
          "height": 34
        },
        "outputId": "5f5c9327-badf-4523-83c1-5749695bc32f"
      },
      "source": [
        "c = 0\n",
        "for i in os.listdir('/content/files/lfw_funneled'):\n",
        "  path = f'/content/files/lfw_funneled/{i}'\n",
        "  if os.path.isdir(path):\n",
        "    num = len(os.listdir(path))\n",
        "    c+=num\n",
        "  else:\n",
        "    pass\n",
        "print('total',c)"
      ],
      "execution_count": null,
      "outputs": [
        {
          "output_type": "stream",
          "text": [
            "total 4655\n"
          ],
          "name": "stdout"
        }
      ]
    },
    {
      "cell_type": "code",
      "metadata": {
        "id": "IpiHl8DGrF0D",
        "colab_type": "code",
        "colab": {
          "base_uri": "https://localhost:8080/",
          "height": 319
        },
        "outputId": "c642a92e-0b64-4d76-e7f4-efa7839f2be7"
      },
      "source": [
        "!pip install torch==1.5.0 torchvision==0.6.0 -f https://download.pytorch.org/whl/torch_stable.html"
      ],
      "execution_count": null,
      "outputs": [
        {
          "output_type": "stream",
          "text": [
            "Looking in links: https://download.pytorch.org/whl/torch_stable.html\n",
            "Collecting torch==1.5.0\n",
            "\u001b[?25l  Downloading https://download.pytorch.org/whl/cu92/torch-1.5.0%2Bcu92-cp36-cp36m-linux_x86_64.whl (603.7MB)\n",
            "\u001b[K     |████████████████████████████████| 603.7MB 29kB/s \n",
            "\u001b[?25hCollecting torchvision==0.6.0\n",
            "\u001b[?25l  Downloading https://download.pytorch.org/whl/cu92/torchvision-0.6.0%2Bcu92-cp36-cp36m-linux_x86_64.whl (6.5MB)\n",
            "\u001b[K     |████████████████████████████████| 6.5MB 54.7MB/s \n",
            "\u001b[?25hRequirement already satisfied: numpy in /usr/local/lib/python3.6/dist-packages (from torch==1.5.0) (1.18.5)\n",
            "Requirement already satisfied: future in /usr/local/lib/python3.6/dist-packages (from torch==1.5.0) (0.16.0)\n",
            "Requirement already satisfied: pillow>=4.1.1 in /usr/local/lib/python3.6/dist-packages (from torchvision==0.6.0) (7.0.0)\n",
            "Installing collected packages: torch, torchvision\n",
            "  Found existing installation: torch 1.6.0+cu101\n",
            "    Uninstalling torch-1.6.0+cu101:\n",
            "      Successfully uninstalled torch-1.6.0+cu101\n",
            "  Found existing installation: torchvision 0.7.0+cu101\n",
            "    Uninstalling torchvision-0.7.0+cu101:\n",
            "      Successfully uninstalled torchvision-0.7.0+cu101\n",
            "Successfully installed torch-1.5.0+cu92 torchvision-0.6.0+cu92\n"
          ],
          "name": "stdout"
        }
      ]
    },
    {
      "cell_type": "code",
      "metadata": {
        "id": "Mkg4gSlwOx1n",
        "colab_type": "code",
        "colab": {}
      },
      "source": [
        "train_transforms =transforms.Compose([\n",
        "        transforms.Resize(size=(224, 224),interpolation=2),\n",
        "        transforms.RandomHorizontalFlip(),\n",
        "        transforms.ToTensor(),\n",
        "        transforms.Normalize(mean=[0.485, 0.456, 0.406],std=[0.229, 0.224, 0.225])   # Normalized value \n",
        "    ])\n",
        "\n",
        "dir = '/content/files/lfw_funneled'\n",
        "dataset = torchvision.datasets.ImageFolder(dir,transform = train_transforms)"
      ],
      "execution_count": null,
      "outputs": []
    },
    {
      "cell_type": "markdown",
      "metadata": {
        "id": "5z3SR_nkqsfO",
        "colab_type": "text"
      },
      "source": [
        "Class numbers for the folders we added"
      ]
    },
    {
      "cell_type": "code",
      "metadata": {
        "id": "bpm4YKIkREeb",
        "colab_type": "code",
        "colab": {
          "base_uri": "https://localhost:8080/",
          "height": 185
        },
        "outputId": "76505f1b-1c9c-4c1c-f63e-f1f78272e8ac"
      },
      "source": [
        "print('APJ_Abdul_Kalam',dataset.class_to_idx['APJ_Abdul_Kalam'])\n",
        "print('Barack_Obama',dataset.class_to_idx['Barack_Obama'])\n",
        "print('Chandler_Bing',dataset.class_to_idx['Chandler_Bing'])\n",
        "print('Elon Musk',dataset.class_to_idx['Elon_Musk'])\n",
        "print('Joey_Tribianni',dataset.class_to_idx['Joey_Tribianni'])\n",
        "print('Michelle_Obama',dataset.class_to_idx['Michelle_Obama'])\n",
        "print('Ross_Gellar',dataset.class_to_idx['Ross_Gellar'])\n",
        "print('Rachel_Green',dataset.class_to_idx['Rachel_Green'])\n",
        "print('Pheobe_Buffay',dataset.class_to_idx['Pheobe_Buffay'])\n",
        "print('Monica_Gellar',dataset.class_to_idx['Monica_Gellar'])"
      ],
      "execution_count": null,
      "outputs": [
        {
          "output_type": "stream",
          "text": [
            "APJ_Abdul_Kalam 0\n",
            "Barack_Obama 15\n",
            "Chandler_Bing 26\n",
            "Elon Musk 39\n",
            "Joey_Tribianni 89\n",
            "Michelle_Obama 127\n",
            "Ross_Gellar 160\n",
            "Rachel_Green 149\n",
            "Pheobe_Buffay 146\n",
            "Monica_Gellar 131\n"
          ],
          "name": "stdout"
        }
      ]
    },
    {
      "cell_type": "code",
      "metadata": {
        "id": "K_8mCNiYH8P4",
        "colab_type": "code",
        "colab": {}
      },
      "source": [
        ""
      ],
      "execution_count": null,
      "outputs": []
    }
  ]
}