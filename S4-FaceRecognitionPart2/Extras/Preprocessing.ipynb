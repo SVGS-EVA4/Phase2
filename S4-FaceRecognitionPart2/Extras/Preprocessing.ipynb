{
  "nbformat": 4,
  "nbformat_minor": 0,
  "metadata": {
    "colab": {
      "name": "Session4 copy.ipynb",
      "provenance": [],
      "collapsed_sections": [],
      "include_colab_link": true
    },
    "kernelspec": {
      "name": "python3",
      "display_name": "Python 3"
    }
  },
  "cells": [
    {
      "cell_type": "markdown",
      "metadata": {
        "id": "view-in-github",
        "colab_type": "text"
      },
      "source": [
        "<a href=\"https://colab.research.google.com/github/SVGS-EVA4/Phase2/blob/master/S4-FaceRecognitionPart2/Extras/Preprocessing.ipynb\" target=\"_parent\"><img src=\"https://colab.research.google.com/assets/colab-badge.svg\" alt=\"Open In Colab\"/></a>"
      ]
    },
    {
      "cell_type": "code",
      "metadata": {
        "id": "IpiHl8DGrF0D",
        "colab_type": "code",
        "colab": {
          "base_uri": "https://localhost:8080/",
          "height": 319
        },
        "outputId": "c642a92e-0b64-4d76-e7f4-efa7839f2be7"
      },
      "source": [
        "!pip install torch==1.5.0 torchvision==0.6.0 -f https://download.pytorch.org/whl/torch_stable.html"
      ],
      "execution_count": null,
      "outputs": [
        {
          "output_type": "stream",
          "text": [
            "Looking in links: https://download.pytorch.org/whl/torch_stable.html\n",
            "Collecting torch==1.5.0\n",
            "\u001b[?25l  Downloading https://download.pytorch.org/whl/cu92/torch-1.5.0%2Bcu92-cp36-cp36m-linux_x86_64.whl (603.7MB)\n",
            "\u001b[K     |████████████████████████████████| 603.7MB 29kB/s \n",
            "\u001b[?25hCollecting torchvision==0.6.0\n",
            "\u001b[?25l  Downloading https://download.pytorch.org/whl/cu92/torchvision-0.6.0%2Bcu92-cp36-cp36m-linux_x86_64.whl (6.5MB)\n",
            "\u001b[K     |████████████████████████████████| 6.5MB 54.7MB/s \n",
            "\u001b[?25hRequirement already satisfied: numpy in /usr/local/lib/python3.6/dist-packages (from torch==1.5.0) (1.18.5)\n",
            "Requirement already satisfied: future in /usr/local/lib/python3.6/dist-packages (from torch==1.5.0) (0.16.0)\n",
            "Requirement already satisfied: pillow>=4.1.1 in /usr/local/lib/python3.6/dist-packages (from torchvision==0.6.0) (7.0.0)\n",
            "Installing collected packages: torch, torchvision\n",
            "  Found existing installation: torch 1.6.0+cu101\n",
            "    Uninstalling torch-1.6.0+cu101:\n",
            "      Successfully uninstalled torch-1.6.0+cu101\n",
            "  Found existing installation: torchvision 0.7.0+cu101\n",
            "    Uninstalling torchvision-0.7.0+cu101:\n",
            "      Successfully uninstalled torchvision-0.7.0+cu101\n",
            "Successfully installed torch-1.5.0+cu92 torchvision-0.6.0+cu92\n"
          ],
          "name": "stdout"
        }
      ]
    },
    {
      "cell_type": "code",
      "metadata": {
        "id": "vScSrfEdjhIb",
        "colab_type": "code",
        "colab": {
          "base_uri": "https://localhost:8080/",
          "height": 34
        },
        "outputId": "b805353a-7d93-42bc-e2d5-6029d10065b7"
      },
      "source": [
        "from google.colab import drive\n",
        "drive.mount('/content/drive')"
      ],
      "execution_count": null,
      "outputs": [
        {
          "output_type": "stream",
          "text": [
            "Drive already mounted at /content/drive; to attempt to forcibly remount, call drive.mount(\"/content/drive\", force_remount=True).\n"
          ],
          "name": "stdout"
        }
      ]
    },
    {
      "cell_type": "code",
      "metadata": {
        "id": "rHadWT7WRl-w",
        "colab_type": "code",
        "colab": {
          "base_uri": "https://localhost:8080/",
          "height": 34
        },
        "outputId": "9c31908c-73f9-43d6-8b24-9266753b3aae"
      },
      "source": [
        "# Total No Of Classes\n",
        "!ls '/content/drive/My Drive/lfw_funneled'| wc -l"
      ],
      "execution_count": null,
      "outputs": [
        {
          "output_type": "stream",
          "text": [
            "5770\n"
          ],
          "name": "stdout"
        }
      ]
    },
    {
      "cell_type": "code",
      "metadata": {
        "id": "iWxSYfXgk335",
        "colab_type": "code",
        "colab": {}
      },
      "source": [
        "import torchvision\n",
        "from torchvision import transforms\n",
        "import torch\n",
        "import os\n",
        "import shutil"
      ],
      "execution_count": null,
      "outputs": []
    },
    {
      "cell_type": "code",
      "metadata": {
        "id": "V5u7Av4CoQOn",
        "colab_type": "code",
        "colab": {
          "base_uri": "https://localhost:8080/",
          "height": 34
        },
        "outputId": "9eff64e3-4dc0-46fd-bb45-327259cb15d0"
      },
      "source": [
        "c = 0\n",
        "num_list = []  # no. of files in each folder\n",
        "folder_list = [] # folder names\n",
        "files = []\n",
        "for i in os.listdir('/content/drive/My Drive/lfw_funneled'):\n",
        "  path = f'/content/drive/My Drive/lfw_funneled/{i}'\n",
        "  if os.path.isdir(path):\n",
        "    num = len(os.listdir(path))\n",
        "    c+=num\n",
        "    num_list.append(num)\n",
        "    folder_list.append(i)\n",
        "    # print(i,num)\n",
        "  else:\n",
        "    # print(i,'file')\n",
        "    files.append(i)\n",
        "print('total',c)"
      ],
      "execution_count": null,
      "outputs": [
        {
          "output_type": "stream",
          "text": [
            "total 13330\n"
          ],
          "name": "stdout"
        }
      ]
    },
    {
      "cell_type": "code",
      "metadata": {
        "id": "QLOBuZcB3o1A",
        "colab_type": "code",
        "colab": {
          "base_uri": "https://localhost:8080/",
          "height": 87
        },
        "outputId": "5898b062-8d32-4234-b984-7f384312b4e3"
      },
      "source": [
        "print(len(num_list))\n",
        "print(sum(num_list))\n",
        "print(num_list)"
      ],
      "execution_count": null,
      "outputs": [
        {
          "output_type": "stream",
          "text": [
            "5759\n",
            "13330\n",
            "[3, 4, 4, 1, 1, 1, 1, 1, 4, 2, 3, 2, 1, 3, 2, 1, 1, 1, 3, 6, 2, 1, 6, 1, 1, 2, 1, 6, 1, 1, 1, 1, 8, 5, 2, 1, 1, 1, 1, 1, 1, 1, 2, 2, 8, 2, 1, 2, 1, 2, 1, 1, 1, 1, 1, 1, 3, 3, 1, 1, 1, 4, 1, 1, 2, 1, 2, 5, 1, 8, 2, 2, 1, 1, 1, 1, 1, 1, 1, 1, 1, 1, 1, 1, 1, 1, 1, 1, 1, 1, 1, 1, 2, 14, 1, 7, 2, 1, 1, 1, 1, 2, 1, 1, 1, 5, 1, 1, 1, 2, 1, 1, 1, 3, 1, 1, 32, 1, 1, 1, 1, 2, 1, 2, 2, 1, 1, 1, 1, 4, 1, 1, 3, 1, 1, 1, 26, 4, 3, 1, 1, 1, 1, 1, 1, 1, 1, 1, 1, 1, 1, 1, 2, 1, 2, 6, 1, 1, 2, 1, 1, 1, 1, 1, 1, 1, 8, 12, 1, 1, 7, 1, 6, 1, 1, 1, 1, 2, 1, 1, 1, 2, 1, 1, 2, 1, 1, 2, 3, 2, 2, 1, 1, 5, 1, 1, 2, 1, 1, 1, 23, 4, 2, 1, 1, 1, 13, 1, 2, 1, 1, 1, 1, 2, 1, 1, 1, 4, 1, 1, 1, 1, 1, 1, 1, 1, 2, 3, 1, 3, 1, 1, 1, 1, 1, 3, 1, 4, 2, 5, 1, 2, 1, 1, 1, 3, 1, 2, 3, 1, 1, 1, 1, 1, 5, 2, 1, 4, 2, 1, 5, 1, 6, 1, 1, 1, 1, 2, 1, 1, 1, 1, 1, 1, 1, 1, 1, 3, 4, 1, 1, 3, 3, 1, 1, 1, 1, 1, 2, 1, 1, 2, 1, 1, 3, 1, 1, 1, 2, 1, 1, 1, 11, 1, 4, 1, 5, 2, 11, 5, 1, 1, 1, 52, 1, 2, 3, 1, 1, 1, 1, 1, 1, 1, 2, 1, 1, 1, 8, 1, 1, 2, 1, 1, 4, 6, 8, 1, 1, 1, 2, 1, 1, 1, 1, 1, 1, 1, 7, 33, 4, 1, 1, 1, 1, 2, 1, 1, 1, 1, 1, 1, 5, 1, 2, 1, 1, 1, 4, 1, 1, 2, 1, 1, 1, 1, 1, 1, 1, 1, 1, 2, 1, 1, 1, 2, 1, 1, 2, 2, 1, 1, 3, 1, 17, 1, 1, 1, 1, 1, 1, 1, 1, 2, 1, 1, 1, 1, 1, 1, 1, 1, 2, 1, 1, 2, 1, 2, 1, 1, 1, 1, 1, 1, 1, 1, 1, 1, 1, 1, 1, 1, 1, 1, 1, 1, 1, 1, 3, 1, 1, 1, 6, 5, 1, 1, 2, 2, 1, 2, 1, 1, 1, 1, 1, 1, 1, 1, 1, 1, 1, 1, 3, 2, 1, 1, 1, 1, 1, 2, 1, 1, 6, 1, 1, 2, 1, 1, 1, 1, 2, 1, 2, 1, 1, 1, 1, 2, 1, 1, 1, 3, 1, 15, 1, 1, 1, 1, 1, 1, 1, 1, 1, 1, 9, 1, 1, 11, 1, 6, 1, 2, 1, 1, 1, 1, 1, 1, 1, 1, 2, 1, 1, 1, 2, 1, 1, 1, 2, 1, 1, 1, 1, 1, 1, 1, 1, 1, 4, 1, 1, 1, 1, 1, 2, 1, 1, 1, 1, 3, 1, 1, 1, 1, 1, 1, 1, 1, 2, 1, 1, 1, 1, 2, 1, 1, 1, 1, 1, 1, 1, 1, 5, 1, 1, 1, 1, 1, 1, 1, 1, 1, 2, 2, 1, 1, 1, 1, 1, 1, 1, 1, 1, 1, 19, 1, 1, 1, 2, 2, 1, 2, 1, 1, 1, 1, 1, 2, 1, 1, 1, 1, 1, 1, 4, 4, 1, 4, 1, 2, 1, 3, 1, 1, 1, 9, 23, 1, 1, 3, 6, 1, 1, 1, 1, 2, 2, 2, 3, 1, 1, 1, 1, 1, 1, 1, 1, 5, 1, 1, 1, 1, 1, 1, 5, 1, 2, 1, 1, 1, 1, 1, 1, 1, 10, 4, 1, 1, 2, 1, 1, 1, 2, 1, 1, 3, 10, 10, 1, 1, 3, 1, 25, 1, 1, 1, 16, 1, 1, 1, 1, 1, 5, 1, 1, 1, 1, 1, 1, 1, 1, 3, 33, 6, 1, 1, 1, 1, 1, 4, 3, 1, 1, 1, 1, 2, 3, 1, 1, 1, 1, 144, 6, 1, 4, 2, 1, 1, 2, 2, 2, 1, 1, 1, 1, 1, 1, 9, 3, 1, 1, 1, 1, 16, 1, 1, 1, 1, 1, 1, 1, 1, 1, 1, 9, 3, 5, 1, 1, 32, 1, 1, 17, 1, 1, 1, 1, 1, 1, 1, 1, 1, 2, 1, 1, 1, 1, 1, 1, 1, 4, 1, 5, 2, 1, 1, 2, 3, 6, 2, 6, 1, 1, 1, 1, 2, 1, 3, 1, 5, 2, 1, 7, 2, 1, 4, 1, 1, 1, 2, 1, 1, 1, 1, 1, 1, 2, 3, 49, 2, 7, 1, 2, 1, 1, 1, 1, 1, 1, 4, 1, 3, 5, 1, 10, 13, 3, 1, 1, 1, 1, 1, 1, 1, 1, 1, 1, 2, 1, 1, 1, 1, 1, 3, 1, 7, 3, 2, 7, 1, 1, 1, 1, 4, 1, 1, 1, 1, 2, 1, 2, 1, 2, 1, 1, 1, 5, 1, 1, 1, 1, 1, 1, 1, 1, 1, 1, 1, 4, 1, 24, 1, 1, 4, 1, 2, 1, 1, 1, 1, 1, 1, 1, 1, 1, 5, 1, 2, 1, 1, 1, 1, 1, 7, 1, 1, 1, 1, 1, 1, 1, 1, 1, 1, 1, 1, 1, 8, 1, 1, 2, 1, 1, 1, 4, 2, 1, 2, 1, 1, 1, 1, 14, 1, 8, 1, 5, 1, 1, 1, 1, 1, 6, 2, 2, 4, 1, 1, 5, 1, 1, 1, 1, 1, 3, 1, 1, 1, 4, 1, 1, 9, 1, 4, 4, 6, 1, 1, 1, 10, 9, 10, 10, 9, 10, 10, 10, 9, 10, 1, 1, 1, 1, 3, 1, 1, 1, 1, 2, 2, 2, 1, 1, 1, 1, 1, 1, 1, 1, 1, 2, 1, 1, 2, 5, 1, 1, 3, 1, 1, 5, 2, 1, 1, 1, 2, 1, 1, 1, 1, 1, 1, 1, 11, 2, 1, 3, 1, 1, 2, 1, 2, 1, 1, 3, 7, 8, 2, 1, 3, 1, 1, 1, 1, 1, 2, 2, 2, 1, 1, 1, 1, 1, 1, 1, 5, 2, 1, 3, 3, 1, 1, 1, 1, 2, 1, 4, 1, 1, 1, 1, 1, 1, 1, 3, 1, 2, 1, 3, 4, 1, 7, 4, 3, 1, 5, 1, 1, 1, 5, 1, 1, 3, 1, 1, 1, 1, 1, 1, 1, 2, 1, 2, 1, 1, 1, 1, 1, 7, 1, 1, 3, 1, 1, 1, 3, 1, 1, 1, 1, 1, 1, 1, 3, 3, 1, 1, 1, 1, 1, 1, 1, 3, 1, 1, 1, 1, 1, 1, 2, 2, 1, 1, 1, 1, 2, 1, 1, 1, 1, 4, 1, 2, 15, 1, 1, 1, 1, 1, 3, 1, 1, 4, 1, 2, 2, 1, 1, 1, 2, 1, 1, 2, 1, 1, 1, 33, 3, 1, 1, 1, 1, 4, 1, 1, 20, 8, 1, 1, 6, 1, 1, 5, 1, 1, 1, 1, 1, 1, 1, 1, 1, 1, 2, 1, 1, 1, 1, 1, 2, 1, 1, 1, 1, 1, 5, 1, 1, 2, 1, 1, 1, 1, 3, 1, 2, 1, 12, 1, 2, 1, 5, 1, 1, 1, 1, 5, 1, 2, 2, 1, 1, 1, 1, 2, 1, 1, 2, 1, 1, 6, 1, 1, 2, 1, 2, 1, 2, 3, 1, 1, 2, 1, 1, 1, 1, 8, 1, 1, 1, 2, 1, 3, 1, 1, 1, 5, 2, 1, 1, 1, 2, 1, 1, 1, 1, 1, 18, 1, 2, 1, 2, 1, 2, 1, 2, 1, 4, 2, 7, 11, 1, 1, 1, 1, 1, 1, 4, 2, 1, 1, 2, 7, 1, 1, 3, 1, 4, 1, 1, 1, 1, 1, 1, 2, 3, 1, 2, 1, 1, 5, 1, 1, 1, 1, 3, 1, 1, 1, 1, 1, 1, 1, 2, 10, 1, 1, 1, 1, 1, 2, 4, 1, 1, 3, 1, 3, 1, 1, 1, 15, 1, 1, 1, 1, 2, 3, 1, 1, 1, 1, 1, 1, 3, 1, 1, 1, 1, 3, 1, 1, 2, 1, 10, 5, 1, 1, 4, 2, 1, 1, 5, 1, 8, 1, 1, 1, 6, 1, 1, 1, 1, 2, 1, 1, 1, 1, 1, 8, 2, 2, 2, 2, 2, 15, 1, 1, 1, 1, 4, 1, 1, 1, 1, 1, 1, 2, 1, 1, 2, 1, 1, 1, 4, 1, 1, 37, 1, 2, 3, 4, 1, 1, 1, 1, 1, 1, 6, 1, 2, 1, 1, 1, 3, 5, 1, 1, 1, 1, 1, 5, 1, 2, 1, 1, 4, 1, 1, 1, 22, 11, 1, 1, 1, 2, 1, 2, 5, 2, 1, 1, 2, 1, 1, 1, 1, 4, 1, 1, 1, 1, 1, 1, 1, 1, 1, 1, 4, 1, 1, 3, 1, 1, 1, 2, 1, 1, 1, 1, 1, 19, 1, 1, 1, 1, 1, 1, 7, 1, 1, 1, 15, 1, 1, 1, 1, 1, 1, 4, 2, 1, 1, 4, 1, 1, 2, 1, 1, 2, 1, 2, 1, 1, 5, 3, 1, 1, 1, 1, 1, 1, 1, 4, 4, 1, 1, 1, 1, 2, 1, 1, 2, 1, 2, 7, 1, 1, 3, 4, 1, 1, 1, 1, 1, 1, 1, 1, 3, 2, 1, 2, 1, 1, 1, 2, 1, 10, 1, 1, 2, 5, 1, 1, 1, 2, 2, 1, 2, 1, 1, 1, 1, 1, 2, 4, 2, 1, 2, 1, 1, 1, 1, 1, 1, 7, 2, 1, 1, 1, 1, 1, 1, 1, 1, 1, 1, 2, 1, 20, 1, 9, 1, 2, 2, 2, 3, 1, 2, 3, 1, 1, 3, 1, 1, 1, 1, 3, 1, 1, 1, 1, 11, 8, 1, 1, 2, 1, 1, 1, 2, 1, 4, 1, 1, 1, 1, 10, 1, 1, 1, 1, 3, 1, 1, 1, 1, 1, 1, 3, 1, 1, 1, 1, 1, 1, 1, 6, 1, 22, 2, 2, 1, 1, 1, 1, 1, 2, 1, 1, 4, 7, 3, 1, 1, 1, 2, 18, 1, 1, 5, 1, 3, 1, 1, 1, 2, 2, 1, 1, 1, 1, 1, 1, 1, 1, 1, 1, 1, 1, 2, 2, 1, 3, 1, 3, 1, 1, 1, 1, 1, 1, 1, 1, 1, 1, 5, 1, 1, 1, 1, 1, 1, 1, 1, 2, 1, 1, 1, 1, 15, 1, 1, 1, 1, 1, 1, 1, 1, 2, 1, 1, 1, 1, 1, 1, 1, 4, 1, 1, 2, 5, 1, 1, 1, 1, 2, 1, 1, 3, 1, 1, 1, 1, 1, 1, 8, 1, 1, 2, 3, 3, 1, 1, 1, 1, 1, 4, 5, 1, 1, 1, 2, 1, 1, 1, 1, 1, 1, 1, 2, 5, 1, 1, 1, 2, 1, 3, 1, 1, 1, 1, 4, 13, 1, 1, 1, 1, 4, 4, 1, 2, 3, 1, 1, 1, 1, 1, 5, 4, 1, 1, 1, 1, 1, 2, 2, 1, 1, 1, 1, 1, 1, 1, 1, 1, 1, 1, 1, 1, 2, 1, 1, 1, 1, 1, 1, 1, 1, 1, 9, 1, 1, 3, 1, 2, 1, 4, 1, 1, 3, 1, 1, 1, 1, 2, 1, 1, 2, 1, 1, 1, 1, 1, 4, 2, 4, 1, 1, 1, 2, 1, 1, 4, 1, 1, 2, 27, 1, 1, 1, 1, 6, 1, 1, 17, 1, 1, 1, 1, 1, 1, 30, 1, 1, 2, 1, 1, 1, 1, 8, 1, 2, 1, 10, 11, 1, 1, 2, 1, 1, 1, 1, 1, 1, 1, 1, 2, 1, 18, 1, 2, 9, 1, 1, 1, 1, 2, 3, 1, 1, 4, 1, 2, 2, 2, 1, 1, 1, 2, 1, 1, 1, 2, 1, 1, 1, 1, 1, 1, 1, 1, 2, 1, 1, 1, 1, 2, 1, 1, 1, 1, 1, 1, 2, 2, 1, 1, 1, 6, 1, 1, 3, 1, 1, 1, 1, 1, 1, 2, 1, 1, 1, 1, 2, 1, 1, 4, 1, 1, 1, 1, 1, 1, 1, 1, 1, 2, 1, 1, 2, 3, 1, 10, 1, 1, 1, 1, 1, 1, 7, 2, 3, 2, 1, 1, 1, 1, 2, 1, 1, 3, 6, 1, 10, 1, 1, 17, 2, 1, 2, 10, 3, 2, 1, 2, 1, 1, 1, 1, 1, 3, 1, 1, 1, 1, 1, 2, 1, 1, 55, 1, 1, 12, 2, 1, 1, 1, 42, 1, 2, 1, 2, 1, 1, 1, 1, 1, 1, 1, 12, 21, 1, 2, 1, 1, 1, 1, 1, 1, 4, 1, 3, 1, 2, 3, 2, 1, 1, 4, 1, 21, 1, 1, 1, 9, 1, 1, 1, 1, 9, 1, 1, 1, 2, 1, 2, 24, 1, 1, 1, 1, 1, 1, 3, 1, 4, 1, 1, 1, 1, 1, 1, 1, 1, 1, 1, 1, 1, 1, 2, 2, 6, 3, 1, 1, 1, 1, 2, 2, 1, 1, 1, 1, 20, 1, 1, 1, 1, 1, 1, 1, 1, 1, 1, 1, 1, 1, 4, 9, 1, 1, 1, 2, 1, 1, 2, 13, 1, 1, 1, 2, 1, 1, 1, 1, 1, 1, 1, 1, 1, 4, 1, 1, 9, 1, 1, 1, 1, 2, 1, 1, 1, 1, 11, 2, 2, 1, 1, 1, 1, 1, 1, 1, 1, 1, 2, 1, 2, 1, 1, 1, 4, 11, 1, 9, 2, 1, 1, 1, 1, 8, 1, 2, 1, 2, 2, 19, 2, 1, 1, 1, 1, 1, 1, 1, 1, 2, 1, 1, 1, 1, 1, 1, 1, 2, 1, 1, 2, 1, 1, 1, 1, 1, 1, 1, 1, 17, 53, 1, 1, 1, 1, 1, 2, 7, 2, 1, 31, 3, 1, 1, 1, 1, 1, 1, 1, 2, 11, 17, 3, 1, 1, 7, 1, 1, 1, 1, 17, 3, 1, 1, 2, 2, 2, 1, 1, 5, 2, 2, 1, 1, 2, 3, 2, 1, 3, 1, 1, 1, 2, 1, 1, 1, 7, 2, 1, 2, 1, 2, 1, 1, 1, 1, 2, 1, 4, 1, 1, 3, 1, 1, 1, 1, 19, 1, 1, 1, 2, 1, 1, 6, 1, 1, 2, 7, 1, 1, 2, 3, 1, 2, 8, 1, 3, 4, 1, 1, 1, 2, 2, 1, 1, 1, 1, 1, 3, 1, 1, 1, 3, 1, 1, 1, 1, 1, 1, 4, 1, 1, 1, 5, 9, 1, 23, 2, 1, 1, 1, 1, 1, 2, 1, 1, 1, 1, 1, 3, 1, 1, 1, 1, 1, 1, 1, 1, 1, 1, 2, 1, 3, 2, 1, 1, 1, 3, 2, 1, 3, 1, 1, 1, 2, 1, 1, 1, 8, 28, 19, 1, 1, 1, 1, 1, 1, 1, 2, 4, 1, 8, 1, 1, 1, 2, 3, 1, 1, 60, 1, 1, 1, 1, 1, 1, 1, 1, 1, 15, 2, 1, 1, 2, 1, 4, 5, 1, 1, 1, 1, 1, 1, 1, 1, 1, 1, 1, 2, 2, 1, 1, 1, 1, 1, 6, 1, 2, 1, 7, 1, 1, 1, 1, 1, 1, 1, 1, 1, 4, 1, 1, 1, 1, 1, 9, 1, 1, 1, 1, 1, 3, 1, 1, 2, 1, 12, 1, 1, 2, 1, 1, 1, 1, 3, 1, 1, 2, 1, 1, 1, 1, 1, 1, 1, 1, 1, 3, 1, 1, 1, 1, 3, 1, 1, 2, 1, 1, 1, 8, 1, 1, 1, 1, 1, 1, 1, 1, 14, 2, 1, 2, 5, 1, 3, 1, 1, 1, 1, 1, 1, 1, 1, 1, 1, 1, 2, 8, 1, 1, 2, 1, 1, 1, 3, 1, 1, 1, 1, 1, 2, 3, 1, 5, 1, 11, 4, 1, 1, 2, 1, 1, 5, 3, 3, 1, 1, 1, 1, 2, 1, 1, 1, 1, 1, 3, 1, 1, 1, 1, 1, 32, 1, 1, 1, 2, 3, 1, 1, 1, 5, 3, 1, 5, 2, 2, 1, 1, 2, 1, 1, 1, 1, 4, 1, 1, 1, 2, 1, 3, 2, 1, 1, 2, 1, 1, 1, 1, 1, 1, 1, 4, 7, 3, 1, 1, 1, 3, 18, 1, 1, 3, 2, 1, 1, 1, 1, 1, 1, 41, 4, 2, 1, 1, 1, 1, 1, 2, 2, 1, 1, 1, 1, 1, 1, 2, 1, 1, 1, 1, 1, 1, 1, 1, 1, 1, 3, 1, 1, 1, 1, 2, 1, 3, 2, 1, 2, 1, 1, 2, 2, 2, 1, 1, 1, 1, 1, 1, 1, 1, 1, 1, 1, 1, 1, 2, 2, 6, 3, 1, 3, 1, 4, 2, 2, 5, 1, 1, 1, 1, 2, 1, 1, 2, 9, 1, 1, 1, 2, 1, 8, 3, 1, 3, 1, 1, 1, 9, 3, 1, 1, 1, 2, 1, 2, 2, 1, 1, 1, 1, 1, 1, 1, 2, 1, 1, 1, 1, 1, 1, 1, 1, 2, 1, 1, 1, 1, 3, 1, 1, 1, 1, 1, 1, 3, 1, 1, 22, 1, 1, 1, 1, 4, 1, 1, 2, 2, 1, 2, 2, 7, 1, 2, 41, 1, 1, 2, 1, 1, 1, 1, 1, 1, 5, 6, 1, 1, 1, 1, 3, 1, 1, 5, 13, 1, 1, 2, 5, 6, 1, 1, 48, 1, 1, 1, 4, 1, 1, 1, 3, 1, 1, 1, 1, 1, 1, 4, 1, 1, 14, 3, 3, 1, 3, 1, 1, 1, 1, 2, 2, 1, 1, 1, 3, 1, 1, 1, 1, 2, 2, 1, 3, 5, 1, 1, 2, 1, 1, 1, 1, 1, 2, 1, 2, 1, 29, 1, 1, 1, 1, 2, 1, 1, 1, 1, 1, 1, 2, 1, 1, 1, 6, 1, 1, 1, 1, 1, 1, 1, 3, 1, 2, 5, 1, 1, 3, 1, 1, 1, 1, 1, 1, 1, 1, 2, 1, 1, 1, 2, 1, 2, 2, 1, 1, 1, 1, 2, 1, 1, 1, 1, 1, 1, 1, 2, 1, 1, 1, 1, 1, 5, 1, 1, 2, 1, 1, 1, 1, 3, 1, 1, 1, 2, 1, 1, 1, 1, 1, 1, 4, 1, 1, 1, 1, 1, 2, 1, 1, 4, 1, 5, 1, 1, 1, 1, 1, 7, 1, 2, 1, 1, 1, 2, 14, 1, 1, 1, 1, 1, 1, 1, 1, 1, 1, 3, 1, 1, 2, 1, 1, 1, 1, 1, 1, 2, 1, 1, 1, 5, 1, 2, 1, 1, 2, 3, 1, 2, 4, 4, 1, 1, 1, 6, 1, 2, 6, 2, 1, 2, 2, 1, 1, 1, 7, 1, 1, 1, 1, 1, 1, 1, 1, 2, 1, 4, 1, 1, 2, 1, 1, 1, 1, 1, 2, 1, 1, 1, 1, 1, 1, 1, 1, 1, 1, 1, 2, 1, 1, 1, 1, 1, 1, 1, 2, 1, 2, 1, 1, 1, 1, 15, 2, 1, 1, 14, 2, 1, 3, 1, 1, 2, 1, 1, 4, 1, 1, 1, 121, 3, 1, 1, 2, 1, 1, 1, 4, 1, 1, 1, 1, 1, 1, 1, 2, 1, 1, 1, 1, 1, 1, 2, 1, 1, 1, 2, 1, 1, 1, 3, 2, 1, 1, 2, 1, 1, 1, 1, 1, 1, 1, 5, 3, 1, 1, 1, 13, 1, 3, 1, 1, 1, 1, 1, 2, 1, 1, 1, 3, 1, 1, 1, 1, 2, 6, 1, 1, 1, 1, 1, 3, 1, 2, 1, 6, 4, 1, 3, 1, 1, 1, 1, 5, 2, 5, 1, 1, 3, 3, 1, 1, 2, 3, 1, 2, 1, 1, 1, 1, 1, 1, 1, 1, 1, 1, 1, 1, 2, 4, 1, 1, 1, 1, 1, 1, 2, 14, 4, 1, 1, 1, 1, 2, 1, 1, 1, 2, 1, 2, 1, 1, 1, 2, 1, 2, 5, 1, 2, 1, 1, 1, 1, 1, 1, 1, 1, 1, 7, 1, 3, 1, 1, 5, 1, 1, 2, 1, 1, 1, 1, 1, 1, 1, 1, 1, 1, 1, 2, 1, 1, 1, 1, 1, 1, 2, 1, 1, 5, 1, 1, 2, 1, 2, 1, 1, 1, 1, 1, 1, 1, 2, 1, 1, 1, 3, 4, 5, 1, 3, 1, 1, 1, 2, 1, 1, 1, 1, 1, 2, 1, 2, 1, 1, 1, 2, 1, 2, 1, 1, 4, 1, 1, 4, 1, 1, 1, 1, 1, 1, 1, 1, 1, 1, 1, 1, 1, 3, 2, 4, 1, 1, 1, 4, 1, 2, 1, 2, 1, 1, 1, 1, 3, 1, 1, 1, 1, 1, 1, 1, 5, 2, 4, 1, 1, 2, 1, 1, 1, 1, 1, 1, 1, 2, 1, 2, 1, 2, 1, 8, 4, 9, 1, 18, 1, 1, 1, 2, 1, 2, 1, 1, 1, 1, 1, 1, 1, 1, 1, 2, 2, 1, 2, 1, 1, 1, 1, 2, 1, 1, 1, 1, 1, 1, 1, 1, 2, 2, 1, 1, 2, 1, 2, 1, 1, 1, 1, 4, 2, 1, 2, 1, 1, 1, 1, 4, 1, 3, 1, 1, 1, 1, 1, 1, 4, 5, 1, 1, 1, 7, 2, 1, 1, 1, 1, 9, 1, 1, 1, 1, 1, 2, 1, 1, 1, 1, 1, 1, 1, 1, 1, 2, 1, 2, 1, 1, 3, 2, 1, 3, 1, 2, 1, 2, 2, 1, 22, 4, 1, 5, 1, 1, 2, 2, 1, 3, 5, 13, 2, 1, 1, 530, 1, 1, 1, 1, 1, 2, 1, 1, 1, 1, 1, 2, 1, 1, 1, 1, 3, 1, 1, 4, 1, 1, 1, 2, 1, 1, 1, 1, 1, 8, 5, 1, 109, 1, 1, 1, 1, 1, 1, 1, 5, 2, 1, 2, 1, 1, 7, 1, 4, 1, 1, 2, 1, 1, 4, 1, 1, 1, 4, 1, 1, 1, 2, 1, 1, 1, 1, 1, 44, 13, 1, 1, 1, 1, 1, 12, 1, 1, 1, 7, 2, 1, 1, 1, 3, 2, 30, 1, 1, 5, 1, 1, 1, 1, 2, 2, 1, 1, 3, 1, 4, 2, 1, 1, 1, 2, 1, 4, 2, 1, 26, 22, 1, 1, 5, 1, 1, 3, 1, 6, 2, 1, 1, 1, 1, 2, 1, 1, 16, 5, 1, 1, 1, 2, 1, 1, 1, 1, 1, 1, 1, 1, 1, 1, 1, 1, 1, 1, 1, 1, 39, 1, 9, 4, 4, 4, 3, 3, 1, 1, 2, 4, 5, 1, 1, 4, 2, 1, 1, 12, 1, 1, 1, 1, 2, 1, 2, 1, 1, 2, 3, 3, 1, 1, 1, 1, 1, 1, 2, 1, 1, 2, 1, 1, 1, 1, 1, 2, 1, 1, 1, 2, 1, 1, 1, 1, 4, 2, 1, 1, 1, 1, 1, 2, 1, 1, 9, 1, 5, 14, 1, 1, 1, 1, 1, 1, 2, 1, 1, 1, 4, 3, 1, 3, 7, 1, 1, 1, 1, 1, 1, 1, 12, 1, 71, 1, 1, 1, 1, 1, 2, 1, 9, 1, 15, 2, 1, 1, 1, 1, 1, 1, 1, 1, 10, 4, 1, 1, 4, 3, 1, 1, 1, 1, 1, 2, 1, 1, 1, 1, 1, 2, 20, 1, 1, 1, 1, 1, 6, 3, 1, 1, 1, 1, 1, 1, 1, 2, 1, 1, 1, 1, 2, 1, 1, 1, 2, 1, 1, 2, 1, 1, 1, 2, 1, 3, 1, 1, 1, 1, 1, 1, 1, 1, 1, 1, 3, 1, 1, 1, 1, 1, 1, 1, 1, 1, 1, 1, 1, 13, 28, 1, 1, 2, 1, 1, 1, 1, 1, 14, 1, 1, 1, 1, 1, 1, 1, 1, 2, 1, 1, 1, 1, 1, 1, 10, 1, 52, 1, 1, 1, 3, 2, 1, 1, 5, 1, 1, 1, 5, 1, 1, 11, 2, 1, 2, 1, 3, 1, 1, 1, 1, 2, 3, 4, 2, 1, 1, 1, 2, 4, 1, 1, 1, 1, 1, 1, 1, 2, 1, 1, 1, 2, 4, 1, 2, 1, 1, 1, 2, 3, 1, 1, 1, 2, 2, 1, 1, 1, 1, 2, 1, 1, 1, 1, 1, 1, 8, 5, 7, 1, 3, 5, 3, 1, 1, 1, 1, 2, 1, 1, 1, 1, 1, 1, 1, 1, 1, 1, 1, 5, 2, 2, 2, 1, 6, 2, 1, 1, 4, 1, 1, 1, 4, 3, 1, 1, 1, 1, 1, 1, 1, 1, 1, 1, 3, 39, 1, 1, 1, 1, 1, 1, 4, 1, 1, 1, 2, 2, 1, 1, 1, 1, 1, 1, 3, 1, 1, 1, 2, 1, 1, 1, 1, 1, 1, 2, 1, 1, 1, 1, 1, 4, 1, 1, 1, 1, 1, 1, 2, 1, 2, 2, 1, 1, 1, 5, 1, 1, 8, 1, 1, 1, 2, 1, 2, 1, 4, 3, 1, 35, 3, 1, 1, 2, 21, 1, 1, 4, 1, 7, 8, 2, 1, 1, 1, 1, 1, 1, 1, 1, 4, 3, 1, 1, 7, 1, 1, 2, 1, 1, 1, 1, 1, 1, 1, 1, 1, 1, 2, 1, 1, 36, 2, 1, 1, 1, 1, 1, 2, 1, 1, 1, 1, 1, 2, 1, 1, 1, 1, 1, 1, 11, 2, 4, 1, 1, 1, 1, 1, 1, 2, 1, 1, 1, 1, 20, 1, 1, 3, 1, 1, 1, 1, 1, 1, 1, 1, 1, 15, 6, 12, 1, 1, 1, 5, 3, 1, 1, 1, 1, 1, 1, 1, 2, 1, 1, 1, 1, 3, 1, 3, 1, 1, 1, 1, 1, 4, 1, 2, 1, 1, 2, 1, 2, 1, 1, 3, 2, 1, 1, 8, 1, 1, 1, 1, 1, 5, 3, 1, 4, 13, 1, 2, 6, 3, 1, 77, 1, 2, 2, 1, 42, 5, 1, 4, 1, 1, 1, 1, 1, 1, 1, 1, 5, 1, 1, 1, 1, 1, 1, 2, 3, 1, 2, 3, 1, 1, 1, 1, 1, 1, 1, 1, 3, 1, 1, 1, 1, 1, 1, 1, 4, 1, 24, 1, 3, 7, 1, 1, 1, 1, 2, 1, 1, 1, 2, 1, 1, 1, 2, 5, 1, 1, 1, 1, 1, 1, 1, 1, 1, 1, 1, 1, 1, 2, 1, 1, 2, 1, 2, 1, 4, 1, 1, 1, 1, 1, 1, 4, 1, 1, 1, 1, 1, 1, 1, 1, 5, 2, 1, 1, 4, 1, 2, 2, 1, 1, 1, 1, 5, 2, 2, 1, 1, 5, 1, 3, 1, 1, 1, 3, 4, 1, 1, 1, 1, 1, 3, 2, 1, 1, 1, 1, 1, 1, 1, 1, 1, 9, 1, 6, 2, 2, 1, 9, 1, 1, 1, 1, 1, 29, 1, 1, 1, 1, 1, 1, 1, 1, 1, 1, 1, 4, 17, 1, 1, 15, 1, 2, 1, 1, 1, 10, 1, 2, 1, 1, 1, 2, 7, 2, 1, 2, 2, 2, 1, 3, 6, 1, 1, 1, 1, 1, 2, 1, 1, 1, 1, 4, 1, 1, 2, 1, 1, 1, 1, 1, 1, 1, 3, 4, 3, 1, 2, 1, 1, 1, 1, 1, 1, 8, 1, 1, 1, 7, 1, 1, 1, 1, 1, 5, 1, 1, 1, 1, 1, 1, 2, 1, 1, 1, 1, 1, 2, 1, 1, 1, 1, 1, 1, 6, 1, 1, 1, 1, 4, 1, 3, 1, 1, 1, 1, 1, 1, 2, 2, 1, 2, 1, 1, 2, 1, 1, 1, 1, 1, 1, 1, 1, 1, 2, 1, 1, 1, 1, 2, 1, 1, 1, 2, 1, 1, 1, 1, 1, 1, 1, 2, 1, 1, 1, 1, 4, 1, 1, 1, 14, 1, 1, 1, 3, 6, 1, 1, 1, 1, 1, 1, 6, 2, 2, 2, 1, 1, 1, 1, 1, 1, 6, 1, 4, 1, 3, 1, 1, 5, 1, 6, 1, 3, 1, 1, 1, 2, 1, 2, 2, 1, 1, 19, 1, 1, 1, 1, 1, 1, 2, 2, 1, 1, 1, 3, 3, 1, 1, 3, 1, 1, 21, 4, 1, 1, 3, 1, 1, 2, 3, 1, 2, 1, 1, 5, 2, 4, 1, 1, 4, 1, 1, 1, 1, 1, 1, 1, 5, 1, 11, 1, 1, 1, 1, 1, 1, 1, 1, 1, 1, 1, 1, 3, 1, 1, 1, 1, 1, 1, 3, 1, 9, 2, 1, 6, 1, 1, 13, 2, 1, 1, 2, 1, 1, 2, 1, 1, 1, 1, 1, 1, 1, 1, 8, 1, 2, 3, 1, 1, 1, 1, 8, 1, 1, 1, 1, 1, 1, 2, 5, 1, 4, 1, 2, 1, 1, 1, 1, 1, 1, 1, 1, 1, 1, 1, 1, 3, 1, 1, 2, 5, 1, 1, 1, 2, 5, 2, 1, 1, 1, 1, 1, 1, 1, 1, 1, 1, 1, 3, 1, 1, 1, 4, 2, 1, 1, 2, 1, 1, 4, 2, 1, 6, 1, 1, 1, 2, 1, 1, 1, 1, 1, 1, 1, 5, 1, 1, 1, 2, 4, 1, 1, 1, 1, 2, 1, 1, 1, 1, 4, 1, 1, 1, 2, 1, 1, 5, 1, 9, 1, 1, 1, 3, 1, 5, 2, 1, 2, 1, 1, 3, 6, 2, 1, 5, 2, 1, 1, 2, 2, 1, 1, 1, 1, 1, 4, 1, 1, 1, 5, 1, 6, 1, 1, 2, 3, 2, 5, 1, 3, 1, 1, 1, 1, 1, 1, 1, 2, 1, 1, 3, 3, 1, 1, 1, 6, 236, 1, 1, 1, 1, 1, 1, 1, 11, 1, 1, 1, 2, 1, 1, 1, 1, 4, 1, 1, 1, 1, 1, 2, 4, 3, 1, 1, 1, 1, 1, 1, 1, 1, 1, 1, 1, 1, 1, 1, 1, 1, 1, 1, 1, 1, 1, 1, 1, 1, 1, 1, 4, 1, 1, 1, 3, 1, 1, 1, 1, 1, 4, 1, 1, 1, 1, 1, 1, 1, 1, 1, 1, 1, 1, 2, 1, 1, 1, 1, 1, 1, 1, 2, 1, 1, 1, 2, 1, 1, 1, 1, 2, 1, 1, 1, 2, 1, 5, 1, 1, 1, 31, 1, 1, 4, 1, 3, 2, 1, 1, 1, 1, 1, 1, 2, 1, 1, 1, 1, 2, 1, 3, 1, 1, 2, 3, 2, 1, 1, 1, 1, 2, 2, 1, 2, 1, 1, 1, 1, 1, 1, 2, 1, 1, 4, 1, 1, 1, 1, 1, 1, 1, 1, 1, 1, 1, 1, 2, 1, 1, 1, 1, 1, 1, 1, 2, 1, 2, 2, 1, 1, 2, 1, 1, 4, 1, 2, 1, 2, 1, 1, 1, 2, 1, 3, 2, 1, 1, 2, 1, 1, 2, 1, 1, 1, 1, 3, 1, 1, 1, 1, 1, 1, 1, 1, 1, 1, 1, 1, 2, 1, 2, 1, 1, 1, 1, 1, 2, 1, 2, 1, 1, 1, 1, 1, 2, 2, 1, 1, 1, 1, 1, 1, 1, 1, 3, 1, 1, 2, 1, 2, 1, 1, 1, 1, 1, 1, 1, 1, 1, 2, 1, 1, 2, 1, 1, 1, 1, 1, 1, 2, 1, 1, 1, 3, 4, 1, 1, 1, 3, 2, 2, 1, 2, 1, 1, 1, 1, 1, 1, 2, 1, 1, 2, 1, 1, 1, 1, 1, 1, 1, 1, 1, 1, 1, 3, 1, 4, 6, 2, 3, 1, 1, 1, 4, 2, 1, 2, 1, 2, 1, 1, 1, 1, 1, 1, 1, 1, 1, 3, 2, 1, 1, 1, 1, 1, 1, 1, 1, 4, 3, 1, 2, 1, 3, 1, 1, 1, 3, 1, 1, 1, 1, 1, 3, 3, 1, 2, 1, 1, 3, 1, 1, 1, 1, 2, 1, 1, 1, 1, 1, 2, 2, 1, 2, 1, 2, 1, 1, 2, 1, 1, 1, 2, 1, 1, 2, 1, 1, 1, 1, 1, 2, 2, 1, 2, 1, 1, 1, 1, 1, 1, 1, 1, 1, 1, 2, 2, 1, 1, 1, 2, 1, 1, 1, 2, 1, 3, 1, 2, 1, 1, 2, 3, 2, 1, 1, 1, 1, 1, 1, 1, 1, 2, 1, 3, 2, 1, 2, 2, 1, 3, 4, 1, 4, 1, 1, 1, 1, 1, 1, 1, 1, 1, 2, 1, 1, 2, 2, 2, 1, 1, 2, 8, 2, 1, 1, 1, 1, 1, 1, 2, 1, 1, 1, 2, 2, 1, 2, 1, 1, 1, 1, 1, 3, 1, 1, 1, 1, 1, 1, 1, 1, 1, 1, 1, 1, 2, 3, 2, 1, 1, 2, 3, 1, 1, 1, 1, 2, 1, 1, 1, 1, 1, 1, 1, 1, 2, 4, 1, 2, 1, 1, 1, 1, 1, 1, 3, 1, 1, 1, 2, 1, 2, 1, 1, 1, 1, 2, 3, 1, 1, 2, 1, 1, 1, 2, 1, 1, 1, 3, 1, 1, 4, 1, 1, 2, 1, 1, 1, 1, 2, 1, 1, 1, 1, 1, 2, 1, 1, 1, 1, 1, 4, 1, 2, 2, 1, 1, 1, 1, 1, 1, 1, 1, 1, 1, 1, 2, 1, 1, 4, 1, 1, 1, 1, 1, 2, 1, 1, 1, 1, 1, 1, 1, 2, 1, 1, 1, 1, 4, 1, 1, 1, 1, 2, 1, 2, 2, 1, 1, 1, 1, 1, 1, 1, 1, 1, 1, 2, 1, 1, 1, 1, 1, 1, 1, 4, 1, 1, 1, 2, 2, 1, 1, 3, 1, 1, 1, 1, 2, 2, 1, 1, 1, 1, 1, 1, 2, 1, 1, 1, 2, 2, 1, 3, 1, 2, 1, 1, 1, 1, 1, 1, 1, 2, 1, 1, 2, 2, 1, 3, 1, 1, 2, 1, 1, 1, 2, 1, 2, 2, 1, 1, 1, 1, 1, 1, 2, 1, 3, 1, 1, 1, 3, 1, 1, 1, 1, 1, 4, 6, 1, 1, 2, 1, 1, 1, 3, 2, 1, 1, 2, 1, 1, 1, 3, 2, 1, 1, 3, 1, 2, 1, 1, 1, 3, 2, 1, 1, 4, 1, 1, 2, 1, 1, 1, 1, 1, 3, 1, 1, 1, 1, 1, 1, 1, 1, 1, 3, 4, 1, 3, 1, 1, 1, 1, 1, 1, 3, 1, 1, 2, 1, 1, 1, 1, 1, 1, 1, 1, 1, 1, 7, 3, 3, 1, 1, 1, 1, 1, 1, 1, 1, 1, 1, 1, 2, 1, 1, 2, 1, 1, 1, 1, 1, 1, 1, 1, 5, 1, 1, 1, 2, 1, 2, 1, 3, 1, 2, 1, 2, 1, 1, 1, 1, 2, 1, 1, 4, 1, 3, 2, 1, 1, 1, 1, 1, 1, 2, 1, 4, 3, 5, 1, 1, 1, 3, 1, 1, 1, 1, 19, 1, 1, 1, 1, 1, 1, 4, 4, 4, 3, 1, 1, 1, 1, 12, 1, 1, 2, 2, 1, 1, 1, 1, 1, 3, 1, 1, 1, 1, 1, 2, 1, 1, 2]\n"
          ],
          "name": "stdout"
        }
      ]
    },
    {
      "cell_type": "code",
      "metadata": {
        "id": "x9aGJQ29qmmn",
        "colab_type": "code",
        "colab": {
          "base_uri": "https://localhost:8080/",
          "height": 218
        },
        "outputId": "48acd165-38f2-4acb-90e2-4f3c60287aaa"
      },
      "source": [
        "print(len(files))\n",
        "files"
      ],
      "execution_count": null,
      "outputs": [
        {
          "output_type": "stream",
          "text": [
            "11\n"
          ],
          "name": "stdout"
        },
        {
          "output_type": "execute_result",
          "data": {
            "text/plain": [
              "['pairs_01.txt',\n",
              " 'pairs_02.txt',\n",
              " 'pairs_03.txt',\n",
              " 'pairs_04.txt',\n",
              " 'pairs_05.txt',\n",
              " 'pairs_06.txt',\n",
              " 'pairs_07.txt',\n",
              " 'pairs_08.txt',\n",
              " 'pairs_09.txt',\n",
              " 'pairs_10.txt',\n",
              " 'pairs.txt']"
            ]
          },
          "metadata": {
            "tags": []
          },
          "execution_count": 5
        }
      ]
    },
    {
      "cell_type": "code",
      "metadata": {
        "id": "hr1WSoohtJmU",
        "colab_type": "code",
        "colab": {
          "base_uri": "https://localhost:8080/",
          "height": 907
        },
        "outputId": "4e169ae8-919c-45ce-a112-cd12210598c6"
      },
      "source": [
        "uniq = set(num_list)\n",
        "for i in uniq:\n",
        "  print(i, num_list.count(i)) # no. of files, no. of folders which that no. of files"
      ],
      "execution_count": null,
      "outputs": [
        {
          "output_type": "stream",
          "text": [
            "1 4069\n",
            "2 779\n",
            "3 291\n",
            "4 187\n",
            "5 112\n",
            "6 55\n",
            "7 39\n",
            "8 33\n",
            "9 29\n",
            "10 22\n",
            "11 16\n",
            "12 10\n",
            "13 11\n",
            "14 10\n",
            "15 11\n",
            "16 3\n",
            "17 8\n",
            "144 1\n",
            "19 7\n",
            "20 5\n",
            "18 5\n",
            "22 5\n",
            "23 3\n",
            "24 3\n",
            "25 1\n",
            "26 2\n",
            "27 1\n",
            "21 4\n",
            "28 2\n",
            "30 2\n",
            "31 2\n",
            "32 3\n",
            "33 3\n",
            "29 2\n",
            "35 1\n",
            "36 1\n",
            "37 1\n",
            "39 2\n",
            "41 2\n",
            "42 2\n",
            "44 1\n",
            "48 1\n",
            "49 1\n",
            "52 2\n",
            "53 1\n",
            "55 1\n",
            "60 1\n",
            "71 1\n",
            "77 1\n",
            "530 1\n",
            "236 1\n",
            "109 1\n",
            "121 1\n"
          ],
          "name": "stdout"
        }
      ]
    },
    {
      "cell_type": "code",
      "metadata": {
        "id": "EJnKYUHZOKIK",
        "colab_type": "code",
        "colab": {
          "base_uri": "https://localhost:8080/",
          "height": 34
        },
        "outputId": "2c7625e3-226c-40da-e496-484a9a613133"
      },
      "source": [
        "uniq = set(num_list)\n",
        "c = 0\n",
        "for i in range(1,9):\n",
        "  c = c+i*num_list.count(i)\n",
        "print(c )"
      ],
      "execution_count": null,
      "outputs": [
        {
          "output_type": "stream",
          "text": [
            "8675\n"
          ],
          "name": "stdout"
        }
      ]
    },
    {
      "cell_type": "code",
      "metadata": {
        "id": "-M-0VBsOzxIz",
        "colab_type": "code",
        "colab": {
          "base_uri": "https://localhost:8080/",
          "height": 185
        },
        "outputId": "0e923b33-893b-4239-f41b-8cee1dc89658"
      },
      "source": [
        "print(len(os.listdir('/content/drive/My Drive/lfw_funneled/APJ_Abdul_Kalam')))\n",
        "print(len(os.listdir('/content/drive/My Drive/lfw_funneled/Barack_Obama')))\n",
        "print(len(os.listdir('/content/drive/My Drive/lfw_funneled/Chandler_Bing')))\n",
        "print(len(os.listdir('/content/drive/My Drive/lfw_funneled/Elon_Musk')))\n",
        "print(len(os.listdir('/content/drive/My Drive/lfw_funneled/Joey_Tribianni')))\n",
        "print(len(os.listdir('/content/drive/My Drive/lfw_funneled/Michelle_Obama')))\n",
        "print(len(os.listdir('/content/drive/My Drive/lfw_funneled/Ross_Gellar')))\n",
        "print(len(os.listdir('/content/drive/My Drive/lfw_funneled/Rachel_Green')))\n",
        "print(len(os.listdir('/content/drive/My Drive/lfw_funneled/Pheobe_Buffay')))\n",
        "print(len(os.listdir('/content/drive/My Drive/lfw_funneled/Monica_Gellar')))"
      ],
      "execution_count": null,
      "outputs": [
        {
          "output_type": "stream",
          "text": [
            "9\n",
            "9\n",
            "9\n",
            "10\n",
            "10\n",
            "10\n",
            "10\n",
            "10\n",
            "10\n",
            "10\n"
          ],
          "name": "stdout"
        }
      ]
    },
    {
      "cell_type": "code",
      "metadata": {
        "id": "q3rb-D1ReDY4",
        "colab_type": "code",
        "colab": {}
      },
      "source": [
        "shutil.rmtree('/content/lfw_funneled')"
      ],
      "execution_count": null,
      "outputs": []
    },
    {
      "cell_type": "code",
      "metadata": {
        "id": "FD8Dzg2Txbwi",
        "colab_type": "code",
        "colab": {}
      },
      "source": [
        "shutil.copytree('/content/drive/My Drive/lfw_funneled','lfw_funneled')"
      ],
      "execution_count": null,
      "outputs": []
    },
    {
      "cell_type": "code",
      "metadata": {
        "id": "OdX0gQOZEmF0",
        "colab_type": "code",
        "colab": {}
      },
      "source": [
        "# Total No Of Classes\n",
        "!ls '/content/lfw_funneled'| wc -l"
      ],
      "execution_count": null,
      "outputs": []
    },
    {
      "cell_type": "code",
      "metadata": {
        "id": "TZjtw4QdEz5o",
        "colab_type": "code",
        "colab": {
          "base_uri": "https://localhost:8080/",
          "height": 34
        },
        "outputId": "39bace9d-fde0-4d1f-dcef-39829b180ad8"
      },
      "source": [
        "c = 0\n",
        "for i in os.listdir('/content/lfw_funneled'):\n",
        "  path = f'/content/lfw_funneled/{i}'\n",
        "  if os.path.isdir(path):\n",
        "    num = len(os.listdir(path))\n",
        "    c+=num\n",
        "  else:\n",
        "    pass\n",
        "print('total',c)"
      ],
      "execution_count": null,
      "outputs": [
        {
          "output_type": "stream",
          "text": [
            "total 13330\n"
          ],
          "name": "stdout"
        }
      ]
    },
    {
      "cell_type": "code",
      "metadata": {
        "id": "Cn_0611e1Bek",
        "colab_type": "code",
        "colab": {
          "base_uri": "https://localhost:8080/",
          "height": 121
        },
        "outputId": "7a3d7435-6867-43e9-d9b2-2c2743fdf898"
      },
      "source": [
        "dlist = []\n",
        "dfile_list = []\n",
        "numfiles = 0\n",
        "dirs = os.listdir('/content/lfw_funneled_copy')\n",
        "for i in dirs:\n",
        "  path = f'/content/lfw_funneled_copy/{i}'\n",
        "  if os.path.isdir(path):\n",
        "    num = len(os.listdir(path))\n",
        "    if num < 9:\n",
        "      numfiles +=num\n",
        "      shutil.rmtree(path)\n",
        "      dlist.append(i)\n",
        "  else:\n",
        "    os.remove(path)\n",
        "    dfile_list.append(i)\n",
        "print('Total files deleted',numfiles)\n",
        "print('No of folders deleted:',len(dlist))\n",
        "print('folders deleted: ',dlist)\n",
        "print('No of files deleted:',len(dfile_list))\n",
        "print('files deleted',dfile_list)"
      ],
      "execution_count": null,
      "outputs": [
        {
          "output_type": "stream",
          "text": [
            "Total files deleted 8675\n",
            "No of folders deleted: 5565\n",
            "folders deleted:  ['Rick_Romley', 'Rick_Carlisle', 'Rita_Wilson', 'Rick_Husband', 'Robert_Beck', 'Rob_Ramsay', 'Rob_Niedermayer', 'Ridley_Scott', 'Rick_Pitino', 'Rob_Schneider', 'Rick_Stansbury', 'Ricky_Barnes', 'Ricky_Cottrill', 'Rick_Santorum', 'Ricky_Martin', 'Rick_Caruso', 'Rick_Lu', 'Ricky_Ray', 'Robbie_Williams', 'Rob_Marshall', 'Rita_Moreno', 'Robbie_Mc_Ewen', 'Rick_Perry', 'Ringo_Starr', 'Rob_Morrow', 'Robby_Ginepri', 'Robert_Douglas', 'Robert_De_Niro', 'Robert_Kipkoech_Cheruiyot', 'Robert_Durst', 'Robert_McKee', 'Robert_Gallo', 'Robert_Blake', 'Robert_Kocharian', 'Robert_DeFraites', 'Robert_Lee_Yates_Jr', 'Robert_F_Kennedy_Jr', 'Robert_Hanssen', 'Robert_Marshall', 'Robert_Lange', 'Robert_Gordon_Card', 'Robert_Flodquist', 'Robert_Ehrlich', 'Robert_Horan', 'Robert_Duvall', 'Robert_Bullock', 'Robert_Hyatt', 'Robert_Stack', 'Roberto_Cercelletta', 'Roger_Clemens', 'Roger_Mahony', 'Robert_Weitzel', 'Roger_Lyons', 'Roger_Winter', 'Roberto_Guaterroma', 'Roger_Toussaint', 'Rod_Stewart', 'Roberto_Marinho', 'Roel_Campos', 'Roger_Etchegaray', 'Roberto_Cavalli', 'Roberto_Carlos', 'Rod_Jong-il', 'Robert_Wagner', 'Rogerio_Romero', 'Robert_Wiener', 'Robert_Mugabe', 'Robert_Mueller', 'Robert_Morvillo', 'Robert_Redford', 'Rod_Blagojevich', 'Robinson_Stevenin', 'Roger_Corbett', 'Robert_Schuller', 'Roger_Cook', 'Rod_Bryden', 'Rogelio_Ramos', 'Roger_King', 'Robin_McGraw', 'Robert_Nillson', 'Robert_Nardelli', 'Robert_Pollack', 'Roger_Machado', 'Roberto_Laratro', 'Robin_Wright_Penn', 'Rod_Thorn', 'Rogelio_Montemayor', 'Roger_Suarez', 'Rocco_Buttiglione', 'Roger_Daltrey', 'Robert_Vowler', 'Robert_Towne', 'Robert_Witt', 'Roberto_Tovar', 'Robert_Zoellick', 'Rodrigo_Borja', 'Roger_Penske', 'Rod_Paige', 'Roberto_Canessa', 'Roberto_Robaina', 'Roberto_Benigni', 'Robin_Williams', 'Roger_Grimes', 'Robert_Woody_Johnson', 'Roger_Moore', 'Rodrigo_de_la_Cerna', 'Roger_Staubach', 'Rodrigo_Rato', 'Robin_Cook', 'Robert_Tyrrell', 'Roberto_Arguelles', 'Roberta_Combs', 'Robert_Torricelli', 'Rodney_Dangerfield', 'Robin_Wagner', 'Rohman_al-Ghozi', 'Roland_Koch', 'Rohinton_Mistry', 'Rolf_Zimmermann', 'Rolf_Eckrodt', 'Romain_Duris', 'Rolandas_Paksas', 'Ron_Howard', 'Roy_Blunt', 'Ruben_Wolkowyski', 'Ron_Gonzales', 'Rosny_Desroches', 'Roy_Williams', 'Ron_Zook', 'Roy_Halladay', 'Ronald_Reagan', 'Ronnie_Musgrove', 'Rudi_Voeller', 'Rosario_Dawson', 'Ronaldo_Luis_Nazario_de_Lima', 'Roseanne_Barr', 'Ronald_Harwood', 'Ross_Verba', 'Ronald_White', 'Ronald_Young_Jr', 'Ruano_Pascual', 'Ronnie_Jagday', 'Rose_Linkins', 'Rose_Marie', 'Rosie_Perez', 'Rosa_Haywa_de_Condori', 'Roman_Coppola', 'Roy_Rogers', 'Romario_Farias', 'Roy_Jones_Jr', 'Ronald_Post', 'Rosemarie_Stack', 'Roman_Polanski', 'Ron_Kirk', 'Rudy_Tomjanovich', 'Ruben_Studdard', 'Roy_Chaderton', 'Ronald_Ito', 'Rudolph_Holton', 'Rosalie_Perkov', 'Ronald_Perelman', 'Ruben_Sierra', 'Roy_Romanow', 'Ron_Dittemore', 'Ronald_Kessler', 'Ronald_Brower', 'Romano_Prodi', 'Roman_Abramovich', 'Roy_Moore', 'Rowan_Williams', 'Ron_Lantz', 'Rudolf_Schuster', 'Sadam_Hassan', 'Rupert_Murdoch', 'Sabah_Al-Ahmad_Al-Jaber_Al-Sabah', 'Ruth_Stubbs', 'Ryan_Goodman', 'Russell_Coutts', 'Ryan_Drese', 'Russ_Ortiz', 'Ruth_Dreifuss', 'Ruth_Christofferson', 'Sada_Jacobson', 'S_Jayakumar', 'Rupert_Grint', 'Ruth_Harlow', 'Saburo_Kawabuchi', 'Rulon_Gardner', 'Saadi_Gadhafi', 'Russell_Simmons', 'Ruth_Pearce', 'Ryan_Newman', 'Russell_Crowe', 'Ryan_Nyquist', 'Rustu_Recber', 'Sammy_Knight', 'Sally_Field', 'Sam_Mendes', 'Sananda_Maitreya', 'Sally_Clark', 'San_Lan', 'Saeed_Mortazavi', 'Saparmurat_Niyazov', 'Saeed_Anwar', 'Sandra_Milo', 'Sanjay_Chawla', 'Sam_Gerald', 'Samira_Makhmalbaf', 'Sandra_Ceccarelli', 'Sahim_Alwan', 'Saied_Hadi_al_Mudarissi', 'Sally_Kirkland', 'Saoud_Al_Faisal', 'Sandy_Smith', 'Sami_Al-Arian', 'Saman_Shali', 'Samantha_Daniels', 'Sandy_Wise', 'Sam_Rockwell', 'Sara_Elisabeth_Ahmad', 'Sammy_Sosa', 'Salman_Rushdie', 'Sandra_Banning', 'Sam_Torrance', 'Santiago_Botero', 'Sandra_Shamas', 'Samantha_Ledster', 'Sara_Silverman', 'Sanja_Papic', 'Sadie_Frost', 'Sanjay_Gupta', 'Samuel_Waksal', 'Sally_Ride', 'Scott_Peterson', 'Sean_Combs', 'Scott_McNealy', 'Sean_Patrick_Thomas', 'Scott_Yates', 'Sebastian_Cuattrin', 'Sarah_Michelle_Gellar', 'Sargis_Sargsian', 'Scott_Sullivan', 'Sebastian_Saja', 'Scott_Hubbard', 'Scott_Dalton', 'Sasha_Cohen', 'Satnarine_Sharma', 'Scott_Dickson', 'Sean_OKeefe', 'Scott_Ritter', 'Scott_Blum', 'Sepp_Blatter', 'Scott_Wolf', 'Sarah_Wynter', 'Scott_McClellan', 'Sarah_Canale', 'Sarah_Jessica_Parker', 'Sean_Townsend', 'Scott_Wittman', 'Sarah_Weddington', 'Scott_Weiland', 'Scott_Rudin', 'Selma_Phoenix', 'Sarah_Price', 'Scott_Rolen', 'Sasha_Alexander', 'Scott_OGrady', 'Scott_Gorelick', 'Sebastian_Porto', 'Scott_Hamilton', 'Scott_Fawell', 'Sean_Patrick_OMalley', 'Sebastien_Grosjean', 'Scott_Wallach', 'Scott_Verplank', 'Sean_Astin', 'Sean_Penn', 'Serena_Karlan', 'Sereyvuth_Kem', 'Shane_Reynolds', 'Shae-Lynn_Bourne', 'Seth_Gorney', 'Shaukat_Aziz', 'Seydou_Diarra', 'Shafal_Mosed', 'Shane_Warne', 'Sergio_Castellitto', 'Serge_Melac', 'Shaul_Mofaz', 'Shawn_Marion', 'Sergei_Alexandrovitch_Ordzhonikidze', 'Severino_Antinori', 'Shannon_OBrien', 'Shawn_Bradley', 'Shane_Loux', 'Shania_Twain', 'Shannyn_Sossamon', 'Sheila_Copps', 'Sheikh_Ahmed_Yassin', 'Sergei_Ivanov', 'Sharon_Davis', 'Sharon_Stone', 'Shamai_Leibowitz', 'Shawn_Kemp', 'Serge_Klarsfeld', 'Sharon_Robinson', 'Shane_Mosley', 'Sharon_Osbourne', 'Shaun_Pollock', 'Sharess_Harrell', 'Sergei_Yastrzhembsky', 'Shanna_Zolman', 'Sheila_Taormina', 'Shinzo_Abe', 'Shi_Guangsheng', 'Sheila_Wellstone', 'Sid_Caesar', 'Shobha_De', 'Shingo_Katayama', 'Sheryl_Crow', 'Shigeo_Nagashima', 'Silvie_Cabero', 'Shia_LaBeouf', 'Sidney_Poitier', 'Sherry_Irving', 'Sila_Calderon', 'Silvan_Shalom', 'Shimon_Peres', 'Shinya_Taniguchi', 'Sherry_Fisher', 'Sherri_Coale', 'Sheila_Fraser', 'Shigeru_Ishiba', 'Sidney_Kimmel', 'Shoshana_Johnson', 'Shoshannah_Stern', 'Shireen_Amir_Begum', 'Shirley_Jones', 'Shingo_Suetsugu', 'Sophia_Loren', 'Sonia_Gandhi', 'Sonya_Walger', 'Skip_Prosser', 'Sok_An', 'Sofyan_Dawood', 'Simon_Cowell', 'Sivan_Klein', 'Simon_Chalk', 'Sohail_Abbas', 'Sim_Yong', 'Sinead_OConnor', 'Soenarno', 'Sourav_Ganguly', 'Simon_Larose', 'Silvio_Fernandez', 'Simona_Hradil', 'Sofia_Milos', 'Sonia_Lopez', 'Slobodan_Milosevic', 'Soon_Yi', 'Sonja_Kesselschlager', 'Stephen_Ambrose', 'Stephan_Eberharter', 'Stacey_Jones', 'Stephen_Frears', 'Stephen_Cooper', 'Stephen_Crampton', 'Stephen_Webster', 'Spike_Jonze', 'Stefan_Holm', 'Stanley_Ho', 'Stefano_Accorsi', 'Stephen_Ebberharter', 'Stephen_Joseph', 'Stacy_Nelson', 'Stanley_Tong', 'Steve_Alford', 'Stan_Kasten', 'Stephen_Daldry', 'Stan_Heath', 'Steve_Allan', 'Stella_Tennant', 'Stanley_McChrystal', 'Stacey_Dales-Schuman', 'Stephen_Funk', 'Stacey_Yamaguchi', 'Stephen_Arigbabu', 'Stephanie_Cohen_Aloro', 'Steve-O', 'Stanislas_Wawrinka', 'Stepan_Demirchian', 'Stephen_Oake', 'Steve_Backley', 'Stephen_Covey', 'Stefan_Koubek', 'Stefano_Basalini', 'Stefanie_De_Roux', 'Steve_Allee', 'Stella_McCartney', 'Stephane_Rochon', 'Stanley_Nelson', 'Stephen_Friedman', 'Stephen_Keener', 'Steve_Austin', 'Stacy_Dragila', 'Stephen_Push', 'Stellan_Skarsgard', 'Stephanie_Moore', 'Stephane_Rousseau', 'Stefano_Gabbana', 'Stella_Keitel', 'Steny_Hoyer', 'Stephen_Thompson', 'Spike_Lee', 'Steffeny_Holtz', 'Stephen_Silas', 'Spike_Helmick', 'Stefaan_Declerk', 'Steve_Karsay', 'Steve_Pagliuca', 'Steve_Blankenship', 'Steve_Cutler', 'Steve_Lenard', 'Steve_Blake', 'Steve_Coterill', 'Steve_Cox', 'Steve_Nesbitt', 'Steve_Mariucci', 'Steve_McManaman', 'Steve_Largent', 'Steve_Kerr', 'Steve_Lavin', 'Steve_Nash', 'Steve_Coogan', 'Steve_Fehr', 'Susan_Collins', 'Steve_Waugh', 'Steve_Phillips', 'Steven_Hatfill', 'Steve_Wariner', 'Steven_Curtis_Chapman', 'Sultan_Qaboos', 'Suh_Young-hoon', 'Steven_Kinlock', 'Steve_Zahn', 'Steve_Stirling', 'Sun_Myung_Moon', 'Sue_Johnston', 'Steve_Valentine', 'Sung_Hong_Choi', 'Sue_Slavec', 'Strom_Thurmond', 'Sue_Wicks', 'Surya_Bahadur_Thapa', 'Suk_Chung_Hong', 'Stuart_Whitman', 'Steve_Rush', 'Steve_Patterson', 'Surakait_Sathirathai', 'Supachai_Panitchpakdi', 'Sureyya_Ayhan', 'Susan_Sarandon', 'Steven_Feldman', 'Steven_Briggs', 'Steve_Park', 'Steve_Peace', 'Steve_Redgrave', 'Stipe_Mesic', 'Steven_Craig', 'Steve_Spurrier', 'Stuart_Knoll', 'Steven_Seagal', 'Suh_Chung-won', 'Sue_Guevara', 'Stuart_Townsend', 'Sven_Goran_Eriksson', 'Tamara_Brooks', 'Syed_Ibrahim', 'Tab_Baldwin', 'Suzanne_Somers', 'Tassos_Papadopoulos', 'Sylvia_Plachy', 'Tara_Kirk', 'Tanya_Holyk', 'Takuma_Sato', 'Sylvie_Guillem', 'Suzanne_Fox', 'Takeo_Hiranuma', 'Tara_VanDerveer', 'Talal_Keenaan', 'Sushma_Swaraj', 'Svend_Robinson', 'Svend_Aage_Jensby', 'Tara_Reid', 'Sven_Ottke', 'Tariq_Aziz', 'Taia_Balk', 'Suzanne_Gaudet', 'Tamara_Stokes', 'Talisa_Bratt', 'Tamika_Catchings', 'Susan_Walvius', 'Tab_Turner', 'Takashi_Yamamoto', 'TJ_Ford', 'Susan_Whelan', 'Susie_Castillo', 'Takeo_Fukui', 'Tabare_Vazquez', 'Suzie_McConnell_Serio', 'Svetlana_Koroleva', 'Suzanne_Haik_Terrell', 'Syed_Abdul_Rahman_Geelani', 'Svetoslav_Todorov', 'Tammy_Lynn_Michaels', 'Takenori_Kanzaki', 'Suzanne_Mubarak', 'Tara_Dawn_Christensen', 'Tanya_Lindenmuth', 'Tangra_Riggle', 'Tamara_Mowry', 'Tammy_Helm', 'T_Boone_Pickens', 'Takeshi_Kitano', 'Susilo_Bambang_Yudhoyono', 'Sybille_Schmid', 'Tali_Imani', 'Suzanne_Torrance', 'Takaloo', 'Talisa_Soto', 'Takashi_Sorimachi', 'Svetlana_Belousova', 'Taoufik_Mathlouthi', 'Taylyn_Solomon', 'Tatjana_Gsell', 'Taufik_Hidayat', 'Tatiana_Kennedy_Schlossberg', 'Tavis_Smiley', 'Tayshaun_Prince', 'Tatiana_Paus', 'Tayyeb_Abdel_Rahim', 'Tatiana_Shchegoleva', 'Tatyana_Tomashova', 'Taufik_Kiemas', 'Ted_Maher', 'Teri_ORourke', 'Teri_Garr', 'Tessa_Jowell', 'Ted_Christopher', 'Terrell_Suggs', 'Terry_Semel', 'Thad_Matta', 'Ted_Nolan', 'Teresa_Worbis', 'Ted_Washington', 'Teresa_Williams', 'Ted_Costa', 'Teresa_Heinz_Kerry', 'Thabo_Mbeki', 'Tex_Ritter', 'Terry_Bradshaw', 'Terence_Newman', 'Terry_Lynn_Barton', 'Terri_Clark', 'Teresa_Graves', 'Ted_Turner', 'Terrence_Kiel', 'Teruaki_Masumoto', 'Terry_Stotts', 'Terje_Roed-Larsen', 'Teddy_Kollek', 'Terry_Gilliam', 'Terrence_Trammell', 'Tiffany_Limos', 'Thomas_Weston', 'Tim_Lopes', 'Thomas_Daily', 'Thor_Pedersen', 'Thomas_Ferguson', 'Thomas_Kelly', 'Tiago_Splitter', 'Tim_Jones', 'Thalia', 'Tim_Curry', 'Theo_Epstein', 'Thomas_Enqvist', 'Tim_Chapman', 'Tian_Liang', 'Thomas_Franklin', 'Tian_Zhuang_Zhuang', 'Thomas_Day', 'Tim_Matheson', 'Thomas_Malchow', 'Thomas_Haeggstroem', 'Thomas_Gottschalk', 'Thomas_Mesereau_Jr', 'Thomas_Van_Essen', 'Tim_Howard', 'Thanongsak_Tuvinan', 'Tim_Duncan', 'Thomas_Fargo', 'Thomas_Ulrich', 'Tim_Allen', 'Thomas_Cloyd', 'Thomas_Wyman', 'Tia_Mowry', 'Theodore_Tweed_Roosevelt', 'Tim_Lobinger', 'Thomas_Klestil', 'Thomas_Scavone', 'Theresa_Gattung', 'Tim_Curley', 'Tim_Conway', 'Thaksin_Shinawatra', 'Thierry_Mariani', 'Theo_Angelopoulos', 'Thomas_Manger', 'Thomas_Wilkens', 'Tim_Floyd', 'Thomas_Birmingham', 'Thomas_Bjorn', 'Thierry_Falise', 'Timothy_Rigas', 'Tina_Conner', 'Tim_Pawlenty', 'Tina_Brown', 'Timothy_Goebel', 'Timothy_Coughlin', 'Timbul_Silaen', 'Tim_Welsh', 'Tim_Robbins', 'Tim_Salmon', 'Timothy_Wirth', 'Tim_Norbeck', 'Tina_Andrews', 'Timothy_McVeigh', 'Tirunesh_Dibaba', 'Tom_Crean', 'Toby_Keith', 'Tom_Brady', 'Todd_Reid', 'Tom_Brennan', 'Tom_Amstutz', 'Tino_Martinez', 'Todd_MacCulloch', 'Tom_Curley', 'Tom_Coughlin', 'Tom_Craddick', 'Todd_Wike', 'Todd_Petit', 'Tom_Coverdale', 'Tocker_Pudwill', 'Tina_Sinatra', 'Tom_Christerson', 'Tom_Jones', 'Tom_Miller', 'Tom_Hanusik', 'Tom_Reilly', 'Tommy_Amaker', 'Tom_Izzo', 'Tom_Watson', 'Tom_Osborne', 'Tomas_Enge', 'Tom_McClintock', 'Tom_Schnackenberg', 'Tomas_Malik', 'Tom_Welch', 'Tom_OBrien', 'Tom_Tunney', 'Tonga', 'Tom_Harkin', 'Tommy_Tubberville', 'Tom_Lantos', 'Tom_Gamboa', 'Tom_Sizemore', 'Tommy_Lasorda', 'Tommy_Lewis', 'Tom_Foy', 'Tomomi_Morita', 'Tommy_Robredo', 'Tommy_Haas', 'Tom_Kelly', 'Tom_Scully', 'Tom_Poston', 'Tom_Smothers', 'Tom_Koenigs', 'Tony_Bennett', 'Toni_Braxton', 'Toni_Jennings', 'Tonino_Guerra', 'Tono_Suratman', 'Toshi_Izawa', 'Tony_Curtis', 'Toshihiko_Fukui', 'Toutai_Kefu', 'Tony_Fernandes', 'Travis_Rudolph', 'Tracee_Treadwell', 'Tony_Stewart', 'Tony_Cummo', 'Tony_Shalhoub', 'Tony_Parker', 'Tony_Clement', 'Tony_Elias', 'Tracy_McGrady', 'Tracee_Ellis_Ross', 'Torri_Edwards', 'Tracy_Wyle', 'Tonya_Payne', 'Tori_Amos', 'Tony_LaRussa', 'Tora_Takagi', 'Turner_Stevenson', 'Tubby_Smith', 'Turner_Gill', 'Trisha_Meili', 'Troy_Aikman', 'Troy_Garity', 'Trista_Rehn', 'Trevor_McDonald', 'Tuncay_Sanli', 'Troy_Polamalu', 'Trevor_Watson', 'Ty_Votaw', 'Troy_Jenkins', 'Troy_Hudson', 'Trudi_Lacey', 'Victor_Hanescu', 'Uma_Thurman', 'Vanessa_Redgrave', 'Uri_Lopolianski', 'Vadim_Devyatovskiy', 'Tyrone_Medley', 'Van_Hilley', 'Val_Ackerman', 'Uzi_Landau', 'Valeri_Bure', 'Valerie_Thwaites', 'Ulrich_Kueperkoch', 'Vicente_Fox_de_la_Concha', 'Veronica_Lake', 'Valentina_Cervi', 'Victor_Garber', 'Tyron_Garner', 'Uday_Hussein', 'Tyler_Grillo', 'Vecdi_Gonul', 'Uzi_Even', 'Vagit_Alekperov', 'Vanessa_Laine', 'Vassilis_Xiros', 'Vanessa_Incontrada', 'Uthai_Pimchaichon', 'Vicente_Fernandez', 'Vicki_Zhao_Wei', 'Urmila_Matondkar', 'Vadim_Strogalev', 'Vaclav_Klaus', 'Vanessa_Williams', 'Valery_Giscard_dEstaing', 'Valdas_Adamkus', 'Valentino_Rossi', 'Valorie_Brabazon', 'Viara_Vike-Freiberga', 'Victor_Kraatz', 'Vincent_Cianci_Jr', 'Vidar_Helgesen', 'Vijay_Nambiar', 'Victoria_Beckham', 'Viktor_Yushchenko', 'Victoria_Clarke', 'Vin_Diesel', 'Vince_Dooley', 'Vincent_Brooks', 'Vince_Gill', 'Vince_Vaughan', 'Vince_Carter', 'Vincent_Spadea', 'Vladimir_Meciar', 'Viola_Davis', 'Vivica_Fox', 'Vinnie_Jones', 'Virgina_Ruano_Pascal', 'Vladimir_Golovlyov', 'Vyacheslav_Fetisov', 'Wanda_de_la_Jesus', 'Wayne_Brady', 'Wang_Yi', 'Wang_Yingfan', 'Vladimir_Voltchkov', 'Vojislav_Kostunica', 'Wilbert_Elki_Meza_Majino', 'Wesley_Clark', 'Walter_Woods', 'Wen_Ho_Lee', 'Walid_Al-Awadi', 'Vytas_Danelius', 'Wally_Szczerbiak', 'Wang_Nan', 'Wayne_Gretzky', 'Whoopi_Goldberg', 'Vladimiro_Montesinos', 'Wayne_Ferreira', 'Walt_Harris', 'Vladimir_Spidla', 'Warren_Truss', 'Wan_Yanhai', 'Wendy_Selig', 'Vojislav_Seselj', 'Vladimir_Ustinov', 'Wang_Hailan', 'Warren_Granados', 'Wendell_Bryant', 'Wes_Craven', 'Wendy_Kennedy', 'Warren_Beatty', 'Walter_Annenberg', 'Wei_Wu', 'Ward_Cuff', 'Wallace_Capel', 'Wang_Fei', 'Warren_Buffett', 'Wayne_Newton', 'William_Ford_Jr', 'William_Bratton', 'William_Hochul', 'William_Donaldson', 'William_Delahunt', 'William_Cocksedge', 'William_Hurt', 'Will_Self', 'William_Bulger', 'William_Joppy', 'William_Harrison', 'Will_Ferrell', 'William_Jackson', 'William_Martin', 'Will_Ofenheusle', 'Will_Smith', 'William_Genego', 'William_Burns', 'Will_Young', 'Wilbert_Foy', 'Wilfredo_Moreno', 'William_Macy', 'William_McDonough', 'William_Rosenberg', 'Wim_Duisenberg', 'William_Ragland', 'William_Nessen', 'William_Murabito', 'William_Perry', 'William_Pryor_Jr', 'William_Shatner', 'Wolfgang_Clement', 'Willie_Nelson', 'Wolfgang_Schuessel', 'William_Overlin', 'Wilton_Gregory', 'William_Umbach', 'Win_Aung', 'Wilson_Alvarez', 'William_Rehnquist', 'Wilma_McNabb', 'Wolfgang_Schneiderhan', 'William_Webster', 'Winston_Churchill', 'Willis_Roberts', 'Wolfgang_Becker', 'William_Swor', 'William_Morrow', 'Wolfgang_Schwarz', 'Xavier_Malisse', 'Zavad_Zarif', 'Yann_Martel', 'Zahir_Shah', 'Yannos_Papantoniou', 'Zach_Parise', 'Yolanda_King', 'Xiang_Xu', 'Yashwant_Sinha', 'Zach_Safrin', 'Xiang_Liu', 'Yuvraj_Singh', 'Xiang_Huaicheng', 'Yuri_Luzhkov', 'Yoon_Jeong_Cho', 'Yasein_Taher', 'Zelma_Novelo', 'Yukio_Hatoyama', 'Yusuf_Misbac', 'Zeljko_Rebraca', 'Yang_Pao-yu', 'Ximena_Bohorquez', 'Yao_Ming', 'Zhang_Yimou', 'Zach_Pillar', 'Yuri_Malenchenko', 'Young_Kim', 'Zara_Akhmadova', 'Yory_Boy_Campas', 'Yu_Shyi-kun', 'Zhang_Wenkang', 'Yogi_Berra', 'Yossi_Beilin', 'Wu_Peng', 'Yoelbi_Quesada', 'Yana_Klochkova', 'Yves_Brodeur', 'Zdravko_Mucic', 'Yasser_Arafat', 'Yoon_Won-Sik', 'Xanana_Gusmao', 'Yang_Jianli', 'Yale_Kamisar', 'Woodrow_Stanley', 'Wycliffe_Grousbeck', 'Yoon_Jin-Sik', 'Yoko_Ono', 'Zafarullah_Khan_Jamali', 'Yuri_Fedotov', 'Yasar_Yakis', 'Yishan_Zhang', 'Yoo_Jay-Kun', 'Woody_Allen', 'Yasushi_Chimura', 'Yekaterina_Guseva', 'Zeng_Qinghong', 'Yingfan_Wang', 'Yoon_Young-kwan', 'Wu_Yi', 'Zakia_Hakki', 'Yang_Hee_Kim', 'Zaini_Abdullah', 'Yevgeny_Kafelnikov', 'Zumrati_Juma', 'Ziwang_Xu', 'Zulfiqar_Ahmed', 'Zoran_Djindjic', 'Zhang_Ziyi', 'Zinedine_Zidane', 'Zoe_Ball', 'Zurab_Tsereteli', 'Zydrunas_Ilgauskas', 'Maribel_Dominguez', 'Mario_Gallegos', 'Maria_Simon', 'Marion_Barry', 'Mariangel_Ruiz_Torrealba', 'Mark_Mariscal', 'Mark_Gangloff', 'Mark_Andrew', 'Marina_Silva', 'Marie-Reine_Le_Gougne', 'Mario_Cipollini', 'Mark_Geragos', 'Mariana_Gonzalez', 'Mariam_Ali_Hassan', 'Mark_Mulder', 'Marina_Kuptsova', 'Mark_Leno', 'Mark_Komara', 'Mark_Redman', 'Mark_McClellan', 'Mario_Alfaro-Lopez', 'Marilyn_Monroe', 'Mario_Lobo_Zagallo', 'Mariano_Zabaleta', 'Mark_Hamister', 'Maria_Soledad_Alvear_Valenzuela', 'Marion_Fahnestock', 'Mark_Sacco', 'Marieta_Chrousala', 'Marisol_Breton', 'Mark_Martin', 'Mark_Hurlbert', 'Mark_Cuban', 'Mark_Polansky', 'Mark_Mishkin', 'Mark_Bellhorn', 'Marina_Anissina', 'Mario_Jardel', 'Mario_Vasquez_Rana', 'Mario_Puzo', 'Mark_Hanson', 'Mario_Dominguez', 'Maria_Sanchez_Lorenzo', 'Mark_Podlesny', 'Marisa_Tomei', 'Mark_Lazarus', 'Mark_Richt', 'Mark_Rosenbaum', 'Maria_Guida', 'Marissa_Jaret_Winokur', 'Marianne_Stanley', 'Mark_Dacey', 'Mark_Broxmeyer', 'Maria_Wetterstrand', 'Mark_Gottfried', 'Mariah_Carey', 'Maria_Shriver', 'Mark_Heller', 'Mario_Austin', 'Mariana_Pollack', 'Marian_Dolan', 'Mark_Foley', 'Mark_Kelly', 'Marlon_Devonish', 'Mark_Shapiro', 'Markus_Naslund', 'Mark_Schweiker', 'Mark_Warner', 'Mark_Swartz', 'Mark_Salter', 'Mark_Stuart', 'Markus_Beyer', 'Martin_Landau', 'Mary_Frances_Seiter', 'Marta_Dominguz', 'Martha_Stewart', 'Martha_Beatriz_Roque', 'Mary_Descenza', 'Mary_Landrieu', 'Mary_Steenburgen', 'Mary_Lou_Markakis', 'Mary_Hill', 'Martin_Torrijos', 'Mary_McCarty', 'Martin_McCauley', 'Marsha_Thomason', 'Martha_Burk', 'Martin_Howard', 'Martha_Sahagun_de_Fox', 'Martin_Luther_King_III', 'Mary_Matalin', 'Martin_Frost', 'Marwan_Muasher', 'Mary_Blige', 'Martina_Hingis', 'Mary_Zorn', 'Martin_Brodeur', 'Martha_Martinez_Flores', 'Marty_Mornhinweg', 'Martha_Lucia_Ramirez', 'Mary_Elizabeth_Mastrantonio', 'Martin_Scorsese', 'Mary_Carey', 'Martin_Verkerk', 'Marricia_Tate', 'Martin_McGuinness', 'Marquis_Estill', 'Mary_Robinson', 'Mary_Bono', 'Martina_McBride', 'Marvan_Atapattu', 'Mary_Catherine_Correll', 'Mary-Kate_Olsen', 'Martin_Gecht', 'Martin_ONeill', 'Mary_Maddux', 'Martin_Kristof', 'Martie_Maguire', 'Martha_Smith', 'Maryn_McKenna', 'Mary_Tyler_Moore', 'Mary_Lou_Retton', 'Marwan_Barghouthi', 'Marsah_Ambrosius', 'Martin_Boryczewski', 'Martin_Lawrence', 'Matt_Roney', 'Matt_Herden', 'Matthew_Perry', 'Matt_Walters', 'Masatoshi_Koshiba', 'Masum_Turker', 'Mauricio_Macri', 'Mathilda_Karel_Spak', 'Mauricio_Pochetino', 'Mathias_Reichhold', 'Meg_Mallon', 'Masamori_Tokuyama', 'Masaru_Hayami', 'Matthew_Ouimet', 'Matt_Welsh', 'Max_Baucus', 'Matthew_During', 'Matt_Doherty', 'Megan_Mullally', 'Matthew_McConaughey', 'Massoud_Barzani', 'Maura_Tierney', 'Matt_LeBlanc', 'Mauro_Viza', 'Matthias_Sammer', 'Maxim_Afinogenov', 'Matt_Dillon', 'Matt_Morris', 'Matt_Braker', 'Matt_Siebrandt', 'Matthew_Vaughan', 'Max_von_Sydow', 'Max_Biaggi', 'Masahiko_Nagasawa', 'Max_Mayfield', 'Maureen_Kanka', 'Matt_Anderson', 'Maurice_Papon', 'Max_Mosley', 'Maureen_Fanning', 'Masja_Juel', 'Maurice_Cheeks', 'Maurice_Strong', 'Mayumi_Moriyama', 'Matt_Damon', 'Meg_Wakeman', 'Mel_Gibson', 'Michael_Arif', 'Meirion_Evans', 'Michael_Andretti', 'Melissa_Mulloy', 'Mercedes_Amor', 'Michael_Ballack', 'Mehmet_Okur', 'Michael_Bolton', 'Michael_Caine', 'Melissa_Manchester', 'Mel_Brooks', 'Mesut_Yilmaz', 'Mehmet_Ali_Sahin', 'Michael_Adams', 'Melchor_Cob_Castro', 'Michael_Capellas', 'Michael_Bouchard', 'Mia_Mottley', 'Meghann_Shaughnessy', 'Michael_Boyce', 'Mekhi_Phifer', 'Micah_Knorr', 'Melanie_Griffith', 'Melissa_Stark', 'Melissa_Gilbert', 'Melvin_Talbert', 'Melana_Scantlin', 'Mian_Khursheed_Mehmood_Kasuri', 'Meles_Zenawi', 'Mel_Karmazin', 'Michael_Chang', 'Michael_Broad', 'Melinda_Czink', 'Michael_Douglas', 'Michael_McNeely', 'Michael_DeMinico', 'Michael_Phelps', 'Michael_Haneke', 'Michael_Lopez-Alegria', 'Michael_Chertoff', 'Michael_Hagee', 'Michael_Linscott', 'Michael_Fitzgerald', 'Michael_Jasny', 'Michael_Donovan', 'Michael_Milton', 'Michael_Kahn', 'Michael_Leavitt', 'Michael_Hoffa', 'Michael_Pfleger', 'Michael_Killeen', 'Michael_Diekmann', 'Michael_Doleac', 'Michael_Patrick_King', 'Michael_Lechner', 'Michael_Guiler', 'Michael_Frayn', 'Michael_Piuze', 'Michael_Olowokandi', 'Michael_Chiklis', 'Michael_Deutsch', 'Michael_J_Fox', 'Michael_Kostelnik', 'Michael_Munoz', 'Michael_Clarke_Duncan', 'Michael_Friedman', 'Michael_Michele', 'Michael_Moore', 'Michael_Denzel', 'Michael_Keaton', 'Michael_Goldrich', 'Michael_Kirby', 'Michael_J_Sheehan', 'Michael_Peat', 'Michael_Powell', 'Michael_Rolinee', 'Michelle_Hofland', 'Miguel_Angel_Rodriguez', 'Mick_McCarthy', 'Michelle_Yeoh', 'Mike_Easley', 'Michelle_Collins', 'Mike_Helton', 'Michael_Stark', 'Micky_Ward', 'Michael_Smith_Foster', 'Mike_Fisher', 'Michelle_Branch', 'Mickey_Loomis', 'Michael_Taylor', 'Mike_Holmgren', 'Mike_Flanagan', 'Miguel_Juarez_Perez', 'Mike_Krzyzewski', 'Miguel_Hakim', 'Mickey_Sherman', 'Michael_Sullivan', 'Michelle_Lecky', 'Michel_Duclos', 'Miguel_Rosseto', 'Michel_Therrien', 'Michael_Winterbottom', 'Mika_Hakkinen', 'Michael_Sheehan', 'Michel_Temer', 'Miguel_Jimenez', 'Mike_Johanns', 'Micheal_Jourdain_Jr', 'Miguel_Cotto', 'Michelle_Kwan', 'Michalis_Chrisohoides', 'Michael_Weiss', 'Michel_Minard', 'Miguel_Contreras', 'Michelle_Bachelet', 'Michelle_Pfeiffer', 'Mike_Alden', 'Michele_Placido', 'Michael_Shane_Jolly', 'Mick_Jagger', 'Mike_Brey', 'Michelle_Chiklis', 'Mickey_Rooney', 'Mike_Bair', 'Michelle_Rodriguez', 'Michelangelo_Antonioni', 'Michel_Charles_Chretien', 'Mike_Gable', 'Mike_Bryan', 'Miguel_Aldana_Ibarra', 'Mickey_Gilley', 'Mike_Babcock', 'Mike_Cunning', 'Miguel_Estrada', 'Michael_Wayne', 'Mike_Miller', 'Mike_Matheny', 'Mikulas_Dzurinda', 'Mike_Matthews', 'Mikhail_Wehbe', 'Mike_Price', 'Mike_Martz', 'Mike_Thibault', 'Mike_Leach', 'Mikhail_Shvydkoi', 'Mike_Stefanik', 'Mike_Webster', 'Mike_Szymanczyk', 'Mike_Tyson', 'Mike_Scioscia', 'Mikhail_Khodorkovsky', 'Mike_Tice', 'Mike_Montgomery', 'Mike_Myers', 'Mike_Sweeney', 'Mike_Samp', 'Mikhail_Youzhny', 'Mike_Richter', 'Mikhail_Kasyanov', 'Missy_Crider', 'Miranda_Gaddis', 'Mireille_Jospin-Dandieu', 'Mitch_Kupchak', 'Miles_Stewart', 'Mitt_Romney', 'Miroljub', 'Milo_Djukanovic', 'Mitsou_Gelinas', 'Minnie_Driver', 'Milan_Milutinovic', 'Milton_Berle', 'Mireya_Moscoso', 'Mitchell_McLaughlin', 'Mireya_Elisa_Moscoso_Rodriguez', 'Mitchell_Potter', 'Mile_Mrksic', 'Milo_Maestrecampo', 'Millicent_Martin', 'Misty_Dawn_Clymer', 'Milton_Wynants', 'Mirela_Manjani', 'Milt_Palacio', 'Mira_Sorvino', 'Mitchell_Garabedian', 'Mitoji_Yabunaka', 'Mohammed_Abulhasan', 'Mohammed_Al_Hindi', 'Momir_Nikolic', 'Mother_Teresa', 'Monte_Kiffin', 'Mohamed_Benaissa', 'Moshe_Katsav', 'Mohammed_Dahlan', 'Mohamed_Hammam', 'Monique_Garbrecht-Enfeldt', 'Molly_Sims', 'Monica_Lewinsky', 'Mukhtar_Alytnbayev', 'Mo_Elleithee', 'Mona_Ayoub', 'Muffet_McGraw', 'Mohammad_Aktar', 'Mstislav_Rostropovich', 'Mohammaed_Ahmad_Al_Jarallah', 'Morgan_Freeman', 'Mohammed_Baqir_al-Hakim', 'Mohammad_Al-Sharief', 'Monique_Gagnon-Tremblay', 'Moby', 'Morris_Dees', 'Nadia_Forte', 'Muhammad_Ibrahim_Bilal', 'Nabil_Shaath', 'Morris_Watts', 'Mitzi_Gaynor', 'Mona_Rishmawi', 'Myung_Yang', 'Mukesh_Ambani', 'Ms_Dynamite', 'Mona_Locke', 'Munir_Akram', 'Morgan_Fairchild', 'Nadia_Petrova', 'Monique_Ferreira', 'Mohammad_Mustapha_Miro', 'Monica_Bellucci', 'Miyako_Miyazaki', 'Morgan_Hentzen', 'Monica_Serra', 'Muhammad_Saeed_al-Sahhaf', 'Mohammed_Ashraf_Hafiz', 'Mohamed_ElBaradei', 'Mohammed_Mehdi_Saleh', 'Monica_Gabrielle', 'Mohammad_Hasanein', 'Monica_Seles', 'Monica_Vergara', 'Muwafak_al-Ani', 'Na_Na_Keum', 'Moon-So-ri', 'Muammar_Gaddafi', 'Mladen_Naletilic', 'Mufti_Mohammad_Syed', 'Mohammed_Salmane', 'Namuddu_Florence', 'Najib_al-Salhi', 'Naji_Sabri', 'Nadine_Vinzens', 'Nancy_Reagan', 'Nancy_Sinatra', 'Nanni_Moretti', 'Nancy_Demme', 'Nancy_Smith', 'Naomi_Hayashi', 'Nancy_Greenlaw', 'Nancy_Humbert', 'Nan_Wang', 'Naomi_Bronstein', 'Nelson_Shanks', 'Newt_Gingrich', 'Narendra_Modi', 'Natalia_Verbeke', 'Natalya_Sazanovich', 'Nathan_Lane', 'Nathan_Smith', 'Nastia_Liukin', 'Nebojsa_Pavkovic', 'Natasha_Lyonne', 'Nate_Hybl', 'Natanaela_Barnova', 'Nelson_Mandela', 'Nathan_Doudney', 'Neil_Goldman', 'Nathalie_Gagnon', 'Nasser_al-Kidwa', 'Natalie_Cole', 'Nathalie_Baye', 'Natasha_Henstridge', 'Nawabzada_Nasrullah_Khan', 'Niall_Connolly', 'Natasa_Micic', 'Natalie_Juniardi', 'Natalia_Vodonova', 'Natalie_Coughlin', 'Nathan_Powell', 'Neri_Marcore', 'Nathalia_Gillot', 'Nathalie_Dechy', 'Nathirah_Hussein', 'Natasha_McElhone', 'Nia_Vardalos', 'Narayan_Singh_Pun', 'Neil_Moritz', 'Natalia_Dmitrieva', 'Nate_Blackwell', 'Nestor_Gonzalez', 'Natalie_Maines', 'Natalie_Imbruglia', 'Nastassia_Kinski', 'Newton_Carlton_Slawson', 'Nate_Huffman', 'Naoto_Kan', 'Natalie_Stewart', 'Nestor_Santillan', 'Natalia_Motuziuk', 'Nick_Markakis', 'Nick_Rahall', 'Nick_Price', 'Nicholas_Tse', 'Nick_Cassavetes', 'Nicholas_Byron', 'Nick_Nolte', 'Nicolas_Escude', 'Nicolas_Kiefer', 'Nizar_Trabelsi', 'Nikki_Reed', 'Nicolas_Eyzaguirre', 'Nick_Rimando', 'Nikolay_Davydenko', 'Nicole_Hiltz', 'Noelle_Bush', 'Nikki_Teasley', 'Nicklas_Lidstrom', 'Nicolas_Latorre', 'Nila_Ferran', 'Nobuyuki_Idei', 'Nicolas_Sarkozy', 'Nick_Turner', 'Noor_Mohammed', 'Nicole', 'Nova_Esther_Guthrie', 'Nicolas_Cage', 'Nina_Pecari', 'Noer_Moeis', 'Noah_Wyle', 'Nino_DAngelo', 'Nona_Gaye', 'Noel_Forgeard', 'Norman_Jewison', 'Norbert_van_Heyst', 'Norman_Mailer', 'Normand_Legault', 'Noel_Niell', 'Nikki_Cascone', 'Nicola_Bono', 'Nicole_Parker', 'Nora_Ephron', 'Norman_Mineta', 'Noer_Muis', 'Nur_Jaafar', 'Norm_Coleman', 'Nicolas_Massu', 'Nuon_Chea', 'Norodom_Chakrapong', 'Nicolas_Macrozonaris', 'Norio_Ohga', 'Norm_Macdonald', 'Nida_Blanca', 'Olivier_Rochus', 'Oliver_Neuville', 'Osama_bin_Laden', 'Owen_Wilson', 'Olympia_Dukakis', 'Odilia_Collazo', 'Omar_Sharif', 'Ozzie_Smith', 'Oswald_Gruebel', 'Olesya_Bonabarenko', 'Oracene_Williams', 'Odai_Hussein', 'OJ_Simpson', 'Otto_Reich', 'Oscar_Elias_Biscet', 'Owen_Nolan', 'Olivera_Labus', 'Oswaldo_Paya', 'Orlando_Bloom', 'Oscar_de_la_Renta', 'Omar_Vizquel', 'Omar_Khan_Sharif', 'Olivier_Boulay', 'Oscar_Bolanos', 'Omar_el-Heib', 'Oliver_Stone', 'Padraig_Harrington', 'Oprah_Winfrey', 'Octavio_Lara', 'Osmond_Smith', 'Pa_Kou_Hang', 'Paddy_Long', 'Oleksandr_Moroz', 'Oleg_Romantsev', 'Pablo_Khulental', 'Olivia_Newton-John', 'Ontario_Lett', 'Orrin_Hatch', 'Oscar_De_La_Hoya', 'Otto_Schily', 'Paek_Nam_Sun', 'Ozzy_Osbourne', 'Oxana_Fedorova', 'Oscar_DLeon', 'Pablo_Latras', 'Paddy_Torsney', 'Oliver_Phelps', 'Park_Jung_Sung', 'Patrick_Bourrat', 'Pat_Wharton', 'Patricia_Hearst', 'Pascal_Quignard', 'Patrick_McEnroe', 'Parthiv_Patel', 'Pat_Burns', 'Patricia_Russo', 'Patrick_Eaves', 'Patricia_Medina', 'Patrick_Roy', 'Paola_Espinoza', 'Patricia_Garone', 'Patrick_Dennehy', 'Parris_Glendening', 'Pamela_Anderson', 'Patricia_Johnson', 'Patrick_Kron', 'Pat_Summerall', 'Paris_Hilton', 'Pascal_Lamy', 'Pat_DAmuro', 'Patrick_Ewing', 'Pamela_Melroy', 'Patrick_Rafter', 'Patrick_Clawsen', 'Pascal_Rheaume', 'Pat_Rochester', 'Patrick_Leahy', 'Patricia_Clarkson', 'Patrice_Chereau', 'Park_Na-kyong', 'Pat_Cox', 'Pak_Gil_Yon', 'Park_Jie-won', 'Paul_Clark', 'Paul_Lockhart', 'Patty_Duke', 'Patti_Lank', 'Paul_McCartney', 'Paul_Byrd', 'Paul_Newman', 'Paul_Kariya', 'Patti_Smith', 'Patsy_Mink', 'Paul_Ebert', 'Paul_Kelleher', 'Paul_Murphy', 'Paul_Farley', 'Paul_Greengrass', 'Paul_Luvera', 'Paul_Kagame', 'Paul_Cerjan', 'Paul_Reiser', 'Paul_Johnson', 'Paul_Patton', 'Paul_Hogan', 'Patrick_Stewart', 'Patti_Labelle', 'Paul_Schrader', 'Paul_Pierce', 'Paul_Gascoigne', 'Paul_Lo_Duca', 'Paul_Gannon', 'Paul_Shanley', 'Patrik_Kristiansson', 'Paul_Otellini', 'Paul_Desmarais', 'Patsy_Kensit', 'Paul-Henri_Mathieu', 'Paul_Krueger', 'Paul_Michael_Daniels', 'Paul_Li_Calsi', 'Patti_Balgojevich', 'Paul_Martin', 'Paul_Crake', 'Patsy_Hardy', 'Paul_McNulty', 'Patty_Sheehan', 'Paul_Henderson', 'Paul_Brandt', 'Paul_Coppin', 'Paul_Bettany', 'Paul_Tagliabue', 'Paul_Wals', 'Paul_Tracy', 'Paul_Walker', 'Paul_Vathis', 'Pauline_Phillips', 'Paula_Abdul', 'Pele', 'Paula_Prentiss', 'Peter_Arnett', 'Perry_Gibbs', 'Peter_Albertsen', 'Pedro_Mahecha', 'Pete_Gillen', 'Perri_Shaw', 'Peter_Ahearn', 'Pete_Carroll', 'Pauline_Landers', 'Paulie_Ayala', 'Paul_Wilson', 'Penelope_Taylor', 'Paula_Dobriansky', 'Pedro_Alvarez', 'Pedro_Martinez', 'Paula_Radcliffe', 'Paulina_Rodriguez_Davila', 'Paula_Zahn', 'Penelope_Ann_Miller', 'Pauley_Perrette', 'Pedro_Velasquez', 'Penny_Dupuie', 'Perry_Compton', 'Pete_Aldridge', 'Pete_Rose', 'Peggy_McGuinness', 'Pedro_Pauleta', 'Pedro_Solbes', 'Pedro_Almodovar', 'Penelope_Cruz', 'Peri_Gilpin', 'Pedro_Duque', 'Paul_Wollnough', 'Paulo_Cesar_Pinheiro', 'Penny_Lancaster', 'Pete_Beaudrault', 'Pedro_Malan', 'Percy_Gibson', 'Paul_Wellstone', 'Peter_Gilmour', 'Peter_Max', 'Peter_Medgyessy', 'Peter_Hillary', 'Peter_Harrison', 'Peter_Hollingworth', 'Peter_Shaw', 'Peter_Schultz', 'Peter_Mackay', 'Peter_Greenspun', 'Peter_Hartz', 'Phil_Donahue', 'Peter_Fonda', 'Peter_Mullan', 'Peter_Ueberroth', 'Peter_Mugyeni', 'Pham_Sy_Chien', 'Peter_Costello', 'Peter_Greenaway', 'Peter_Caruana', 'Petria_Thomas', 'Peter_Fitzgerald', 'Phan_Van_Khai', 'Phil_Bennett', 'Peter_Rasmussen', 'Peter_OToole', 'Peter_Harvey', 'Peter_Chan', 'Phil_Cline', 'Phil_Johnson', 'Peter_Sejna', 'Peter_Fisher', 'Peter_Rasch', 'Peter_Struck', 'Phil_Bredesen', 'Peter_Gabriel', 'Peter_Care', 'Peter_Lundgren', 'Peter_Holmberg', 'Peter_Goldmark', 'Peter_Mansbridge', 'Phil_Cullen', 'Petro_Symonenko', 'Peter_Hunt', 'Peter_Camejo', 'Pharrell_Williams', 'Pham_Thi_Mai_Phuong', 'Prakash_Hinduja', 'Pieter_Bouw', 'Phil_Morris', 'Prem_Kumar_Nair', 'Phillip_Fulmer', 'Picabo_Street', 'Phil_McGraw', 'Piotr_Anderszewski', 'Phil_Vassar', 'Pierre_Van_Hooijdonk', 'Phillip_Seymor_Hoffmann', 'Polona_Bas', 'Porter_Goss', 'Pierre_Lacroix', 'Philippe_Gagnon', 'Poala_Suarez', 'Prince_Claus', 'Pio_Laghi', 'Pilar_Montenegro', 'Pierre_Boulanger', 'Prince_Charles', 'Philip_Murtaugh', 'Philip_Zalewski', 'Philip_Cummings', 'Pierre_Png', 'Phil_Mickelson', 'Phoenix_Chang', 'Phillipe_Comtois', 'Pierre_Pettigrew', 'Phillips_Idowu', 'Platon_Lebedev', 'Piers_Sellers', 'Pierre_Gagnon', 'Queen_Noor', 'Princess_Hisako', 'Ralf_Schumacher', 'Pyar_Jung_Thapa', 'Qazi_Hussain_Ahmed', 'Priscilla_Owen', 'Prince_Harry', 'Prince_Naruhito', 'Quincy_Jones', 'Queen_Silvia', 'Rafael_Bielsa', 'Qian_Qichen', 'Rachel_Corrie', 'Rachel_Hunter', 'Princess_Caroline', 'Rachel_Wadsworth', 'Priyanka_Chopra', 'Raf_Vallone', 'Raghad_Saddam_Hussein', 'Radovan_Karadzic', 'Rainer_Gut', 'Prince_Felipe', 'Princess_Maxima', 'Rainer_Geulen', 'Qais_al-Kazali', 'Raja_Ramani', 'Princess_Elisabeth', 'Queen_Rania', 'Rachel_Leigh_Cook', 'Pringe_Ernst_August', 'Rafael_Vinoly', 'Princess_Masako', 'Raja_Ibrahim', 'Prince_Willem-Alexander', 'Rafeeuddin_Ahmed', 'Rafidah_Aziz', 'Qazi_Afzal', 'Raja_Qureshi', 'Queen_Beatrix', 'Princess_Stephanie', 'Prospero_Pichay', 'Raag_Singhal', 'Quin_Snyder', 'Rafael_Ramirez', 'Queen_Latifah', 'Rachel_Wheatley', 'Princess_Anne', 'Rachel_Griffiths', 'Princess_Diana', 'Princess_Victoria', 'Rahul_Dravid', 'Raja_Zafar-ul-Haq', 'Queen_Sofia', 'Rainer_Schuettler', 'Pupi_Avati', 'Ralph_Fiennes', 'Raul_Mondesi', 'Ramiro_Goben_Reducindo', 'Ralph_Goodale', 'Razali_Ismail', 'Ralph_Lauren', 'Ray_Nagin', 'Ray_Sherman', 'Rand_Miller', 'Ray_Wasden', 'Ramon_Ponce_de_Leon', 'Rashid_Qureshi', 'Randy_Ferbey', 'Randy_Jackson', 'Ramon_Cardenas', 'Ramon_Delgado', 'Ray_Liotta', 'Ray_Price', 'Ralph_Friedgen', 'Randy_Travis', 'Ralph_Firman', 'Ralph_Sampson', 'Randy_Johnson', 'Ray_Lucas', 'Ramona_Rispton', 'Ray_Halbritter', 'Randy_Dryer', 'Raza_Rabbani', 'Rand_Beers', 'Raul_Gonzalez', 'Ray_Evernham', 'Rani_Mukherjee', 'Ranil_Wickremasinghe', 'Raymond_Arthurs', 'Ralph_Klein', 'Ravan_AG_Farhadi', 'Raoul_Ruiz', 'Ray_Young', 'Raul_Chacon', 'Ray_Allen', 'Raul_Ibanez', 'Ray_Lewis', 'Raul_Castaneda', 'Randall_Terry', 'Raquel_Welch', 'Randall_Tobias', 'Randy_Brown', 'Raymond_Odierno', 'Ralph_Nader', 'Ray_Morrough', 'Ray_Bradbury', 'Ramon_Santana', 'Reina_Hayes', 'Reese_Witherspoon', 'Ricardo_Maduro', 'Rebekah_Chantay_Revels', 'Retief_Goosen', 'Reinhard_Buetikofer', 'Reyyan_Uzuner', 'Reggie_Miller', 'Ren_Qingjin', 'Rene_Antonio_Leon_Rodriguez', 'Rebecca_Romijn-Stamos', 'Rhett_Warrener', 'Rena_Sofer', 'Ricardo_Lopez_Murphy', 'Rhina_Villatoro', 'Reggie_Sanders', 'Ricardo_Mayorga', 'Riccardo_Muti', 'Ricardo_Sanchez', 'Red_Auerbach', 'Reggie_Lewis', 'Regina_Ip', 'Reginald_Hudlin', 'Rich_Brooks', 'Renato_Soru', 'Rey_Sanchez', 'Rene_Portland', 'Richard_Levin', 'Richard_Perle', 'Richard_Branson', 'Richard_Chamberlain', 'Richard_Ward', 'Richard_Langille', 'Richard_Dreyfuss', 'Richard_Virenque', 'Richard_Palmer', 'Richie_Adubato', 'Richard_Paul_Evans', 'Richard_Penniman', 'Richard_Lennon', 'Richard_Crenna', 'Rick_Bragg', 'Richard_Naughton', 'Richard_Lugar', 'Richard_Barry', 'Richard_Harris', 'Rick_Bland', 'Richard_Hellfant', 'Richard_Jewell', 'Richard_Sambrook', 'Richard_Regenhard', 'Richard_Reid', 'Richard_Norton-Taylor', 'Richard_Daley', 'Richard_Jefferson', 'Richard_Pennington', 'Richard_Greenberg', 'Richard_Butler', 'Richard_Krajicek', 'Ricky_Quick', 'Riek_Blanjaar', 'Rob_Lowe', 'Robert_Altman', 'Ricky_Ponting', 'Rick_Wagoner', 'Robbie_Fowler', 'Rien_Long', 'Rob_Moore', 'Rina_Lazo', 'Robert_Blackwill', 'James_Wallack', 'James_Robertson_Jr', 'James_McMahon', 'James_Franco', 'James_Roberts', 'Jamie_Lee_Curtis', 'Jason_Keep', 'Jamie_King', 'Jaqueline_Godoy', 'Jamir_Miller', 'Jane_Clayson', 'Jamie_Olis', 'Jane_Kaczmarek', 'Jane_Krakowski', 'Jan_Bjoerklund', 'Jason_Gardner', 'Jan_Peter_Balkenende', 'Jamie_Villafane', 'Jaromir_Jagr', 'Jane_Menelaus', 'Janice_Goldfinger', 'Jane_Russell', 'Jamie_Martin', 'Jason_Biggs', 'Jason_Jennings', 'Jane_Pauley', 'Jan_De_Bont', 'Jan_van_Breda_Kolff', 'Jason_Campbell', 'Jan_Ullrich', 'Janela_Jara', 'Jan_Petersen', 'Jan-Michael_Gambill', 'Janet_Ecker', 'Jane_Rooney', 'Jana_Henke', 'Janusz_Kaminski', 'Janine_Pietsch', 'Jan_Paul_Miller', 'Janet_Thorpe', 'Jana_Pittman', 'Jamie_Kellner', 'Janette_Husarova', 'Jaouad_Gharib', 'Jane_Fonda', 'Jane_Riley', 'Janet_Leigh', 'Janet_Napolitano', 'Jason_Kapono', 'Janet_Horvath', 'Jason_Bentley', 'Janet_Chandler', 'Jason_Clermont', 'Jane_Leeves', 'Janet_Crawford', 'Jane_Walker_Wood', 'Jaymon_Crabb', 'Jean_Carnahan', 'Jean-Claude_Van_Damme', 'Jayne_Yarris', 'Jean-Claude_Braquet', 'Jayson_Williams', 'Javier_Bardem', 'Jean-Pierre_Bemba', 'Jason_Petty', 'Jean-Patrick_Nazon', 'Javier_Saviola', 'Jason_Mewes', 'Jason_Vale', 'Jean-Pierre_Raffarin', 'Jean_Brumley', 'Javier_Weber', 'Jason_Lezak', 'Javier_Vazquez', 'Javier_Zanetti', 'Jason_White', 'Jawad_Boulus', 'Jay_Rasulo', 'Jason_Sorens', 'Javier_Camara', 'Jay_Leno', 'Jay_Garner', 'Jason_Statham', 'Jean-Rene_Fourtou', 'Jason_Sehorn', 'Jean-Claude_Juncker', 'Javier_Delgado', 'Jean-Marc_de_La_Sabliere', 'Jean-Francois_Pontal', 'Jean-Claude_Trichet', 'Jean-Marc_Olive', 'Jean-Sebastien_Giguere', 'Jeff_Schiffner', 'Jeff_Hornacek', 'Jeff_Feldman', 'Jeannette_Biedermann', 'Jean_Todt', 'Jeff_Van_Gundy', 'Jeff_George', 'Jeff_Roehm', 'Jeanne_Anne_Schroeder', 'Jeff_Bridges', 'Jeane_Kirkpatrick', 'Jefferson_Perez', 'Jeff_Dederian', 'Jeff_Bzdelik', 'Jeff_Weaver', 'Jeffery_Hendren', 'Jeffrey_Immelt', 'Jennifer_Furminger', 'Jennifer_Gratz', 'Jen_Schefft', 'Jen_Bice', 'Jeffrey_Jones', 'Jeffrey_Pfeffer', 'Jeffrey_Scott_Postell', 'Jennie_Finch', 'Jennie_Garth', 'Jeffrey_Katzenberg', 'Jennifer_Granholm', 'Jeffery_Strelzin', 'Jenna_Elfman', 'Jennette_Bradley', 'Jeri_Ryan', 'Jesse_James_Leija', 'Jennifer_Love_Hewitt', 'Jerry_Sloan', 'Jennifer_Tilly', 'Jerry_Angelo', 'Jessica_Biel', 'Jerry_Hall', 'Jerry_Springer', 'Jerry_Jones', 'Jesse_Harris', 'Jerry_Pauley', 'Jeremy_Shockey', 'Jesse_Ventura', 'Jennifer_Rodriguez', 'Jeremy_Gompertz', 'Jerome_Golmard', 'Jerry_Regier', 'Jerry_Bruckheimer', 'Jerry_Oliver', 'Jeremy_Fogel', 'Jerelle_Kraus', 'Jesse_James', 'Jessica_Brungo', 'Jerry_Sexton', 'Jenny_Romero', 'Jennifer_Pena', 'Jennifer_McCoy', 'Jerry_McEntee', 'Jerry_Falwell', 'Jens_Lehmann', 'Jessica_Alba', 'Jerry_Rice', 'Jennifer_Murray', 'Jeremy_Wotherspoon', 'Jerry_Colangelo', 'Jerry_Lewis', 'Jim_Letten', 'Jim_Carrey', 'Jim_Anderson', 'Jim_Hahn', 'Jim_Kelly', 'Jim_Bunning', 'Jim_Nochols', 'Jesus_Cardenal', 'Jewel_Howard-Taylor', 'Jim_Piper', 'Jim_Doyle', 'Jim_Cantalupo', 'Jim_Leach', 'Jim_Hendry', 'Jim_Parque', 'Jessica_Capshaw', 'Jim_Flaherty', 'Jim_Harrick', 'Jim_Edmonds', 'Jim_Furyk', 'Jim_OBrien', 'Jim_Bollman', 'Jim_Fassel', 'Jim_Greenwood', 'Jim_Paxson', 'Jessica_Lynch', 'Jia_Qinglin', 'Jim_Schwarz', 'Jim_Abbott', 'Jim_Ahern', 'Jim_Calhoun', 'Jessica_Simpson', 'Jim_Spinoza', 'Jim_Beattie', 'Jim_Ryan', 'Jim_Jeffords', 'Jim_Wessling', 'Jim_Wall', 'Jimmy_Lee', 'Jimmy_Jimenez', 'Jim_Talent', 'Jim_Sterk', 'Jim_Zorn', 'Jimmy_Iovine', 'Jim_Tressel', 'Jim_Taylor', 'Jim_Thome', 'Jimmy_Gobble', 'Jimmy_Kimmel', 'Jimmy_Szymanski', 'Jim_Wong', 'Joe_Dumars', 'Joe_Plumeri', 'Joanna_Poitier', 'Joanne_Duquette', 'Joe_Calzaghe', 'Joaquin_Phoenix', 'Johannes_Rau', 'Jodie_Kidd', 'Joe_Dicaro', 'Joe_Darrell', 'John_Anderson', 'Joey_Mantia', 'Joan_Jett', 'Joe_Mendes', 'Joe_Torre', 'Joe_Glover', 'Joaquim_Rodriguez', 'Joaquim_Levy', 'Jodie_Henry', 'Joe_Friedberg', 'Joan_Collins', 'Joe_Mantello', 'Joey_Harrington', 'Joanne_Woodward', 'Joel_Gallen', 'Joe_Cravens', 'Joe_Gatti', 'Joan_Claybrook', 'Joao_Rocha', 'Joe_Carnahan', 'Jody_Richards', 'Joaquin_Sanchez', 'Jo_Joong-hyon', 'Joe_Paterno', 'Joe_Mantegna', 'Joe_Metz', 'Joe_Leonard', 'Jo_Dee_Messina', 'Joe_Garner', 'Job_Cohen', 'Joe_Cocker', 'Johan_Bruyneel', 'Joel_Todd', 'Joe_Nichols', 'Joe_Finley', 'Joerg_Haider', 'Joey_Buttafuoco', 'Joan_Dangerfield', 'Joe_Vandever', 'Joe_DeLamielleure', 'John_Edwards', 'John_Henry', 'John_F_Kennedy_Jr', 'John_Bond', 'John_Banko', 'John_Jumper', 'John_Cusack', 'John_Kerr', 'John_Geoghan', 'John_Belushi', 'John_Franco', 'John_Cruz', 'John_Jones', 'John_Cornyn', 'John_Goold', 'John_Brady', 'John_Baldacci', 'John_Eder', 'John_Elway', 'John_Dallager', 'John_Barnett', 'John_Duprey', 'John_Connolly', 'John_Blaney', 'John_Fenn', 'John_Gruden', 'John_Garamendi', 'John_Darby', 'John_Ferguson', 'John_Gordnick', 'John_Fox', 'John_Burnett', 'John_Danforth', 'John_Daly_Jr', 'John_Eastman', 'John_Hartson', 'John_Lynch', 'John_Moxley', 'John_Madden', 'John_Norquist', 'John_McCallum', 'John_McCain', 'John_McEnroe', 'John_Paul_DeJoria', 'John_Malkovich', 'John_Lennon', 'John_Philip_Elkann', 'John_Moe', 'John_Mabry', 'John_Perrota', 'John_Marburger', 'John_Nash', 'John_McCormack', 'John_Mayer', 'John_Petty', 'John_Lawrence', 'John_Manley', 'John_Nimmo', 'John_Leguizamo', 'John_Lithgow', 'John_Lisowski', 'John_Reid', 'John_Scarlett', 'John_Starks', 'John_Rowland', 'John_Rigas', 'John_Walsh', 'John_Robbins', 'John_Rusnak', 'John_Stockton', 'John_Taylor', 'John_Reilly', 'John_Salazar', 'John_Sununu', 'John_Ruiz', 'John_Swofford', 'John_Stallworth', 'John_Velazquez', 'John_Rosa', 'John_Sweeney', 'John_Thune', 'John_Prescott', 'John_Spencer', 'John_Sidgmore', 'John_Rowe', 'John_Tyson', 'John_Travolta', 'John_Timoney', 'Jose_Carlo_Fernandez', 'Jonathan_Mostow', 'Jose_Genoino', 'Johnny_Depp', 'John_Williams', 'Jorma_Huhtala', 'Jonathan_Karsh', 'Johnny_Benson', 'John_Wolf', 'Jose_Alencar', 'Jong_Wook_Lee', 'Jonathan_Fine', 'Jose_Acasuso', 'Jon_Corzine', 'Jonathan_Schroeder', 'Jorge_Enrique_Jimenez', 'Jorge_Quiroga', 'Jorge_Marquez-Ruarte', 'Jose_Canseco_Sr', 'Jon_Kitna', 'Jonathan_Byrd', 'Jong_Thae_Hwa', 'Johnnie_Lynn', 'John_Wright', 'Jose_Manuel_Durao_Barroso', 'Jose_Lina', 'Jose_Cevallos', 'Jorge_Arce', 'Jon_Gruden', 'Jose_Luis_Chilavert', 'Jorge_Moreno', 'Jose_Dirceu', 'Johnny_Tapia', 'Johnny_Htu', 'Jolanta_Kwasniewski', 'Jonathan_Edwards', 'Jonathan_Horton', 'Jon_Voight', 'John_Warner', 'Jon_Constance', 'Jorge_Alberto_Galindo', 'Jose_Lopez_Beltran', 'Johnny_Unitas', 'Jorge_Valdano', 'Jose_Carreras', 'Jose_Jose', 'John_White', 'Jose_Luis_Rodriguez_Zapatero', 'Jose_Luis_Santiago_Vasconcelos', 'Jose_Canseco', 'John_Wayne', 'Jon_Stewart', 'Joseph_Nacchio', 'Jose_Sarney', 'Jose_Woldenberg', 'Joseph_LePore', 'Josh_Evans', 'Josh_Kronfeld', 'Joseph_Hoy', 'Joshua_Gracin', 'Joseph_Estrada', 'Joshua_Perper', 'Jose_Miguel_Aleman', 'Joshua_Davey', 'Joseph_Biden', 'Joseph_Salgado', 'Jose_Viegas_Filho', 'Joshua_Harapko', 'Joseph_Lopez', 'Joseph_Fiennes', 'Joseph_Ganim', 'Jose_Santos', 'Jose_Mourinho', 'Joseph_Galante', 'Jose_Vicente_Rangel', 'Joseph_Safra', 'Joseph_Kabila', 'Josh_Childress', 'Joseph_Deiss', 'Jules_Asner', 'Juan_Carlos_Ortega', 'Julia_Glass', 'Juan_Roman_Carrasco', 'Julian_Fantino', 'Judd_Davies', 'Julia_Ormond', 'Juan_Fernandez', 'Juan_Roman_Riquelme', 'Judy_Spreckels', 'Judy_Genshaft', 'Judy_Dean', 'Juan_Manuel_Marquez', 'Judi_Dench', 'Joy_Bryant', 'Judi_Patton', 'Juergen_Schrempp', 'Julia_Tymoshenko', 'Jude_Law', 'Judy_Vassar', 'Juanes', 'Judy_Locy', 'Judith_Nathan', 'Joxel_Garcia', 'Juan_Valencia_Osorio', 'Juan_Antonio_Samaranch', 'Juan_Jose_Lucas', 'Julie_Andrews', 'Juan_Pablo_Montoya', 'Juan_Carlos', 'Joy_Lee_Sadler', 'Juergen_Braehmer', 'Juan_Francisco_Palencia', 'Juan_Sanchez', 'Julian_Battle', 'Juergen_Chrobog', 'Juergen_Peters', 'Justin_Leonard', 'Justin_Wilson', 'Justin_Timberlake', 'Julio_Toro', 'Julio_Cesar_Franco', 'Juliette_Lewis', 'Julio_Iglesias_Jr', 'Justine_Henin', 'Justin_Marshall', 'Julie_Goodenough', 'Julien_Boutter', 'Jung_Bong', 'Julio_Cesar_Chavez', 'Julie_Infante', 'Junichi_Inamoto', 'Julien_Varlet', 'Julius_Erving', 'Julius_Barnes', 'Junko_Tabei', 'Julie_Taymor', 'Kaio_Almeida', 'Karin_Viard', 'Kathleen_Glynn', 'Kathryn_Tucker', 'Katherine_Harris', 'Kalpana_Chawla', 'Kamel_Morjane', 'Kaspar_Villiger', 'Kate_Richardson', 'Kathryn_Grayson', 'Kate_Moss', 'Karen_Pereiras', 'Kathryn_Morris', 'Kareena_Kapoor', 'Kalid_Kaid', 'Kaoru_Hasuike', 'Karen_Sharpe_Kramer', 'Kate_Capshaw', 'Kathryn_Bigelow', 'Katie_Boone', 'Kaisser_Bazan', 'Kathy_Baker', 'Karen_Clarkson', 'Karen_Allen', 'Kamal_Kharrazi', 'Kathy_Gannon', 'Karin_Stoiber', 'Karol_Kucera', 'Justine_Pasek', 'Katerina_Smrzova', 'Kai-Uwe_Ricke', 'Katalin_Kollat', 'Kate_Starbird', 'Karin_Pilsaeter', 'Kajsa_Bergqvist', 'Katie_Couric', 'Kara_Lynn_Joyce', 'Katharine_Hepburn', 'Kathleen_Kennedy_Townsend', 'Karl-Heinz_Rummenigge', 'Kate_Burton', 'Kathy_Bates', 'Katie_Holmes', 'Katie_Smith', 'Kang_Gum-sil', 'Katja_Riemann', 'Kaye_Young', 'Kay_Bailey_Hutchison', 'Keith_Brown', 'Keith_Bogans', 'Keith_Bishop_Jr', 'Keiko_Sofia_Fujimori', 'Keira_Knightley', 'Katrin_Susi', 'Kay_Behrensmeyer', 'Katrin_Cartlidge', 'Kiki_Vandeweghe', 'Keith_Olbermann', 'Ken_Kutaragi', 'Kelly_Santos', 'Khaled_Sawalhi', 'Kenneth_Bowersox', 'Kent_Robinson', 'Kenny_Chesney', 'Ken_Watanabe', 'Kieran_Culkin', 'Kelly_Leigh', 'Kenneth_Reichert', 'Kevin_Harvick', 'Keith_Urban', 'Khatol_Mohammad_Zai', 'Kenneth_Dam', 'Kevin_Keegan', 'Kenny_Brack', 'Ken_Macha', 'Kelly_Ripa', 'Kim_Chinn', 'Keith_Osik', 'Kellie_Greene', 'Kemal_Dervis', 'Kevin_Hearn', 'Kevin_Garnett', 'Kenneth_Evans', 'Kenenisa_Bekele', 'Kevin_Satterfield', 'Keith_Rodriguez', 'Kevin_Costner', 'Kevin_Borseth', 'Keizo_Yamada', 'Khalid_Qazi', 'Kevin_Marshall', 'Kevin_Tarrant', 'Kevin_James', 'Khum_Bahadur_Khadka', 'Kent_McCord', 'Kelli_White', 'Keith_Lockhart', 'Kieran_Prendergast', 'Kevin_Spacey', 'Kenneth_Carlsen', 'Kelly_Clarkson', 'Kellie_Coffey', 'Kim_Cattrall', 'Kelsey_Grammer', 'Kenneth_Cooper', 'Keith_Foulke', 'Kelly_Osbourne', 'Keith_Snyder', 'Kevin_Nealon', 'Ken_Balk', 'Keith_Van_Horn', 'Ken_Dorsey', 'Kent_Rominger', 'Kim_Dae-jung', 'Kevin_Gil', 'Khin_Nyunt', 'Kifah_Ajouri', 'Keith_Tyson', 'Ken_Wharfe', 'Kimberly_Bruckner', 'Kimi_Raikkonen', 'Kirk_Douglas', 'King_Gyanendra', 'Kirby_Puckett', 'Kirk_Doerger', 'King_Bhumibol_Adulyadej', 'Kirk_Ferentz', 'Kim_Yong-il', 'Kim_Dong-tae', 'King_Abdullah_II', 'Kim_Yun-kyu', 'Kim_Jong-Il', 'Kim_Hong-up', 'Kim_Gandy', 'Kim_Jin-sun', 'Kirk_Franklin', 'Kimberly_Stewart', 'Kristanna_Loken', 'Kristen_Breitweiser', 'Kjell_Magne_Bondevik', 'Koichi_Haraguchi', 'Kit_Bond', 'Kristin_Scott_Thomas', 'Koichi_Tanaka', 'Kosuke_Kitajima', 'Kristin_Scott', 'Klaus_Schwab', 'Kostya_Tszyu', 'Krishna_Bhadur_Mahara', 'Koji_Uehara', 'Kirk_Johnson', 'Kirsten_Clark', 'Kristin_Chenoweth', 'Kitin_Munoz', 'Kong_Quan', 'Kristy_Curry', 'Kurt_Budke', 'Koichiro_Matsuura', 'Kristen_Rivera', 'Klaus_Zwickel', 'Kobe_Bryant', 'Kirsten_Dunst', 'Kultida_Woods', 'Laura_Bozzo', 'Kurt_Warner', 'Laila_Ali', 'Larry_Hagman', 'Lance_Bass', 'Kurt_Russell', 'Larry_Bowa', 'Kwon_Young-gil', 'Kwame_Kilpatrick', 'Latrell_Sprewell', 'Larry_Eustachy', 'Larry_Harris', 'Kurt_Thomas', 'Larry_Campbell', 'Larry_Thompson', 'Kyle_Shewfelt', 'Lane_Odom', 'Lara_Logan', 'Lana_Clarkson', 'Larry_Anderson', 'Lars_Von_Trier', 'Larry_Johnson', 'Kurt_Hellstrom', 'Kurt_Schottenheimer', 'Kurt_Busch', 'Laszlo_Kovacs', 'Larenz_Tate', 'Kyoko_Nakayama', 'Lachlan_Murdoch', 'Larry_Donald', 'Larry_Pleau', 'Larry_Flynt', 'Larry_Coker', 'Larry_Brown', 'LK_Advani', 'Larry_Greene', 'Kurt_Tanabe', 'Larry_Beinfest', 'Larry_Ellison', 'Larry_Templeton', 'Lane_Bryant', 'Kwon_Yang-sook', 'Larry_Lucchino', 'Kyle_McLaren', 'Kyra_Sedgwick', 'Kweisi_Mfume', 'Larry_Tanenbaum', 'Landon_Donovan', 'Larry_Nichols', 'Laura_Linney', 'Laura_Hernandez', 'Laura_Marlow', 'Laura_Gobai', 'Laura_Flessel', 'Lee_Chang-dong', 'Lee_Hyung-taik', 'Lee_Tae-sik', 'Lawrence_MacAulay', 'Lesley_Coppin', 'Lee_Ann_Terlaji', 'LeRoy_Millette_Jr', 'Leon_Lai', 'Lazaro_Castro', 'Leni_Bjorklund', 'Leander_Paes', 'Laura_Schlessinger', 'Lawrence_Di_Rita', 'Lela_Rochon', 'Leonardo_Del_Vecchio', 'Lee_Byung-woong', 'Leandro_Garcia', 'Lawrence_Foley', 'Laurie_Chan', 'Lena_Katina', 'Lena_Olin', 'Lee_Soo-hyuck', 'Leisel_Jones', 'Laura_Ziskin', 'Leon_Silver', 'Leo_Ramirez', 'Leonard_Hamilton', 'Laurie_Laychak', 'Lennox_Lewis', 'Lauren_Hutton', 'Lee_Hong-ki', 'Len_Jenoff', 'Lesley_Flood', 'Lee_Ann_Knight', 'Lea_Fastow', 'Leland_Chapman', 'Lech_Walesa', 'Lesia_Burlak', 'Lawrence_Vito', 'Leo_Mullin', 'Lee_Yuan-tseh', 'Lee_Nam-shin', 'Laura_Romero', 'Leonard_Glick', 'Lee_Yeo-jin', 'Leah_Remini', 'Lemuel_Montulo', 'Laurence_Tribe', 'Lawrence_Roberts', 'Leigh_Winchell', 'Leslie_Ann_Woodward', 'Lee_Jun', 'Leonid_Kuchma', 'Lesley_McCulloch', 'Lennart_Johansson', 'Lenny_Wilkens', 'Lee_Ann_Womack', 'Lee_Hoi-chang', 'Laurent_Gbagbo', 'Lauren_Killian', 'LeBron_James', 'Leandro_Andrade', 'Lenny_Kravitz', 'Laurie_Pirtle', 'Laura_Pausini', 'LeAnn_Rimes', 'Laurence_Fishburne', 'Lene_Espersen', 'Leon_LaPorte', 'Liane_Janda', 'Leticia_Van_de_Putte', 'Leslie_Wiser_Jr', 'Leslie_Moonves', 'Lester_Holt', 'Li_Zhaoxing', 'Leszek_Miller', 'Lew_Rywin', 'Leslie_Caldwell', 'Lidija_Djukanovic', 'Li_Ka-shing', 'Li_Changchun', 'Liam_Neeson', 'Leuris_Pupo', 'Li_Ruihuan', 'Lima_Azimi', 'Lili_Taylor', 'Lily_Safra', 'Lily_Tomlin', 'Lim_Dong-won', 'Linda_Dano', 'Liliana_Cavani', 'Linda_Ham', 'Lili_Marinho', 'Lin_Yung_Hsi', 'Linda_Amicangioli', 'Linda_Sanchez', 'Lina_Krasnoroutskaya', 'Linda_Lingle', 'Lin_Yi-fu', 'Linda_Mason', 'Lincoln_Chafee', 'Linda_Baboolal', 'Lonnie_Donegan', 'Lou_Reed', 'Louis_Van_Gaal', 'Liu_Mingkang', 'Liu_Ye', 'Lisa_Stansfield', 'Lou_Ye', 'Lionel_Hampton', 'Lou_Piniella', 'Lindy_Ruff', 'Lisa_Stone', 'Lindsay_Lohan', 'Lubomir_Zaoralek', 'Lisa_Murkowski', 'Loretta_Lynn_Harper', 'Lino_Oviedo', 'Lisa_Leslie', 'Lorne_Michaels', 'Lou_Lang', 'Lloyd_Novick', 'Linn_Thornton', 'Lope_Mendoza', 'Lisa_Marie_Presley', 'Lori_Berenson', 'Lois_Smart', 'Lloyd_Ward', 'Lisa_Raymond', 'Lokendra_Bahadur_Chand', 'Lionel_Richie', 'Lindsay_Benko', 'Liza_Minnelli', 'Luc_Montagnier', 'Lord_Hutton', 'Lorraine_Fenton', 'Lloyd_Mudiwa', 'Lon_Kruger', 'Lisa_Girman', 'Luca_Cordero_di_Montezemolo', 'Lucas_Wysocki', 'Liv_Tyler', 'Lucrecia_Orozco', 'Lucio_Angulo', 'Lucy_Liu', 'Luis_Ernesto_Derbez_Bautista', 'Ludwig_Ovalle', 'Lucie_Lapovsky', 'Lucio_Stanca', 'Luis_Berrondo', 'Luciano_Pavarotti', 'Lucia_Kenny_Anthony', 'Lucio_Cecchinello', 'Ludivine_Sagnier', 'Luciano_Bovicelli', 'Luis_Pujols', 'Luiz_Felipe_Scolari', 'Luis_Gonzalez_Macchi', 'Luis_Horna', 'Luis_Fonsi', 'Luis_Sanchez', 'Luis_Rosario_Huertas', 'Luis_Gonzalez', 'Luis_Guzman', 'Luis_Figo', 'Luke_Smith', 'Luke_Ridnour', 'Mara_Georges', 'Magdalena_Maleeva', 'Manijeh_Hekmat', 'Marc_Gold', 'Lyudmila_Putin', 'Luther_Htu', 'Makiko_Tanaka', 'Lyle_Lovett', 'Marc_Grossman', 'Malcolm_Glazer', 'Lynne_Slepian', 'Lynn_Redgrave', 'Makhdoom_Amin_Fahim', 'Mahendra_Chaudhry', 'Marat_Safin', 'Mahdi_Al_Bassam', 'Marc_Bulger', 'Lutz_Freitag', 'Malcolm_Wild', 'Manuel_Poggiali', 'Luke_Walton', 'Mae_Jemison', 'Manuela_Montebrun', 'Malak_Habbak', 'Lynne_Cheney', 'Marc_Anthony', 'Mahmoud_Al_Zhar', 'Madeleine_Webber', 'Manfred_Reyes_Villa', 'Lyle_Vanclief', 'Mack_Brown', 'Manuel_Jesus', 'Madeleine_Albright', 'Madonna', 'Manuel_Pellegrini', 'MC_Hammer', 'Marc-Andre_Fleury', 'Maggie_Cheung', 'Maha_Habib', 'Mahmoud_Diyab_al-Ahmed', 'Malcolm_Jamal_Warner', 'Manuel_Gehring', 'Maggie_Smith', 'Lynne_Thigpen', 'Magui_Serna', 'Lydia_Shum', 'Malik_Mahmud', 'Manuel_Rosendo', 'Luo_Linquan', 'Manuel_Llorente', 'Lynn_Abraham', 'Maria_Conchita_Alonso', 'Marco_Pantani', 'Marcus_Allen', 'Marcio_de_Souza', 'Margaret_Hasley', 'Maria_Bello', 'Margaret_Thatcher', 'Marco_Irizarry', 'Marcos_Cafu', 'Margerry_Bakley', 'Marco_Antonio_Barrera', 'Marco_Archer_Cardoso_Moreira', 'Margaret_Hoelzer', 'Marcos_Daniel_Jimenez', 'Marcella_Anderson', 'Marc_Racicot', 'Margaret_Caruso', 'Marc_Leger', 'Marcelo_Ebrard', 'Marcos_Milinkovic', 'Marcus_Gronholm', 'Marcelo_Rios', 'Margaret_Okayo', 'Margie_Puente', 'Marcelo_Salas', 'Marcus_Garrettson', 'Marc_Shaiman', 'Marcelo_Bielsa', 'Marina_Hands', 'Mark_Hogan', 'Marina_Canetti', 'David_Kelly', 'Davey_Johnson', 'David_Dodge', 'David_Hilt', 'Dave_Matthews', 'David_Canary', 'David_Heyman', 'David_Gest', 'David_Leahy', 'Darren_Clarke', 'David_Brown', 'Daryl_Jones', 'David_Brinkley', 'David_Blaine', 'David_Coulthard', 'David_Hasselhoff', 'Dave_Robertson', 'David_Eldon', 'David_McCallum', 'Dave_McNally', 'David_McCullough', 'Dave_Wannstedt', 'David_Bell', 'Dave_Lewis', 'David_Chase', 'David_Hannay', 'David_Duke', 'Dave_Ragone', 'David_Anderson', 'David_Arquette', 'Dave_McNealey', 'David_Kelley', 'David_Glenn', 'Darryl_McDaniels', 'Dave_McGinnis', 'Dave_Barr', 'Dave_Campo', 'David_Donohue', 'Darryl_Stingley', 'David_Carradine', 'David_Caraway', 'Daryl_Smith', 'David_Bisbal', 'David_Ballantyne', 'Dave_Potter', 'David_Brent', 'David_Provost', 'Dean_Barkley', 'David_Sibleyk', 'David_Modell', 'David_Shayler', 'Dawna_LoPiccolo', 'David_Suazo', 'David_Wolf', 'David_Montoya', 'Dawn_Staley', 'David_Stern', 'David_Scott_Morris', 'David_Trimble', 'David_Surrett', 'David_Millar', 'David_Przybyszewski', 'David_McKiernan', 'David_Tornberg', 'David_Wells', 'David_Rivkin_Jr', 'David_Myers', 'David_Oh', 'David_Zeplowitz', 'David_Welch', 'David_Spade', 'David_Sousa', 'Davis_Love_III', 'David_Siegel', 'David_Obey', 'Dewayne_White', 'Derek_King', 'Derian_Hatcher', 'Derek_Parra', 'Diana_Taylor', 'Debbie_Allen', 'Diana_Munz', 'Demetrin_Veal', 'Diana_Renee_Valdivieso_Dubon', 'Dennis_Kozlowski', 'Diana_Silvius', 'Debra_Rose', 'Della_Clara', 'Denise_van_Outen', 'Diane_Lane', 'Delphine_Chuillot', 'Denise_Johnson', 'Desmon_Farmer', 'Denise_Locke', 'Derrick_Taylor', 'Denzel_Washington', 'Derrick_Rodgers', 'Derek_Lowe', 'Dennis_Oswald', 'Desiree_McKenzie', 'Dennis_Powell', 'Debra_Messing', 'Dick_Bennett', 'Demetrius_Ferraciu', 'Demi_Moore', 'Derek_Jeter', 'Derek_Bond', 'Denis_Coderre', 'Derek_Abney', 'Dennis_Hastert', 'Denis_Fassou-Nguesso', 'Dennis_Erickson', 'Diana_Krall', 'Dexter_Jackson', 'Deepa_Mehta', 'Diane_Green', 'Diana_Taurasi', 'Denys_Arcand', 'Derrick_Battie', 'Dean_Sheremet', 'Dennis_Kucinich', 'Dennis_Miller', 'Diane_Ladd', 'Dennis_Johnson', 'Dick_Armey', 'Debra_Yang', 'Dennis_Franchione', 'Deece_Eckstein', 'Deniz_Baykal', 'Desiree_Lemosi', 'Deena_Burnett', 'Debbie_Reynolds', 'Devin_Harris', 'Dennis_Archer', 'Debra_Brown', 'Dirk_Kempthorne', 'Dominique_Perben', 'Din_Samsudin', 'Dionne_Warwick', 'Dick_Posthumus', 'Dolma_Tsering', 'Dionigi_Tettamanzi', 'Dimitri_Perricos', 'Diego_Armando_Maradona', 'Dion_Glover', 'Don_Boudria', 'Don_Hewitt', 'Don_Henley', 'Diego_Diego_Lerman', 'Dick_Devine', 'Djabir_Said-Guerni', 'Dick_Jauron', 'Dolly_Parton', 'Diego_Colorado', 'Dinora_Rosales', 'Didier_Defago', 'Don_Lake', 'Don_Matthews', 'Dieter_Holzer', 'Don_Meredith', 'Dominik_Garcia-Lorido', 'Don_King', 'Dick_Latessa', 'Dominik_Hrbaty', 'Dinah_Turner', 'Dita_Von_Tesse', 'Dominic_Monaghan', 'Don_Nickles', 'Dick_Smothers', 'Dieter_Zetsche', 'Dino_de_Laurentis', 'Dionyssis_Georgiadis', 'Donatella_Versace', 'Donald_Keck', 'Donald_Regan', 'Donald_Evans', 'Donald_Carty', 'Donald_Anderson', 'Don_Siegelman', 'Donald_Hays', 'Donald_Trump', 'Donna_Barrera', 'Donald_Pettit', 'Donnie_Brennan', 'Dustan_Mohr', 'Dorthy_Moxley', 'Dorothy_Wilson', 'Dustin_Hoffman', 'Donna_Ralston', 'Doris_Schroeder', 'Dustin_Brown', 'Dorothy_Lamour', 'Drew_Gooden', 'Doug_Christie', 'Duncan_Fletcher', 'Drew_Bledsoe', 'Du_Qinglin', 'Doug_Collins', 'Dule_Hill', 'Dudley_Rogers', 'Donny_Osmond', 'Dwain_Kyles', 'Dunn_Lampton', 'Douglas_Meester', 'Doug_Duncan', 'Duane_Barber', 'Donna_Brazile', 'Dragan_Covic', 'Donna_Shalala', 'Doug_Racine', 'Dot_Helms', 'Dorothy_Loudon', 'Doug_Melvin', 'Duane_Lee_Chapman', 'Douglas_Faneuil', 'Donna_Walker', 'Eddy_Merckx', 'Eddie_Jordan', 'Edouard_Michelin', 'Ed_Wade', 'Dyab_Abou_Jahjah', 'Edina_Batar', 'Ed_Case', 'Edith_Masai', 'Eduard_Shevardnadze', 'Ed_Smart', 'Earl_Counter', 'Edgar_Savisaar', 'Dyana_Calub', 'Earl_Fritts', 'Edmund_Hillary', 'Earl_Campbell', 'Eduard_Limonov', 'Eddie_Lewis', 'Eddy_Hartenstein', 'Eddie_Lucio', 'Edie_Falco', 'E_Clay_Shaw', 'Eddie_Fenech_Adami', 'Ed_Book', 'Ed_Rosenthal', 'Earl_Scruggs', 'Ed_Mekertichian', 'Eddie_Compass', 'Dwayne_Williams', 'Eddie_Sutton', 'Elsa_Zylberstein', 'Edward_Lohn', 'Elliott_Mincberg', 'Eli_Stutsman', 'Edward_Flynn', 'Elias_Attallah', 'Eileen_Coparropa', 'Edward_Burns', 'Elizabeth_Shue', 'Elena_Dementieva', 'Edward_Lu', 'Elizabeth_Dole', 'Edward_Belvin', 'Edward_Kennedy', 'Elodie_Bouchez', 'Elena_de_Chavez', 'Efrain_Rios_Montt', 'Edward_Johnson', 'Elizabeth_Hurley', 'Ellen_Engleman', 'Elizabeth_Smart', 'Eileen_Spina', 'Edward_Egan', 'Elijah_Wood', 'Edwin_Edwards', 'Ekke_Hard_Forberg', 'Elizabeth_Pena', 'Edward_Said', 'Elena_Bovina', 'Elisabeth_Welch', 'Edward_Norton', 'Edward_Seaga', 'Eduardo_Romero', 'Elisha_Cuthbert', 'Eladio_Larez', 'Eliza_Manningham-Buller', 'Ellen_Saracini', 'Eloy_Gutierrez', 'Ellen_MacArthur', 'Elijan_Ingram', 'Eglis_Yaima_Cruz', 'Ellen_Martin', 'Ellen_Barkin', 'Elizabeth_Taylor', 'Edwina_Currie', 'Elena_Bereznaya', 'Elaine_Chao', 'Elizabeth_Berkeley', 'Elmar_Brok', 'Eli_Rosenbaum', 'Edward_Greenspan', 'Edward_James_Olmos', 'Eliane_Karp', 'Elizabeth_Regan', 'Eli_Broad', 'El_Hadji_Diouf', 'Eduardo_Fischer', 'Elin_Nordegren', 'Elgin_Baylor', 'Eduardo_Chillida', 'Elizabeth_Hill', 'Elisabeth_Schumacher', 'Edward_Albee', 'Ellen_DeGeneres', 'Ellen_Pompeo', 'Elena_Likhovtseva', 'Ekaterina_Dmitriev', 'Emile_Lahoud', 'Emmanuel_Filiberto', 'Emily_Robison', 'Emanuel_Ginobili', 'Emmanuelle_Jagodsinski', 'Emmit_Smith', 'Emma_Nicholson', 'Emilio_Botin', 'Emily_Mason', 'Emily_Mortimer', 'Eminem', 'Emyr_Jones_Parry', 'Emilio_Azcarraga_Jean', 'Elvis_Costello', 'Elvis_Stojko', 'Elton_John', 'Emmanuel_Milingo', 'Emma_Thompson', 'Enola_Rice', 'Emmy_Rossum', 'Emma_Watson', 'Elva_Hsiao', 'Emelie_Loit', 'Elvis_Presley', 'Erika_Reyes', 'Eva_Herzigova', 'Eric_Lindros', 'Ernie_Stewart', 'Eva_Mendes', 'Esteban_Cordoba-Velazquez', 'Estelle_Morris', 'Enrique_Medina_Gomez', 'Farida_Ragoonanan', 'Enrique_Haroldo_Gorriaran_Merlo', 'Ernest_Hollings', 'Erika_Christensen', 'Estella_Warren', 'Eric_Staal', 'Fann_Wong', 'Eric_Lloyd', 'Eric_Idle', 'Ernie_Preate', 'Ernie_Eves', 'Eric_Vigouroux', 'Evie_Lazarou', 'Erika_Harold', 'Eric_Fehr', 'Eric_Snow', 'Eva_Dimas', 'Esad_Landzo', 'Eric_Clapton', 'Faisal_Saleh_Hayat', 'Erin_Hershey_Presley', 'Erwin_Abdullah', 'Etta_James', 'Enos_Slaughter', 'Faisal_Iqbal', 'Ewan_McGregor', 'Eunice_Barber', 'Eva_Amurri', 'Erwin_Mapasseng', 'Eric_Bana', 'Fabrice_Santoro', 'Ernie_Els', 'Enrique_Bolanos', 'Farouk_Kaddoumi', 'Eric_Robert_Rudolph', 'Ernie_Harwell', 'Evgeni_Plushenko', 'Enrik_Vendt', 'Eric_Hinske', 'Eva_Marie_Saint', 'Evelyn_Lauder', 'Enrique_Iglesias', 'Eric_Christian_Olsen', 'Fabian_Vargas', 'Ernesto_Zedillo', 'Eric_Dubin', 'Ernie_Fletcher', 'Eurico_Guterres', 'Enrica_Fico', 'Evan_Marriott', 'Fabiola_Zuluaga', 'Eric_Wedge', 'Eric_Rosser', 'Eric_Shinseki', 'Fabricio_Oberto', 'Erin_Runnion', 'Eric_Ryan_Donnelly', 'Eric_Benet', 'Ethan_Hawke', 'Erick_Barkley', 'Eugene_Teslovic', 'Ester_Canadas', 'Esther_Macklin', 'Enrique_Oliu', 'Evo_Morales', 'Eve_Ensler', 'Eric_Taino', 'Faye_Alibocus', 'Feliciano_Lopez', 'Federico_Fellini', 'Felix_Trinidad', 'Federico_Castelan_Sayre', 'Faye_Dunaway', 'Felix_Mantilla', 'Felipe_Perez_Roque', 'Faye_Wong', 'Fazal-ur-Rehman', 'Felix_Sanchez', 'Fayssal_Mekdad', 'Felix_Doh', 'Ferenc_Madl', 'Felipe_Fernandez', 'Fran_Drescher', 'Fernando_Hierro', 'Frank_Hsieh', 'Francis_Crick', 'Franklin_Brown', 'Filippo_Inzaghi', 'Fiona_Milne', 'Francesco_Totti', 'Fernando_Velardez', 'Frank_Abagnale_Jr', 'Frank_Hilldrup', 'Francois_Pienaar', 'Francois_Botha', 'Frank_Solich', 'Frank_Griswold', 'Francisco_Flores', 'Fernando_Valenzuela', 'Frank_Sinatra', 'Francis_George', 'Florencia_Kirchner', 'Francisco_Urenda', 'Floyd_Keith', 'Frank_Wycheck', 'Frank_Keating', 'Flavia_Pennetta', 'Francis_Ricciardone', 'Franko_Simatovic', 'Fidel_Castro_Daiz-Balart', 'Frank_Dunham_Jr', 'Festus_Mogae', 'Frank_Lautenberg', 'Filippo_Volandri', 'Fernando_Henrique_Cardoso', 'Fernando_Vargas', 'Frank_Murkowski', 'Franco_Frattini', 'Florencia_Macri', 'Florecita_Cobian', 'Frances_Fisher', 'Franck_Cerutti', 'Francis_Mer', 'Frank_Pallone', 'Frank_Marshall', 'Frank_Zappa', 'Franklin_Damann', 'Franco_Cangele', 'Francisco_Santos', 'Frank_Taylor', 'Frank_Bell', 'Frank_Shea', 'Flor_Montulo', 'Flavia_Delaroli', 'Frank_Schmoekel', 'Franco_Dragone', 'Floyd_Mayweather', 'Filip_De_Winter', 'Fernando_Leon_de_Aranoa', 'Francis_Collins', 'Frank_Stallone', 'Francisco_Maturana', 'Gary_Bald', 'Gabrielle_Union', 'Fred_Wilpon', 'Gabriel_Hughes', 'Gary_Bauer', 'Gael_Garcia_Bermal', 'Fred_Rogers', 'Gabriel_Batistuta', 'Fred_Funk', 'Franz_Gsell', 'Fruit_Chan', 'Freddy_Garcia', 'Gabriella_Bo', 'Franz_Beckenbauer', 'Freddy_Vasques_Kinchokpe', 'Garry_Alejano', 'Fred_Swan', 'Gary_Barnett', 'Franz_Fischler', 'Garry_Kasparov', 'Galen_Rowell', 'Gabriel_Valdes', 'Gabrielle_Rose', 'Garth_Drabinsky', 'Frederick_Madden', 'Gabi_Zimmer', 'Franz_Muentefering', 'Fredric_Seaman', 'Fred_Eckhard', 'Fujio_Mitarai', 'Gala_Leon_Garcia', 'Frederique_van_der_Wal', 'Freda_Black', 'Gabriel_Jorge_Ferreia', 'Fred_Huff', 'GL_Peiris', 'Gene_Robinson', 'Gene_Autry', 'Gene_Keady', 'Gary_Sinise', 'Geoff_Hoon', 'Gary_Winnick', 'Gaston_Gaudio', 'Geoffrey_Rush', 'Gene_Sauers', 'Gary_Condit', 'Gavyn_Davies', 'George_Gregan', 'George_Brumley_III', 'George_Allen', 'Gavyn_Arthur', 'Gary_Bergeron', 'Gary_Sayler', 'Gen_Meredith', 'Gennifer_Flowers', 'George_Blaney', 'Gene_Orza', 'Gary_Dellaverson', 'Gene_Hackman', 'Geoff_Dixon', 'Gary_Paer', 'Gary_Locke', 'Gary_Coleman', 'Gary_Forsee', 'Geoffrey_Davis', 'Gary_Marshall', 'Gary_Doer', 'Geno_Auriemma', 'George_Bovell', 'Gary_Carter', 'Gary_Bettman', 'George_Foreman', 'Gary_Leon_Ridgway', 'George_Karl', 'George_Roy_Hill', 'George_Maxwell_Richards', 'George_Ryan', 'George_Plimpton', 'George_Pataki', 'George_Murphy', 'George_McCloud', 'George_P_Bush', 'George_Tenet', 'George_Harrison', 'George_Voinovich', 'George_Lopez', 'Georgi_Parvanov', 'Georgina_Bardach', 'Gerald_Barbarito', 'Georgina_Papin', 'Gerald_Calabrese', 'Gerald_Ford', 'Gerhard_Boekel', 'Gerald_Fitch', 'Gerard_Depardieu', 'Gerhard_Schmid', 'Gerard_Kleisterlee', 'Gerard_Butler', 'Gerald_Riley', 'Geraldo_Rivera', 'Gisele_Bundchen', 'Gholamreza_Aghazadeh', 'German_Khan', 'Gilberto_Simoni', 'Gina_Lollobrigida', 'Gianna_Angelopoulos-Daskalaki', 'Giovanny_Cordoba', 'Gilles_Panizzi', 'Gilberto_Rodriguez_Orejuela', 'Gina_Torres', 'Gideon_Black', 'Gina_Centrello', 'Gerry_Parsky', 'Gina_Gershon', 'Gerrit_Zalm', 'Giannina_Facio', 'Gil_Cates', 'Gianni_Agnelli', 'Gerry_Adams', 'Gil_de_Ferran', 'Gerry_Kelly', 'Graciano_Rocchigiani', 'Gracia_Burnham', 'Grady_Little', 'Giselle_Estefania_Tavarelli', 'Graham_Bentley', 'Graeme_Lloyd', 'Grace_Dodd', 'Grant_Hackett', 'Grady_Irvin_Jr', 'Gordana_Grubin', 'Goh_Kun', 'Gordon_McDonald', 'Grace_Kelly', 'Goldie_Hawn', 'Grace_Brinell', 'Gloria_Trevi', 'Gore_Verbinski', 'Glenn_Rivers', 'Goran_Persson', 'Gloria_Gaynor', 'Giuseppe_Morchio', 'Giuseppe_Gibilisco', 'Gordon_Cooper', 'Glen_DaSilva', 'Glen_Sather', 'Glafcos_Clerides', 'Grant_Rossenmeyer', 'Goran_Zivkovic', 'Gong_Li', 'Gordon_Campbell', 'Gong_Ruina', 'Graeme_Smith', 'Gorden_Tallis', 'Gore_Vidal', 'Glen_Clark', 'Gordon_Lightfoot', 'Giulietta_Masina', 'Giulio_Andreotti', 'Glenn_Tilton', 'Gonzalo_Barrientos', 'Greg_Hennigar', 'Guillermo_Monroy', 'Gregorio_Rosal', 'Gunter_Pleuger', 'Greg_Gilbert', 'Gustavo_Franco', 'Gustavo_Cisneros', 'Gustavo_Noboa', 'Gustavo_Kuerten', 'Guido_Westerwelle', 'Guillaume_Depardieu', 'Guillermo_Ruiz_Polanco', 'Gregg_Popovich', 'Griffin_Colvin', 'Greg_Frers', 'Gregory_Peck', 'Guenter_Verheugen', 'Gregory_Hines', 'Gro_Harlem_Brundtland', 'Greg_Hodge', 'Gustavo_Terrazas', 'Gus_Van_Sant', 'Gus_Frerotte', 'Greg_Rusedski', 'Guillermo_Ortiz', 'Greg_Kinnear', 'Guangdong_Ou_Guangyuan', 'Guennadi_Chipouline', 'Guillaume_Soro', 'Gregorio_Honasan', 'Guillermo_Canas', 'Gregory_Geoffroy', 'Gregg_Berhalter', 'Gwen_Stefani', 'Hamza_Atiya_Muhsen', 'Habib_Rizieq', 'Ham_Pong-sil', 'Hamad_Bin_Jassim', 'Gwendal_Peizerat', 'Hama_Arba_Diallo', 'Gwyneth_Paltrow', 'Hal_Sutton', 'Habib_Hisham', 'Hal_McCoy', 'Hamid_Reza_Asefi', 'Guy_Verhofstadt', 'Guy_Hemmings', 'Hamad_Bin_Isa_al-Khalifa', 'Hal_Sellers', 'Hal_Gehman', 'Hadley_Bilger', 'Halbert_Fillinger', 'Hank_McKinnell', 'Hannah_Stockbauer', 'Hana_Sadiq', 'Han_Sung_Joo', 'Hank_Azaria', 'Hans-Christian_Schmid', 'Hank_Bass', 'Hank_Aaron', 'Hana_Makhmalbaf', 'Hank_Stram', 'Hanns_Schumacher', 'Harold_Brown', 'Helene_Eksterowicz', 'Harland_Braun', 'Harvey_Wachsman', 'Haydar_Aliyev', 'Hedayat_Amin_Arsala', 'Hector_Mitelman', 'Heather_Locklear', 'Helen_Clark', 'Heather_Mills', 'Heidi_Fleiss', 'Hans_Eichel', 'Heinz_Feldmann', 'Hasan_Wirayuda', 'Heather_Willson', 'Hassan_Nasrallah', 'Heath_Ledger', 'Heidi_Klum', 'Hayden_Panettiere', 'Hassanal_Bolkiah', 'Harry_Schmidt', 'Hashim_Thaci', 'Helio_Castroneves', 'Hatsui_Hasuike', 'Heather_Whitestone_McCallum', 'Helio_Rubens_Garcia', 'Henk_Bekedam', 'Helen_Darling', 'Harvey_Weinstein', 'Harold_Scott', 'Hassan_Wirajuda', 'Heinrich_Wolfgang', 'Hector_Grullon', 'Harry_Belafonte', 'Hee-Won_Han', 'Hector_Babenco', 'Hashan_Tillakaratne', 'Hans_Corell', 'Helo_Pinheiro', 'Hartmut_Mehdorn', 'Helena_Schneider', 'Harvey_Fierstein', 'Herta_Daeubler-Gmelin', 'Herman_Edwards', 'Henning_Scherf', 'Henrique_Meirelles', 'Henry_Hyde', 'Hermogenes_Ebdane_Jr', 'Hikmat_al-Azzawi', 'Herbie_Hancock', 'Henry_Hilow', 'Hichiro_Naemura', 'Hidetoshi_Nakata', 'Hideki_Sato', 'Henry_Kissinger', 'Hermann_Maier', 'Herbert_Haupt', 'Hestrie_Cloette', 'Hernan_Diaz', 'Herb_Brooks', 'Herb_Sendek', 'Hideki_Matsui', 'Hermando_Harton', 'Herman_Moore', 'Hermes_Gamonal', 'Herb_Ritts', 'Henri_Proglio', 'Hilmi_Ozkok', 'Horacio_de_Jesus_Montoya', 'Hitoshi_Oshitani', 'Horace_Donovan_Reid', 'Hitomi_Soga', 'Holly_Robinson_Peete', 'Hilda_Fortune', 'Hoda_Asfor', 'Horacio_Julio_Pina', 'Hong_Myung', 'Himmler_Rebu', 'Hisao_Oguchi', 'Hiroki_Gomi', 'Hisashi_Owada', 'Horace_Newcomb', 'Hipolito_Mejia', 'Horst_Koehler', 'Hisham_Halawi', 'Hilary_Duff', 'Holly_Hunter', 'Hitoshi_Tanaka', 'Hilmi_Akin_Zorlu', 'Howard_Stringer', 'Hugh_Miller', 'Hubert_Green', 'Humberto_Espinoza', 'Howard_Ross', 'Humberto_Coelho', 'Hubie_Brown', 'Hu_Maoyuan', 'Hugh_Hefner', 'Hrithik_Roshan', 'Huan_Chung_Yi', 'Howard_Schultz', 'Hugo_Colace', 'Hugh_Campbell', 'Howard_Smith', 'Howard_Wilkinson', 'Hugh_Carey', 'Huang_Suey-Sheng', 'Iain_Richmond', 'Hussam_Mohammed_Amin', 'Hunter_Bates', 'Ian_Wilmut', 'Ian_Campbell', 'Hun_Sen', 'Hushiar_Zebari', 'Hussein_Malik', 'Iain_Duncan_Smith', 'Ian_McKellen', 'Ibrahim_Haddad', 'Hutomo_Mandala_Putra', 'Hwang_Doo-yun', 'Hunter_Kemper', 'Ian_Moran', 'Iban_Mayo', 'Iain_Anderson', 'Ian_Gillan', 'Ibrahim_Al-Marashi', 'Ian_Knop', 'Ian_Huntley', 'JJ_Redick', 'Ibrahim_Hilal', 'Ion_Tiriac', 'Jack_Osbourne', 'Iran_Brown', 'Ira_Einhorn', 'JK_Rowling', 'Ilan_Ramon', 'Jaap_de_Hoop_Scheffer', 'Ignatius_Wang', 'JT_Snow', 'Ismail_Khan', 'Irwan_Fadzi_Idris', 'Ion_Iliescu', 'Ivan_Lee', 'Inocencio_Arias', 'Itamar_Franco', 'Isabel_Orellana', 'Jack_Knowlton', 'Inga_Hall', 'Isabelle_Huppert', 'Irina_Framtsova', 'Imad_Khadduri', 'Imran_Khan', 'Inam-ul-Haq', 'Imre_Kertasz', 'Infanta_Cristina', 'Imad_Moustapha', 'Ilham_Aliev', 'Ibrahim_Rugova', 'Ilan_Goldfajn', 'Iva_Majoli', 'Ignacio_Antonio_Velasco', 'Intisar_Ajouri', 'Ismail_Abu_Shanab', 'Ivo_Dubs', 'Ivan_Shvedoff', 'Islam_Karimov', 'Irfan_Ahmed', 'Ivan_Stambolic', 'Jack_LaLanne', 'Izzat_Ibrahim', 'Igor_Trunov', 'JC_Chasez', 'Jack_Nicholson', 'Ilie_Nastase', 'Irina_Lobacheva', 'Ismael_Miranda', 'Irene_Kahn', 'Irv_Nathan', 'Jack_Goodman', 'Ismail_Cem', 'Idi_Amin', 'Jack_Welch', 'Jackie_Dennis', 'Jack_Valenti', 'Jackie_Sherrill', 'Jacky_Cheung', 'Jake_Plummer', 'James_Butts', 'Jacques_Kallis', 'James_Baker', 'Jalen_Rose', 'James_Barksdale', 'Jacqueline_Gold', 'Jake_Brace', 'Jalal_Talabani', 'James_Ballenger', 'James_Brown', 'James_Collinson', 'James_Carville', 'Jafar_Umar_Thalib', 'James_Coburn', 'Jacqueline_Obradors', 'Jacqueline_Edwards', 'Jaime_Orti', 'Jade_Jagger', 'James_Brosnahan', 'Jaime_Pressly', 'Jakob_Kellenberger', 'Jacqueline_Marris', 'James_Becker', 'Jacob_Frenkel', 'James_Coviello', 'James_Cunningham', 'Jada_Pinkett_Smith', 'Jacques_Villeneuve', 'James_Brazelton', 'Jake_Gyllenhaal', 'James_Phelps', 'James_Hoffa', 'James_Lockhart', 'James_Wolfensohn', 'James_Meeks', 'James_Hallock', 'James_Ivory', 'James_Spalding', 'James_Parker', 'James_W_Kennedy', 'James_Gandolfini', 'James_Wattana', 'James_Gibson', 'James_Young', 'James_Meredeth', 'James_Morris', 'James_Traficant', 'James_McGreevey', 'James_Smith', 'James_Hill', 'James_Williams', 'James_Dingemans', 'James_Schultz', 'James_Kopp', 'Jamie_Cooke', 'James_Harris', 'James_May', 'James_Murdoch', 'Jamie_Carey', 'James_Layug', 'James_Mathis', 'James_Maguire', 'James_Hakett', 'James_Kirtley', 'James_Hughes', 'Abdel_Nasser_Assidi', 'Abdullah', 'Ahmed_Ibrahim_Bilal', 'Aaron_Sorkin', 'Agnes_Bruckner', 'Abbas_Kiarostami', 'Alain_Cervantes', 'Ahmet_Necdet_Sezer', 'Al_Pacino', 'Aileen_Riggin_Soule', 'Ainsworth_Dyer', 'Akmal_Taher', 'Alan_Ball', 'Al_Davis', 'Al_Cardenas', 'Alan_Greer', 'Alain_Ducasse', 'Alan_Jackson', 'Aitor_Gonzalez', 'Alan_Trammell', 'Alan_Dreher', 'Ain_Seppik', 'Ahmed_Qureia', 'Akiko_Morigami', 'Aidan_Quinn', 'Al_Gore', 'Ai_Sugiyama', 'Al_Sharpton', 'Aiysha_Smith', 'Akbar_Hashemi_Rafsanjani', 'Alan_Greenspan', 'Aicha_El_Ouafi', 'Akbar_Al_Baker', 'Alan_Stonecipher', 'Ahmet_Demir', 'Alan_Zemaitis', 'Alan_Mulally', 'Ajit_Agarkar', 'Alan_Tang_Kwong-wing', 'Al_Leiter', 'Aishwarya_Rai', 'Alberto_Gonzales', 'Albert_Brooks', 'Albert_Montanes', 'Alastair_Johnston', 'Alberto_Acosta', 'Alanna_Ubach', 'Albert_Pujols', 'Alastair_Campbell', 'Aldo_Paredes', 'Albrecht_Mentz', 'Alberto_Ruiz_Gallardon', 'Albaro_Recoba', 'Albert_Costa', 'Alberto_Fujimori', 'Alberta_Lee', 'Alfred_Sant', 'Alexander_Downer', 'Alfonso_Portillo', 'Alejandro_Lembo', 'Alexandre_Herchcovitch', 'Alexander_Losyukov', 'Alejandro_Avila', 'Alexandre_Despatie', 'Ali_Hammoud', 'Alex_Ferguson', 'Alfredo_Moreno', 'Alexandra_Pelosi', 'Ali_Fallahian', 'Alfredo_Pena', 'Alejandro_Fernandez', 'Alejandro_Gonzalez_Inarritu', 'Alfred_Ford', 'Alex_Sink', 'Alex_Popov', 'Alexander_Payne', 'Alexandre_Vinokourov', 'Alex_Zanardi', 'Alex_Cabrera', 'Ali_Abdullah_Saleh', 'Alec_Baldwin', 'Alexis_Dennisoff', 'Alexandre_Daigle', 'Alfredo_di_Stefano', 'Alex_Barros', 'Alejandro_Atchugarry', 'Ali_Bin_Hussein', 'Alessandra_Cerna', 'Alex_King', 'Alexis_Bledel', 'Alex_Wallau', 'Ali_Ahmeti', 'Ali_Khamenei', 'Alex_Gonzalez', 'Alecos_Markides', 'Alex_Holmes', 'Ali_Abbas', 'Alexandra_Jackson', 'Aleksander_Voloshin', 'Alek_Wek', 'Alexandra_Rozovskaya', 'Alex_Cejka', 'Alessandro_Nesta', 'Alexander_Rumyantsev', 'Alexa_Loren', 'Alexa_Vega', 'Alejandro_Lopez', 'Alexandra_Spann', 'Alex_Corretja', 'Aleksander_Kwasniewski', 'Allison_Searing', 'Ally_Sheedy', 'Alisha_Richman', 'Alison_Krauss', 'Aline_Chretien', 'Alistair_MacDonald', 'Alison_Lohman', 'Alicia_Molik', 'Alice_Fisher', 'Allen_Iverson', 'Allen_Rock', 'Allan_Houston', 'Alicia_Hollowell', 'Allyson_Felix', 'Allan_Kemakeza', 'Allan_Wagner', 'Ali_Naimi', 'Almeida_Baptista', 'Alicia_Witt', 'Alma_Powell', 'Allison_Janney', 'Alina_Kabaeva', 'Alimzhan_Tokhtakhounov', 'Alicia_Keys', 'Alvaro_Silva_Calderon', 'Alvaro_Noboa', 'Amy_Gale', 'Anders_Ebbeson', 'Anastasia_Kelesidou', 'Amy_Pascal', 'Amram_Mitzna', 'AnFernce_Negron', 'Amy_Redford', 'Amanda_Bynes', 'Anderson_Varejao', 'Amelia_Vega', 'Ana_Palacio', 'Amanda_Coetzer', 'Amy_Brenneman', 'Alyse_Beaupre', 'Ana_Claudia_Talancon', 'Ana_Isabel_Sanchez', 'Aly_Wagner', 'Amber_Frey', 'Alyson_Hannigan', 'Ana_Paula_Gerard', 'Amer_al-Saadi', 'Anastasia_Myskina', 'Amanda_Marsh', 'Ambrose_Lee', 'Ana_Guevara', 'Amy_Cotton', 'Amanda_Plumer', 'Amanda_Beard', 'Amy_Smart', 'Amy_Yasbeck', 'Ana_Sebastiao', 'Amr_Moussa', 'Anatoliy_Kinakh', 'Andrei_Nikolishin', 'Andres_Pastrana', 'Andrew_Firestone', 'Andrea_Kiser', 'Andrew_Caldecott', 'Andrei_Mikhnevich', 'Andre_Smith', 'Andrea_Bocelli', 'Andrew_Cuomo', 'Andrea_Yates', 'Andres_DAlessandro', 'Andrew_Jarecki', 'Andrew_Luster', 'Andres_Manuel_Lopez_Obrador', 'Andrew_Niccol', 'Andrea_De_Cruz', 'Andrew_Fastow', 'Andrew_Bernard', 'Andrei_Konchalovsky', 'Andre_Lange', 'Andrew_Bunner', 'Andreas_Vinciguerra', 'Angela_Mascia-Frye', 'Andy_Lau', 'Andy_Warhol', 'Ann_Morgan', 'Angelo_Genova', 'Andy_Hebb', 'Angelo_Reyes', 'Andy_Graves', 'Anil_Ramsook', 'Anna_Faris', 'Andy_Madikians', 'Andy_North', 'Angel_Lockward', 'Anna_Nicole_Smith', 'Andy_Perez', 'Anita_DeFrantz', 'Andrzej_Tyszkiewicz', 'Andy_Griggs', 'Ann_Landers', 'Angie_Arzola', 'Anibal_Ibarra', 'Andrew_Sabey', 'Angela_Alvarado_Rosa', 'Anjum_Hussain', 'Andy_Garcia', 'Angie_Martinez', 'Anja_Paerson', 'Anna_Chicherova', 'Anna_Jones', 'Ann_Godbehere', 'Angela_Bassett', 'Andy_Rooney', 'Anette_Hosoi', 'Angelica_Romero', 'Angela_Merkel', 'Andrew_Weissmann', 'Angel_Maza', 'Andrew_Wetzler', 'Antonio_Elias_Saca', 'Anne_Donovan', 'Anzori_Kikalishvili', 'Annie_Chaplin', 'Anthony_Pico', 'Anneli_Jaatteenmaki', 'Anthony_Pisciotti', 'Anton_Balasingham', 'Anthony_Principi', 'Anthony_Rackauckas', 'Antonio_Trillanes', 'Ari_Bousbib', 'Annette_Lu', 'Aretha_Franklin', 'Annika_Sorenstam', 'Antonio_Bernardo', 'Anthony_Garotinho', 'Anne_Cavers', 'Antony_Leung', 'Aparna_Pillai', 'Arantxa_Sanchez-Vicario', 'Anthony_Hazen', 'Anne_Heche', 'Annette_Bening', 'Antanas_Valionis', 'Anthony_LaPaglia', 'Antje_Buschschulte', 'Aram_Adler', 'Anne_McLellan', 'Anthony_Hopkins', 'Anthony_Mazur', 'Anthony_Corso', 'Antonio_Palocci', 'Antonio_Catania', 'Anthony_Scott_Miller', 'Antwun_Echols', 'Annie_Machon', 'Anthony_Ervin', 'Antonio_Banderas', 'Anne_Krueger', 'Arie_Haan', 'Arianna_Huffington', 'Art_Cooper', 'Art_Hoffmann', 'Arminio_Fraga', 'Arlen_Specter', 'Arif_Mardin', 'Arnold_Scott', 'Arsinee_Khanjian', 'Arnaud_Clement', 'Arnaud_Lagardere', 'Arnoldo_Aleman', 'Arnie_Boehm', 'Art_Howe', 'Armando_Avila_Panchame', 'Armando_Calderon_Sol', 'Armando_Carrillo', 'Ascencion_Barajas', 'Ashley_Postell', 'Artieas_Shanks', 'Ashlea_Talbot', 'Asif_Ali_Zardari', 'Ashanti', 'Arthur_Johnson', 'Art_Lopez', 'Ashraf_Alasmar', 'Ashley_Judd', 'Ashraf_Ghani', 'Ashley_Olsen', 'Arye_Mekel', 'Ashton_Kutcher', 'Arthur_Martinez', 'Asa_Hutchinson', 'Arturo_Gatti', 'Astou_Ndiaye-Diatta', 'Astrid_Eyzaguirre', 'Askar_Akayev', 'Asmaa_Assad', 'Assad_Ahmadi', 'Asif_Hanif', 'Astrid_Betancourt', 'Barry_Nakell', 'Ben_Curtis', 'Atiabet_Ijan_Amabel', 'Barry_Ford', 'Benjamin_Franklin', 'Ben_Davis', 'Barbara_Roberts', 'Barzan_al-Tikriti', 'Barbara_Bodine', 'Barbara_Walters', 'Ben_Cahoon', 'Bela_Karolyi', 'Barbra_Streisand', 'Ben_Affleck', 'Ben_Betts', 'Avril_Lavigne', 'Benicio_Del_Toro', 'Benito_Santiago', 'Barry_Alvarez', 'Barbora_Strycova', 'Barry_Bonds', 'Bartosz_Kizierowski', 'Ben_Glisan', 'Ben_Cohen', 'Babe_Ruth', 'Audrey_Sauret', 'Aung_San_Suu_Kyi', 'Benazir_Bhutto', 'Ben_Braun', 'Barbara_De_Brun', 'Barry_Collier', 'Benjamin_McKenzie', 'Barry_Williams', 'Ben_Wallace', 'Audrey_Lacroix', 'BB_King', 'Basdeo_Panday', 'Barry_Hinson', 'Beatrice_Dalle', 'Barbara_Bach', 'Ataollah_Mohajerani', 'Augusto_Roa_Bastos', 'Austin_Kearns', 'Bak_Chang-Ryun', 'Begum_Khaleda_Zia', 'Barbara_Esbin', 'Barrett_Jackman', 'Barry_Switzer', 'Azra_Akin', 'Baburam_Bhattari', 'Beecher_Ray_Kirby', 'Ben_Lee', 'Beatriz_Merino', 'Atsushi_Sato', 'Baz_Luhrmann', 'Augustin_Calleri', 'Ben_Chandler', 'Benjamin_Bratt', 'Azmi_Bishara', 'Barbara_Becker', 'Barry_Diller', 'BJ_Habibie', 'Barbara_Boxer', 'Ben_Broussard', 'Benjamin_Netanyahu', 'Barry_Zito', 'Ben_Stein', 'Benedita_da_Silva', 'Ben_Howland', 'Bernard_Ebbers', 'Betsy_Smith', 'Beth_Jones', 'Betty_Garrison', 'Betty_Williams', 'Bernard_Kerik', 'Bertrand_Delanoe', 'Bernard_Law', 'Bernard_Lord', 'Bijan_Namdar_Zangeneh', 'Bernadette_Peters', 'Bernice_Wong', 'Bertie_Ahern', 'Bernard_Giraudeau', 'Biljana_Plavsic', 'Beth_Blough', 'Beyonce_Knowles', 'Bettina_Rheims', 'Bijan_Darvish', 'Bernard_Landry', 'Bernard_Siegel', 'Bianca_Jagger', 'Bilal_Erdogan', 'Betsy_Coffin', 'Bill_Carmody', 'Bill_Callahan', 'Bill_Belichick', 'Bill_Byrne', 'Bill_Butler', 'Bill_Cartwright', 'Bill_Clancy', 'Billy_Boyd', 'Bill_Herrion', 'Bill_Hughes', 'Bill_OReilly', 'Bill_Self', 'Bill_Walton', 'Billy_Crystal', 'Billy_Sollie', 'Bill_Sizemore', 'Billy_Tibbets', 'Billy_Andrade', 'Billy_Crawford', 'Bill_Kong', 'Bill_Readdy', 'Bill_Curry', 'Bill_Lerach', 'Billy_Donovan', 'Billy_Beane', 'Bill_Guerin', 'Billy_Gilman', 'Bill_Stein', 'Billy_Rork', 'Bill_Mauldin', 'Bill_King', 'Bill_Parsons', 'Bill_Rainer', 'Bill_Paxton', 'Bill_Richardson', 'Bill_Doba', 'Bing_Crosby', 'Billy_Graham', 'Bill_Duffey', 'Billy_Joel', 'Bill_Kollar', 'Billy_Edelin', 'Bill_Parcells', 'Bob_Cantrell', 'Bob_Curtis', 'Bob_Guccione', 'Bob_Colvin', 'Binyamin_Ben-Eliezer', 'Blythe_Hartley', 'Bob_Ferguson', 'Bo_Ryan', 'Bob_Beauprez', 'Blythe_Danner', 'Bob_Hayes', 'Bob_Dole', 'Bob_Graham', 'Bob_Eskridge', 'Bob_Crippen', 'Bison_Dele', 'Bob_Herz', 'Blas_Ople', 'Bob_Geldof', 'Bixente_LIzarazu', 'Bob_Bowlsby', 'Bob_Hartley', 'Bob_Goldman', 'Bob_Huggins', 'Bobby_Bowden', 'Bob_Newhart', 'Boris_Berezovsky', 'Brendan_Gaughan', 'Brad_Smith', 'Bob_Holden', 'Brad_Miller', 'Bonnie_Hunt', 'Brandon_Inge', 'Brady_Rodgers', 'Branko_Crvenkovski', 'Brad_Garrett', 'Bono', 'Bobo_Balde', 'Brendan_Hansen', 'Bobby_Kielty', 'Bob_Riley', 'Bob_Sulkin', 'Brenda_Wilson', 'Brajesh_Mishra', 'Brandon_Knight', 'Bob_Hope', 'Bob_Iger', 'Brandon_Hammond', 'Bob_Menendez', 'Bob_Stoops', 'Boris_Henry', 'Bonnie_Fuller', 'Bob_Taft', 'Brandon_Larson', 'Brandon_Robinson', 'Brad_Johnson', 'Brenda_Magana', 'Brad_Wilk', 'Brenda_van_Dam', 'Boris_Trajkovski', 'Boutros_Boutros_Ghali', 'Brad_Brownell', 'Boris_Yeltsin', 'Brandon_Jones', 'Bob_Krueger', 'Brendan_Stai', 'Brandon_Fails', 'Brad_Gushue', 'Bobby_Goldwater', 'Bob_Wright', 'Brandon_Boyd', 'Brad_Banks', 'Brandon_Lloyd', 'Brad_Pitt', 'Brandon_Spann', 'Boris_Becker', 'Brendan_Fraser', 'Bruce_Willis', 'Brian_Meadors', 'Brooke_Adams', 'Bruce_Springsteen', 'Brian_Kerr', 'Bridget_Fonda', 'Brian_De_Palma', 'Brian_Williams', 'Bryan_Chui', 'Brian_Cook', 'Brian_Olson', 'Brian_Schneider', 'Brian_Wells', 'Brigitte_Boisselier', 'Brian_Jordan', 'Bruce_Van_De_Velde', 'Brock_Berlin', 'Brian_Henson', 'Bruce_Weber', 'Brett_Hull', 'Buddy_Ryan', 'Brian_Van_Dusen', 'Bruce_Lunsford', 'Bruna_Colosio', 'Bronson_Arroyo', 'Brian_Florence', 'Bruce_Arena', 'Bryan_Thomas', 'Brian_Heidik', 'Brian_Grazier', 'Bryant_Young', 'Brian_Lara', 'Brian_Cashman', 'Brian_Mulroney', 'Brent_Coles', 'Brian_Scalabrine', 'Brian_Billick', 'Brian_Cowen', 'Buck_Rodgers', 'Brian_StPierre', 'Bryce_Carmine', 'Brook_Robinson', 'Brian_Gregory', 'Brian_Clemens', 'Budd_Schulberg', 'Brooke_Shields', 'Brian_McIntyre', 'Brittany_Snow', 'Brett_Boone', 'Brian_Pavlich', 'Bud_Selig', 'Brett_Perry', 'Brian_Weaver', 'Bruce_Paltrow', 'Brooke_Gordon', 'Brian_Campbell', 'Bruno_Junquiera', 'Bridgette_Wilson-Sampras', 'Cameron_Diaz', 'Camryn_Manheim', 'Calvin_Harrison', 'Calvin_Joseph_Coleman', 'Buzz_Hargrove', 'Candace_Sutton', 'Caio_Blat', 'Bulent_Ecevit', 'Byron_Scott', 'Camilla_Parker_Bowles', 'Butch_Davis', 'Candice_Beatty', 'Buford_Blount', 'Cabas', 'Camille_Lewis', 'Carin_Koch', 'Cari_Davis', 'Calista_Flockhart', 'Bustam_A_Zedan_Aljanabi', 'Candie_Kung', 'Carla_Gay_Balingit', 'Carolina_Kluft', 'Carlos_Savedra', 'Carlos_Fasciolo', 'Carla_Del_Ponte', 'Carina_Lau_Ka-ling', 'Carmen_Electra', 'Carlos_Barra', 'Carlos_Manuel_Pruneda', 'Carolyn_Kuhl', 'Carlton_Dotson', 'Carlos_Alberto_Parreira', 'Carlos_Bianchi', 'Carla_Tricoli', 'Carolina_Moraes', 'Carlos_Ghosn', 'Carla_Moreno', 'Caroline_Link', 'Caroline_Dhavernas', 'Carlos_De_Abreu', 'Carlos_Ruckauf', 'Carol_Williams', 'Carlton_Baugh', 'Carlos_Iturgaitz', 'Carlos_Mesa', 'Carol_Moseley_Braun', 'Carlos_Salinas', 'Carla_Sullivan', 'Carol_Niedermayer', 'Carlo_Ancelotti', 'Carlos_Ortega', 'Carly_Gullickson', 'Carla_Gugino', 'Carolyn_Dawn_Johnson', 'Carlos_Beltran', 'Carlos_Juarez', 'Carlos_Vives', 'Carol_Carmody', 'Carlos_Queiroz', 'Carlos_Ruiz', 'Carlos_Lordkipanitse', 'Carl_Levin', 'Carol_Burnett', 'Carly_Fiorina', 'Carlos_Barragan', 'Carlos_Quintanilla_Schmidt', 'Carlos_Alberto', 'Cassandra_Heise', 'Carrie-Anne_Moss', 'Carson_Daly', 'Carson_Palmer', 'Cass_Ballenger', 'Casey_Crowder', 'Cate_Blanchett', 'Carroll_Weimer', 'Casy_Preslar', 'Cathy_Chisholm', 'Cathy_Cunningham', 'Cathryn_Crawford', 'Catherine_Woodard', 'Catherine_Ndereba', 'Catherine_Deneuve', 'Catherine_Donkers', 'Cha_Yung-gu', 'Chang_Tso', 'Celso_Lafer', 'Chan_Ho_Park', 'Charley_Armey', 'Chang_Jae_On', 'Chawki_Armali', 'Cecile_de_France', 'Charlie_Garner', 'Charlene_Barshefsky', 'Cecilia_Chang', 'Cemil_Cicek', 'Cecilia_Bolocco', 'Chang_Saio-yue', 'Charla_Moye', 'Chen_Kaige', 'Charles_Cope', 'Charles_Ingram', 'Charlize_Theron', 'Charles_Bronson', 'Charles_Rogers', 'Charlotte_Rampling', 'Charles_Lebois', 'Charlton_Heston', 'Charles_Chandler_IV', 'Charles_Pouty', 'Charlie_Zaa', 'Charlie_Sheen', 'Chandrika_Kumaratunga', 'Cesar_Maia', 'Charlie_Williams', 'Charlotte_Casiraghi', 'Charles_Mathews', 'Catriona_Le_May_Doan', 'Celia_Cruz', 'Chang_Sang', 'Charmaine_Crooks', 'Charlie_Deane', 'Chelsea_Clinton', 'Chan_Choi', 'Charles_Pickering', 'Celine_Dion', 'Cedric_Benson', 'Chakib_Khelil', 'Chan_Gailey', 'Charlotte_Chambers', 'Charlotte_Church', 'Charles_Richardson', 'Chadha_Gurinder', 'Cesar_Gaviria', 'Charles_Holzner', 'Chea_Sophara', 'Charles_Tannok', 'Charles_Bell', 'Chance_Mock', 'Charlie_Hunnam', 'Chen_Liang_Yu', 'Chanda_Rubin', 'Chloe_Sevigny', 'Cherie_Blair', 'Cheryl_Hines', 'Chris_Byrd', 'Chip_Burrus', 'Chip_Ganassi', 'Cheryl_Little', 'Chin-Feng_Chen', 'Chin-Hui_Tsao', 'Cheryl_Tiegs', 'Chris_Andrews', 'Cheryl_Ford', 'Chris_Claiborne', 'Chris_Cookson', 'Chistian_Stahl', 'Cheryl_James', 'Chick_Hearn', 'Chris_Cirino', 'Chip_Knight', 'Chita_Rivera', 'Chen_Shui-bian', 'Cherry_Jones', 'Chris_Columbus', 'Chhouk_Rin', 'Chok_Tong_Goh', 'Choi_Sung-hong', 'Chris_Bell', 'Chris_Moore', 'Chris_Thomas', 'Christopher_Russell', 'Chris_Penn', 'Chris_Reitsma', 'Chuck_Woolery', 'Chris_Kolanas', 'Christian_Bale', 'Christopher_Whittle', 'Christopher_Speer', 'Chris_Hernandez', 'Christian_Longo', 'Christy_Turlington', 'Chris_Gratton', 'Christian_Von_Wernich', 'Christopher_Walken', 'Christopher_Patten', 'Chris_Matthews', 'Chris_Noth', 'Chuck_Amato', 'Chris_Klein', 'Christopher_Matero', 'Christopher_Reeve', 'Christine_Ebersole', 'Chris_Whitney', 'Christine_Todd_Whitman', 'Chuck_Finley', 'Christian_Patino', 'Chris_Neil', 'Chris_Cooper', 'Chris_Forsyth', 'Christine_Rau', 'Chris_Simon', 'Chris_Pronger', 'Chris_Cornell', 'Christy_Ferer', 'Christian_Malcolm', 'Christine_Baumgartner', 'Chuanyun_Li', 'Christian_Lirette', 'Chuck_Hagel', 'Christian_Wulff', 'Christine_Gregoire', 'Christoph_Daum', 'Christopher_Amolsch', 'Christiane_Wulff', 'Chris_Terry', 'Christian_Fittipaldi', 'Chuck_Bednarik', 'Christina_Sawaya', 'Christian_Gimenez', 'Christopher_Conyers', 'Christina_Aguilera', 'Christian_Olsson', 'Chris_Crocker', 'Christine_Arron', 'Chris_Tucker', 'Cliff_Ellis', 'Colin_Cowie', 'Colin_Montgomerie', 'Claudio_Abbado', 'Clark_Randt', 'Claudio_Lopez', 'Claude_Jorda', 'Claire_Danes', 'Claudette_Robinson', 'Claudia_Pechstein', 'Chuck_Yeager', 'Claudine_Farrell', 'Chung_Mong-joon', 'Clive_Lloyd', 'Colin_Campbell', 'Cindy_Crawford', 'Clint_Eastwood', 'Cindy_Margolis', 'Claudio_Ranieri', 'Clara_Harris', 'Claire_Leger', 'Clifford_Etienne', 'Claudia_Cardinale', 'Claire_Hentzen', 'Colin_Jackson', 'Clive_Woodward', 'Clare_Latimer', 'Clint_Lamebear', 'Clint_Howard', 'Cindy_Taylor', 'Clare_Short', 'Ciaran_Hinds', 'Clifford_Robinson', 'Claudia_Coslovich', 'Ciro_Gomes', 'Clemente_de_la_Vega', 'Clay_Aiken', 'Cindy_Zagorski', 'Cindy_Klassen', 'Chung_Mong-hun', 'Claudia_Schiffer', 'Cristina_Fernandez', 'Cruz_Bustamante', 'Craig_David', 'Coretta_Scott_King', 'Compay_Segundo', 'Colleen_OClair', 'Craig_Burley', 'Cuba_Gooding_Jr', 'Conrad_Black', 'Cristiano_da_Matta', 'Corliss_Williamson', 'Cristina_Saralegui', 'Corey_Maggette', 'Colleen_Ryan', 'Constance_Marie', 'Conchita_Martinez', 'Cori_Enghusen', 'Colleen_Donovan', 'Crandall_Bowles', 'Costas_Simitis', 'Craig_MacTavish', 'Cosmo_Iacavazzi', 'Colleen_Atwood', 'Craig_Fitzgibbon', 'Corinna_Harfouch', 'Cora_Cambell', 'Columba_Bush', 'Courtney_Cox', 'Crispin_Glover', 'Cristina_Torrens_Valero', 'Courtney_Love', 'Colleen_Jones', 'Connie_Chung', 'Craig_Doblin', 'Craig_Morgan', 'Conan_OBrien', 'Cristian_Barros', 'Cristina_Kirchner', 'Craig_Wilson', 'Collis_Temple_III', 'Daniel_Scioli', 'Daniela_Hantuchova', 'Daisy_Fuentes', 'Daniel_Day-Lewis', 'Curtis_Joseph', 'Daniela_Cicarelli', 'Curtis_Strange', 'DAngelo_Jimenez', 'Darcy_Regier', 'Dan_Bartlett', 'Danny_Green', 'Dan_Kellner', 'Dale_Bosworth', 'Daniele_Nardello', 'Danny_Elfman', 'Daniel_Osorno', 'Daniel_Zelman', 'Dai_Chul_Chyung', 'Curt_Weldon', 'Dalia_Rabin-Pelosoff', 'Danny_Glover', 'Cynthia_Rowley', 'Daniel_Barenboim', 'Daniel_Ortega', 'Dagmar_Dunlevy', 'Daniel_Rouse', 'Daniel_Montgomery', 'Daniel_Chin', 'Dan_Ackroyd', 'Curtis_Rodriguez', 'Dale_Earnhardt_Jr', 'Dan_Bylsma', 'Dan_LaCoutre', 'Daniel_Patrick_Moynihan', 'Dan_Morales', 'Dan_Boyle', 'Daniel_Darnell', 'Dan_Guerrero', 'Dan_Prinster', 'Daniel_Kurtzer', 'Daniel_Radcliffe', 'Daniele_Bergamin', 'Danis_Tanovic', 'Daniell_Sunjata', 'Daniel_Montenegro', 'Daniel_Coats', 'Danny_Morgan', 'Danny_Avalon', 'Damon_Stoudamire', 'Danielle_Spencer', 'Daniele_Hypolito', 'Dan_Dickau', 'Danny_Ainge', 'Cyndi_Thompson', 'Dana_Vollmer', 'Dale_Earnhardt', 'Dan_Duquette', 'Dan_Quayle', 'Dan_Snyder', 'Daniel_Bruehl', 'Daja_Bedanova', 'Damon_van_Dam', 'Dan_Monson', 'Darin_Erstad', 'Daniel_Pearl', 'Dan_Wheldon', 'Cynthia_Nixon', 'Darrell_Dickey', 'Dario_Camuffo', 'Darko_Milicic', 'Darrell_Porter', 'Darrell_Royal', 'Darlene_Garrettson', 'Darla_Moore', 'Darrell_Issa', 'Dariusz_Michalczewski', 'David_Heymann', 'David_Dewhurst', 'David_Bowie', 'David_Dewayne_Williams', 'David_Hanson', 'David_Dorfman', 'David_Hyde_Pierce', 'David_Braley', 'David_Caruso', 'Alexandra_Vodjanikova', 'Ahmad_Jbarah', 'Alanis_Morissette', 'Alfonso_Cuaron', 'Alberto_Sordi', 'Ali_Adbul_Karim_Madani', 'Alonzo_Mourning', 'Alex_Penelas', 'Ali_Mohammed_Maher', 'Alexander_Lukashenko', 'Alfonso_Soriano', 'Abdul_Rahman', 'Amber_Tamblyn', 'Afton_Smith', 'Alexandra_Stevenson', 'Abdel_Madi_Shabneh', 'Alejandro_Lerner', 'Alicia_Silverstone', 'Akhmed_Zakayev', 'Adolfo_Rodriguez_Saa', 'Alan_Dershowitz', 'Ahmed_Ahmed', 'Amporn_Falise', 'Bill_Elliott', 'Aron_Ralston', 'Angela_Lansbury', 'Andy_Bryant', 'Bertrand_Bonello', 'Brandon_Webb', 'Anthony_Lee_Johnson', 'Bill_Maher', 'Bill_Stapleton', 'Bob_Melvin', 'Armand_Sargen', 'Barbara_Brezigar', 'Billy_Bob_Thornton', 'Bob_Petrino', 'Bashar_Assad', 'Bart_Freundlich', 'Andy_Dick', 'Brad_Russ', 'Bill_Bradley', 'Bill_Fennelly', 'Brad_Alexander_Smith', 'Barbara_Felt-Miller', 'Bobby_Jackson', 'Andre_Techine', 'Ben_Kingsley', 'Brett_Hawke', 'Brennon_Leighton', 'Bernardo_Segura', 'Andy_Benes', 'Andrew_Gilligan', 'Bob_Alper', 'Anthony_Carter', 'Bart_Hendricks', 'Bill_Pryor', 'Andre_Bucher', 'Anwar_Ibrahim', 'Andrew_Shutley', 'Bode_Miller', 'Augusto_Pinochet', 'Anne_ONeil', 'Annie-Jeanne_Reynaud', 'Bo_Pelini', 'Brawley_King', 'Boris_Jordan', 'Anders_Fogh_Rasmussen', 'Benjamin_Neulander', 'Bobby_Robson', 'Andy_Wisecarver', 'Bill_Nelson', 'Antonio_Cassano', 'Benjamin_Martinez', 'Andy_Griffith', 'Anthony_Fauci', 'Atom_Egoyan', 'Arnold_Palmer', 'Dai_Bachtiar', 'Dany_Heatley', 'Cindy_Moll', 'Celso_Amorim', 'Damon_Dash', 'David_Westerfield', 'Dalai_Lama', 'Choi_Yun-yong', 'Carolina_Barco', 'Charlie_Coles', 'Daniel_Comisso_Urdaneta', 'Candice_Bergen', 'Chris_Swecker', 'Bryan_Cooley', 'Daryl_Sabara', 'Carey_Lowell', 'Colin_Phillips', 'Dave_Odom', 'Chante_Jawan_Mallard', 'Dan_Reeves', 'Darren_Campel', 'Connie_Freydell', 'Claire_Tomalin', 'Debra_Shank', 'Brian_Griese', 'Dave_Johnson', 'Carl_Reiner', 'Colin_Prescot', 'Camille_Colvin', 'Damarius_Bilbo', 'David_Duval', 'Dario_Franchitti', 'Corinne_Coman', 'Cole_Chapman', 'Charles_Grassley', 'Darvis_Patton', 'Dean_Jacek', 'Chris_Dodd', 'Casey_Mears', 'Deb_Santos', 'Charles_Kartman', 'Charles_Schumer', 'David_Alpay', 'Catherine_Bell', 'Chen_Tsai-chin', 'Clay_Campbell', 'Carlos_Arroyo', 'Bryan_Murray', 'Dean_Barker', 'Chyung_Dai-chul', 'Caroline_Kennedy', 'Coleen_Rowley', 'Carl_Pope', 'Carla_Myers', 'Carlo_Azeglio_Ciampi', 'Chris_Rock', 'Bruce_Gebhardt', 'Bryan_Adams', 'David_Ho', 'David_Collenette', 'Calbert_Cheaney', 'Cecilia_Cheung', 'Chuck_Eidson', 'Claire_De_Gryse', 'Daryl_Parks', 'Cathy_Freeman', 'Carlos_Paternina', 'Dave_Williams', 'Chang_Dae-whan', 'Cho_Myung-kyun', 'Craig_OClair', 'David_Howard', 'Coco_dEste', 'Dave_Tucker', 'Christian_Lacroix', 'Daryl_Hannah', 'Frank_Van_Ecke', 'Elena_Tihomirova', 'Fred_Durst', 'Dick_Clark', 'Donald_Fehr', 'Don_Flanagan', 'Ed_Rendell', 'Dino_Risi', 'Doris_Roberts', 'Drew_Barrymore', 'Evander_Holyfield', 'Doc_Rivers', 'Dwayne_Johnson', 'Dereck_Whittenburg', 'Des_Brown', 'Fatmir_Limaj', 'Geovani_Lapentti', 'George_Lucas', 'Gary_Gero', 'Gary_Williams', 'Garry_McCoy', 'Diana_Ross', 'Dick_Vermeil', 'Dominick_Dunne', 'Francisco_Garcia', 'Douglas_Gansler', 'Eliza_Dushku', 'Dora_Bakoyianni', 'Georgia_Giddings', 'Eliott_Spitzer', 'Dusty_Baker', 'Eriko_Tamura', 'Doug_Moe', 'Dimitar_Berbatov', 'Farouk_al-Sharaa', 'Felipe_De_Borbon', 'George_Galloway', 'Fujio_Cho', 'Garry_Trudeau', 'Fred_Thompson', 'Ernie_Grunfeld', 'Doug_Wilson', 'Edward_Arsenault', 'Geraldine_Chaplin', 'Francis_Ford_Coppola', 'Eric_Schacht', 'Elinor_Caplan', 'Gary_Gitnick', 'George_Brumley', 'Gerard_Tronche', 'Don_Carcieri', 'Eric_Daze', 'Francois_Ozon', 'Garry_Witherall', 'Emily_Stevens', 'Frank_Coraci', 'Fatma_Kusibeh', 'Elaine_Stritch', 'Frank_Cassell', 'Eve_Pelletier', 'Dwayne_Wade', 'Ed_Sullivan', 'Eugene_Melnyk', 'Donald_Keyser', 'Gary_Stevens', 'Donna_Morrissey', 'Douglas_Paal', 'Fernando_Sanz', 'George_Papandreou', 'Federico_Trillo', 'Felicity_Huffman', 'Gao_Qiang', 'Eddie_Murray', 'Erik_Morales', 'Gavin_Degraw', 'Gerard_de_Cortanze', 'Dianne_Reeves', 'Evan_Rachel_Wood', 'Erin_Brockovich', 'Einars_Repse', 'Gabriel_Farhi', 'Erskine_Bowles', 'Fernando_Alonso', 'Emmanuelle_Beart', 'Dianne_Feinstein', 'Frank_Beamer', 'Hootie_Johnson', 'Gretchen_Mol', 'Gunilla_Backman', 'Gian_Marco', 'Ghassan_Elashi', 'Guillaume_Cannet', 'Hilary_McKay', 'Hugh_Jessiman', 'Gillian_Anderson', 'Hamid_Efendi', 'Howard_Stern', 'Heather_Chinnock', 'Hans_Peter_Briegel', 'Greg_Kinsey', 'Hayley_Tullett', 'Gerardo_Gambala', 'Harald_Ringstorff', 'Guy_Ritchie', 'Harriet_Lessy', 'Hanan_Ashrawi', 'Gregor_Gysi', 'Helmut_Panke', 'Hamzah_Haz', 'Herb_Dhaliwal', 'Hans_Leistritz', 'Gideon_Yago', 'Greg_Owen', 'Giancarlo_Fisichella', 'Henry_Suazo', 'Gloria_Allred', 'Hana_Urushima', 'Henry_Castellanos', 'Hernan_Crespo', 'Hiroyuki_Yoshino', 'Helen_Alvare', 'Harbhajan_Singh', 'Harry_Kalas', 'Guus_Hiddink', 'Greg_Ostertag', 'Glenn_Plummer', 'James_Comey', 'Jason_Priestley', 'Janice_Abreu', 'Irina_Yatchenko', 'James_Sensenbrenner', 'Ian_Smith', 'Itzhak_Perlman', 'Jean-Luc_Bideau', 'James_McPherson', 'Ismail_Merchant', 'Jamling_Norgay', 'Imam_Samudra', 'Ingrid_Betancourt', 'JP_Suarez', 'Ibrahim_Jaafari', 'Ivana_Trump', 'Jack_Smith', 'Jean-Francois_Lemounier', 'Janica_Kostelic', 'Hung_Wan-ting', 'James_Cameron', 'Isabela_Moraes', 'Isaiah_Washington', 'Javier_Vargas', 'Janez_Drnovsek', 'Ishaq_Shahryar', 'Isabella_Rossellini', 'Jason_Alexander', 'Hugo_Conte', 'James_Watt', 'Janis_Ruth_Coulter', 'Jan_Pronk', 'Ivan_Helguera', 'Jamie_Dimon', 'Isidro_Pastor', 'Iveta_Benesova', 'James_Jones', 'Imelda_Marcos', 'James_Caan', 'Jack_Grubman', 'Jean_Nagel', 'Jeffrey_Archer', 'Johnny_Carson', 'John_Richardson', 'Jodie_Foster', 'Jennifer_Connelly', 'Jose_Bove', 'Jennifer_Keller', 'Jennifer_Renee_Short', 'Jim_Freudenberg', 'Jeffrey_Donaldson', 'Joe_Strummer', 'John_Herrington', 'Jerome_Jenkins', 'Jim_Haslett', 'Jeanette_Gray', 'Jesse_Helms', 'Jessica_Lange', 'Jeanette_Stauffer', 'Jonathan_Arden', 'Jeanne_Moreau', 'Jose_Theodore', 'Joseph_Ralston', 'Johnny_Hallyday', 'Jim_Hardin', 'Jennifer_Reilly', 'Jelena_Dokic', 'Jorge_Castaneda', 'John_Coomber', 'Jimmy_Smits', 'John_Engler', 'Jimmy_Gurule', 'John_Burkett', 'Jerry_Seinfeld', 'Jorge_Rodolfo_Canicoba_Corral', 'John_McKay', 'Jonathan_Woodgate', 'Jerry_Tarkanian', 'Joseph_Blatter', 'Johnson_Panjaitan', 'Jose_Rosado', 'Jennifer_Thompson', 'Juan_Carlos_Morales', 'Joe_Pantoliano', 'Jim_Otto', 'Jesper_Parnevik', 'Jonathan_Tiomkin', 'Jorge_Batlle', 'Jeffrey_Ashby', 'Joe_Crede', 'Kurt_Suzuki', 'Kathie_Louise_Saunders', 'Laura_Elena_Harring', 'Laurel_Clark', 'Julio_Rossi', 'Leonardo_Fernandez', 'Kathleen_Abernathy', 'Keith_Lowen', 'Liu_Xiaoqing', 'Larry_Wilmore', 'Karen_Mok', 'Katie_Harman', 'Laurent_Jalabert', 'Lorraine_Bracco', 'Katie_Wagner', 'Kathy_Winters', 'Justin_Guarini', 'Lionel_Chalmers', 'Karen_Lynn_Gorney', 'Laurent_Woulzy', 'Kimora_Lee', 'Lisa_Gottsegen', 'Juergen_Trittin', 'Kate_Lee', 'Kenneth_Brill', 'Kevin_Millwood', 'Lars_Burgsmuller', 'Larry_Ralston', 'Leon_Barmore', 'Keith_Fotta', 'Lindsey_Graham', 'Kate_Winslet', 'Linus_Roache', 'Julianna_Margulies', 'Kim_Dong-hwa', 'Leandrinho_Barbosa', 'Laurie_Hobbs', 'Lee_Baca', 'Lloyd_Richards', 'Khalid_Khannouchi', 'Juan_Ignacio_Chela', 'Kevin_Sorbo', 'Louisa_Baileche', 'Kim_Weeks', 'Kenneth_Branagh', 'Leonard_Schrank', 'Kevin_Stallings', 'Julio_De_Brun', 'Juliette_Binoche', 'Ken_Loach', 'Khader_Rashid_Rahim', 'Justin_Gatlin', 'Kristin_Davis', 'Leticia_Dolera', 'Larry_Hahn', 'Larry_Lindsey', 'Kim_Hong-gul', 'Juljia_Vysotskij', 'Laura_Morante', 'Lisa_Ling', 'Kevin_Crane', 'Kim_Su_Nam', 'Kirsten_Gilham', 'Kelvin_Sampson', 'Linda_Franklin', 'Lewis_Booth', 'Matthew_Broderick', 'Michael_Shelby', 'Micky_Arison', 'Mikhail_Gorbachev', 'Milan_Kucan', 'Nancy_Powell', 'Maria_Burks', 'Mark_Sisk', 'Mario_Dumont', 'Mary_Anne_Souza', 'Mike_Sherman', 'Maritza_Macias_Furano', 'Mary_Katherine_Smart', 'Martin_Brooke', 'Martin_Cauchon', 'Minnie_Mendoza', 'Marisol_Martinez_Sambran', 'Mary_Jo_Myers', 'Mamdouh_Habib', 'Melina_Kanakaredes', 'Michael_Jordan', 'Martin_Keown', 'Maria_Luisa_Mendonca', 'Melissa_Etheridge', 'Mike_Maroth', 'Mike_Carona', 'Martin_Burnham', 'Mahima_Chaudhari', 'Marie_Haghal', 'Madge_Overhouse', 'Mark_Butcher', 'Marie-Josee_Croze', 'Magda_Kertasz', 'Marquier_Montano_Contreras', 'Mariana_Ohata', 'Martha_Bowen', 'Mike_Davis', 'Nelson_Acosta', 'Mitchell_Daniels', 'Martin_Short', 'Mike_Duke', 'Michael_Brandon', 'Michel_Kratochvil', 'Natalie_Williams', 'Manfred_Stolpe', 'Makiya_Ali_Hassan', 'Mike_Farrar', 'McGuire_Gibson', 'Milt_Heflin', 'Martin_Rodriguez', 'Michael_Richards', 'Michael_Dell', 'Mario_Kreutzberger', 'Masao_Azuma', 'Mitchell_Crooks', 'Momcilo_Perisic', 'Mark_Everson', 'Mark_Wahlberg', 'Mario_Lemieux', 'Maria_Shkolnikova', 'Nancy_Kerrigan', 'Mike_Eskew', 'Naomi_Campbell', 'Mehdi_Baala', 'Marlene_Weingartner', 'Martin_Sheen', 'Mary_Sue_Coleman', 'Mitar_Rasevic', 'Maria_Callas', 'Miranda_Otto', 'Mike_Smith', 'Mike_Slive', 'Mike_OConnell', 'Maria_Garcia', 'Mohamed_Seineldin', 'Martin_Bandier', 'Martin_Hoellwarth', 'Marsha_Sharp', 'Melissa_Joan_Hart', 'Mohammed_Abu_Sharia', 'Mohammad_Fares', 'Mikhail_Kalashnikov', 'Mitchell_Swartz', 'Michael_Kors', 'Patty_Schnyder', 'Pat_Summitt', 'Nicholoas_DiMarzio', 'Portia_de_Rossi', 'Nora_Bendijo', 'Nursultan_Nazarbayev', 'Nikki_McKibbin', 'Ornella_Muti', 'Paul_Sarbanes', 'Paul_Celluci', 'Nina_Jacobson', 'Nicoletta_Braschi', 'Prince_Rainier_III', 'Prince_Edward', 'Phil_Gramm', 'Paula_Locke', 'Nong_Duc_Manh', 'Paige_Fitzgerald', 'Osrat_Iosef', 'Perry_Farrell', 'Nicola_Wells', 'Nicolas_Lapentti', 'Pernilla_Bjorn', 'Patrick_Coleman', 'Pat_Riley', 'Patricia_Heaton', 'Princess_Aiko', 'Patricia_Phillips', 'Placido_Domingo', 'Pinar_del_Rio', 'Philippe_Noiret', 'Phil_Jackson', 'Pascal_Affi_Nguessan', 'Patricia_Wartusch', 'Prince_Philippe', 'Osama_Al_Baz', 'Olene_Walker', 'Nigel_Redden', 'Paul_William_Hurley', 'Nick_Reilly', 'Paul_LeClerc', 'Prince_William', 'Peter_Bacanovic', 'Pier_Ferdinando_Casini', 'Norodom_Sihanouk', 'Rachel_Kempson', 'Raul_Rivero', 'Rich_Gannon', 'Rachel_Roy', 'Raaf_Schefter', 'Richard_Fine', 'Ricardo_Monasterio', 'Richard_Hamilton', 'Priscilla_Presley', 'Richard_Haass', 'Raul_Cubas', 'Rafiq_Hariri', 'Richard_Cohen', 'Ratna_Sari_Dewi_Sukarno', 'Qusai_Hussein', 'Richard_Carl', 'Rio_Ferdinand', 'Rick_Rickert', 'Rick_Dinse', 'Robbie_Naish', 'Robin_Johansen', 'Romeo_Gigli', 'Silvia_Farina_Elia', 'Roman_Tam', 'Richard_Rodriguez', 'Scott_Hoch', 'Rosalyn_Carter', 'Rick_Reed', 'Sachiko_Yamada', 'Sarah_Hughes', 'Se_Hyuk_Joo', 'Ruth_Bader_Ginsburg', 'Sharon_Frey', 'Sedigh_Barmak', 'Richard_Tubb', 'Shane_Phillips', 'Robert_Evans', 'Robin_McLaurin_Williams', 'Sam_Brownback', 'Seymour_Cassell', 'Sergio_Garcia', 'Shaun_Rusling', 'Sergei_Yushenkov', 'Rollie_Massimino', 'Rick_Barnes', 'Robert_Fico', 'Richard_Sterner', 'Robbie_Coltrane', 'Sam_Bith', 'Sheldon_Silver', 'Saeb_Erekat', 'Shane_Hmiel', 'Ronde_Barber', 'Robin_Tunney', 'Robert_Bonner', 'Richard_Shelby', 'Richard_Parsons', 'Roberto_Lavagna', 'Sandra_Bullock', 'Shavon_Earp', 'Sigourney_Weaver', 'Sean_Hayes', 'Robert_Korzeniowski', 'Salman_Khan', 'Rodolfo_Abalos', 'SJ_Twu', 'Serge_Tchuruk', 'Rita_Grande', 'Rodney_Rempt', 'Sachin_Tendulkar', 'Ryan_Leaf', 'Ronald_Kadish', 'Robert_Downey_Jr', 'Sandra_Day_OConner', 'Stan_Kroenke', 'Takahiro_Mori', 'Sterling_Hitchcock', 'Steve_Ballmer', 'Todd_Haynes', 'Simon_Yam', 'Theresa_May', 'Todd_Robbins', 'Tom_Moss', 'Svetislav_Pesic', 'Tommy_Maddox', 'Tom_Rouen', 'Szu_Yu_Chen', 'Stockard_Channing', 'Sophie', 'Teri_Files', 'Tom_Glavine', 'Todd_Parrott', 'Stephane_Delajoux', 'Steve_Shiver', 'Tatiana_Gratcheva', 'Taylor_Twellman', 'Thomas_Stewart', 'Tina_Fey', 'Stephen_Swindal', 'Steven_Tyler', 'Tom_Vilsack', 'Steven_Spielberg', 'Thomas_Rupprath', 'Terry_McAuliffe', 'Tim_Blake_Nelson', 'Taku_Yamasaki', 'Ted_Williams', 'Tatiana_Panova', 'Solomon_Passy', 'Tom_DeLay', 'Stephen_Glassroth', 'Steve_Case', 'Terunobu_Maeda', 'Steve_Avery', 'Thomas_Watjen', 'Tippi_Hedren', 'TA_McLendon', 'Sue_Grafton', 'Tomoko_Hagiwara', 'Tommy_Shane_Steiner', 'Terry_Hoeppner', 'Steven_Van_Zandt', 'Stephanie_Zimbalist', 'Toshimitsu_Motegi', 'Tina_Pisnik', 'Tatsuya_Fuji', 'Stefan_Tafrov', 'Steffi_Graf', 'Wanda_Ilene_Barzee', 'Yasushi_Akashi', 'Yusaku_Miyazato', 'Tsutomu_Takebe', 'Tristan_Gretzky', 'Zarai_Toledo', 'Yoshiyuki_Kamei', 'Vincent_Gallo', 'Werner_Schlager', 'Tyra_Banks', 'Zhong_Nanshan', 'Yukiko_Okudo', 'Wayne_Allard', 'Vincent_Sombrotto', 'Willie_Wilson', 'Valentina_Tereshkova', 'Tyler_Hamilton', 'William_Hyde', 'Vernon_Forrest', 'Vitali_Klitschko', 'Tzipora_Obziler', 'Zico', 'Valerie_Harper', 'Zorica_Radovic', 'Zalmay_Khalilzad', 'Aaron_Eckhart', 'AJ_Lamas', 'Aaron_Guiel', 'AJ_Cook', 'Abdullatif_Sener', 'Abner_Martinez', 'Aaron_Peirsol', 'Adel_Al-Jubeir', 'Ahmed_Chalabi', 'Adam_Mair', 'Abdullah_Nasseef', 'Abel_Aguilar', 'Abid_Hamid_Mahmud_Al-Tikriti', 'Agbani_Darego', 'Abdul_Majeed_Shobokshi', 'Abdel_Aziz_Al-Hakim', 'Adoor_Gopalakarishnan', 'Abba_Eban', 'Adam_Rich', 'Aaron_Patterson', 'Adrian_Murrell', 'Aby_Har-Even', 'Abraham_Foxman', 'Abdoulaye_Wade', 'Abel_Pacheco', 'Adam_Sandler', 'Abdullah_al-Attiyah', 'Adrianna_Zuzic', 'Aaron_Pena', 'Adisai_Bodharamik', 'Agnelo_Queiroz', 'Adriana_Lima', 'Abdullah_Ahmad_Badawi', 'Ahmad_Masood', 'Adrian_McPherson', 'Abdulaziz_Kamilov', 'Adrian_Fernandez', 'Adam_Ant', 'Ahmed_Ghazi', 'Adelina_Avila', 'Adolfo_Aguilar_Zinser', 'Ahmed_Lopez', 'Adriana_Perez_Navarro', 'Adrian_Annus', 'Adam_Kennedy', 'Adam_Freier', 'Adam_Scott', 'Aaron_Tippin', 'Adam_Herbert', 'Adrian_Nastase']\n",
            "No of files deleted: 11\n",
            "files deleted ['pairs_01.txt', 'pairs_02.txt', 'pairs_03.txt', 'pairs_04.txt', 'pairs_05.txt', 'pairs_06.txt', 'pairs_07.txt', 'pairs_08.txt', 'pairs_09.txt', 'pairs_10.txt', 'pairs.txt']\n"
          ],
          "name": "stdout"
        }
      ]
    },
    {
      "cell_type": "code",
      "metadata": {
        "id": "_S8E9Uq6-Zty",
        "colab_type": "code",
        "colab": {
          "base_uri": "https://localhost:8080/",
          "height": 34
        },
        "outputId": "5aa331c2-53dc-4ebc-ebcc-623c34c004f1"
      },
      "source": [
        "\n",
        "#Export Zip file\n",
        "from zipfile import ZipFile \n",
        "import zipfile\n",
        "  \n",
        "def get_all_file_paths(directory): \n",
        "  \n",
        "    # initializing empty file paths list \n",
        "    file_paths = [] \n",
        "  \n",
        "    # crawling through directory and subdirectories \n",
        "    for root, directories, files in os.walk(directory): \n",
        "        for filename in files: \n",
        "            # join the two strings in order to form the full filepath. \n",
        "            filepath = os.path.join(root, filename) \n",
        "            file_paths.append(filepath) \n",
        "  \n",
        "    # returning all file paths \n",
        "    return file_paths         \n",
        "  \n",
        "def main(): \n",
        "    # path to folder which needs to be zipped \n",
        "    directory = 'lfw_funneled'\n",
        "  \n",
        "    # calling function to get all file paths in the directory \n",
        "    file_paths = get_all_file_paths(directory) \n",
        "    # writing files to a zipfile \n",
        "    with ZipFile('/content/drive/My Drive/E4S2-S5/lfw_funneled_modified.zip','a', compression = zipfile.ZIP_DEFLATED) as zip: \n",
        "        # writing each file one by one \n",
        "        for file in file_paths: \n",
        "            zip.write(file) \n",
        "\n",
        "main()\n",
        "print('All files zipped successfully!')  "
      ],
      "execution_count": null,
      "outputs": [
        {
          "output_type": "stream",
          "text": [
            "All files zipped successfully!\n"
          ],
          "name": "stdout"
        }
      ]
    },
    {
      "cell_type": "code",
      "metadata": {
        "id": "mh1hBC3SNjSj",
        "colab_type": "code",
        "colab": {
          "base_uri": "https://localhost:8080/",
          "height": 50
        },
        "outputId": "43e04d0e-adbe-4136-865b-c8e6b97a852d"
      },
      "source": [
        "from zipfile import ZipFile \n",
        "\n",
        "filename = '/content/drive/My Drive/E4S2-S5/lfw_funneled_modified.zip'\n",
        "\n",
        "with ZipFile(filename, 'r') as zip_file: \n",
        "    print('Extracting all the files now...') \n",
        "    zip_file.extractall('files') \n",
        "    print('Done!')"
      ],
      "execution_count": null,
      "outputs": [
        {
          "output_type": "stream",
          "text": [
            "Extracting all the files now...\n",
            "Done!\n"
          ],
          "name": "stdout"
        }
      ]
    },
    {
      "cell_type": "code",
      "metadata": {
        "id": "Z70Nls4JOojg",
        "colab_type": "code",
        "colab": {
          "base_uri": "https://localhost:8080/",
          "height": 34
        },
        "outputId": "3f2104e8-3075-4054-ff1d-ef681783e74c"
      },
      "source": [
        "# Total No Of Classes\n",
        "!ls '/content/files/lfw_funneled'| wc -l"
      ],
      "execution_count": null,
      "outputs": [
        {
          "output_type": "stream",
          "text": [
            "194\n"
          ],
          "name": "stdout"
        }
      ]
    },
    {
      "cell_type": "code",
      "metadata": {
        "id": "DzCXckAAbBfR",
        "colab_type": "code",
        "colab": {
          "base_uri": "https://localhost:8080/",
          "height": 34
        },
        "outputId": "437a92a7-feb9-44c8-baf0-09e62e0f3895"
      },
      "source": [
        "c = 0\n",
        "for i in os.listdir('/content/files/lfw_funneled'):\n",
        "  path = f'/content/files/lfw_funneled/{i}'\n",
        "  if os.path.isdir(path):\n",
        "    num = len(os.listdir(path))\n",
        "    c+=num\n",
        "  else:\n",
        "    pass\n",
        "print('total',c)"
      ],
      "execution_count": null,
      "outputs": [
        {
          "output_type": "stream",
          "text": [
            "total 4655\n"
          ],
          "name": "stdout"
        }
      ]
    },
    {
      "cell_type": "code",
      "metadata": {
        "id": "Mkg4gSlwOx1n",
        "colab_type": "code",
        "colab": {}
      },
      "source": [
        "train_transforms =transforms.Compose([\n",
        "        transforms.Resize(size=(224, 224),interpolation=2),\n",
        "        transforms.RandomHorizontalFlip(),\n",
        "        transforms.ToTensor(),\n",
        "        transforms.Normalize(mean=[0.485, 0.456, 0.406],std=[0.229, 0.224, 0.225])   # Normalized value \n",
        "    ])\n",
        "\n",
        "dir = '/content/files/lfw_funneled'\n",
        "dataset = torchvision.datasets.ImageFolder(dir,transform = train_transforms)"
      ],
      "execution_count": null,
      "outputs": []
    },
    {
      "cell_type": "code",
      "metadata": {
        "id": "bpm4YKIkREeb",
        "colab_type": "code",
        "colab": {
          "base_uri": "https://localhost:8080/",
          "height": 185
        },
        "outputId": "76505f1b-1c9c-4c1c-f63e-f1f78272e8ac"
      },
      "source": [
        "print('APJ_Abdul_Kalam',dataset.class_to_idx['APJ_Abdul_Kalam'])\n",
        "print('Barack_Obama',dataset.class_to_idx['Barack_Obama'])\n",
        "print('Chandler_Bing',dataset.class_to_idx['Chandler_Bing'])\n",
        "print('Elon Musk',dataset.class_to_idx['Elon_Musk'])\n",
        "print('Joey_Tribianni',dataset.class_to_idx['Joey_Tribianni'])\n",
        "print('Michelle_Obama',dataset.class_to_idx['Michelle_Obama'])\n",
        "print('Ross_Gellar',dataset.class_to_idx['Ross_Gellar'])\n",
        "print('Rachel_Green',dataset.class_to_idx['Rachel_Green'])\n",
        "print('Pheobe_Buffay',dataset.class_to_idx['Pheobe_Buffay'])\n",
        "print('Monica_Gellar',dataset.class_to_idx['Monica_Gellar'])"
      ],
      "execution_count": null,
      "outputs": [
        {
          "output_type": "stream",
          "text": [
            "APJ_Abdul_Kalam 0\n",
            "Barack_Obama 15\n",
            "Chandler_Bing 26\n",
            "Elon Musk 39\n",
            "Joey_Tribianni 89\n",
            "Michelle_Obama 127\n",
            "Ross_Gellar 160\n",
            "Rachel_Green 149\n",
            "Pheobe_Buffay 146\n",
            "Monica_Gellar 131\n"
          ],
          "name": "stdout"
        }
      ]
    },
    {
      "cell_type": "code",
      "metadata": {
        "id": "K_8mCNiYH8P4",
        "colab_type": "code",
        "colab": {}
      },
      "source": [
        ""
      ],
      "execution_count": null,
      "outputs": []
    }
  ]
}