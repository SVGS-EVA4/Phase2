{
 "cells": [
  {
   "cell_type": "code",
   "execution_count": 34,
   "metadata": {},
   "outputs": [],
   "source": [
    "import numpy as np\n",
    "import matplotlib.pyplot as plt\n",
    "from IPython import display"
   ]
  },
  {
   "cell_type": "code",
   "execution_count": 400,
   "metadata": {},
   "outputs": [],
   "source": [
    "import math\n",
    "def sigmoid(x):\n",
    "    return 1 / (1 + np.exp(-x))\n",
    "def dsigmoid(x):\n",
    "    return x*(1-x)\n",
    "def tanh(x):\n",
    "    return  np.tanh(x)\n",
    "def dtanh(x):\n",
    "    return (1 - x**2)\n",
    "    "
   ]
  },
  {
   "cell_type": "code",
   "execution_count": 373,
   "metadata": {},
   "outputs": [
    {
     "data": {
      "text/plain": [
       "0.5"
      ]
     },
     "execution_count": 373,
     "metadata": {},
     "output_type": "execute_result"
    }
   ],
   "source": [
    "sigmoid(0)"
   ]
  },
  {
   "cell_type": "code",
   "execution_count": 401,
   "metadata": {},
   "outputs": [
    {
     "data": {
      "text/plain": [
       "0.25"
      ]
     },
     "execution_count": 401,
     "metadata": {},
     "output_type": "execute_result"
    }
   ],
   "source": [
    "dsigmoid(sigmoid(0))"
   ]
  },
  {
   "cell_type": "code",
   "execution_count": 375,
   "metadata": {},
   "outputs": [
    {
     "data": {
      "text/plain": [
       "0.24491866240370913"
      ]
     },
     "execution_count": 375,
     "metadata": {},
     "output_type": "execute_result"
    }
   ],
   "source": [
    "tanhx(dsigmoid(sigmoid(0)))"
   ]
  },
  {
   "cell_type": "code",
   "execution_count": 376,
   "metadata": {},
   "outputs": [
    {
     "data": {
      "text/plain": [
       "0.9423345963472292"
      ]
     },
     "execution_count": 376,
     "metadata": {},
     "output_type": "execute_result"
    }
   ],
   "source": [
    "dtanhx(tanhx(dsigmoid(sigmoid(0))))"
   ]
  },
  {
   "cell_type": "code",
   "execution_count": 377,
   "metadata": {},
   "outputs": [],
   "source": [
    "data = open('text.txt', 'r').read()"
   ]
  },
  {
   "cell_type": "code",
   "execution_count": 378,
   "metadata": {},
   "outputs": [
    {
     "name": "stdout",
     "output_type": "stream",
     "text": [
      "A coronavirus is a kind of common virus that causes an infection in your nose, sinuses, or upper throat. Most coronaviruses are not dangerous.\n",
      "\n",
      "Some types of coronaviruses are serious, though. About 858 people have died from Middle East respiratory syndrome (MERS), which first appeared in 2012 in Saudi Arabia and then in other countries in the Middle East, Africa, Asia, and Europe. In April 2014, the first American was hospitalized for MERS in Indiana and another case was reported in Florida. Both had just returned from Saudi Arabia. In May 2015, there was an outbreak of MERS in Korea, which was the largest outbreak outside of the Arabian Peninsula. In 2003, 774 people died from a severe acute respiratory syndrome (SARS) outbreak. As of 2015, there were no further reports of cases of SARS. \n",
      "\n",
      "But in early 2020, following a December 2019 outbreak in China, the World Health Organization identified a new type, 2019 novel coronavirus (2019-nCoV).\n",
      "\n",
      "Often a coronavirus causes upper respiratory infection symptoms like a stuffy nose, cough, and sore throat. You can treat them with rest and over-the-counter medication. The coronavirus can also cause middle ear infections in children.\n",
      "\n",
      "What Is a Coronavirus?\n",
      "Coronaviruses were first identified in the 1960s, but we don't know where they come from. They get their name from their crown-like shape. Sometimes, but not often, a coronavirus can infect both animals and humans.\n",
      "\n",
      "Most coronaviruses spread the same way other cold-causing viruses do: through infected people coughing and sneezing, by touching an infected person's hands or face, or by touching things such as doorknobs that infected people have touched.\n",
      "\n",
      "Almost everyone gets a coronavirus infection at least once in their life, most likely as a young child. In the United States, coronaviruses are more common in the fall and winter, but anyone can come down with a coronavirus infection at any time.\n",
      "\n",
      "Common Symptoms of Coronavirus\n",
      "The symptoms of most coronaviruses are similar to any other upper respiratory infection, including runny nose, coughing, sore throat, and sometimes a fever. In most cases, you won't know whether you have a coronavirus or a different cold-causing virus, such as rhinovirus.\n",
      "\n",
      "You could get lab tests, including nose and throat cultures and blood work, to find out whether your cold was caused by a coronavirus, but there's no reason to. The test results wouldn't change how you treat your symptoms, which typically go away in a few days.\n",
      "\n",
      "But if a coronavirus infection spreads to the lower respiratory tract (your windpipe and your lungs), it can cause pneumonia, especially in older people, people with heart disease, or people with weakened immune systems.\n",
      "\n",
      "What to Do About Coronavirus\n",
      "There is no vaccine for coronavirus. To help prevent a coronavirus infection, do the same things you do to avoid the common cold:\n",
      "\n",
      "Wash your hands thoroughly with soap and warm water or with an alcohol-based hand sanitizer.\n",
      "Keep your hands and fingers away from your eyes, nose, and mouth.\n",
      "Avoid close contact with people who are infected.\n",
      "You treat a coronavirus infection the same way you treat a cold:\n",
      "\n",
      "Get plenty of rest.\n",
      "Drink fluids.\n",
      "Take over-the-counter medicine for a sore throat and fever. But don't give aspirin to children or teens younger than 19; use ibuprofen or acetaminophen instead.\n",
      "A humidifier or steamy shower can also help ease a sore and scratchy throat.\n",
      "\n",
      "Even when a coronavirus causes MERS or SARS in other countries, the kind of coronavirus infection common in the U.S. isn't a serious threat for an otherwise healthy adult. If you get sick, treat your symptoms and contact a doctor if they get worse or don't go away.\n",
      "\n",
      "News about the coronavirus outbreak that started in Wuhan, China, is changing rapidly. The respiratory infection, which is closely related to SARS and MERS, has been spreading across China, and cases have been diagnosed in several other countries, including the United States. Weâ€™ll provide the latest updates on cases, deaths, travel restrictions, and more here.\n",
      "\n",
      "What is the latest news?\n",
      "On Wednesday, CDC medical officers and others met a group of about 210 U.S. citizens evacuated from China. Their plane landed at March Air Reserve Base in California, where the evacuees will be monitored for coronavirus symptoms for several days. Anyone showing signs of the disease will be taken to the hospital.\n",
      "\n",
      "Some airlines, including British Airways and United Airlines, are stopping or reducing flights to China as the number of cases continues to rise rapidly. Worldwide there are now more than 6,000 cases and 132 deaths, according to the European Centre for Disease Prevention and Control. While the majority of cases center in China, it has been found in the U.S. and these countries: Thailand, Hong Kong, Taiwan, Australia, Macau, Singapore, Japan, South Korea, Malaysia, France, Canada, Vietnam, Nepal, Cambodia, Germany and United Arab Emirates. There have been no deaths outside China.\n",
      "\n",
      "In the U.S., the CDC is reporting five confirmed cases from these states: Washington, Illinois, California and Arizona. On Monday, Jan. 27, Nancy Messonnier, MD, Director of the agency's National Center for Immunization and Respiratory Diseases, said it had 165 persons under investigation for coronavirus from 36 states. In addition to the 5 confirmed positive, 68 have tested negative. They are prioritizing the testing based on a personâ€™s risk.\n",
      "\n",
      "Messonnier said they had posted the blueprints for their diagnostic test on a public server and were working \"as fast as we can\" to get test kits out to states. \n",
      "\n",
      "Right now, all the testing for the new coronavirus is taking place at the CDC's headquarters in Atlanta.\n",
      "\n",
      "She said the CDC was mulling a change to its travel screening for the infection, but did not give further details.\n",
      "\n",
      "How many people have been diagnosed with the virus, and how many have died?\n",
      "According to European CDC, the majority of the confirmed cases â€“ 5,994 â€“ are in China. Another 78 cases are confirmed outside of China in 16 countries. Countries with the most confirmed cases include Thailand with 14 and Taiwan and South Korea with 8 each. All reported deaths have been in China, and include 16 healthcare workers.\n",
      "\n",
      "When did the outbreak start?\n",
      "China first reported the outbreak in Wuhan on Dec. 30, 2019.\n",
      "\n",
      "What are public officials doing to contain the virus?\n",
      "On Tuesday, the CDC urged travelers to avoid non-essential travel to China.\n",
      "\n",
      "Chinese officials have shut down all public transportation to 10 cities, affecting 35 million people. The first was Wuhan, which has a population of about 11 million. In Wuhan, that includes buses, subways, trains, and the airport.\n",
      "\n",
      "All passengers flying into the United States from Wuhan will be routed through one of five airports and screened for fever and other signs of the virus. â€œPatients of concernï¿½ï¿½ï¿½ will be referred to a facility and given a test to find out if they have the virus.\n",
      "\n",
      "What do we know about cases in the United States?\n",
      "In all U.S. cases so far, patients had recently traveled to Wuhan.\n",
      "\n",
      "California has two patients, one in Los Angeles County and one in Orange County. The patient from Orange County is a man in his 50s. He is in a local hospital in isolation and is in good condition, according to the Orange County Health Care Agency. Los Angeles County officials did not provide additional details about the patient there.\n",
      "\n",
      "Arizona's Department of Health Services said its patient is a Maricopa County resident and member of the Arizona State University community who did not live in student housing. The patient is not severely ill and is being kept in isolation. \n",
      "\n",
      "Another case involves a woman in her 60s from Chicago. The Chicago Department of Public Health reported that she had visited Wuhan, China in December and returned to Chicago earlier this month. She is hospitalized in stable condition. \n",
      "\n",
      "The first U.S. patient is a man in his 30s from Washington state. He had traveled from Wuhan and entered the country before the screening was in place. He started having symptoms and contacted his doctor. He is in good condition and is in isolation at Providence Regional Medical Center.\n",
      "\n",
      "Is travel to China safe?\n",
      "Wuhan is closed to travelers.\n",
      "\n",
      "The CDC is advising that travelers avoid non-essential travel to China. Travelers who do go should:\n",
      "\n",
      "Avoid contact with sick people.\n",
      "Avoid animals, animal markets, and products that come from animals.\n",
      "Wash their hands often with soap and water, or use an alcohol-based sanitizer if thatâ€™s not available.\n",
      "Seek medical care right away for a fever, cough, or difficulty breathing. Tell a health care professional about any travel.\n",
      "What are the symptoms, and how is the virus diagnosed?\n",
      "China created a test for the virus and shared that information with other countries. The CDC has developed its own test.\n",
      "\n",
      "Symptoms include a fever, coughing, and shortness of breath. They may appear 2 to 14 days after youâ€™re exposed to the virus.\n",
      "\n",
      "What is the source of the virus, and how is it spread?\n",
      "Health officials are not sure of the source of the virus yet or how easily it can spread. Coronaviruses are found in many different animals, including camels, cattle, cats, and bats. One research paper also suggested snakes as a possible source. The new virus may be linked to a seafood and live animal market in Wuhan that has since been closed\n",
      "\n",
      "The virus can spread from person to person. Health officials are seeing this happen most often where people are close together and in health care settings. To date, 16 health care workers have been infected.\n",
      "\n",
      "The CDC believes that severe acute respiratory syndrome (SARS) and Middle East respiratory syndrome (MERS), two other types of coronavirus, are spread through droplets when someone coughs or sneezes.\n",
      "\n",
      "Is there a vaccine?\n",
      "There is no vaccine, but the National Institutes of Health is working on one and hopes to begin testing in several months. That testing would be for safety. If itâ€™s safe, there would be testing to see how well it works.\n",
      "\n",
      "How is it treated?\n",
      "There is no specific treatment for the virus. Patients are generally given supportive care for their symptoms, such a fluids and pain relievers. Hospitalized patients may need support with breathing.\n"
     ]
    }
   ],
   "source": [
    "print(data)"
   ]
  },
  {
   "cell_type": "code",
   "execution_count": 379,
   "metadata": {},
   "outputs": [
    {
     "name": "stdout",
     "output_type": "stream",
     "text": [
      "Corona Virus article has 10245 characters, 79 unique characters\n"
     ]
    }
   ],
   "source": [
    "chars = list(set(data))\n",
    "data_size, X_size = len(data), len(chars)\n",
    "print(\"Corona Virus article has %d characters, %d unique characters\" %(data_size, X_size))\n",
    "char_to_idx = {ch:i for i,ch in enumerate(chars)}\n",
    "idx_to_char = {i:ch for i,ch in enumerate(chars)}"
   ]
  },
  {
   "cell_type": "code",
   "execution_count": 380,
   "metadata": {},
   "outputs": [],
   "source": [
    "Hidden_Layer_size = 10 #size of the hidden layer\n",
    "Time_steps = 10 # Number of time steps (length of the sequence) used for training\n",
    "learning_rate = 1e-1 # Learning Rate\n",
    "weight_sd = 0.1 #Standard deviation of weights for initialization\n",
    "z_size = Hidden_Layer_size + X_size #Size of concatenation(H, X) vector"
   ]
  },
  {
   "cell_type": "code",
   "execution_count": 381,
   "metadata": {},
   "outputs": [],
   "source": [
    "class Param:\n",
    "    def __init__(self, name, value):\n",
    "      self.name = name\n",
    "      self.v = value # parameter value\n",
    "      self.d = np.zeros_like(value) # derivative\n",
    "      self.m = np.zeros_like(value) # momentum for Adagrad"
   ]
  },
  {
   "cell_type": "markdown",
   "metadata": {},
   "source": [
    "We use random weights with normal distribution (0, weight_sd) for  tanh  activation function and (0.5, weight_sd) for  `sigmoid`  activation function.\n",
    "\n",
    "Biases are initialized to zeros."
   ]
  },
  {
   "cell_type": "markdown",
   "metadata": {},
   "source": [
    "You are making this network, please note f, i, c and o (also \"v\") in the image below:\n",
    "![alt text](http://blog.varunajayasiri.com/ml/lstm.svg)\n",
    "\n",
    "Please note that we are concatenating the old_hidden_vector and new_input."
   ]
  },
  {
   "cell_type": "markdown",
   "metadata": {},
   "source": [
    "In the class definition below, what should be size_a, size_b, and size_c? ONLY use the variables defined above."
   ]
  },
  {
   "cell_type": "code",
   "execution_count": 382,
   "metadata": {},
   "outputs": [],
   "source": [
    "size_a = 10 #hidden_layer_size\n",
    "size_b = 89 #hidden_layer_size + X_size\n",
    "size_c = 79 # X_size\n",
    "\n",
    "class Parameters:\n",
    "    def __init__(self):\n",
    "        self.W_f = Param('W_f', np.random.randn(size_a, size_b) * weight_sd + 0.5)\n",
    "        self.b_f = Param('b_f', np.zeros((size_a, 1)))\n",
    "\n",
    "        self.W_i = Param('W_i', np.random.randn(size_a, size_b) * weight_sd + 0.5)\n",
    "        self.b_i = Param('b_i', np.zeros((size_a, 1)))\n",
    "\n",
    "        self.W_C = Param('W_C', np.random.randn(size_a, size_b) * weight_sd)\n",
    "        self.b_C = Param('b_C', np.zeros((size_a, 1)))\n",
    "\n",
    "        self.W_o = Param('W_o', np.random.randn(size_a, size_b) * weight_sd + 0.5)\n",
    "        self.b_o = Param('b_o', np.zeros((size_a, 1)))\n",
    "\n",
    "        #For final layer to predict the next character\n",
    "        self.W_v = Param('W_v', np.random.randn(X_size, size_a) * weight_sd)\n",
    "        self.b_v = Param('b_v', np.zeros((size_c, 1)))\n",
    "        \n",
    "    def all(self):\n",
    "        return [self.W_f, self.W_i, self.W_C, self.W_o, self.W_v,\n",
    "               self.b_f, self.b_i, self.b_C, self.b_o, self.b_v]\n",
    "        \n",
    "parameters = Parameters()"
   ]
  },
  {
   "cell_type": "markdown",
   "metadata": {},
   "source": [
    "Look at these operations which we'll be writing:\n",
    "\n",
    "**Concatenation of h and x:**\n",
    "\n",
    "$z\\:=\\:\\left[h_{t-1},\\:x\\right]$\n",
    "\n",
    "$f_t=\\sigma\\left(W_f\\cdot z\\:+\\:b_f\\:\\right)$\n",
    "\n",
    "$i_i=\\sigma\\left(W_i\\cdot z\\:+\\:b_i\\right)$\n",
    "\n",
    "$\\overline{C_t}=\\tanh\\left(W_C\\cdot z\\:+\\:b_C\\right)$\n",
    "\n",
    "$C_t=f_t\\ast C_{t-1}+i_t\\ast \\overline{C}_t$\n",
    "\n",
    "$o_t=\\sigma\\left(W_o\\cdot z\\:+\\:b_i\\right)$\n",
    "\n",
    "$h_t=o_t\\ast\\tanh\\left(C_t\\right)$\n",
    "\n",
    "**Logits:**\n",
    "\n",
    "$v_t=W_v\\cdot h_t+b_v$\n",
    "\n",
    "**Softmax:**\n",
    "\n",
    "$\\hat{y}=softmax\\left(v_t\\right)$"
   ]
  },
  {
   "cell_type": "code",
   "execution_count": 416,
   "metadata": {},
   "outputs": [],
   "source": [
    "def forward(x, h_prev, C_prev, p = parameters):\n",
    "    assert x.shape == (X_size, 1)\n",
    "    assert h_prev.shape == (Hidden_Layer_size, 1)\n",
    "    assert C_prev.shape == (Hidden_Layer_size, 1)\n",
    "    \n",
    "    z = np.row_stack((h_prev, x))\n",
    "    f = sigmoid(np.dot(p.W_f.v , z) + p.b_f.v)\n",
    "    i = sigmoid(np.dot(p.W_i.v , z) + p.b_i.v)  \n",
    "    C_bar = tanh(np.dot(p.W_C.v , z) + p.b_C.v )\n",
    "\n",
    "    C = f * C_prev + i * C_bar #pointwise multiplication\n",
    "    o = sigmoid(np.dot(p.W_o.v , z) + p.b_o.v )\n",
    "    h =o * tanh(C) #pointwise multiplication\n",
    "    \n",
    "    v = np.dot(p.W_v.v , h) + p.b_v.v \n",
    "    y = np.exp(v) / np.sum(np.exp(v)) #softmax\n",
    "   \n",
    "\n",
    "    return z, f, i, C_bar, C, o, h, v, y"
   ]
  },
  {
   "cell_type": "code",
   "execution_count": 384,
   "metadata": {},
   "outputs": [],
   "source": [
    "z, f, i, C_bar, C, o, h, v, y = forward(np.zeros((X_size, 1)), np.zeros((Hidden_Layer_size, 1)), np.zeros((Hidden_Layer_size, 1)))"
   ]
  },
  {
   "cell_type": "code",
   "execution_count": 385,
   "metadata": {},
   "outputs": [
    {
     "data": {
      "text/plain": [
       "(79, 1)"
      ]
     },
     "execution_count": 385,
     "metadata": {},
     "output_type": "execute_result"
    }
   ],
   "source": [
    "v.shape"
   ]
  },
  {
   "cell_type": "code",
   "execution_count": 418,
   "metadata": {},
   "outputs": [],
   "source": [
    "def backward(target, dh_next, dC_next, C_prev,\n",
    "             z, f, i, C_bar, C, o, h, v, y,\n",
    "             p = parameters):\n",
    "    \n",
    "    assert z.shape == (X_size + Hidden_Layer_size, 1)\n",
    "    assert v.shape == (X_size, 1)\n",
    "    assert y.shape == (X_size, 1)\n",
    "    \n",
    "    for param in [dh_next, dC_next, C_prev, f, i, C_bar, C, o, h]:\n",
    "        assert param.shape == (Hidden_Layer_size, 1)\n",
    "        \n",
    "    dv = np.copy(y)\n",
    "    dv[target] -= 1\n",
    "\n",
    "    p.W_v.d += np.dot(dv, h.T)\n",
    "    p.b_v.d += dv\n",
    "\n",
    "    dh = np.dot(p.W_v.v.T, dv)        \n",
    "    dh += dh_next\n",
    "    do = dh * tanh(C)\n",
    "    do = dsigmoid(o) * do\n",
    "    p.W_o.d += np.dot(do, z.T)\n",
    "    p.b_o.d += do\n",
    "\n",
    "    dC = np.copy(dC_next)\n",
    "    dC += dh * o * dtanh(tanh(C))\n",
    "    dC_bar = dC * i\n",
    "    dC_bar = dtanh(C_bar) * dC_bar\n",
    "    p.W_C.d += np.dot(dC_bar, z.T)\n",
    "    p.b_C.d += dC_bar\n",
    "\n",
    "    di = dC * C_bar\n",
    "    di = dsigmoid(i) * di\n",
    "    p.W_i.d += np.dot(di, z.T)\n",
    "    p.b_i.d += di\n",
    "\n",
    "    df = dC * C_prev\n",
    "    df = dsigmoid(f) * df\n",
    "    p.W_f.d += np.dot(df, z.T)\n",
    "    p.b_f.d += df\n",
    "\n",
    "    dz = (np.dot(p.W_f.v.T, df)\n",
    "         + np.dot(p.W_i.v.T, di)\n",
    "         + np.dot(p.W_C.v.T, dC_bar)\n",
    "         + np.dot(p.W_o.v.T, do))\n",
    "    dh_prev = dz[:Hidden_Layer_size, :]\n",
    "    dC_prev = f * dC\n",
    "    \n",
    "    return dh_prev, dC_prev"
   ]
  },
  {
   "cell_type": "code",
   "execution_count": 387,
   "metadata": {},
   "outputs": [],
   "source": [
    "def clear_gradients(params = parameters):\n",
    "    for p in params.all():\n",
    "        p.d.fill(0)\n",
    "\n",
    "def clip_gradients(params = parameters):\n",
    "    for p in params.all():\n",
    "        np.clip(p.d, -1, 1, out=p.d)"
   ]
  },
  {
   "cell_type": "code",
   "execution_count": 388,
   "metadata": {},
   "outputs": [],
   "source": [
    "def forward_backward(inputs, targets, h_prev, C_prev):\n",
    "    global paramters\n",
    "    \n",
    "    # To store the values for each time step\n",
    "    x_s, z_s, f_s, i_s,  = {}, {}, {}, {}\n",
    "    C_bar_s, C_s, o_s, h_s = {}, {}, {}, {}\n",
    "    v_s, y_s =  {}, {}\n",
    "    \n",
    "    # Values at t - 1\n",
    "    h_s[-1] = np.copy(h_prev)\n",
    "    C_s[-1] = np.copy(C_prev)\n",
    "    \n",
    "    loss = 0\n",
    "    # Loop through time steps\n",
    "    assert len(inputs) == Time_steps\n",
    "    for t in range(len(inputs)):\n",
    "        x_s[t] = np.zeros((X_size, 1))\n",
    "        x_s[t][inputs[t]] = 1 # Input character\n",
    "        \n",
    "        (z_s[t], f_s[t], i_s[t],\n",
    "        C_bar_s[t], C_s[t], o_s[t], h_s[t],\n",
    "        v_s[t], y_s[t]) = \\\n",
    "            forward(x_s[t], h_s[t - 1], C_s[t - 1]) # Forward pass\n",
    "            \n",
    "        loss += -np.log(y_s[t][targets[t], 0]) # Loss for at t\n",
    "        \n",
    "    clear_gradients()\n",
    "\n",
    "    dh_next = np.zeros_like(h_s[0]) #dh from the next character\n",
    "    dC_next = np.zeros_like(C_s[0]) #dh from the next character\n",
    "\n",
    "    for t in reversed(range(len(inputs))):\n",
    "        # Backward pass\n",
    "        dh_next, dC_next = \\\n",
    "            backward(target = targets[t], dh_next = dh_next,\n",
    "                     dC_next = dC_next, C_prev = C_s[t-1],\n",
    "                     z = z_s[t], f = f_s[t], i = i_s[t], C_bar = C_bar_s[t],\n",
    "                     C = C_s[t], o = o_s[t], h = h_s[t], v = v_s[t],\n",
    "                     y = y_s[t])\n",
    "\n",
    "    clip_gradients()\n",
    "    \n",
    "    return loss, h_s[len(inputs) - 1], C_s[len(inputs) - 1]"
   ]
  },
  {
   "cell_type": "code",
   "execution_count": 389,
   "metadata": {},
   "outputs": [],
   "source": [
    "def sample(h_prev, C_prev, first_char_idx, sentence_length):\n",
    "    x = np.zeros((X_size, 1))\n",
    "    x[first_char_idx] = 1\n",
    "\n",
    "    h = h_prev\n",
    "    C = C_prev\n",
    "\n",
    "    indexes = []\n",
    "    \n",
    "    for t in range(sentence_length):\n",
    "        _, _, _, _, C, _, h, _, p = forward(x, h, C)\n",
    "      \n",
    "        idx = np.random.choice(range(X_size), p=p.ravel())\n",
    "        x = np.zeros((X_size, 1))\n",
    "        x[idx] = 1\n",
    "        indexes.append(idx)\n",
    "\n",
    "    return indexes"
   ]
  },
  {
   "cell_type": "code",
   "execution_count": 394,
   "metadata": {},
   "outputs": [],
   "source": [
    "def update_status(inputs, h_prev, C_prev):\n",
    "    #initialized later\n",
    "    global plot_iter, plot_loss\n",
    "    global smooth_loss\n",
    "    \n",
    "    # Get predictions for 200 letters with current model\n",
    "\n",
    "    sample_idx = sample(h_prev, C_prev, inputs[0], 200)\n",
    "    txt = ''.join(idx_to_char[idx] for idx in sample_idx)\n",
    "\n",
    "    # Clear and plot\n",
    "    plt.plot(plot_iter, plot_loss)\n",
    "    display.clear_output(wait=True)\n",
    "    plt.show()\n",
    "\n",
    "    #Print prediction and loss\n",
    "    print(\"----\\n %s \\n----\" % (txt, ))\n",
    "    print(\"iter %d, loss %f\" % (iteration, smooth_loss))"
   ]
  },
  {
   "cell_type": "markdown",
   "metadata": {},
   "source": [
    "# Update Parameters\n",
    "\n",
    "\\begin{align}\n",
    "\\theta_i &= \\theta_i - \\eta\\frac{d\\theta_i}{\\sum dw_{\\tau}^2} \\\\\n",
    "d\\theta_i &= \\frac{\\partial L}{\\partial \\theta_i}\n",
    "\\end{align}"
   ]
  },
  {
   "cell_type": "code",
   "execution_count": 395,
   "metadata": {},
   "outputs": [],
   "source": [
    "def update_paramters(params = parameters):\n",
    "    for p in params.all():\n",
    "        p.m += p.d * p.d # Calculate sum of gradients\n",
    "        #print(learning_rate * dparam)\n",
    "        p.v += -(learning_rate * p.d / np.sqrt(p.m + 1e-8))"
   ]
  },
  {
   "cell_type": "code",
   "execution_count": 396,
   "metadata": {},
   "outputs": [],
   "source": [
    "# Exponential average of loss\n",
    "# Initialize to a error of a random model\n",
    "smooth_loss = -np.log(1.0 / X_size) * Time_steps\n",
    "\n",
    "iteration, pointer = 0, 0\n",
    "\n",
    "# For the graph\n",
    "plot_iter = np.zeros((0))\n",
    "plot_loss = np.zeros((0))"
   ]
  },
  {
   "cell_type": "code",
   "execution_count": 397,
   "metadata": {},
   "outputs": [
    {
     "data": {
      "image/png": "[encoded data removed]",
      "text/plain": [
       "<Figure size 432x288 with 1 Axes>"
      ]
     },
     "metadata": {
      "needs_background": "light"
     },
     "output_type": "display_data"
    },
    {
     "name": "stdout",
     "output_type": "stream",
     "text": [
      "----\n",
      " enaf Ctet  hed Uonan hs\n",
      "Nanaw edary  buc symiasent ntye mdind sdatanans. pengalt ise Ith fyosome athicules aty hcoran on the asptor sam thapenam.y n.lan, slevCcil, had hte flete tir hoesS CDcege fa;ci \n",
      "----\n",
      "iter 900, loss 32.764747\n"
     ]
    }
   ],
   "source": [
    "iter = 1000\n",
    "while iter > 0:\n",
    "  # Reset\n",
    "  if pointer + Time_steps >= len(data) or iteration == 0:\n",
    "      g_h_prev = np.zeros((Hidden_Layer_size, 1))\n",
    "      g_C_prev = np.zeros((Hidden_Layer_size, 1))\n",
    "      pointer = 0\n",
    "\n",
    "\n",
    "  inputs = ([char_to_idx[ch] \n",
    "              for ch in data[pointer: pointer + Time_steps]])\n",
    "  targets = ([char_to_idx[ch] \n",
    "              for ch in data[pointer + 1: pointer + Time_steps + 1]])\n",
    "\n",
    "  loss, g_h_prev, g_C_prev = \\\n",
    "      forward_backward(inputs, targets, g_h_prev, g_C_prev)\n",
    "  smooth_loss = smooth_loss * 0.999 + loss * 0.001\n",
    "\n",
    "  # Print every hundred steps\n",
    "  if iteration % 100 == 0:\n",
    "      update_status(inputs, g_h_prev, g_C_prev)\n",
    "\n",
    "  update_paramters()\n",
    "\n",
    "  plot_iter = np.append(plot_iter, [iteration])\n",
    "  plot_loss = np.append(plot_loss, [loss])\n",
    "\n",
    "  pointer += Time_steps\n",
    "  iteration += 1\n",
    "  iter = iter -1"
   ]
  },
  {
   "cell_type": "markdown",
   "metadata": {},
   "source": [
    "## Quiz Questions\n",
    "\n",
    "1. What is the value of sigmoid(0) calculated from your code? (Answer up to 1 decimal point, e.g. 4.2 and NOT 4.29999999, no rounding off).\n",
    "2. What is the value of dsigmoid(sigmoid(0)) calculated from your code?? (Answer up to 2 decimal point, e.g. 4.29 and NOT 4.29999999, no rounding off).\n",
    "3. What is the value of tanh(dsigmoid(sigmoid(0))) calculated from your code?? (Answer up to 5 decimal point, e.g. 4.29999 and NOT 4.29999999, no rounding off).\n",
    "4. What is the value of dtanh(tanh(dsigmoid(sigmoid(0)))) calculated from your code?? (Answer up to 5 decimal point, e.g. 4.29999 and NOT 4.29999999, no rounding off).\n",
    "5. In the class definition below, what should be size_a, size_b, and size_c? ONLY use the variables defined above.\n",
    "6. What is the output of 'print(len(forward(np.zeros((X_size, 1)), np.zeros((Hidden_Layer_size, 1)), np.zeros((Hidden_Layer_size, 1)), parameters)))'?\n",
    "7. Assuming you have fixed the forward function, run this command: z, f, i, C_bar, C, o, h, v, y = forward(np.zeros((X_size, 1)), np.zeros((Hidden_Layer_size, 1)), np.zeros((Hidden_Layer_size, 1)))\n",
    "Now, find these values:\n",
    "\n",
    "print(z.shape)\n",
    "\n",
    "print(np.sum(z))\n",
    "\n",
    "print(np.sum(f))\n",
    "\n",
    "Copy and paste exact values you get in the logs into the quiz.\n",
    "\n",
    "8. Run the above code for 50000 iterations making sure that you have 100 hidden layers and time_steps is 40. What is the loss value you're seeing?"
   ]
  },
  {
   "cell_type": "markdown",
   "metadata": {},
   "source": [
    "# Q - 1:4"
   ]
  },
  {
   "cell_type": "code",
   "execution_count": 399,
   "metadata": {},
   "outputs": [
    {
     "data": {
      "text/plain": [
       "(0.5, 0.25, 0.24491866240370913, 0.940014848806378)"
      ]
     },
     "execution_count": 399,
     "metadata": {},
     "output_type": "execute_result"
    }
   ],
   "source": [
    "sigmoid(0),dsigmoid(sigmoid(0)),tanh(dsigmoid(sigmoid(0))),dtanh(tanh(dsigmoid(sigmoid(0))))"
   ]
  },
  {
   "cell_type": "markdown",
   "metadata": {},
   "source": [
    "# Q - 5"
   ]
  },
  {
   "cell_type": "code",
   "execution_count": 402,
   "metadata": {},
   "outputs": [],
   "source": [
    "size_a = hidden_layer_size\n",
    "size_b = hidden_layer_size + X_size\n",
    "size_c = X_size"
   ]
  },
  {
   "cell_type": "markdown",
   "metadata": {},
   "source": [
    "# Q - 6"
   ]
  },
  {
   "cell_type": "code",
   "execution_count": 403,
   "metadata": {},
   "outputs": [
    {
     "name": "stdout",
     "output_type": "stream",
     "text": [
      "9\n"
     ]
    }
   ],
   "source": [
    "print(len(forward(np.zeros((X_size, 1)), np.zeros((Hidden_Layer_size, 1)), np.zeros((Hidden_Layer_size, 1)), parameters)))"
   ]
  },
  {
   "cell_type": "markdown",
   "metadata": {},
   "source": [
    "# Q - 7"
   ]
  },
  {
   "cell_type": "code",
   "execution_count": 404,
   "metadata": {},
   "outputs": [],
   "source": [
    "z, f, i, C_bar, C, o, h, v, y = forward(np.zeros((X_size, 1)), np.zeros((Hidden_Layer_size, 1)), np.zeros((Hidden_Layer_size, 1)))"
   ]
  },
  {
   "cell_type": "markdown",
   "metadata": {},
   "source": [
    "# Q - 8"
   ]
  },
  {
   "cell_type": "code",
   "execution_count": 405,
   "metadata": {},
   "outputs": [
    {
     "name": "stdout",
     "output_type": "stream",
     "text": [
      "(89, 1)\n",
      "0.0\n",
      "4.345655115909055\n"
     ]
    }
   ],
   "source": [
    "print(z.shape)\n",
    "\n",
    "print(np.sum(z))\n",
    "\n",
    "print(np.sum(f))"
   ]
  },
  {
   "cell_type": "markdown",
   "metadata": {},
   "source": [
    "# Q - 9"
   ]
  },
  {
   "cell_type": "code",
   "execution_count": 419,
   "metadata": {},
   "outputs": [
    {
     "data": {
      "image/png": "[encoded data removed]",
      "text/plain": [
       "<Figure size 432x288 with 1 Axes>"
      ]
     },
     "metadata": {
      "needs_background": "light"
     },
     "output_type": "display_data"
    },
    {
     "name": "stdout",
     "output_type": "stream",
     "text": [
      "----\n",
      " 1“Dâ.GAâk:Bvp:m:4lnhjœrP8Ff7o,E€h€eo.7o½yIr8o:q2s8W½3w20Wy(tcUf4H7iAhbi½€N:mhG€cTA)ex 8FJG€MrI;p6ap“1Ho(v,MhM€5::M;\n",
      "rMuBBy;½Uov'CS½M'M\"fV?vM'EJV6s'P.m“jM;n\"âuM:yV;l:s0:™K:vY€6:Vv:G:““::nu:IEe-G€yIo::d \n",
      "----\n",
      "iter 15200, loss 174.735859\n"
     ]
    },
    {
     "ename": "KeyboardInterrupt",
     "evalue": "",
     "output_type": "error",
     "traceback": [
      "\u001b[1;31m---------------------------------------------------------------------------\u001b[0m",
      "\u001b[1;31mKeyboardInterrupt\u001b[0m                         Traceback (most recent call last)",
      "\u001b[1;32m<ipython-input-419-62a89ab94c1c>\u001b[0m in \u001b[0;36m<module>\u001b[1;34m\u001b[0m\n\u001b[0;32m     28\u001b[0m \u001b[1;33m\u001b[0m\u001b[0m\n\u001b[0;32m     29\u001b[0m   \u001b[0mloss\u001b[0m\u001b[1;33m,\u001b[0m \u001b[0mg_h_prev\u001b[0m\u001b[1;33m,\u001b[0m \u001b[0mg_C_prev\u001b[0m \u001b[1;33m=\u001b[0m\u001b[0;31m \u001b[0m\u001b[0;31m\\\u001b[0m\u001b[1;33m\u001b[0m\u001b[1;33m\u001b[0m\u001b[0m\n\u001b[1;32m---> 30\u001b[1;33m       \u001b[0mforward_backward\u001b[0m\u001b[1;33m(\u001b[0m\u001b[0minputs\u001b[0m\u001b[1;33m,\u001b[0m \u001b[0mtargets\u001b[0m\u001b[1;33m,\u001b[0m \u001b[0mg_h_prev\u001b[0m\u001b[1;33m,\u001b[0m \u001b[0mg_C_prev\u001b[0m\u001b[1;33m)\u001b[0m\u001b[1;33m\u001b[0m\u001b[1;33m\u001b[0m\u001b[0m\n\u001b[0m\u001b[0;32m     31\u001b[0m   \u001b[0msmooth_loss\u001b[0m \u001b[1;33m=\u001b[0m \u001b[0msmooth_loss\u001b[0m \u001b[1;33m*\u001b[0m \u001b[1;36m0.999\u001b[0m \u001b[1;33m+\u001b[0m \u001b[0mloss\u001b[0m \u001b[1;33m*\u001b[0m \u001b[1;36m0.001\u001b[0m\u001b[1;33m\u001b[0m\u001b[1;33m\u001b[0m\u001b[0m\n\u001b[0;32m     32\u001b[0m \u001b[1;33m\u001b[0m\u001b[0m\n",
      "\u001b[1;32m<ipython-input-388-4ec684bcdf1f>\u001b[0m in \u001b[0;36mforward_backward\u001b[1;34m(inputs, targets, h_prev, C_prev)\u001b[0m\n\u001b[0;32m     37\u001b[0m                      \u001b[0mz\u001b[0m \u001b[1;33m=\u001b[0m \u001b[0mz_s\u001b[0m\u001b[1;33m[\u001b[0m\u001b[0mt\u001b[0m\u001b[1;33m]\u001b[0m\u001b[1;33m,\u001b[0m \u001b[0mf\u001b[0m \u001b[1;33m=\u001b[0m \u001b[0mf_s\u001b[0m\u001b[1;33m[\u001b[0m\u001b[0mt\u001b[0m\u001b[1;33m]\u001b[0m\u001b[1;33m,\u001b[0m \u001b[0mi\u001b[0m \u001b[1;33m=\u001b[0m \u001b[0mi_s\u001b[0m\u001b[1;33m[\u001b[0m\u001b[0mt\u001b[0m\u001b[1;33m]\u001b[0m\u001b[1;33m,\u001b[0m \u001b[0mC_bar\u001b[0m \u001b[1;33m=\u001b[0m \u001b[0mC_bar_s\u001b[0m\u001b[1;33m[\u001b[0m\u001b[0mt\u001b[0m\u001b[1;33m]\u001b[0m\u001b[1;33m,\u001b[0m\u001b[1;33m\u001b[0m\u001b[1;33m\u001b[0m\u001b[0m\n\u001b[0;32m     38\u001b[0m                      \u001b[0mC\u001b[0m \u001b[1;33m=\u001b[0m \u001b[0mC_s\u001b[0m\u001b[1;33m[\u001b[0m\u001b[0mt\u001b[0m\u001b[1;33m]\u001b[0m\u001b[1;33m,\u001b[0m \u001b[0mo\u001b[0m \u001b[1;33m=\u001b[0m \u001b[0mo_s\u001b[0m\u001b[1;33m[\u001b[0m\u001b[0mt\u001b[0m\u001b[1;33m]\u001b[0m\u001b[1;33m,\u001b[0m \u001b[0mh\u001b[0m \u001b[1;33m=\u001b[0m \u001b[0mh_s\u001b[0m\u001b[1;33m[\u001b[0m\u001b[0mt\u001b[0m\u001b[1;33m]\u001b[0m\u001b[1;33m,\u001b[0m \u001b[0mv\u001b[0m \u001b[1;33m=\u001b[0m \u001b[0mv_s\u001b[0m\u001b[1;33m[\u001b[0m\u001b[0mt\u001b[0m\u001b[1;33m]\u001b[0m\u001b[1;33m,\u001b[0m\u001b[1;33m\u001b[0m\u001b[1;33m\u001b[0m\u001b[0m\n\u001b[1;32m---> 39\u001b[1;33m                      y = y_s[t])\n\u001b[0m\u001b[0;32m     40\u001b[0m \u001b[1;33m\u001b[0m\u001b[0m\n\u001b[0;32m     41\u001b[0m     \u001b[0mclip_gradients\u001b[0m\u001b[1;33m(\u001b[0m\u001b[1;33m)\u001b[0m\u001b[1;33m\u001b[0m\u001b[1;33m\u001b[0m\u001b[0m\n",
      "\u001b[1;32m<ipython-input-418-9f894f1f9186>\u001b[0m in \u001b[0;36mbackward\u001b[1;34m(target, dh_next, dC_next, C_prev, z, f, i, C_bar, C, o, h, v, y, p)\u001b[0m\n\u001b[0;32m     13\u001b[0m     \u001b[0mdv\u001b[0m\u001b[1;33m[\u001b[0m\u001b[0mtarget\u001b[0m\u001b[1;33m]\u001b[0m \u001b[1;33m-=\u001b[0m \u001b[1;36m1\u001b[0m\u001b[1;33m\u001b[0m\u001b[1;33m\u001b[0m\u001b[0m\n\u001b[0;32m     14\u001b[0m \u001b[1;33m\u001b[0m\u001b[0m\n\u001b[1;32m---> 15\u001b[1;33m     \u001b[0mp\u001b[0m\u001b[1;33m.\u001b[0m\u001b[0mW_v\u001b[0m\u001b[1;33m.\u001b[0m\u001b[0md\u001b[0m \u001b[1;33m+=\u001b[0m \u001b[0mnp\u001b[0m\u001b[1;33m.\u001b[0m\u001b[0mdot\u001b[0m\u001b[1;33m(\u001b[0m\u001b[0mdv\u001b[0m\u001b[1;33m,\u001b[0m \u001b[0mh\u001b[0m\u001b[1;33m.\u001b[0m\u001b[0mT\u001b[0m\u001b[1;33m)\u001b[0m\u001b[1;33m\u001b[0m\u001b[1;33m\u001b[0m\u001b[0m\n\u001b[0m\u001b[0;32m     16\u001b[0m     \u001b[0mp\u001b[0m\u001b[1;33m.\u001b[0m\u001b[0mb_v\u001b[0m\u001b[1;33m.\u001b[0m\u001b[0md\u001b[0m \u001b[1;33m+=\u001b[0m \u001b[0mdv\u001b[0m\u001b[1;33m\u001b[0m\u001b[1;33m\u001b[0m\u001b[0m\n\u001b[0;32m     17\u001b[0m \u001b[1;33m\u001b[0m\u001b[0m\n",
      "\u001b[1;31mKeyboardInterrupt\u001b[0m: "
     ]
    }
   ],
   "source": [
    "Hidden_Layer_size = 100 #size of the hidden layer\n",
    "Time_steps = 40\n",
    "size_a = 100 #hidden_layer_size\n",
    "size_b = 179 #hidden_layer_size + X_size\n",
    "size_c = 79\n",
    "z_size = Hidden_Layer_size + X_size\n",
    "iter = 50000\n",
    "smooth_loss = -np.log(1.0 / X_size) * Time_steps\n",
    "\n",
    "iteration, pointer = 0, 0\n",
    "\n",
    "# For the graph\n",
    "plot_iter = np.zeros((0))\n",
    "plot_loss = np.zeros((0))\n",
    "\n",
    "while iter > 0:\n",
    "  # Reset\n",
    "  if pointer + Time_steps >= len(data) or iteration == 0:\n",
    "      g_h_prev = np.zeros((Hidden_Layer_size, 1))\n",
    "      g_C_prev = np.zeros((Hidden_Layer_size, 1))\n",
    "      pointer = 0\n",
    "\n",
    "\n",
    "  inputs = ([char_to_idx[ch] \n",
    "              for ch in data[pointer: pointer + Time_steps]])\n",
    "  targets = ([char_to_idx[ch] \n",
    "              for ch in data[pointer + 1: pointer + Time_steps + 1]])\n",
    "\n",
    "  loss, g_h_prev, g_C_prev = \\\n",
    "      forward_backward(inputs, targets, g_h_prev, g_C_prev)\n",
    "  smooth_loss = smooth_loss * 0.999 + loss * 0.001\n",
    "\n",
    "  # Print every hundred steps\n",
    "  if iteration % 100 == 0:\n",
    "      update_status(inputs, g_h_prev, g_C_prev)\n",
    "\n",
    "  update_paramters()\n",
    "\n",
    "  plot_iter = np.append(plot_iter, [iteration])\n",
    "  plot_loss = np.append(plot_loss, [loss])\n",
    "\n",
    "  pointer += Time_steps\n",
    "  iteration += 1\n",
    "  iter = iter -1"
   ]
  }
 ],
 "metadata": {
  "kernelspec": {
   "display_name": "Python 3",
   "language": "python",
   "name": "python3"
  },
  "language_info": {
   "codemirror_mode": {
    "name": "ipython",
    "version": 3
   },
   "file_extension": ".py",
   "mimetype": "text/x-python",
   "name": "python",
   "nbconvert_exporter": "python",
   "pygments_lexer": "ipython3",
   "version": "3.7.3"
  }
 },
 "nbformat": 4,
 "nbformat_minor": 4
}
